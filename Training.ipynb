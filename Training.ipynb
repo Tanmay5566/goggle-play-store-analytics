{
 "cells": [
  {
   "cell_type": "code",
   "execution_count": 1,
   "id": "4452a153",
   "metadata": {},
   "outputs": [],
   "source": [
    "import pandas as pd"
   ]
  },
  {
   "cell_type": "code",
   "execution_count": 2,
   "id": "16abde3b",
   "metadata": {},
   "outputs": [],
   "source": [
    "#load the dataset\n",
    "data = pd.read_csv('heart-disease.csv')"
   ]
  },
  {
   "cell_type": "code",
   "execution_count": 3,
   "id": "4ec9f3e4",
   "metadata": {},
   "outputs": [
    {
     "data": {
      "text/plain": [
       "'c:\\\\Users\\\\Atharva\\\\Downloads\\\\Google-Play-Store-Analytics-main\\\\Google-Play-Store-Analytics-main'"
      ]
     },
     "execution_count": 3,
     "metadata": {},
     "output_type": "execute_result"
    }
   ],
   "source": [
    "import os\n",
    "os.getcwd()\n"
   ]
  },
  {
   "cell_type": "code",
   "execution_count": 4,
   "id": "075e5cc0",
   "metadata": {},
   "outputs": [
    {
     "data": {
      "text/html": [
       "<div>\n",
       "<style scoped>\n",
       "    .dataframe tbody tr th:only-of-type {\n",
       "        vertical-align: middle;\n",
       "    }\n",
       "\n",
       "    .dataframe tbody tr th {\n",
       "        vertical-align: top;\n",
       "    }\n",
       "\n",
       "    .dataframe thead th {\n",
       "        text-align: right;\n",
       "    }\n",
       "</style>\n",
       "<table border=\"1\" class=\"dataframe\">\n",
       "  <thead>\n",
       "    <tr style=\"text-align: right;\">\n",
       "      <th></th>\n",
       "      <th>age</th>\n",
       "      <th>sex</th>\n",
       "      <th>cp</th>\n",
       "      <th>trestbps</th>\n",
       "      <th>chol</th>\n",
       "      <th>fbs</th>\n",
       "      <th>restecg</th>\n",
       "      <th>thalach</th>\n",
       "      <th>exang</th>\n",
       "      <th>oldpeak</th>\n",
       "      <th>slope</th>\n",
       "      <th>ca</th>\n",
       "      <th>thal</th>\n",
       "      <th>target</th>\n",
       "    </tr>\n",
       "  </thead>\n",
       "  <tbody>\n",
       "    <tr>\n",
       "      <th>0</th>\n",
       "      <td>63</td>\n",
       "      <td>1</td>\n",
       "      <td>3</td>\n",
       "      <td>145</td>\n",
       "      <td>233</td>\n",
       "      <td>1</td>\n",
       "      <td>0</td>\n",
       "      <td>150</td>\n",
       "      <td>0</td>\n",
       "      <td>2.3</td>\n",
       "      <td>0</td>\n",
       "      <td>0</td>\n",
       "      <td>1</td>\n",
       "      <td>1</td>\n",
       "    </tr>\n",
       "    <tr>\n",
       "      <th>1</th>\n",
       "      <td>37</td>\n",
       "      <td>1</td>\n",
       "      <td>2</td>\n",
       "      <td>130</td>\n",
       "      <td>250</td>\n",
       "      <td>0</td>\n",
       "      <td>1</td>\n",
       "      <td>187</td>\n",
       "      <td>0</td>\n",
       "      <td>3.5</td>\n",
       "      <td>0</td>\n",
       "      <td>0</td>\n",
       "      <td>2</td>\n",
       "      <td>1</td>\n",
       "    </tr>\n",
       "    <tr>\n",
       "      <th>2</th>\n",
       "      <td>41</td>\n",
       "      <td>0</td>\n",
       "      <td>1</td>\n",
       "      <td>130</td>\n",
       "      <td>204</td>\n",
       "      <td>0</td>\n",
       "      <td>0</td>\n",
       "      <td>172</td>\n",
       "      <td>0</td>\n",
       "      <td>1.4</td>\n",
       "      <td>2</td>\n",
       "      <td>0</td>\n",
       "      <td>2</td>\n",
       "      <td>1</td>\n",
       "    </tr>\n",
       "    <tr>\n",
       "      <th>3</th>\n",
       "      <td>56</td>\n",
       "      <td>1</td>\n",
       "      <td>1</td>\n",
       "      <td>120</td>\n",
       "      <td>236</td>\n",
       "      <td>0</td>\n",
       "      <td>1</td>\n",
       "      <td>178</td>\n",
       "      <td>0</td>\n",
       "      <td>0.8</td>\n",
       "      <td>2</td>\n",
       "      <td>0</td>\n",
       "      <td>2</td>\n",
       "      <td>1</td>\n",
       "    </tr>\n",
       "    <tr>\n",
       "      <th>4</th>\n",
       "      <td>57</td>\n",
       "      <td>0</td>\n",
       "      <td>0</td>\n",
       "      <td>120</td>\n",
       "      <td>354</td>\n",
       "      <td>0</td>\n",
       "      <td>1</td>\n",
       "      <td>163</td>\n",
       "      <td>1</td>\n",
       "      <td>0.6</td>\n",
       "      <td>2</td>\n",
       "      <td>0</td>\n",
       "      <td>2</td>\n",
       "      <td>1</td>\n",
       "    </tr>\n",
       "    <tr>\n",
       "      <th>...</th>\n",
       "      <td>...</td>\n",
       "      <td>...</td>\n",
       "      <td>...</td>\n",
       "      <td>...</td>\n",
       "      <td>...</td>\n",
       "      <td>...</td>\n",
       "      <td>...</td>\n",
       "      <td>...</td>\n",
       "      <td>...</td>\n",
       "      <td>...</td>\n",
       "      <td>...</td>\n",
       "      <td>...</td>\n",
       "      <td>...</td>\n",
       "      <td>...</td>\n",
       "    </tr>\n",
       "    <tr>\n",
       "      <th>298</th>\n",
       "      <td>57</td>\n",
       "      <td>0</td>\n",
       "      <td>0</td>\n",
       "      <td>140</td>\n",
       "      <td>241</td>\n",
       "      <td>0</td>\n",
       "      <td>1</td>\n",
       "      <td>123</td>\n",
       "      <td>1</td>\n",
       "      <td>0.2</td>\n",
       "      <td>1</td>\n",
       "      <td>0</td>\n",
       "      <td>3</td>\n",
       "      <td>0</td>\n",
       "    </tr>\n",
       "    <tr>\n",
       "      <th>299</th>\n",
       "      <td>45</td>\n",
       "      <td>1</td>\n",
       "      <td>3</td>\n",
       "      <td>110</td>\n",
       "      <td>264</td>\n",
       "      <td>0</td>\n",
       "      <td>1</td>\n",
       "      <td>132</td>\n",
       "      <td>0</td>\n",
       "      <td>1.2</td>\n",
       "      <td>1</td>\n",
       "      <td>0</td>\n",
       "      <td>3</td>\n",
       "      <td>0</td>\n",
       "    </tr>\n",
       "    <tr>\n",
       "      <th>300</th>\n",
       "      <td>68</td>\n",
       "      <td>1</td>\n",
       "      <td>0</td>\n",
       "      <td>144</td>\n",
       "      <td>193</td>\n",
       "      <td>1</td>\n",
       "      <td>1</td>\n",
       "      <td>141</td>\n",
       "      <td>0</td>\n",
       "      <td>3.4</td>\n",
       "      <td>1</td>\n",
       "      <td>2</td>\n",
       "      <td>3</td>\n",
       "      <td>0</td>\n",
       "    </tr>\n",
       "    <tr>\n",
       "      <th>301</th>\n",
       "      <td>57</td>\n",
       "      <td>1</td>\n",
       "      <td>0</td>\n",
       "      <td>130</td>\n",
       "      <td>131</td>\n",
       "      <td>0</td>\n",
       "      <td>1</td>\n",
       "      <td>115</td>\n",
       "      <td>1</td>\n",
       "      <td>1.2</td>\n",
       "      <td>1</td>\n",
       "      <td>1</td>\n",
       "      <td>3</td>\n",
       "      <td>0</td>\n",
       "    </tr>\n",
       "    <tr>\n",
       "      <th>302</th>\n",
       "      <td>57</td>\n",
       "      <td>0</td>\n",
       "      <td>1</td>\n",
       "      <td>130</td>\n",
       "      <td>236</td>\n",
       "      <td>0</td>\n",
       "      <td>0</td>\n",
       "      <td>174</td>\n",
       "      <td>0</td>\n",
       "      <td>0.0</td>\n",
       "      <td>1</td>\n",
       "      <td>1</td>\n",
       "      <td>2</td>\n",
       "      <td>0</td>\n",
       "    </tr>\n",
       "  </tbody>\n",
       "</table>\n",
       "<p>303 rows × 14 columns</p>\n",
       "</div>"
      ],
      "text/plain": [
       "     age  sex  cp  trestbps  chol  fbs  restecg  thalach  exang  oldpeak  \\\n",
       "0     63    1   3       145   233    1        0      150      0      2.3   \n",
       "1     37    1   2       130   250    0        1      187      0      3.5   \n",
       "2     41    0   1       130   204    0        0      172      0      1.4   \n",
       "3     56    1   1       120   236    0        1      178      0      0.8   \n",
       "4     57    0   0       120   354    0        1      163      1      0.6   \n",
       "..   ...  ...  ..       ...   ...  ...      ...      ...    ...      ...   \n",
       "298   57    0   0       140   241    0        1      123      1      0.2   \n",
       "299   45    1   3       110   264    0        1      132      0      1.2   \n",
       "300   68    1   0       144   193    1        1      141      0      3.4   \n",
       "301   57    1   0       130   131    0        1      115      1      1.2   \n",
       "302   57    0   1       130   236    0        0      174      0      0.0   \n",
       "\n",
       "     slope  ca  thal  target  \n",
       "0        0   0     1       1  \n",
       "1        0   0     2       1  \n",
       "2        2   0     2       1  \n",
       "3        2   0     2       1  \n",
       "4        2   0     2       1  \n",
       "..     ...  ..   ...     ...  \n",
       "298      1   0     3       0  \n",
       "299      1   0     3       0  \n",
       "300      1   2     3       0  \n",
       "301      1   1     3       0  \n",
       "302      1   1     2       0  \n",
       "\n",
       "[303 rows x 14 columns]"
      ]
     },
     "execution_count": 4,
     "metadata": {},
     "output_type": "execute_result"
    }
   ],
   "source": [
    "data"
   ]
  },
  {
   "cell_type": "code",
   "execution_count": 5,
   "id": "437bc0d3",
   "metadata": {},
   "outputs": [
    {
     "name": "stdout",
     "output_type": "stream",
     "text": [
      "     age  sex  cp  trestbps  chol  fbs  restecg  thalach  exang  oldpeak  \\\n",
      "0     63    1   3       145   233    1        0      150      0      2.3   \n",
      "1     37    1   2       130   250    0        1      187      0      3.5   \n",
      "2     41    0   1       130   204    0        0      172      0      1.4   \n",
      "3     56    1   1       120   236    0        1      178      0      0.8   \n",
      "4     57    0   0       120   354    0        1      163      1      0.6   \n",
      "..   ...  ...  ..       ...   ...  ...      ...      ...    ...      ...   \n",
      "298   57    0   0       140   241    0        1      123      1      0.2   \n",
      "299   45    1   3       110   264    0        1      132      0      1.2   \n",
      "300   68    1   0       144   193    1        1      141      0      3.4   \n",
      "301   57    1   0       130   131    0        1      115      1      1.2   \n",
      "302   57    0   1       130   236    0        0      174      0      0.0   \n",
      "\n",
      "     slope  ca  thal  target  \n",
      "0        0   0     1       1  \n",
      "1        0   0     2       1  \n",
      "2        2   0     2       1  \n",
      "3        2   0     2       1  \n",
      "4        2   0     2       1  \n",
      "..     ...  ..   ...     ...  \n",
      "298      1   0     3       0  \n",
      "299      1   0     3       0  \n",
      "300      1   2     3       0  \n",
      "301      1   1     3       0  \n",
      "302      1   1     2       0  \n",
      "\n",
      "[303 rows x 14 columns]\n"
     ]
    }
   ],
   "source": [
    "print(data)"
   ]
  },
  {
   "cell_type": "code",
   "execution_count": 6,
   "id": "d0243f63",
   "metadata": {},
   "outputs": [
    {
     "data": {
      "text/html": [
       "<div>\n",
       "<style scoped>\n",
       "    .dataframe tbody tr th:only-of-type {\n",
       "        vertical-align: middle;\n",
       "    }\n",
       "\n",
       "    .dataframe tbody tr th {\n",
       "        vertical-align: top;\n",
       "    }\n",
       "\n",
       "    .dataframe thead th {\n",
       "        text-align: right;\n",
       "    }\n",
       "</style>\n",
       "<table border=\"1\" class=\"dataframe\">\n",
       "  <thead>\n",
       "    <tr style=\"text-align: right;\">\n",
       "      <th></th>\n",
       "      <th>age</th>\n",
       "      <th>sex</th>\n",
       "      <th>cp</th>\n",
       "      <th>trestbps</th>\n",
       "      <th>chol</th>\n",
       "      <th>fbs</th>\n",
       "      <th>restecg</th>\n",
       "      <th>thalach</th>\n",
       "      <th>exang</th>\n",
       "      <th>oldpeak</th>\n",
       "      <th>slope</th>\n",
       "      <th>ca</th>\n",
       "      <th>thal</th>\n",
       "      <th>target</th>\n",
       "    </tr>\n",
       "  </thead>\n",
       "  <tbody>\n",
       "    <tr>\n",
       "      <th>298</th>\n",
       "      <td>57</td>\n",
       "      <td>0</td>\n",
       "      <td>0</td>\n",
       "      <td>140</td>\n",
       "      <td>241</td>\n",
       "      <td>0</td>\n",
       "      <td>1</td>\n",
       "      <td>123</td>\n",
       "      <td>1</td>\n",
       "      <td>0.2</td>\n",
       "      <td>1</td>\n",
       "      <td>0</td>\n",
       "      <td>3</td>\n",
       "      <td>0</td>\n",
       "    </tr>\n",
       "    <tr>\n",
       "      <th>299</th>\n",
       "      <td>45</td>\n",
       "      <td>1</td>\n",
       "      <td>3</td>\n",
       "      <td>110</td>\n",
       "      <td>264</td>\n",
       "      <td>0</td>\n",
       "      <td>1</td>\n",
       "      <td>132</td>\n",
       "      <td>0</td>\n",
       "      <td>1.2</td>\n",
       "      <td>1</td>\n",
       "      <td>0</td>\n",
       "      <td>3</td>\n",
       "      <td>0</td>\n",
       "    </tr>\n",
       "    <tr>\n",
       "      <th>300</th>\n",
       "      <td>68</td>\n",
       "      <td>1</td>\n",
       "      <td>0</td>\n",
       "      <td>144</td>\n",
       "      <td>193</td>\n",
       "      <td>1</td>\n",
       "      <td>1</td>\n",
       "      <td>141</td>\n",
       "      <td>0</td>\n",
       "      <td>3.4</td>\n",
       "      <td>1</td>\n",
       "      <td>2</td>\n",
       "      <td>3</td>\n",
       "      <td>0</td>\n",
       "    </tr>\n",
       "    <tr>\n",
       "      <th>301</th>\n",
       "      <td>57</td>\n",
       "      <td>1</td>\n",
       "      <td>0</td>\n",
       "      <td>130</td>\n",
       "      <td>131</td>\n",
       "      <td>0</td>\n",
       "      <td>1</td>\n",
       "      <td>115</td>\n",
       "      <td>1</td>\n",
       "      <td>1.2</td>\n",
       "      <td>1</td>\n",
       "      <td>1</td>\n",
       "      <td>3</td>\n",
       "      <td>0</td>\n",
       "    </tr>\n",
       "    <tr>\n",
       "      <th>302</th>\n",
       "      <td>57</td>\n",
       "      <td>0</td>\n",
       "      <td>1</td>\n",
       "      <td>130</td>\n",
       "      <td>236</td>\n",
       "      <td>0</td>\n",
       "      <td>0</td>\n",
       "      <td>174</td>\n",
       "      <td>0</td>\n",
       "      <td>0.0</td>\n",
       "      <td>1</td>\n",
       "      <td>1</td>\n",
       "      <td>2</td>\n",
       "      <td>0</td>\n",
       "    </tr>\n",
       "  </tbody>\n",
       "</table>\n",
       "</div>"
      ],
      "text/plain": [
       "     age  sex  cp  trestbps  chol  fbs  restecg  thalach  exang  oldpeak  \\\n",
       "298   57    0   0       140   241    0        1      123      1      0.2   \n",
       "299   45    1   3       110   264    0        1      132      0      1.2   \n",
       "300   68    1   0       144   193    1        1      141      0      3.4   \n",
       "301   57    1   0       130   131    0        1      115      1      1.2   \n",
       "302   57    0   1       130   236    0        0      174      0      0.0   \n",
       "\n",
       "     slope  ca  thal  target  \n",
       "298      1   0     3       0  \n",
       "299      1   0     3       0  \n",
       "300      1   2     3       0  \n",
       "301      1   1     3       0  \n",
       "302      1   1     2       0  "
      ]
     },
     "execution_count": 6,
     "metadata": {},
     "output_type": "execute_result"
    }
   ],
   "source": [
    "data.tail()"
   ]
  },
  {
   "cell_type": "code",
   "execution_count": 7,
   "id": "850c0d5f",
   "metadata": {},
   "outputs": [
    {
     "name": "stdout",
     "output_type": "stream",
     "text": [
      "<class 'pandas.core.frame.DataFrame'>\n",
      "RangeIndex: 303 entries, 0 to 302\n",
      "Data columns (total 14 columns):\n",
      " #   Column    Non-Null Count  Dtype  \n",
      "---  ------    --------------  -----  \n",
      " 0   age       303 non-null    int64  \n",
      " 1   sex       303 non-null    int64  \n",
      " 2   cp        303 non-null    int64  \n",
      " 3   trestbps  303 non-null    int64  \n",
      " 4   chol      303 non-null    int64  \n",
      " 5   fbs       303 non-null    int64  \n",
      " 6   restecg   303 non-null    int64  \n",
      " 7   thalach   303 non-null    int64  \n",
      " 8   exang     303 non-null    int64  \n",
      " 9   oldpeak   303 non-null    float64\n",
      " 10  slope     303 non-null    int64  \n",
      " 11  ca        303 non-null    int64  \n",
      " 12  thal      303 non-null    int64  \n",
      " 13  target    303 non-null    int64  \n",
      "dtypes: float64(1), int64(13)\n",
      "memory usage: 33.3 KB\n"
     ]
    }
   ],
   "source": [
    "data.info()"
   ]
  },
  {
   "cell_type": "code",
   "execution_count": 8,
   "id": "430fd792",
   "metadata": {},
   "outputs": [
    {
     "data": {
      "text/html": [
       "<div>\n",
       "<style scoped>\n",
       "    .dataframe tbody tr th:only-of-type {\n",
       "        vertical-align: middle;\n",
       "    }\n",
       "\n",
       "    .dataframe tbody tr th {\n",
       "        vertical-align: top;\n",
       "    }\n",
       "\n",
       "    .dataframe thead th {\n",
       "        text-align: right;\n",
       "    }\n",
       "</style>\n",
       "<table border=\"1\" class=\"dataframe\">\n",
       "  <thead>\n",
       "    <tr style=\"text-align: right;\">\n",
       "      <th></th>\n",
       "      <th>age</th>\n",
       "      <th>sex</th>\n",
       "      <th>cp</th>\n",
       "      <th>trestbps</th>\n",
       "      <th>chol</th>\n",
       "      <th>fbs</th>\n",
       "      <th>restecg</th>\n",
       "      <th>thalach</th>\n",
       "      <th>exang</th>\n",
       "      <th>oldpeak</th>\n",
       "      <th>slope</th>\n",
       "      <th>ca</th>\n",
       "      <th>thal</th>\n",
       "      <th>target</th>\n",
       "    </tr>\n",
       "  </thead>\n",
       "  <tbody>\n",
       "    <tr>\n",
       "      <th>0</th>\n",
       "      <td>False</td>\n",
       "      <td>False</td>\n",
       "      <td>False</td>\n",
       "      <td>False</td>\n",
       "      <td>False</td>\n",
       "      <td>False</td>\n",
       "      <td>False</td>\n",
       "      <td>False</td>\n",
       "      <td>False</td>\n",
       "      <td>False</td>\n",
       "      <td>False</td>\n",
       "      <td>False</td>\n",
       "      <td>False</td>\n",
       "      <td>False</td>\n",
       "    </tr>\n",
       "    <tr>\n",
       "      <th>1</th>\n",
       "      <td>False</td>\n",
       "      <td>False</td>\n",
       "      <td>False</td>\n",
       "      <td>False</td>\n",
       "      <td>False</td>\n",
       "      <td>False</td>\n",
       "      <td>False</td>\n",
       "      <td>False</td>\n",
       "      <td>False</td>\n",
       "      <td>False</td>\n",
       "      <td>False</td>\n",
       "      <td>False</td>\n",
       "      <td>False</td>\n",
       "      <td>False</td>\n",
       "    </tr>\n",
       "    <tr>\n",
       "      <th>2</th>\n",
       "      <td>False</td>\n",
       "      <td>False</td>\n",
       "      <td>False</td>\n",
       "      <td>False</td>\n",
       "      <td>False</td>\n",
       "      <td>False</td>\n",
       "      <td>False</td>\n",
       "      <td>False</td>\n",
       "      <td>False</td>\n",
       "      <td>False</td>\n",
       "      <td>False</td>\n",
       "      <td>False</td>\n",
       "      <td>False</td>\n",
       "      <td>False</td>\n",
       "    </tr>\n",
       "    <tr>\n",
       "      <th>3</th>\n",
       "      <td>False</td>\n",
       "      <td>False</td>\n",
       "      <td>False</td>\n",
       "      <td>False</td>\n",
       "      <td>False</td>\n",
       "      <td>False</td>\n",
       "      <td>False</td>\n",
       "      <td>False</td>\n",
       "      <td>False</td>\n",
       "      <td>False</td>\n",
       "      <td>False</td>\n",
       "      <td>False</td>\n",
       "      <td>False</td>\n",
       "      <td>False</td>\n",
       "    </tr>\n",
       "    <tr>\n",
       "      <th>4</th>\n",
       "      <td>False</td>\n",
       "      <td>False</td>\n",
       "      <td>False</td>\n",
       "      <td>False</td>\n",
       "      <td>False</td>\n",
       "      <td>False</td>\n",
       "      <td>False</td>\n",
       "      <td>False</td>\n",
       "      <td>False</td>\n",
       "      <td>False</td>\n",
       "      <td>False</td>\n",
       "      <td>False</td>\n",
       "      <td>False</td>\n",
       "      <td>False</td>\n",
       "    </tr>\n",
       "    <tr>\n",
       "      <th>...</th>\n",
       "      <td>...</td>\n",
       "      <td>...</td>\n",
       "      <td>...</td>\n",
       "      <td>...</td>\n",
       "      <td>...</td>\n",
       "      <td>...</td>\n",
       "      <td>...</td>\n",
       "      <td>...</td>\n",
       "      <td>...</td>\n",
       "      <td>...</td>\n",
       "      <td>...</td>\n",
       "      <td>...</td>\n",
       "      <td>...</td>\n",
       "      <td>...</td>\n",
       "    </tr>\n",
       "    <tr>\n",
       "      <th>298</th>\n",
       "      <td>False</td>\n",
       "      <td>False</td>\n",
       "      <td>False</td>\n",
       "      <td>False</td>\n",
       "      <td>False</td>\n",
       "      <td>False</td>\n",
       "      <td>False</td>\n",
       "      <td>False</td>\n",
       "      <td>False</td>\n",
       "      <td>False</td>\n",
       "      <td>False</td>\n",
       "      <td>False</td>\n",
       "      <td>False</td>\n",
       "      <td>False</td>\n",
       "    </tr>\n",
       "    <tr>\n",
       "      <th>299</th>\n",
       "      <td>False</td>\n",
       "      <td>False</td>\n",
       "      <td>False</td>\n",
       "      <td>False</td>\n",
       "      <td>False</td>\n",
       "      <td>False</td>\n",
       "      <td>False</td>\n",
       "      <td>False</td>\n",
       "      <td>False</td>\n",
       "      <td>False</td>\n",
       "      <td>False</td>\n",
       "      <td>False</td>\n",
       "      <td>False</td>\n",
       "      <td>False</td>\n",
       "    </tr>\n",
       "    <tr>\n",
       "      <th>300</th>\n",
       "      <td>False</td>\n",
       "      <td>False</td>\n",
       "      <td>False</td>\n",
       "      <td>False</td>\n",
       "      <td>False</td>\n",
       "      <td>False</td>\n",
       "      <td>False</td>\n",
       "      <td>False</td>\n",
       "      <td>False</td>\n",
       "      <td>False</td>\n",
       "      <td>False</td>\n",
       "      <td>False</td>\n",
       "      <td>False</td>\n",
       "      <td>False</td>\n",
       "    </tr>\n",
       "    <tr>\n",
       "      <th>301</th>\n",
       "      <td>False</td>\n",
       "      <td>False</td>\n",
       "      <td>False</td>\n",
       "      <td>False</td>\n",
       "      <td>False</td>\n",
       "      <td>False</td>\n",
       "      <td>False</td>\n",
       "      <td>False</td>\n",
       "      <td>False</td>\n",
       "      <td>False</td>\n",
       "      <td>False</td>\n",
       "      <td>False</td>\n",
       "      <td>False</td>\n",
       "      <td>False</td>\n",
       "    </tr>\n",
       "    <tr>\n",
       "      <th>302</th>\n",
       "      <td>False</td>\n",
       "      <td>False</td>\n",
       "      <td>False</td>\n",
       "      <td>False</td>\n",
       "      <td>False</td>\n",
       "      <td>False</td>\n",
       "      <td>False</td>\n",
       "      <td>False</td>\n",
       "      <td>False</td>\n",
       "      <td>False</td>\n",
       "      <td>False</td>\n",
       "      <td>False</td>\n",
       "      <td>False</td>\n",
       "      <td>False</td>\n",
       "    </tr>\n",
       "  </tbody>\n",
       "</table>\n",
       "<p>303 rows × 14 columns</p>\n",
       "</div>"
      ],
      "text/plain": [
       "       age    sex     cp  trestbps   chol    fbs  restecg  thalach  exang  \\\n",
       "0    False  False  False     False  False  False    False    False  False   \n",
       "1    False  False  False     False  False  False    False    False  False   \n",
       "2    False  False  False     False  False  False    False    False  False   \n",
       "3    False  False  False     False  False  False    False    False  False   \n",
       "4    False  False  False     False  False  False    False    False  False   \n",
       "..     ...    ...    ...       ...    ...    ...      ...      ...    ...   \n",
       "298  False  False  False     False  False  False    False    False  False   \n",
       "299  False  False  False     False  False  False    False    False  False   \n",
       "300  False  False  False     False  False  False    False    False  False   \n",
       "301  False  False  False     False  False  False    False    False  False   \n",
       "302  False  False  False     False  False  False    False    False  False   \n",
       "\n",
       "     oldpeak  slope     ca   thal  target  \n",
       "0      False  False  False  False   False  \n",
       "1      False  False  False  False   False  \n",
       "2      False  False  False  False   False  \n",
       "3      False  False  False  False   False  \n",
       "4      False  False  False  False   False  \n",
       "..       ...    ...    ...    ...     ...  \n",
       "298    False  False  False  False   False  \n",
       "299    False  False  False  False   False  \n",
       "300    False  False  False  False   False  \n",
       "301    False  False  False  False   False  \n",
       "302    False  False  False  False   False  \n",
       "\n",
       "[303 rows x 14 columns]"
      ]
     },
     "execution_count": 8,
     "metadata": {},
     "output_type": "execute_result"
    }
   ],
   "source": [
    "data.isnull()\n"
   ]
  },
  {
   "cell_type": "code",
   "execution_count": 9,
   "id": "9147d75f",
   "metadata": {},
   "outputs": [
    {
     "name": "stdout",
     "output_type": "stream",
     "text": [
      "Requirement already satisfied: matplotlib in c:\\users\\atharva\\appdata\\local\\packages\\pythonsoftwarefoundation.python.3.11_qbz5n2kfra8p0\\localcache\\local-packages\\python311\\site-packages (3.10.1)\n",
      "Requirement already satisfied: contourpy>=1.0.1 in c:\\users\\atharva\\appdata\\local\\packages\\pythonsoftwarefoundation.python.3.11_qbz5n2kfra8p0\\localcache\\local-packages\\python311\\site-packages (from matplotlib) (1.3.2)\n",
      "Requirement already satisfied: cycler>=0.10 in c:\\users\\atharva\\appdata\\local\\packages\\pythonsoftwarefoundation.python.3.11_qbz5n2kfra8p0\\localcache\\local-packages\\python311\\site-packages (from matplotlib) (0.12.1)\n",
      "Requirement already satisfied: fonttools>=4.22.0 in c:\\users\\atharva\\appdata\\local\\packages\\pythonsoftwarefoundation.python.3.11_qbz5n2kfra8p0\\localcache\\local-packages\\python311\\site-packages (from matplotlib) (4.57.0)\n",
      "Requirement already satisfied: kiwisolver>=1.3.1 in c:\\users\\atharva\\appdata\\local\\packages\\pythonsoftwarefoundation.python.3.11_qbz5n2kfra8p0\\localcache\\local-packages\\python311\\site-packages (from matplotlib) (1.4.8)\n",
      "Requirement already satisfied: numpy>=1.23 in c:\\users\\atharva\\appdata\\local\\packages\\pythonsoftwarefoundation.python.3.11_qbz5n2kfra8p0\\localcache\\local-packages\\python311\\site-packages (from matplotlib) (2.2.5)\n",
      "Requirement already satisfied: packaging>=20.0 in c:\\users\\atharva\\appdata\\local\\packages\\pythonsoftwarefoundation.python.3.11_qbz5n2kfra8p0\\localcache\\local-packages\\python311\\site-packages (from matplotlib) (24.2)\n",
      "Requirement already satisfied: pillow>=8 in c:\\users\\atharva\\appdata\\local\\packages\\pythonsoftwarefoundation.python.3.11_qbz5n2kfra8p0\\localcache\\local-packages\\python311\\site-packages (from matplotlib) (11.2.1)\n",
      "Requirement already satisfied: pyparsing>=2.3.1 in c:\\users\\atharva\\appdata\\local\\packages\\pythonsoftwarefoundation.python.3.11_qbz5n2kfra8p0\\localcache\\local-packages\\python311\\site-packages (from matplotlib) (3.2.3)\n",
      "Requirement already satisfied: python-dateutil>=2.7 in c:\\users\\atharva\\appdata\\local\\packages\\pythonsoftwarefoundation.python.3.11_qbz5n2kfra8p0\\localcache\\local-packages\\python311\\site-packages (from matplotlib) (2.9.0.post0)\n",
      "Requirement already satisfied: six>=1.5 in c:\\users\\atharva\\appdata\\local\\packages\\pythonsoftwarefoundation.python.3.11_qbz5n2kfra8p0\\localcache\\local-packages\\python311\\site-packages (from python-dateutil>=2.7->matplotlib) (1.17.0)\n",
      "Note: you may need to restart the kernel to use updated packages.\n"
     ]
    }
   ],
   "source": [
    "pip install matplotlib"
   ]
  },
  {
   "cell_type": "code",
   "execution_count": 10,
   "id": "c4868a35",
   "metadata": {},
   "outputs": [],
   "source": [
    "import matplotlib.pyplot as plt"
   ]
  },
  {
   "cell_type": "code",
   "execution_count": 11,
   "id": "71b8a9f4",
   "metadata": {},
   "outputs": [
    {
     "name": "stdout",
     "output_type": "stream",
     "text": [
      "Requirement already satisfied: seaborn in c:\\users\\atharva\\appdata\\local\\packages\\pythonsoftwarefoundation.python.3.11_qbz5n2kfra8p0\\localcache\\local-packages\\python311\\site-packages (0.13.2)\n",
      "Requirement already satisfied: numpy!=1.24.0,>=1.20 in c:\\users\\atharva\\appdata\\local\\packages\\pythonsoftwarefoundation.python.3.11_qbz5n2kfra8p0\\localcache\\local-packages\\python311\\site-packages (from seaborn) (2.2.5)\n",
      "Requirement already satisfied: pandas>=1.2 in c:\\users\\atharva\\appdata\\local\\packages\\pythonsoftwarefoundation.python.3.11_qbz5n2kfra8p0\\localcache\\local-packages\\python311\\site-packages (from seaborn) (2.2.3)\n",
      "Requirement already satisfied: matplotlib!=3.6.1,>=3.4 in c:\\users\\atharva\\appdata\\local\\packages\\pythonsoftwarefoundation.python.3.11_qbz5n2kfra8p0\\localcache\\local-packages\\python311\\site-packages (from seaborn) (3.10.1)\n",
      "Requirement already satisfied: contourpy>=1.0.1 in c:\\users\\atharva\\appdata\\local\\packages\\pythonsoftwarefoundation.python.3.11_qbz5n2kfra8p0\\localcache\\local-packages\\python311\\site-packages (from matplotlib!=3.6.1,>=3.4->seaborn) (1.3.2)\n",
      "Requirement already satisfied: cycler>=0.10 in c:\\users\\atharva\\appdata\\local\\packages\\pythonsoftwarefoundation.python.3.11_qbz5n2kfra8p0\\localcache\\local-packages\\python311\\site-packages (from matplotlib!=3.6.1,>=3.4->seaborn) (0.12.1)\n",
      "Requirement already satisfied: fonttools>=4.22.0 in c:\\users\\atharva\\appdata\\local\\packages\\pythonsoftwarefoundation.python.3.11_qbz5n2kfra8p0\\localcache\\local-packages\\python311\\site-packages (from matplotlib!=3.6.1,>=3.4->seaborn) (4.57.0)\n",
      "Requirement already satisfied: kiwisolver>=1.3.1 in c:\\users\\atharva\\appdata\\local\\packages\\pythonsoftwarefoundation.python.3.11_qbz5n2kfra8p0\\localcache\\local-packages\\python311\\site-packages (from matplotlib!=3.6.1,>=3.4->seaborn) (1.4.8)\n",
      "Requirement already satisfied: packaging>=20.0 in c:\\users\\atharva\\appdata\\local\\packages\\pythonsoftwarefoundation.python.3.11_qbz5n2kfra8p0\\localcache\\local-packages\\python311\\site-packages (from matplotlib!=3.6.1,>=3.4->seaborn) (24.2)\n",
      "Requirement already satisfied: pillow>=8 in c:\\users\\atharva\\appdata\\local\\packages\\pythonsoftwarefoundation.python.3.11_qbz5n2kfra8p0\\localcache\\local-packages\\python311\\site-packages (from matplotlib!=3.6.1,>=3.4->seaborn) (11.2.1)\n",
      "Requirement already satisfied: pyparsing>=2.3.1 in c:\\users\\atharva\\appdata\\local\\packages\\pythonsoftwarefoundation.python.3.11_qbz5n2kfra8p0\\localcache\\local-packages\\python311\\site-packages (from matplotlib!=3.6.1,>=3.4->seaborn) (3.2.3)\n",
      "Requirement already satisfied: python-dateutil>=2.7 in c:\\users\\atharva\\appdata\\local\\packages\\pythonsoftwarefoundation.python.3.11_qbz5n2kfra8p0\\localcache\\local-packages\\python311\\site-packages (from matplotlib!=3.6.1,>=3.4->seaborn) (2.9.0.post0)\n",
      "Requirement already satisfied: pytz>=2020.1 in c:\\users\\atharva\\appdata\\local\\packages\\pythonsoftwarefoundation.python.3.11_qbz5n2kfra8p0\\localcache\\local-packages\\python311\\site-packages (from pandas>=1.2->seaborn) (2025.2)\n",
      "Requirement already satisfied: tzdata>=2022.7 in c:\\users\\atharva\\appdata\\local\\packages\\pythonsoftwarefoundation.python.3.11_qbz5n2kfra8p0\\localcache\\local-packages\\python311\\site-packages (from pandas>=1.2->seaborn) (2025.2)\n",
      "Requirement already satisfied: six>=1.5 in c:\\users\\atharva\\appdata\\local\\packages\\pythonsoftwarefoundation.python.3.11_qbz5n2kfra8p0\\localcache\\local-packages\\python311\\site-packages (from python-dateutil>=2.7->matplotlib!=3.6.1,>=3.4->seaborn) (1.17.0)\n",
      "Note: you may need to restart the kernel to use updated packages.\n"
     ]
    }
   ],
   "source": [
    "pip install seaborn\n"
   ]
  },
  {
   "cell_type": "code",
   "execution_count": 12,
   "id": "8bbd7912",
   "metadata": {},
   "outputs": [
    {
     "name": "stdout",
     "output_type": "stream",
     "text": [
      "Requirement already satisfied: plotly in c:\\users\\atharva\\appdata\\local\\packages\\pythonsoftwarefoundation.python.3.11_qbz5n2kfra8p0\\localcache\\local-packages\\python311\\site-packages (6.0.1)\n",
      "Requirement already satisfied: narwhals>=1.15.1 in c:\\users\\atharva\\appdata\\local\\packages\\pythonsoftwarefoundation.python.3.11_qbz5n2kfra8p0\\localcache\\local-packages\\python311\\site-packages (from plotly) (1.37.1)\n",
      "Requirement already satisfied: packaging in c:\\users\\atharva\\appdata\\local\\packages\\pythonsoftwarefoundation.python.3.11_qbz5n2kfra8p0\\localcache\\local-packages\\python311\\site-packages (from plotly) (24.2)\n",
      "Note: you may need to restart the kernel to use updated packages.\n"
     ]
    }
   ],
   "source": [
    "pip install plotly"
   ]
  },
  {
   "cell_type": "code",
   "execution_count": 13,
   "id": "8a0a6587",
   "metadata": {},
   "outputs": [],
   "source": [
    "import plotly.express as px"
   ]
  },
  {
   "cell_type": "code",
   "execution_count": 15,
   "id": "cf328ce8",
   "metadata": {},
   "outputs": [],
   "source": [
    "import numpy as np\n",
    "\n",
    "xpoints = np.array([0, 6])\n",
    "ypoints = np.array([0, 250])"
   ]
  },
  {
   "cell_type": "code",
   "execution_count": 16,
   "id": "d1e0bb43",
   "metadata": {},
   "outputs": [
    {
     "data": {
      "image/png": "[encoded data removed]",
      "text/plain": [
       "<Figure size 640x480 with 1 Axes>"
      ]
     },
     "metadata": {},
     "output_type": "display_data"
    }
   ],
   "source": [
    "plt.plot(xpoints, ypoints)\n",
    "plt.show()"
   ]
  },
  {
   "cell_type": "code",
   "execution_count": 17,
   "id": "1d4b077a",
   "metadata": {},
   "outputs": [],
   "source": [
    "y =np.array([35, 25, 25, 25])"
   ]
  },
  {
   "cell_type": "code",
   "execution_count": 18,
   "id": "13560cc7",
   "metadata": {},
   "outputs": [],
   "source": [
    "plt.show()"
   ]
  },
  {
   "cell_type": "code",
   "execution_count": 19,
   "id": "b4b25abb",
   "metadata": {},
   "outputs": [
    {
     "name": "stdout",
     "output_type": "stream",
     "text": [
      "[169.38978776   9.02504169 251.33389553]\n"
     ]
    }
   ],
   "source": [
    "x = np.random.normal([170, 10, 250])\n",
    "print(x)"
   ]
  },
  {
   "cell_type": "code",
   "execution_count": 20,
   "id": "a01ad3f8",
   "metadata": {},
   "outputs": [
    {
     "data": {
      "image/png": "[encoded data removed]",
      "text/plain": [
       "<Figure size 640x480 with 1 Axes>"
      ]
     },
     "metadata": {},
     "output_type": "display_data"
    }
   ],
   "source": [
    "plt.hist(x)\n",
    "plt.show()"
   ]
  },
  {
   "cell_type": "code",
   "execution_count": 21,
   "id": "fed10a18",
   "metadata": {},
   "outputs": [
    {
     "name": "stdout",
     "output_type": "stream",
     "text": [
      "Requirement already satisfied: scikit-learn in c:\\users\\atharva\\appdata\\local\\packages\\pythonsoftwarefoundation.python.3.11_qbz5n2kfra8p0\\localcache\\local-packages\\python311\\site-packages (1.6.1)\n",
      "Requirement already satisfied: numpy>=1.19.5 in c:\\users\\atharva\\appdata\\local\\packages\\pythonsoftwarefoundation.python.3.11_qbz5n2kfra8p0\\localcache\\local-packages\\python311\\site-packages (from scikit-learn) (2.2.5)\n",
      "Requirement already satisfied: scipy>=1.6.0 in c:\\users\\atharva\\appdata\\local\\packages\\pythonsoftwarefoundation.python.3.11_qbz5n2kfra8p0\\localcache\\local-packages\\python311\\site-packages (from scikit-learn) (1.15.2)\n",
      "Requirement already satisfied: joblib>=1.2.0 in c:\\users\\atharva\\appdata\\local\\packages\\pythonsoftwarefoundation.python.3.11_qbz5n2kfra8p0\\localcache\\local-packages\\python311\\site-packages (from scikit-learn) (1.4.2)\n",
      "Requirement already satisfied: threadpoolctl>=3.1.0 in c:\\users\\atharva\\appdata\\local\\packages\\pythonsoftwarefoundation.python.3.11_qbz5n2kfra8p0\\localcache\\local-packages\\python311\\site-packages (from scikit-learn) (3.6.0)\n"
     ]
    }
   ],
   "source": [
    "!pip install scikit-learn"
   ]
  },
  {
   "cell_type": "code",
   "execution_count": 22,
   "id": "91bb69c5",
   "metadata": {},
   "outputs": [],
   "source": [
    "from sklearn.model_selection import train_test_split\n",
    "from sklearn.ensemble import RandomForestRegressor\n",
    "from sklearn.metrics import mean_squared_error, r2_score"
   ]
  },
  {
   "cell_type": "code",
   "execution_count": 23,
   "id": "ddf77821",
   "metadata": {},
   "outputs": [
    {
     "name": "stdout",
     "output_type": "stream",
     "text": [
      "Requirement already satisfied: nltk in c:\\users\\atharva\\appdata\\local\\packages\\pythonsoftwarefoundation.python.3.11_qbz5n2kfra8p0\\localcache\\local-packages\\python311\\site-packages (3.9.1)\n",
      "Requirement already satisfied: click in c:\\users\\atharva\\appdata\\local\\packages\\pythonsoftwarefoundation.python.3.11_qbz5n2kfra8p0\\localcache\\local-packages\\python311\\site-packages (from nltk) (8.1.8)\n",
      "Requirement already satisfied: joblib in c:\\users\\atharva\\appdata\\local\\packages\\pythonsoftwarefoundation.python.3.11_qbz5n2kfra8p0\\localcache\\local-packages\\python311\\site-packages (from nltk) (1.4.2)\n",
      "Requirement already satisfied: regex>=2021.8.3 in c:\\users\\atharva\\appdata\\local\\packages\\pythonsoftwarefoundation.python.3.11_qbz5n2kfra8p0\\localcache\\local-packages\\python311\\site-packages (from nltk) (2024.11.6)\n",
      "Requirement already satisfied: tqdm in c:\\users\\atharva\\appdata\\local\\packages\\pythonsoftwarefoundation.python.3.11_qbz5n2kfra8p0\\localcache\\local-packages\\python311\\site-packages (from nltk) (4.67.1)\n",
      "Requirement already satisfied: colorama in c:\\users\\atharva\\appdata\\local\\packages\\pythonsoftwarefoundation.python.3.11_qbz5n2kfra8p0\\localcache\\local-packages\\python311\\site-packages (from click->nltk) (0.4.6)\n",
      "Note: you may need to restart the kernel to use updated packages.\n"
     ]
    }
   ],
   "source": [
    "pip install nltk"
   ]
  },
  {
   "cell_type": "code",
   "execution_count": 24,
   "id": "1602e695",
   "metadata": {},
   "outputs": [],
   "source": [
    "import nltk"
   ]
  },
  {
   "cell_type": "code",
   "execution_count": 25,
   "id": "48110a01",
   "metadata": {},
   "outputs": [
    {
     "name": "stderr",
     "output_type": "stream",
     "text": [
      "[nltk_data] Downloading package vader_lexicon to\n",
      "[nltk_data]     C:\\Users\\Atharva\\AppData\\Roaming\\nltk_data...\n",
      "[nltk_data]   Package vader_lexicon is already up-to-date!\n"
     ]
    },
    {
     "data": {
      "text/plain": [
       "True"
      ]
     },
     "execution_count": 25,
     "metadata": {},
     "output_type": "execute_result"
    }
   ],
   "source": [
    "nltk.download('vader_lexicon')"
   ]
  },
  {
   "cell_type": "code",
   "execution_count": 26,
   "id": "565dbb13",
   "metadata": {},
   "outputs": [],
   "source": [
    "import pandas as pd"
   ]
  },
  {
   "cell_type": "code",
   "execution_count": 27,
   "id": "0053902b",
   "metadata": {},
   "outputs": [
    {
     "data": {
      "text/plain": [
       "'c:\\\\Users\\\\Atharva\\\\Downloads\\\\Google-Play-Store-Analytics-main\\\\Google-Play-Store-Analytics-main'"
      ]
     },
     "execution_count": 27,
     "metadata": {},
     "output_type": "execute_result"
    }
   ],
   "source": [
    "import os\n",
    "os.getcwd()"
   ]
  },
  {
   "cell_type": "code",
   "execution_count": 28,
   "id": "b39d7adf",
   "metadata": {},
   "outputs": [],
   "source": [
    "apps_df = pd.read_csv('Play Store Data.csv')\n",
    "reviews_df = pd.read_csv('User Reviews.csv ')"
   ]
  },
  {
   "cell_type": "code",
   "execution_count": 29,
   "id": "b3a51471",
   "metadata": {},
   "outputs": [
    {
     "data": {
      "text/html": [
       "<div>\n",
       "<style scoped>\n",
       "    .dataframe tbody tr th:only-of-type {\n",
       "        vertical-align: middle;\n",
       "    }\n",
       "\n",
       "    .dataframe tbody tr th {\n",
       "        vertical-align: top;\n",
       "    }\n",
       "\n",
       "    .dataframe thead th {\n",
       "        text-align: right;\n",
       "    }\n",
       "</style>\n",
       "<table border=\"1\" class=\"dataframe\">\n",
       "  <thead>\n",
       "    <tr style=\"text-align: right;\">\n",
       "      <th></th>\n",
       "      <th>App</th>\n",
       "      <th>Category</th>\n",
       "      <th>Rating</th>\n",
       "      <th>Reviews</th>\n",
       "      <th>Size</th>\n",
       "      <th>Installs</th>\n",
       "      <th>Type</th>\n",
       "      <th>Price</th>\n",
       "      <th>Content Rating</th>\n",
       "      <th>Genres</th>\n",
       "      <th>Last Updated</th>\n",
       "      <th>Current Ver</th>\n",
       "      <th>Android Ver</th>\n",
       "    </tr>\n",
       "  </thead>\n",
       "  <tbody>\n",
       "    <tr>\n",
       "      <th>0</th>\n",
       "      <td>Photo Editor &amp; Candy Camera &amp; Grid &amp; ScrapBook</td>\n",
       "      <td>ART_AND_DESIGN</td>\n",
       "      <td>4.1</td>\n",
       "      <td>159</td>\n",
       "      <td>19M</td>\n",
       "      <td>10,000+</td>\n",
       "      <td>Free</td>\n",
       "      <td>0</td>\n",
       "      <td>Everyone</td>\n",
       "      <td>Art &amp; Design</td>\n",
       "      <td>January 7, 2018</td>\n",
       "      <td>1.0.0</td>\n",
       "      <td>4.0.3 and up</td>\n",
       "    </tr>\n",
       "    <tr>\n",
       "      <th>1</th>\n",
       "      <td>Coloring book moana</td>\n",
       "      <td>ART_AND_DESIGN</td>\n",
       "      <td>3.9</td>\n",
       "      <td>967</td>\n",
       "      <td>14M</td>\n",
       "      <td>500,000+</td>\n",
       "      <td>Free</td>\n",
       "      <td>0</td>\n",
       "      <td>Everyone</td>\n",
       "      <td>Art &amp; Design;Pretend Play</td>\n",
       "      <td>January 15, 2018</td>\n",
       "      <td>2.0.0</td>\n",
       "      <td>4.0.3 and up</td>\n",
       "    </tr>\n",
       "    <tr>\n",
       "      <th>2</th>\n",
       "      <td>U Launcher Lite – FREE Live Cool Themes, Hide ...</td>\n",
       "      <td>ART_AND_DESIGN</td>\n",
       "      <td>4.7</td>\n",
       "      <td>87510</td>\n",
       "      <td>8.7M</td>\n",
       "      <td>5,000,000+</td>\n",
       "      <td>Free</td>\n",
       "      <td>0</td>\n",
       "      <td>Everyone</td>\n",
       "      <td>Art &amp; Design</td>\n",
       "      <td>August 1, 2018</td>\n",
       "      <td>1.2.4</td>\n",
       "      <td>4.0.3 and up</td>\n",
       "    </tr>\n",
       "    <tr>\n",
       "      <th>3</th>\n",
       "      <td>Sketch - Draw &amp; Paint</td>\n",
       "      <td>ART_AND_DESIGN</td>\n",
       "      <td>4.5</td>\n",
       "      <td>215644</td>\n",
       "      <td>25M</td>\n",
       "      <td>50,000,000+</td>\n",
       "      <td>Free</td>\n",
       "      <td>0</td>\n",
       "      <td>Teen</td>\n",
       "      <td>Art &amp; Design</td>\n",
       "      <td>June 8, 2018</td>\n",
       "      <td>Varies with device</td>\n",
       "      <td>4.2 and up</td>\n",
       "    </tr>\n",
       "    <tr>\n",
       "      <th>4</th>\n",
       "      <td>Pixel Draw - Number Art Coloring Book</td>\n",
       "      <td>ART_AND_DESIGN</td>\n",
       "      <td>4.3</td>\n",
       "      <td>967</td>\n",
       "      <td>2.8M</td>\n",
       "      <td>100,000+</td>\n",
       "      <td>Free</td>\n",
       "      <td>0</td>\n",
       "      <td>Everyone</td>\n",
       "      <td>Art &amp; Design;Creativity</td>\n",
       "      <td>June 20, 2018</td>\n",
       "      <td>1.1</td>\n",
       "      <td>4.4 and up</td>\n",
       "    </tr>\n",
       "  </tbody>\n",
       "</table>\n",
       "</div>"
      ],
      "text/plain": [
       "                                                 App        Category  Rating  \\\n",
       "0     Photo Editor & Candy Camera & Grid & ScrapBook  ART_AND_DESIGN     4.1   \n",
       "1                                Coloring book moana  ART_AND_DESIGN     3.9   \n",
       "2  U Launcher Lite – FREE Live Cool Themes, Hide ...  ART_AND_DESIGN     4.7   \n",
       "3                              Sketch - Draw & Paint  ART_AND_DESIGN     4.5   \n",
       "4              Pixel Draw - Number Art Coloring Book  ART_AND_DESIGN     4.3   \n",
       "\n",
       "  Reviews  Size     Installs  Type Price Content Rating  \\\n",
       "0     159   19M      10,000+  Free     0       Everyone   \n",
       "1     967   14M     500,000+  Free     0       Everyone   \n",
       "2   87510  8.7M   5,000,000+  Free     0       Everyone   \n",
       "3  215644   25M  50,000,000+  Free     0           Teen   \n",
       "4     967  2.8M     100,000+  Free     0       Everyone   \n",
       "\n",
       "                      Genres      Last Updated         Current Ver  \\\n",
       "0               Art & Design   January 7, 2018               1.0.0   \n",
       "1  Art & Design;Pretend Play  January 15, 2018               2.0.0   \n",
       "2               Art & Design    August 1, 2018               1.2.4   \n",
       "3               Art & Design      June 8, 2018  Varies with device   \n",
       "4    Art & Design;Creativity     June 20, 2018                 1.1   \n",
       "\n",
       "    Android Ver  \n",
       "0  4.0.3 and up  \n",
       "1  4.0.3 and up  \n",
       "2  4.0.3 and up  \n",
       "3    4.2 and up  \n",
       "4    4.4 and up  "
      ]
     },
     "execution_count": 29,
     "metadata": {},
     "output_type": "execute_result"
    }
   ],
   "source": [
    "apps_df.head()"
   ]
  },
  {
   "cell_type": "code",
   "execution_count": 30,
   "id": "35b507ad",
   "metadata": {},
   "outputs": [
    {
     "data": {
      "text/html": [
       "<div>\n",
       "<style scoped>\n",
       "    .dataframe tbody tr th:only-of-type {\n",
       "        vertical-align: middle;\n",
       "    }\n",
       "\n",
       "    .dataframe tbody tr th {\n",
       "        vertical-align: top;\n",
       "    }\n",
       "\n",
       "    .dataframe thead th {\n",
       "        text-align: right;\n",
       "    }\n",
       "</style>\n",
       "<table border=\"1\" class=\"dataframe\">\n",
       "  <thead>\n",
       "    <tr style=\"text-align: right;\">\n",
       "      <th></th>\n",
       "      <th>App</th>\n",
       "      <th>Translated_Review</th>\n",
       "      <th>Sentiment</th>\n",
       "      <th>Sentiment_Polarity</th>\n",
       "      <th>Sentiment_Subjectivity</th>\n",
       "    </tr>\n",
       "  </thead>\n",
       "  <tbody>\n",
       "    <tr>\n",
       "      <th>0</th>\n",
       "      <td>10 Best Foods for You</td>\n",
       "      <td>I like eat delicious food. That's I'm cooking ...</td>\n",
       "      <td>Positive</td>\n",
       "      <td>1.00</td>\n",
       "      <td>0.533333</td>\n",
       "    </tr>\n",
       "    <tr>\n",
       "      <th>1</th>\n",
       "      <td>10 Best Foods for You</td>\n",
       "      <td>This help eating healthy exercise regular basis</td>\n",
       "      <td>Positive</td>\n",
       "      <td>0.25</td>\n",
       "      <td>0.288462</td>\n",
       "    </tr>\n",
       "    <tr>\n",
       "      <th>2</th>\n",
       "      <td>10 Best Foods for You</td>\n",
       "      <td>NaN</td>\n",
       "      <td>NaN</td>\n",
       "      <td>NaN</td>\n",
       "      <td>NaN</td>\n",
       "    </tr>\n",
       "    <tr>\n",
       "      <th>3</th>\n",
       "      <td>10 Best Foods for You</td>\n",
       "      <td>Works great especially going grocery store</td>\n",
       "      <td>Positive</td>\n",
       "      <td>0.40</td>\n",
       "      <td>0.875000</td>\n",
       "    </tr>\n",
       "    <tr>\n",
       "      <th>4</th>\n",
       "      <td>10 Best Foods for You</td>\n",
       "      <td>Best idea us</td>\n",
       "      <td>Positive</td>\n",
       "      <td>1.00</td>\n",
       "      <td>0.300000</td>\n",
       "    </tr>\n",
       "  </tbody>\n",
       "</table>\n",
       "</div>"
      ],
      "text/plain": [
       "                     App                                  Translated_Review  \\\n",
       "0  10 Best Foods for You  I like eat delicious food. That's I'm cooking ...   \n",
       "1  10 Best Foods for You    This help eating healthy exercise regular basis   \n",
       "2  10 Best Foods for You                                                NaN   \n",
       "3  10 Best Foods for You         Works great especially going grocery store   \n",
       "4  10 Best Foods for You                                       Best idea us   \n",
       "\n",
       "  Sentiment  Sentiment_Polarity  Sentiment_Subjectivity  \n",
       "0  Positive                1.00                0.533333  \n",
       "1  Positive                0.25                0.288462  \n",
       "2       NaN                 NaN                     NaN  \n",
       "3  Positive                0.40                0.875000  \n",
       "4  Positive                1.00                0.300000  "
      ]
     },
     "execution_count": 30,
     "metadata": {},
     "output_type": "execute_result"
    }
   ],
   "source": [
    "reviews_df.head()"
   ]
  },
  {
   "cell_type": "code",
   "execution_count": 31,
   "id": "0af06f9c",
   "metadata": {},
   "outputs": [],
   "source": [
    "#df.nul() : missing values\n",
    "#df.dropna() : removes rows and col. that contains null values\n",
    "#df.fillna() : fills missing values"
   ]
  },
  {
   "cell_type": "code",
   "execution_count": 32,
   "id": "a171fa0c",
   "metadata": {},
   "outputs": [],
   "source": [
    "#df.duplicated() : identifies duplicates\n",
    "#df.drop_duplicates() : removes duplicates"
   ]
  },
  {
   "cell_type": "code",
   "execution_count": 33,
   "id": "82776c9e",
   "metadata": {},
   "outputs": [
    {
     "name": "stderr",
     "output_type": "stream",
     "text": [
      "C:\\Users\\Atharva\\AppData\\Local\\Temp\\ipykernel_15372\\3576753072.py:4: FutureWarning: A value is trying to be set on a copy of a DataFrame or Series through chained assignment using an inplace method.\n",
      "The behavior will change in pandas 3.0. This inplace method will never work because the intermediate object on which we are setting values always behaves as a copy.\n",
      "\n",
      "For example, when doing 'df[col].method(value, inplace=True)', try using 'df.method({col: value}, inplace=True)' or df[col] = df[col].method(value) instead, to perform the operation inplace on the original object.\n",
      "\n",
      "\n",
      "  apps_df[column].fillna(apps_df[column].mode()[0], inplace=True)\n"
     ]
    }
   ],
   "source": [
    "#Step 2: Data cleaning\n",
    "apps_df = apps_df.dropna(subset=['Rating'])\n",
    "for column in apps_df.columns :\n",
    "    apps_df[column].fillna(apps_df[column].mode()[0], inplace=True)\n",
    "apps_df.drop_duplicates(inplace=True)\n",
    "apps_df = apps_df[apps_df['Rating'] <= 5]\n",
    "reviews_df.dropna(subset=['Translated_Review'], inplace=True)"
   ]
  },
  {
   "cell_type": "code",
   "execution_count": 34,
   "id": "e13b4bd9",
   "metadata": {},
   "outputs": [],
   "source": [
    "#convert the intalls col. to numeric by removing commas and +\n",
    "apps_df['Installs'] = apps_df['Installs'].str.replace(',', '').str.replace('+', '').astype(int)\n",
    "\n",
    "#convert price col. to numeric after removing $\n",
    "apps_df['Price'] = apps_df['Price'].str.replace('$', '').astype(float)"
   ]
  },
  {
   "cell_type": "code",
   "execution_count": 35,
   "id": "005cb7bb",
   "metadata": {},
   "outputs": [
    {
     "data": {
      "text/plain": [
       "App                object\n",
       "Category           object\n",
       "Rating            float64\n",
       "Reviews            object\n",
       "Size               object\n",
       "Installs            int64\n",
       "Type               object\n",
       "Price             float64\n",
       "Content Rating     object\n",
       "Genres             object\n",
       "Last Updated       object\n",
       "Current Ver        object\n",
       "Android Ver        object\n",
       "dtype: object"
      ]
     },
     "execution_count": 35,
     "metadata": {},
     "output_type": "execute_result"
    }
   ],
   "source": [
    "apps_df.dtypes"
   ]
  },
  {
   "cell_type": "code",
   "execution_count": 36,
   "id": "aec03005",
   "metadata": {},
   "outputs": [],
   "source": [
    "merged_df = pd.merge(apps_df, reviews_df, on = 'App', how = 'inner')"
   ]
  },
  {
   "cell_type": "code",
   "execution_count": 37,
   "id": "3d4b199a",
   "metadata": {},
   "outputs": [
    {
     "data": {
      "text/html": [
       "<div>\n",
       "<style scoped>\n",
       "    .dataframe tbody tr th:only-of-type {\n",
       "        vertical-align: middle;\n",
       "    }\n",
       "\n",
       "    .dataframe tbody tr th {\n",
       "        vertical-align: top;\n",
       "    }\n",
       "\n",
       "    .dataframe thead th {\n",
       "        text-align: right;\n",
       "    }\n",
       "</style>\n",
       "<table border=\"1\" class=\"dataframe\">\n",
       "  <thead>\n",
       "    <tr style=\"text-align: right;\">\n",
       "      <th></th>\n",
       "      <th>App</th>\n",
       "      <th>Category</th>\n",
       "      <th>Rating</th>\n",
       "      <th>Reviews</th>\n",
       "      <th>Size</th>\n",
       "      <th>Installs</th>\n",
       "      <th>Type</th>\n",
       "      <th>Price</th>\n",
       "      <th>Content Rating</th>\n",
       "      <th>Genres</th>\n",
       "      <th>Last Updated</th>\n",
       "      <th>Current Ver</th>\n",
       "      <th>Android Ver</th>\n",
       "      <th>Translated_Review</th>\n",
       "      <th>Sentiment</th>\n",
       "      <th>Sentiment_Polarity</th>\n",
       "      <th>Sentiment_Subjectivity</th>\n",
       "    </tr>\n",
       "  </thead>\n",
       "  <tbody>\n",
       "    <tr>\n",
       "      <th>0</th>\n",
       "      <td>Coloring book moana</td>\n",
       "      <td>ART_AND_DESIGN</td>\n",
       "      <td>3.9</td>\n",
       "      <td>967</td>\n",
       "      <td>14M</td>\n",
       "      <td>500000</td>\n",
       "      <td>Free</td>\n",
       "      <td>0.0</td>\n",
       "      <td>Everyone</td>\n",
       "      <td>Art &amp; Design;Pretend Play</td>\n",
       "      <td>January 15, 2018</td>\n",
       "      <td>2.0.0</td>\n",
       "      <td>4.0.3 and up</td>\n",
       "      <td>A kid's excessive ads. The types ads allowed a...</td>\n",
       "      <td>Negative</td>\n",
       "      <td>-0.250</td>\n",
       "      <td>1.000000</td>\n",
       "    </tr>\n",
       "    <tr>\n",
       "      <th>1</th>\n",
       "      <td>Coloring book moana</td>\n",
       "      <td>ART_AND_DESIGN</td>\n",
       "      <td>3.9</td>\n",
       "      <td>967</td>\n",
       "      <td>14M</td>\n",
       "      <td>500000</td>\n",
       "      <td>Free</td>\n",
       "      <td>0.0</td>\n",
       "      <td>Everyone</td>\n",
       "      <td>Art &amp; Design;Pretend Play</td>\n",
       "      <td>January 15, 2018</td>\n",
       "      <td>2.0.0</td>\n",
       "      <td>4.0.3 and up</td>\n",
       "      <td>It bad &gt;:(</td>\n",
       "      <td>Negative</td>\n",
       "      <td>-0.725</td>\n",
       "      <td>0.833333</td>\n",
       "    </tr>\n",
       "    <tr>\n",
       "      <th>2</th>\n",
       "      <td>Coloring book moana</td>\n",
       "      <td>ART_AND_DESIGN</td>\n",
       "      <td>3.9</td>\n",
       "      <td>967</td>\n",
       "      <td>14M</td>\n",
       "      <td>500000</td>\n",
       "      <td>Free</td>\n",
       "      <td>0.0</td>\n",
       "      <td>Everyone</td>\n",
       "      <td>Art &amp; Design;Pretend Play</td>\n",
       "      <td>January 15, 2018</td>\n",
       "      <td>2.0.0</td>\n",
       "      <td>4.0.3 and up</td>\n",
       "      <td>like</td>\n",
       "      <td>Neutral</td>\n",
       "      <td>0.000</td>\n",
       "      <td>0.000000</td>\n",
       "    </tr>\n",
       "    <tr>\n",
       "      <th>3</th>\n",
       "      <td>Coloring book moana</td>\n",
       "      <td>ART_AND_DESIGN</td>\n",
       "      <td>3.9</td>\n",
       "      <td>967</td>\n",
       "      <td>14M</td>\n",
       "      <td>500000</td>\n",
       "      <td>Free</td>\n",
       "      <td>0.0</td>\n",
       "      <td>Everyone</td>\n",
       "      <td>Art &amp; Design;Pretend Play</td>\n",
       "      <td>January 15, 2018</td>\n",
       "      <td>2.0.0</td>\n",
       "      <td>4.0.3 and up</td>\n",
       "      <td>I love colors inspyering</td>\n",
       "      <td>Positive</td>\n",
       "      <td>0.500</td>\n",
       "      <td>0.600000</td>\n",
       "    </tr>\n",
       "    <tr>\n",
       "      <th>4</th>\n",
       "      <td>Coloring book moana</td>\n",
       "      <td>ART_AND_DESIGN</td>\n",
       "      <td>3.9</td>\n",
       "      <td>967</td>\n",
       "      <td>14M</td>\n",
       "      <td>500000</td>\n",
       "      <td>Free</td>\n",
       "      <td>0.0</td>\n",
       "      <td>Everyone</td>\n",
       "      <td>Art &amp; Design;Pretend Play</td>\n",
       "      <td>January 15, 2018</td>\n",
       "      <td>2.0.0</td>\n",
       "      <td>4.0.3 and up</td>\n",
       "      <td>I hate</td>\n",
       "      <td>Negative</td>\n",
       "      <td>-0.800</td>\n",
       "      <td>0.900000</td>\n",
       "    </tr>\n",
       "  </tbody>\n",
       "</table>\n",
       "</div>"
      ],
      "text/plain": [
       "                   App        Category  Rating Reviews Size  Installs  Type  \\\n",
       "0  Coloring book moana  ART_AND_DESIGN     3.9     967  14M    500000  Free   \n",
       "1  Coloring book moana  ART_AND_DESIGN     3.9     967  14M    500000  Free   \n",
       "2  Coloring book moana  ART_AND_DESIGN     3.9     967  14M    500000  Free   \n",
       "3  Coloring book moana  ART_AND_DESIGN     3.9     967  14M    500000  Free   \n",
       "4  Coloring book moana  ART_AND_DESIGN     3.9     967  14M    500000  Free   \n",
       "\n",
       "   Price Content Rating                     Genres      Last Updated  \\\n",
       "0    0.0       Everyone  Art & Design;Pretend Play  January 15, 2018   \n",
       "1    0.0       Everyone  Art & Design;Pretend Play  January 15, 2018   \n",
       "2    0.0       Everyone  Art & Design;Pretend Play  January 15, 2018   \n",
       "3    0.0       Everyone  Art & Design;Pretend Play  January 15, 2018   \n",
       "4    0.0       Everyone  Art & Design;Pretend Play  January 15, 2018   \n",
       "\n",
       "  Current Ver   Android Ver  \\\n",
       "0       2.0.0  4.0.3 and up   \n",
       "1       2.0.0  4.0.3 and up   \n",
       "2       2.0.0  4.0.3 and up   \n",
       "3       2.0.0  4.0.3 and up   \n",
       "4       2.0.0  4.0.3 and up   \n",
       "\n",
       "                                   Translated_Review Sentiment  \\\n",
       "0  A kid's excessive ads. The types ads allowed a...  Negative   \n",
       "1                                         It bad >:(  Negative   \n",
       "2                                               like   Neutral   \n",
       "3                           I love colors inspyering  Positive   \n",
       "4                                             I hate  Negative   \n",
       "\n",
       "   Sentiment_Polarity  Sentiment_Subjectivity  \n",
       "0              -0.250                1.000000  \n",
       "1              -0.725                0.833333  \n",
       "2               0.000                0.000000  \n",
       "3               0.500                0.600000  \n",
       "4              -0.800                0.900000  "
      ]
     },
     "execution_count": 37,
     "metadata": {},
     "output_type": "execute_result"
    }
   ],
   "source": [
    "merged_df.head()"
   ]
  },
  {
   "cell_type": "code",
   "execution_count": 38,
   "id": "0e1e005d",
   "metadata": {},
   "outputs": [],
   "source": [
    "import numpy as np\n",
    "def convert_size(size):\n",
    "    if 'M' in size:\n",
    "        return float(size.replace('M',''))\n",
    "    elif 'k' in size:\n",
    "        return float(size.replace('k',''))/1024\n",
    "    else:\n",
    "        return np.nan\n",
    "apps_df['Size']=apps_df['Size'].apply(convert_size)"
   ]
  },
  {
   "cell_type": "code",
   "execution_count": 39,
   "id": "def445a6",
   "metadata": {},
   "outputs": [
    {
     "data": {
      "text/html": [
       "<div>\n",
       "<style scoped>\n",
       "    .dataframe tbody tr th:only-of-type {\n",
       "        vertical-align: middle;\n",
       "    }\n",
       "\n",
       "    .dataframe tbody tr th {\n",
       "        vertical-align: top;\n",
       "    }\n",
       "\n",
       "    .dataframe thead th {\n",
       "        text-align: right;\n",
       "    }\n",
       "</style>\n",
       "<table border=\"1\" class=\"dataframe\">\n",
       "  <thead>\n",
       "    <tr style=\"text-align: right;\">\n",
       "      <th></th>\n",
       "      <th>App</th>\n",
       "      <th>Category</th>\n",
       "      <th>Rating</th>\n",
       "      <th>Reviews</th>\n",
       "      <th>Size</th>\n",
       "      <th>Installs</th>\n",
       "      <th>Type</th>\n",
       "      <th>Price</th>\n",
       "      <th>Content Rating</th>\n",
       "      <th>Genres</th>\n",
       "      <th>Last Updated</th>\n",
       "      <th>Current Ver</th>\n",
       "      <th>Android Ver</th>\n",
       "    </tr>\n",
       "  </thead>\n",
       "  <tbody>\n",
       "    <tr>\n",
       "      <th>0</th>\n",
       "      <td>Photo Editor &amp; Candy Camera &amp; Grid &amp; ScrapBook</td>\n",
       "      <td>ART_AND_DESIGN</td>\n",
       "      <td>4.1</td>\n",
       "      <td>159</td>\n",
       "      <td>19.0</td>\n",
       "      <td>10000</td>\n",
       "      <td>Free</td>\n",
       "      <td>0.0</td>\n",
       "      <td>Everyone</td>\n",
       "      <td>Art &amp; Design</td>\n",
       "      <td>January 7, 2018</td>\n",
       "      <td>1.0.0</td>\n",
       "      <td>4.0.3 and up</td>\n",
       "    </tr>\n",
       "    <tr>\n",
       "      <th>1</th>\n",
       "      <td>Coloring book moana</td>\n",
       "      <td>ART_AND_DESIGN</td>\n",
       "      <td>3.9</td>\n",
       "      <td>967</td>\n",
       "      <td>14.0</td>\n",
       "      <td>500000</td>\n",
       "      <td>Free</td>\n",
       "      <td>0.0</td>\n",
       "      <td>Everyone</td>\n",
       "      <td>Art &amp; Design;Pretend Play</td>\n",
       "      <td>January 15, 2018</td>\n",
       "      <td>2.0.0</td>\n",
       "      <td>4.0.3 and up</td>\n",
       "    </tr>\n",
       "    <tr>\n",
       "      <th>2</th>\n",
       "      <td>U Launcher Lite – FREE Live Cool Themes, Hide ...</td>\n",
       "      <td>ART_AND_DESIGN</td>\n",
       "      <td>4.7</td>\n",
       "      <td>87510</td>\n",
       "      <td>8.7</td>\n",
       "      <td>5000000</td>\n",
       "      <td>Free</td>\n",
       "      <td>0.0</td>\n",
       "      <td>Everyone</td>\n",
       "      <td>Art &amp; Design</td>\n",
       "      <td>August 1, 2018</td>\n",
       "      <td>1.2.4</td>\n",
       "      <td>4.0.3 and up</td>\n",
       "    </tr>\n",
       "    <tr>\n",
       "      <th>3</th>\n",
       "      <td>Sketch - Draw &amp; Paint</td>\n",
       "      <td>ART_AND_DESIGN</td>\n",
       "      <td>4.5</td>\n",
       "      <td>215644</td>\n",
       "      <td>25.0</td>\n",
       "      <td>50000000</td>\n",
       "      <td>Free</td>\n",
       "      <td>0.0</td>\n",
       "      <td>Teen</td>\n",
       "      <td>Art &amp; Design</td>\n",
       "      <td>June 8, 2018</td>\n",
       "      <td>Varies with device</td>\n",
       "      <td>4.2 and up</td>\n",
       "    </tr>\n",
       "    <tr>\n",
       "      <th>4</th>\n",
       "      <td>Pixel Draw - Number Art Coloring Book</td>\n",
       "      <td>ART_AND_DESIGN</td>\n",
       "      <td>4.3</td>\n",
       "      <td>967</td>\n",
       "      <td>2.8</td>\n",
       "      <td>100000</td>\n",
       "      <td>Free</td>\n",
       "      <td>0.0</td>\n",
       "      <td>Everyone</td>\n",
       "      <td>Art &amp; Design;Creativity</td>\n",
       "      <td>June 20, 2018</td>\n",
       "      <td>1.1</td>\n",
       "      <td>4.4 and up</td>\n",
       "    </tr>\n",
       "    <tr>\n",
       "      <th>...</th>\n",
       "      <td>...</td>\n",
       "      <td>...</td>\n",
       "      <td>...</td>\n",
       "      <td>...</td>\n",
       "      <td>...</td>\n",
       "      <td>...</td>\n",
       "      <td>...</td>\n",
       "      <td>...</td>\n",
       "      <td>...</td>\n",
       "      <td>...</td>\n",
       "      <td>...</td>\n",
       "      <td>...</td>\n",
       "      <td>...</td>\n",
       "    </tr>\n",
       "    <tr>\n",
       "      <th>10834</th>\n",
       "      <td>FR Calculator</td>\n",
       "      <td>FAMILY</td>\n",
       "      <td>4.0</td>\n",
       "      <td>7</td>\n",
       "      <td>2.6</td>\n",
       "      <td>500</td>\n",
       "      <td>Free</td>\n",
       "      <td>0.0</td>\n",
       "      <td>Everyone</td>\n",
       "      <td>Education</td>\n",
       "      <td>June 18, 2017</td>\n",
       "      <td>1.0.0</td>\n",
       "      <td>4.1 and up</td>\n",
       "    </tr>\n",
       "    <tr>\n",
       "      <th>10836</th>\n",
       "      <td>Sya9a Maroc - FR</td>\n",
       "      <td>FAMILY</td>\n",
       "      <td>4.5</td>\n",
       "      <td>38</td>\n",
       "      <td>53.0</td>\n",
       "      <td>5000</td>\n",
       "      <td>Free</td>\n",
       "      <td>0.0</td>\n",
       "      <td>Everyone</td>\n",
       "      <td>Education</td>\n",
       "      <td>July 25, 2017</td>\n",
       "      <td>1.48</td>\n",
       "      <td>4.1 and up</td>\n",
       "    </tr>\n",
       "    <tr>\n",
       "      <th>10837</th>\n",
       "      <td>Fr. Mike Schmitz Audio Teachings</td>\n",
       "      <td>FAMILY</td>\n",
       "      <td>5.0</td>\n",
       "      <td>4</td>\n",
       "      <td>3.6</td>\n",
       "      <td>100</td>\n",
       "      <td>Free</td>\n",
       "      <td>0.0</td>\n",
       "      <td>Everyone</td>\n",
       "      <td>Education</td>\n",
       "      <td>July 6, 2018</td>\n",
       "      <td>1.0</td>\n",
       "      <td>4.1 and up</td>\n",
       "    </tr>\n",
       "    <tr>\n",
       "      <th>10839</th>\n",
       "      <td>The SCP Foundation DB fr nn5n</td>\n",
       "      <td>BOOKS_AND_REFERENCE</td>\n",
       "      <td>4.5</td>\n",
       "      <td>114</td>\n",
       "      <td>NaN</td>\n",
       "      <td>1000</td>\n",
       "      <td>Free</td>\n",
       "      <td>0.0</td>\n",
       "      <td>Mature 17+</td>\n",
       "      <td>Books &amp; Reference</td>\n",
       "      <td>January 19, 2015</td>\n",
       "      <td>Varies with device</td>\n",
       "      <td>Varies with device</td>\n",
       "    </tr>\n",
       "    <tr>\n",
       "      <th>10840</th>\n",
       "      <td>iHoroscope - 2018 Daily Horoscope &amp; Astrology</td>\n",
       "      <td>LIFESTYLE</td>\n",
       "      <td>4.5</td>\n",
       "      <td>398307</td>\n",
       "      <td>19.0</td>\n",
       "      <td>10000000</td>\n",
       "      <td>Free</td>\n",
       "      <td>0.0</td>\n",
       "      <td>Everyone</td>\n",
       "      <td>Lifestyle</td>\n",
       "      <td>July 25, 2018</td>\n",
       "      <td>Varies with device</td>\n",
       "      <td>Varies with device</td>\n",
       "    </tr>\n",
       "  </tbody>\n",
       "</table>\n",
       "<p>8892 rows × 13 columns</p>\n",
       "</div>"
      ],
      "text/plain": [
       "                                                     App             Category  \\\n",
       "0         Photo Editor & Candy Camera & Grid & ScrapBook       ART_AND_DESIGN   \n",
       "1                                    Coloring book moana       ART_AND_DESIGN   \n",
       "2      U Launcher Lite – FREE Live Cool Themes, Hide ...       ART_AND_DESIGN   \n",
       "3                                  Sketch - Draw & Paint       ART_AND_DESIGN   \n",
       "4                  Pixel Draw - Number Art Coloring Book       ART_AND_DESIGN   \n",
       "...                                                  ...                  ...   \n",
       "10834                                      FR Calculator               FAMILY   \n",
       "10836                                   Sya9a Maroc - FR               FAMILY   \n",
       "10837                   Fr. Mike Schmitz Audio Teachings               FAMILY   \n",
       "10839                      The SCP Foundation DB fr nn5n  BOOKS_AND_REFERENCE   \n",
       "10840      iHoroscope - 2018 Daily Horoscope & Astrology            LIFESTYLE   \n",
       "\n",
       "       Rating Reviews  Size  Installs  Type  Price Content Rating  \\\n",
       "0         4.1     159  19.0     10000  Free    0.0       Everyone   \n",
       "1         3.9     967  14.0    500000  Free    0.0       Everyone   \n",
       "2         4.7   87510   8.7   5000000  Free    0.0       Everyone   \n",
       "3         4.5  215644  25.0  50000000  Free    0.0           Teen   \n",
       "4         4.3     967   2.8    100000  Free    0.0       Everyone   \n",
       "...       ...     ...   ...       ...   ...    ...            ...   \n",
       "10834     4.0       7   2.6       500  Free    0.0       Everyone   \n",
       "10836     4.5      38  53.0      5000  Free    0.0       Everyone   \n",
       "10837     5.0       4   3.6       100  Free    0.0       Everyone   \n",
       "10839     4.5     114   NaN      1000  Free    0.0     Mature 17+   \n",
       "10840     4.5  398307  19.0  10000000  Free    0.0       Everyone   \n",
       "\n",
       "                          Genres      Last Updated         Current Ver  \\\n",
       "0                   Art & Design   January 7, 2018               1.0.0   \n",
       "1      Art & Design;Pretend Play  January 15, 2018               2.0.0   \n",
       "2                   Art & Design    August 1, 2018               1.2.4   \n",
       "3                   Art & Design      June 8, 2018  Varies with device   \n",
       "4        Art & Design;Creativity     June 20, 2018                 1.1   \n",
       "...                          ...               ...                 ...   \n",
       "10834                  Education     June 18, 2017               1.0.0   \n",
       "10836                  Education     July 25, 2017                1.48   \n",
       "10837                  Education      July 6, 2018                 1.0   \n",
       "10839          Books & Reference  January 19, 2015  Varies with device   \n",
       "10840                  Lifestyle     July 25, 2018  Varies with device   \n",
       "\n",
       "              Android Ver  \n",
       "0            4.0.3 and up  \n",
       "1            4.0.3 and up  \n",
       "2            4.0.3 and up  \n",
       "3              4.2 and up  \n",
       "4              4.4 and up  \n",
       "...                   ...  \n",
       "10834          4.1 and up  \n",
       "10836          4.1 and up  \n",
       "10837          4.1 and up  \n",
       "10839  Varies with device  \n",
       "10840  Varies with device  \n",
       "\n",
       "[8892 rows x 13 columns]"
      ]
     },
     "execution_count": 39,
     "metadata": {},
     "output_type": "execute_result"
    }
   ],
   "source": [
    "apps_df"
   ]
  },
  {
   "cell_type": "code",
   "execution_count": 40,
   "id": "b0d192ca",
   "metadata": {},
   "outputs": [],
   "source": [
    "#Lograrithmic\n",
    "apps_df['Log_Installs']=np.log(apps_df['Installs'])"
   ]
  },
  {
   "cell_type": "code",
   "execution_count": 41,
   "id": "1b551226",
   "metadata": {},
   "outputs": [],
   "source": [
    "apps_df['Reviews']=apps_df['Reviews'].astype(int)"
   ]
  },
  {
   "cell_type": "code",
   "execution_count": 42,
   "id": "06836952",
   "metadata": {},
   "outputs": [],
   "source": [
    "apps_df['Log_Reviews']=np.log(apps_df['Reviews'])"
   ]
  },
  {
   "cell_type": "code",
   "execution_count": 43,
   "id": "3a7bbe43",
   "metadata": {},
   "outputs": [
    {
     "data": {
      "text/plain": [
       "App                object\n",
       "Category           object\n",
       "Rating            float64\n",
       "Reviews             int64\n",
       "Size              float64\n",
       "Installs            int64\n",
       "Type               object\n",
       "Price             float64\n",
       "Content Rating     object\n",
       "Genres             object\n",
       "Last Updated       object\n",
       "Current Ver        object\n",
       "Android Ver        object\n",
       "Log_Installs      float64\n",
       "Log_Reviews       float64\n",
       "dtype: object"
      ]
     },
     "execution_count": 43,
     "metadata": {},
     "output_type": "execute_result"
    }
   ],
   "source": [
    "apps_df.dtypes"
   ]
  },
  {
   "cell_type": "code",
   "execution_count": 44,
   "id": "2bf886fa",
   "metadata": {},
   "outputs": [],
   "source": [
    "def rating_group(rating):\n",
    "    if rating >= 4:\n",
    "        return 'Top rated app'\n",
    "    elif rating >=3:\n",
    "        return 'Above average'\n",
    "    elif rating >=2:\n",
    "        return 'Average'\n",
    "    else:\n",
    "        return 'Below Average'\n",
    "apps_df['Rating_Group']=apps_df['Rating'].apply(rating_group)\n",
    "\n"
   ]
  },
  {
   "cell_type": "code",
   "execution_count": 45,
   "id": "91c69db8",
   "metadata": {},
   "outputs": [],
   "source": [
    "#Revenue column\n",
    "apps_df['Revenue']=apps_df['Price']*apps_df['Installs']"
   ]
  },
  {
   "cell_type": "code",
   "execution_count": 46,
   "id": "e1f87300",
   "metadata": {},
   "outputs": [],
   "source": [
    "from nltk.sentiment.vader import SentimentIntensityAnalyzer\n",
    "\n",
    "sia = SentimentIntensityAnalyzer()"
   ]
  },
  {
   "cell_type": "code",
   "execution_count": 47,
   "id": "e20da499",
   "metadata": {},
   "outputs": [],
   "source": [
    "#Polarity Scores in SIA\n",
    "#Positive, Negative, Neutral and Compound: -1 - Very negative ; +1 - Very positive"
   ]
  },
  {
   "cell_type": "code",
   "execution_count": 48,
   "id": "90ce256d",
   "metadata": {},
   "outputs": [
    {
     "name": "stdout",
     "output_type": "stream",
     "text": [
      "{'neg': 0.0, 'neu': 0.42, 'pos': 0.58, 'compound': 0.8516}\n"
     ]
    }
   ],
   "source": [
    "review = \"This app is amazing! I love the new features.\"\n",
    "sentiment_score= sia.polarity_scores(review)\n",
    "print(sentiment_score)"
   ]
  },
  {
   "cell_type": "code",
   "execution_count": 49,
   "id": "b23bfffb",
   "metadata": {},
   "outputs": [
    {
     "name": "stdout",
     "output_type": "stream",
     "text": [
      "{'neg': 0.535, 'neu': 0.465, 'pos': 0.0, 'compound': -0.8427}\n"
     ]
    }
   ],
   "source": [
    "review = \"This app is very bad! I hate the new features.\"\n",
    "sentiment_score= sia.polarity_scores(review)\n",
    "print(sentiment_score)\n"
   ]
  },
  {
   "cell_type": "code",
   "execution_count": 50,
   "id": "4b73ca57",
   "metadata": {},
   "outputs": [
    {
     "name": "stdout",
     "output_type": "stream",
     "text": [
      "{'neg': 0.0, 'neu': 0.612, 'pos': 0.388, 'compound': 0.2263}\n"
     ]
    }
   ],
   "source": [
    "review = \"This app is okay.\"\n",
    "sentiment_score= sia.polarity_scores(review)\n",
    "print(sentiment_score)"
   ]
  },
  {
   "cell_type": "code",
   "execution_count": 51,
   "id": "2a247665",
   "metadata": {},
   "outputs": [],
   "source": [
    "reviews_df['Sentiment_Score']=reviews_df['Translated_Review'].apply(lambda x: sia.polarity_scores(str(x))['compound'])"
   ]
  },
  {
   "cell_type": "code",
   "execution_count": 52,
   "id": "09636d97",
   "metadata": {},
   "outputs": [
    {
     "data": {
      "text/html": [
       "<div>\n",
       "<style scoped>\n",
       "    .dataframe tbody tr th:only-of-type {\n",
       "        vertical-align: middle;\n",
       "    }\n",
       "\n",
       "    .dataframe tbody tr th {\n",
       "        vertical-align: top;\n",
       "    }\n",
       "\n",
       "    .dataframe thead th {\n",
       "        text-align: right;\n",
       "    }\n",
       "</style>\n",
       "<table border=\"1\" class=\"dataframe\">\n",
       "  <thead>\n",
       "    <tr style=\"text-align: right;\">\n",
       "      <th></th>\n",
       "      <th>App</th>\n",
       "      <th>Translated_Review</th>\n",
       "      <th>Sentiment</th>\n",
       "      <th>Sentiment_Polarity</th>\n",
       "      <th>Sentiment_Subjectivity</th>\n",
       "      <th>Sentiment_Score</th>\n",
       "    </tr>\n",
       "  </thead>\n",
       "  <tbody>\n",
       "    <tr>\n",
       "      <th>0</th>\n",
       "      <td>10 Best Foods for You</td>\n",
       "      <td>I like eat delicious food. That's I'm cooking ...</td>\n",
       "      <td>Positive</td>\n",
       "      <td>1.00</td>\n",
       "      <td>0.533333</td>\n",
       "      <td>0.9531</td>\n",
       "    </tr>\n",
       "    <tr>\n",
       "      <th>1</th>\n",
       "      <td>10 Best Foods for You</td>\n",
       "      <td>This help eating healthy exercise regular basis</td>\n",
       "      <td>Positive</td>\n",
       "      <td>0.25</td>\n",
       "      <td>0.288462</td>\n",
       "      <td>0.6597</td>\n",
       "    </tr>\n",
       "    <tr>\n",
       "      <th>3</th>\n",
       "      <td>10 Best Foods for You</td>\n",
       "      <td>Works great especially going grocery store</td>\n",
       "      <td>Positive</td>\n",
       "      <td>0.40</td>\n",
       "      <td>0.875000</td>\n",
       "      <td>0.6249</td>\n",
       "    </tr>\n",
       "    <tr>\n",
       "      <th>4</th>\n",
       "      <td>10 Best Foods for You</td>\n",
       "      <td>Best idea us</td>\n",
       "      <td>Positive</td>\n",
       "      <td>1.00</td>\n",
       "      <td>0.300000</td>\n",
       "      <td>0.6369</td>\n",
       "    </tr>\n",
       "    <tr>\n",
       "      <th>5</th>\n",
       "      <td>10 Best Foods for You</td>\n",
       "      <td>Best way</td>\n",
       "      <td>Positive</td>\n",
       "      <td>1.00</td>\n",
       "      <td>0.300000</td>\n",
       "      <td>0.6369</td>\n",
       "    </tr>\n",
       "  </tbody>\n",
       "</table>\n",
       "</div>"
      ],
      "text/plain": [
       "                     App                                  Translated_Review  \\\n",
       "0  10 Best Foods for You  I like eat delicious food. That's I'm cooking ...   \n",
       "1  10 Best Foods for You    This help eating healthy exercise regular basis   \n",
       "3  10 Best Foods for You         Works great especially going grocery store   \n",
       "4  10 Best Foods for You                                       Best idea us   \n",
       "5  10 Best Foods for You                                           Best way   \n",
       "\n",
       "  Sentiment  Sentiment_Polarity  Sentiment_Subjectivity  Sentiment_Score  \n",
       "0  Positive                1.00                0.533333           0.9531  \n",
       "1  Positive                0.25                0.288462           0.6597  \n",
       "3  Positive                0.40                0.875000           0.6249  \n",
       "4  Positive                1.00                0.300000           0.6369  \n",
       "5  Positive                1.00                0.300000           0.6369  "
      ]
     },
     "execution_count": 52,
     "metadata": {},
     "output_type": "execute_result"
    }
   ],
   "source": [
    "reviews_df.head()"
   ]
  },
  {
   "cell_type": "code",
   "execution_count": 53,
   "id": "7617058c",
   "metadata": {},
   "outputs": [],
   "source": [
    "apps_df['Last Updated']=pd.to_datetime(apps_df['Last Updated'],errors='coerce')"
   ]
  },
  {
   "cell_type": "code",
   "execution_count": 54,
   "id": "2b33dca3",
   "metadata": {},
   "outputs": [],
   "source": [
    "apps_df['Year']=apps_df['Last Updated'].dt.year"
   ]
  },
  {
   "cell_type": "code",
   "execution_count": 55,
   "id": "fc66c007",
   "metadata": {},
   "outputs": [
    {
     "data": {
      "text/html": [
       "<div>\n",
       "<style scoped>\n",
       "    .dataframe tbody tr th:only-of-type {\n",
       "        vertical-align: middle;\n",
       "    }\n",
       "\n",
       "    .dataframe tbody tr th {\n",
       "        vertical-align: top;\n",
       "    }\n",
       "\n",
       "    .dataframe thead th {\n",
       "        text-align: right;\n",
       "    }\n",
       "</style>\n",
       "<table border=\"1\" class=\"dataframe\">\n",
       "  <thead>\n",
       "    <tr style=\"text-align: right;\">\n",
       "      <th></th>\n",
       "      <th>App</th>\n",
       "      <th>Category</th>\n",
       "      <th>Rating</th>\n",
       "      <th>Reviews</th>\n",
       "      <th>Size</th>\n",
       "      <th>Installs</th>\n",
       "      <th>Type</th>\n",
       "      <th>Price</th>\n",
       "      <th>Content Rating</th>\n",
       "      <th>Genres</th>\n",
       "      <th>Last Updated</th>\n",
       "      <th>Current Ver</th>\n",
       "      <th>Android Ver</th>\n",
       "      <th>Log_Installs</th>\n",
       "      <th>Log_Reviews</th>\n",
       "      <th>Rating_Group</th>\n",
       "      <th>Revenue</th>\n",
       "      <th>Year</th>\n",
       "    </tr>\n",
       "  </thead>\n",
       "  <tbody>\n",
       "    <tr>\n",
       "      <th>0</th>\n",
       "      <td>Photo Editor &amp; Candy Camera &amp; Grid &amp; ScrapBook</td>\n",
       "      <td>ART_AND_DESIGN</td>\n",
       "      <td>4.1</td>\n",
       "      <td>159</td>\n",
       "      <td>19.0</td>\n",
       "      <td>10000</td>\n",
       "      <td>Free</td>\n",
       "      <td>0.0</td>\n",
       "      <td>Everyone</td>\n",
       "      <td>Art &amp; Design</td>\n",
       "      <td>2018-01-07</td>\n",
       "      <td>1.0.0</td>\n",
       "      <td>4.0.3 and up</td>\n",
       "      <td>9.210340</td>\n",
       "      <td>5.068904</td>\n",
       "      <td>Top rated app</td>\n",
       "      <td>0.0</td>\n",
       "      <td>2018</td>\n",
       "    </tr>\n",
       "    <tr>\n",
       "      <th>1</th>\n",
       "      <td>Coloring book moana</td>\n",
       "      <td>ART_AND_DESIGN</td>\n",
       "      <td>3.9</td>\n",
       "      <td>967</td>\n",
       "      <td>14.0</td>\n",
       "      <td>500000</td>\n",
       "      <td>Free</td>\n",
       "      <td>0.0</td>\n",
       "      <td>Everyone</td>\n",
       "      <td>Art &amp; Design;Pretend Play</td>\n",
       "      <td>2018-01-15</td>\n",
       "      <td>2.0.0</td>\n",
       "      <td>4.0.3 and up</td>\n",
       "      <td>13.122363</td>\n",
       "      <td>6.874198</td>\n",
       "      <td>Above average</td>\n",
       "      <td>0.0</td>\n",
       "      <td>2018</td>\n",
       "    </tr>\n",
       "    <tr>\n",
       "      <th>2</th>\n",
       "      <td>U Launcher Lite – FREE Live Cool Themes, Hide ...</td>\n",
       "      <td>ART_AND_DESIGN</td>\n",
       "      <td>4.7</td>\n",
       "      <td>87510</td>\n",
       "      <td>8.7</td>\n",
       "      <td>5000000</td>\n",
       "      <td>Free</td>\n",
       "      <td>0.0</td>\n",
       "      <td>Everyone</td>\n",
       "      <td>Art &amp; Design</td>\n",
       "      <td>2018-08-01</td>\n",
       "      <td>1.2.4</td>\n",
       "      <td>4.0.3 and up</td>\n",
       "      <td>15.424948</td>\n",
       "      <td>11.379508</td>\n",
       "      <td>Top rated app</td>\n",
       "      <td>0.0</td>\n",
       "      <td>2018</td>\n",
       "    </tr>\n",
       "    <tr>\n",
       "      <th>3</th>\n",
       "      <td>Sketch - Draw &amp; Paint</td>\n",
       "      <td>ART_AND_DESIGN</td>\n",
       "      <td>4.5</td>\n",
       "      <td>215644</td>\n",
       "      <td>25.0</td>\n",
       "      <td>50000000</td>\n",
       "      <td>Free</td>\n",
       "      <td>0.0</td>\n",
       "      <td>Teen</td>\n",
       "      <td>Art &amp; Design</td>\n",
       "      <td>2018-06-08</td>\n",
       "      <td>Varies with device</td>\n",
       "      <td>4.2 and up</td>\n",
       "      <td>17.727534</td>\n",
       "      <td>12.281384</td>\n",
       "      <td>Top rated app</td>\n",
       "      <td>0.0</td>\n",
       "      <td>2018</td>\n",
       "    </tr>\n",
       "    <tr>\n",
       "      <th>4</th>\n",
       "      <td>Pixel Draw - Number Art Coloring Book</td>\n",
       "      <td>ART_AND_DESIGN</td>\n",
       "      <td>4.3</td>\n",
       "      <td>967</td>\n",
       "      <td>2.8</td>\n",
       "      <td>100000</td>\n",
       "      <td>Free</td>\n",
       "      <td>0.0</td>\n",
       "      <td>Everyone</td>\n",
       "      <td>Art &amp; Design;Creativity</td>\n",
       "      <td>2018-06-20</td>\n",
       "      <td>1.1</td>\n",
       "      <td>4.4 and up</td>\n",
       "      <td>11.512925</td>\n",
       "      <td>6.874198</td>\n",
       "      <td>Top rated app</td>\n",
       "      <td>0.0</td>\n",
       "      <td>2018</td>\n",
       "    </tr>\n",
       "  </tbody>\n",
       "</table>\n",
       "</div>"
      ],
      "text/plain": [
       "                                                 App        Category  Rating  \\\n",
       "0     Photo Editor & Candy Camera & Grid & ScrapBook  ART_AND_DESIGN     4.1   \n",
       "1                                Coloring book moana  ART_AND_DESIGN     3.9   \n",
       "2  U Launcher Lite – FREE Live Cool Themes, Hide ...  ART_AND_DESIGN     4.7   \n",
       "3                              Sketch - Draw & Paint  ART_AND_DESIGN     4.5   \n",
       "4              Pixel Draw - Number Art Coloring Book  ART_AND_DESIGN     4.3   \n",
       "\n",
       "   Reviews  Size  Installs  Type  Price Content Rating  \\\n",
       "0      159  19.0     10000  Free    0.0       Everyone   \n",
       "1      967  14.0    500000  Free    0.0       Everyone   \n",
       "2    87510   8.7   5000000  Free    0.0       Everyone   \n",
       "3   215644  25.0  50000000  Free    0.0           Teen   \n",
       "4      967   2.8    100000  Free    0.0       Everyone   \n",
       "\n",
       "                      Genres Last Updated         Current Ver   Android Ver  \\\n",
       "0               Art & Design   2018-01-07               1.0.0  4.0.3 and up   \n",
       "1  Art & Design;Pretend Play   2018-01-15               2.0.0  4.0.3 and up   \n",
       "2               Art & Design   2018-08-01               1.2.4  4.0.3 and up   \n",
       "3               Art & Design   2018-06-08  Varies with device    4.2 and up   \n",
       "4    Art & Design;Creativity   2018-06-20                 1.1    4.4 and up   \n",
       "\n",
       "   Log_Installs  Log_Reviews   Rating_Group  Revenue  Year  \n",
       "0      9.210340     5.068904  Top rated app      0.0  2018  \n",
       "1     13.122363     6.874198  Above average      0.0  2018  \n",
       "2     15.424948    11.379508  Top rated app      0.0  2018  \n",
       "3     17.727534    12.281384  Top rated app      0.0  2018  \n",
       "4     11.512925     6.874198  Top rated app      0.0  2018  "
      ]
     },
     "execution_count": 55,
     "metadata": {},
     "output_type": "execute_result"
    }
   ],
   "source": [
    "apps_df.head()"
   ]
  },
  {
   "cell_type": "code",
   "execution_count": 56,
   "id": "d2ae7699",
   "metadata": {},
   "outputs": [],
   "source": [
    "import plotly.express as px"
   ]
  },
  {
   "cell_type": "code",
   "execution_count": 57,
   "id": "8b46d924",
   "metadata": {},
   "outputs": [],
   "source": [
    "import plotly.io as pio"
   ]
  },
  {
   "cell_type": "code",
   "execution_count": 58,
   "id": "f6a76617",
   "metadata": {},
   "outputs": [
    {
     "data": {
      "application/vnd.plotly.v1+json": {
       "config": {
        "plotlyServerURL": "https://plot.ly"
       },
       "data": [
        {
         "hovertemplate": "x=%{x}<br>y=%{y}<extra></extra>",
         "legendgroup": "",
         "marker": {
          "color": "#636efa",
          "pattern": {
           "shape": ""
          }
         },
         "name": "",
         "orientation": "v",
         "showlegend": false,
         "textposition": "auto",
         "type": "bar",
         "x": [
          "A",
          "B",
          "C"
         ],
         "xaxis": "x",
         "y": {
          "bdata": "AQMC",
          "dtype": "i1"
         },
         "yaxis": "y"
        }
       ],
       "layout": {
        "barmode": "relative",
        "legend": {
         "tracegroupgap": 0
        },
        "template": {
         "data": {
          "bar": [
           {
            "error_x": {
             "color": "#2a3f5f"
            },
            "error_y": {
             "color": "#2a3f5f"
            },
            "marker": {
             "line": {
              "color": "#E5ECF6",
              "width": 0.5
             },
             "pattern": {
              "fillmode": "overlay",
              "size": 10,
              "solidity": 0.2
             }
            },
            "type": "bar"
           }
          ],
          "barpolar": [
           {
            "marker": {
             "line": {
              "color": "#E5ECF6",
              "width": 0.5
             },
             "pattern": {
              "fillmode": "overlay",
              "size": 10,
              "solidity": 0.2
             }
            },
            "type": "barpolar"
           }
          ],
          "carpet": [
           {
            "aaxis": {
             "endlinecolor": "#2a3f5f",
             "gridcolor": "white",
             "linecolor": "white",
             "minorgridcolor": "white",
             "startlinecolor": "#2a3f5f"
            },
            "baxis": {
             "endlinecolor": "#2a3f5f",
             "gridcolor": "white",
             "linecolor": "white",
             "minorgridcolor": "white",
             "startlinecolor": "#2a3f5f"
            },
            "type": "carpet"
           }
          ],
          "choropleth": [
           {
            "colorbar": {
             "outlinewidth": 0,
             "ticks": ""
            },
            "type": "choropleth"
           }
          ],
          "contour": [
           {
            "colorbar": {
             "outlinewidth": 0,
             "ticks": ""
            },
            "colorscale": [
             [
              0,
              "#0d0887"
             ],
             [
              0.1111111111111111,
              "#46039f"
             ],
             [
              0.2222222222222222,
              "#7201a8"
             ],
             [
              0.3333333333333333,
              "#9c179e"
             ],
             [
              0.4444444444444444,
              "#bd3786"
             ],
             [
              0.5555555555555556,
              "#d8576b"
             ],
             [
              0.6666666666666666,
              "#ed7953"
             ],
             [
              0.7777777777777778,
              "#fb9f3a"
             ],
             [
              0.8888888888888888,
              "#fdca26"
             ],
             [
              1,
              "#f0f921"
             ]
            ],
            "type": "contour"
           }
          ],
          "contourcarpet": [
           {
            "colorbar": {
             "outlinewidth": 0,
             "ticks": ""
            },
            "type": "contourcarpet"
           }
          ],
          "heatmap": [
           {
            "colorbar": {
             "outlinewidth": 0,
             "ticks": ""
            },
            "colorscale": [
             [
              0,
              "#0d0887"
             ],
             [
              0.1111111111111111,
              "#46039f"
             ],
             [
              0.2222222222222222,
              "#7201a8"
             ],
             [
              0.3333333333333333,
              "#9c179e"
             ],
             [
              0.4444444444444444,
              "#bd3786"
             ],
             [
              0.5555555555555556,
              "#d8576b"
             ],
             [
              0.6666666666666666,
              "#ed7953"
             ],
             [
              0.7777777777777778,
              "#fb9f3a"
             ],
             [
              0.8888888888888888,
              "#fdca26"
             ],
             [
              1,
              "#f0f921"
             ]
            ],
            "type": "heatmap"
           }
          ],
          "histogram": [
           {
            "marker": {
             "pattern": {
              "fillmode": "overlay",
              "size": 10,
              "solidity": 0.2
             }
            },
            "type": "histogram"
           }
          ],
          "histogram2d": [
           {
            "colorbar": {
             "outlinewidth": 0,
             "ticks": ""
            },
            "colorscale": [
             [
              0,
              "#0d0887"
             ],
             [
              0.1111111111111111,
              "#46039f"
             ],
             [
              0.2222222222222222,
              "#7201a8"
             ],
             [
              0.3333333333333333,
              "#9c179e"
             ],
             [
              0.4444444444444444,
              "#bd3786"
             ],
             [
              0.5555555555555556,
              "#d8576b"
             ],
             [
              0.6666666666666666,
              "#ed7953"
             ],
             [
              0.7777777777777778,
              "#fb9f3a"
             ],
             [
              0.8888888888888888,
              "#fdca26"
             ],
             [
              1,
              "#f0f921"
             ]
            ],
            "type": "histogram2d"
           }
          ],
          "histogram2dcontour": [
           {
            "colorbar": {
             "outlinewidth": 0,
             "ticks": ""
            },
            "colorscale": [
             [
              0,
              "#0d0887"
             ],
             [
              0.1111111111111111,
              "#46039f"
             ],
             [
              0.2222222222222222,
              "#7201a8"
             ],
             [
              0.3333333333333333,
              "#9c179e"
             ],
             [
              0.4444444444444444,
              "#bd3786"
             ],
             [
              0.5555555555555556,
              "#d8576b"
             ],
             [
              0.6666666666666666,
              "#ed7953"
             ],
             [
              0.7777777777777778,
              "#fb9f3a"
             ],
             [
              0.8888888888888888,
              "#fdca26"
             ],
             [
              1,
              "#f0f921"
             ]
            ],
            "type": "histogram2dcontour"
           }
          ],
          "mesh3d": [
           {
            "colorbar": {
             "outlinewidth": 0,
             "ticks": ""
            },
            "type": "mesh3d"
           }
          ],
          "parcoords": [
           {
            "line": {
             "colorbar": {
              "outlinewidth": 0,
              "ticks": ""
             }
            },
            "type": "parcoords"
           }
          ],
          "pie": [
           {
            "automargin": true,
            "type": "pie"
           }
          ],
          "scatter": [
           {
            "fillpattern": {
             "fillmode": "overlay",
             "size": 10,
             "solidity": 0.2
            },
            "type": "scatter"
           }
          ],
          "scatter3d": [
           {
            "line": {
             "colorbar": {
              "outlinewidth": 0,
              "ticks": ""
             }
            },
            "marker": {
             "colorbar": {
              "outlinewidth": 0,
              "ticks": ""
             }
            },
            "type": "scatter3d"
           }
          ],
          "scattercarpet": [
           {
            "marker": {
             "colorbar": {
              "outlinewidth": 0,
              "ticks": ""
             }
            },
            "type": "scattercarpet"
           }
          ],
          "scattergeo": [
           {
            "marker": {
             "colorbar": {
              "outlinewidth": 0,
              "ticks": ""
             }
            },
            "type": "scattergeo"
           }
          ],
          "scattergl": [
           {
            "marker": {
             "colorbar": {
              "outlinewidth": 0,
              "ticks": ""
             }
            },
            "type": "scattergl"
           }
          ],
          "scattermap": [
           {
            "marker": {
             "colorbar": {
              "outlinewidth": 0,
              "ticks": ""
             }
            },
            "type": "scattermap"
           }
          ],
          "scattermapbox": [
           {
            "marker": {
             "colorbar": {
              "outlinewidth": 0,
              "ticks": ""
             }
            },
            "type": "scattermapbox"
           }
          ],
          "scatterpolar": [
           {
            "marker": {
             "colorbar": {
              "outlinewidth": 0,
              "ticks": ""
             }
            },
            "type": "scatterpolar"
           }
          ],
          "scatterpolargl": [
           {
            "marker": {
             "colorbar": {
              "outlinewidth": 0,
              "ticks": ""
             }
            },
            "type": "scatterpolargl"
           }
          ],
          "scatterternary": [
           {
            "marker": {
             "colorbar": {
              "outlinewidth": 0,
              "ticks": ""
             }
            },
            "type": "scatterternary"
           }
          ],
          "surface": [
           {
            "colorbar": {
             "outlinewidth": 0,
             "ticks": ""
            },
            "colorscale": [
             [
              0,
              "#0d0887"
             ],
             [
              0.1111111111111111,
              "#46039f"
             ],
             [
              0.2222222222222222,
              "#7201a8"
             ],
             [
              0.3333333333333333,
              "#9c179e"
             ],
             [
              0.4444444444444444,
              "#bd3786"
             ],
             [
              0.5555555555555556,
              "#d8576b"
             ],
             [
              0.6666666666666666,
              "#ed7953"
             ],
             [
              0.7777777777777778,
              "#fb9f3a"
             ],
             [
              0.8888888888888888,
              "#fdca26"
             ],
             [
              1,
              "#f0f921"
             ]
            ],
            "type": "surface"
           }
          ],
          "table": [
           {
            "cells": {
             "fill": {
              "color": "#EBF0F8"
             },
             "line": {
              "color": "white"
             }
            },
            "header": {
             "fill": {
              "color": "#C8D4E3"
             },
             "line": {
              "color": "white"
             }
            },
            "type": "table"
           }
          ]
         },
         "layout": {
          "annotationdefaults": {
           "arrowcolor": "#2a3f5f",
           "arrowhead": 0,
           "arrowwidth": 1
          },
          "autotypenumbers": "strict",
          "coloraxis": {
           "colorbar": {
            "outlinewidth": 0,
            "ticks": ""
           }
          },
          "colorscale": {
           "diverging": [
            [
             0,
             "#8e0152"
            ],
            [
             0.1,
             "#c51b7d"
            ],
            [
             0.2,
             "#de77ae"
            ],
            [
             0.3,
             "#f1b6da"
            ],
            [
             0.4,
             "#fde0ef"
            ],
            [
             0.5,
             "#f7f7f7"
            ],
            [
             0.6,
             "#e6f5d0"
            ],
            [
             0.7,
             "#b8e186"
            ],
            [
             0.8,
             "#7fbc41"
            ],
            [
             0.9,
             "#4d9221"
            ],
            [
             1,
             "#276419"
            ]
           ],
           "sequential": [
            [
             0,
             "#0d0887"
            ],
            [
             0.1111111111111111,
             "#46039f"
            ],
            [
             0.2222222222222222,
             "#7201a8"
            ],
            [
             0.3333333333333333,
             "#9c179e"
            ],
            [
             0.4444444444444444,
             "#bd3786"
            ],
            [
             0.5555555555555556,
             "#d8576b"
            ],
            [
             0.6666666666666666,
             "#ed7953"
            ],
            [
             0.7777777777777778,
             "#fb9f3a"
            ],
            [
             0.8888888888888888,
             "#fdca26"
            ],
            [
             1,
             "#f0f921"
            ]
           ],
           "sequentialminus": [
            [
             0,
             "#0d0887"
            ],
            [
             0.1111111111111111,
             "#46039f"
            ],
            [
             0.2222222222222222,
             "#7201a8"
            ],
            [
             0.3333333333333333,
             "#9c179e"
            ],
            [
             0.4444444444444444,
             "#bd3786"
            ],
            [
             0.5555555555555556,
             "#d8576b"
            ],
            [
             0.6666666666666666,
             "#ed7953"
            ],
            [
             0.7777777777777778,
             "#fb9f3a"
            ],
            [
             0.8888888888888888,
             "#fdca26"
            ],
            [
             1,
             "#f0f921"
            ]
           ]
          },
          "colorway": [
           "#636efa",
           "#EF553B",
           "#00cc96",
           "#ab63fa",
           "#FFA15A",
           "#19d3f3",
           "#FF6692",
           "#B6E880",
           "#FF97FF",
           "#FECB52"
          ],
          "font": {
           "color": "#2a3f5f"
          },
          "geo": {
           "bgcolor": "white",
           "lakecolor": "white",
           "landcolor": "#E5ECF6",
           "showlakes": true,
           "showland": true,
           "subunitcolor": "white"
          },
          "hoverlabel": {
           "align": "left"
          },
          "hovermode": "closest",
          "mapbox": {
           "style": "light"
          },
          "paper_bgcolor": "white",
          "plot_bgcolor": "#E5ECF6",
          "polar": {
           "angularaxis": {
            "gridcolor": "white",
            "linecolor": "white",
            "ticks": ""
           },
           "bgcolor": "#E5ECF6",
           "radialaxis": {
            "gridcolor": "white",
            "linecolor": "white",
            "ticks": ""
           }
          },
          "scene": {
           "xaxis": {
            "backgroundcolor": "#E5ECF6",
            "gridcolor": "white",
            "gridwidth": 2,
            "linecolor": "white",
            "showbackground": true,
            "ticks": "",
            "zerolinecolor": "white"
           },
           "yaxis": {
            "backgroundcolor": "#E5ECF6",
            "gridcolor": "white",
            "gridwidth": 2,
            "linecolor": "white",
            "showbackground": true,
            "ticks": "",
            "zerolinecolor": "white"
           },
           "zaxis": {
            "backgroundcolor": "#E5ECF6",
            "gridcolor": "white",
            "gridwidth": 2,
            "linecolor": "white",
            "showbackground": true,
            "ticks": "",
            "zerolinecolor": "white"
           }
          },
          "shapedefaults": {
           "line": {
            "color": "#2a3f5f"
           }
          },
          "ternary": {
           "aaxis": {
            "gridcolor": "white",
            "linecolor": "white",
            "ticks": ""
           },
           "baxis": {
            "gridcolor": "white",
            "linecolor": "white",
            "ticks": ""
           },
           "bgcolor": "#E5ECF6",
           "caxis": {
            "gridcolor": "white",
            "linecolor": "white",
            "ticks": ""
           }
          },
          "title": {
           "x": 0.05
          },
          "xaxis": {
           "automargin": true,
           "gridcolor": "white",
           "linecolor": "white",
           "ticks": "",
           "title": {
            "standoff": 15
           },
           "zerolinecolor": "white",
           "zerolinewidth": 2
          },
          "yaxis": {
           "automargin": true,
           "gridcolor": "white",
           "linecolor": "white",
           "ticks": "",
           "title": {
            "standoff": 15
           },
           "zerolinecolor": "white",
           "zerolinewidth": 2
          }
         }
        },
        "title": {
         "text": "Sample Bar Chart"
        },
        "xaxis": {
         "anchor": "y",
         "domain": [
          0,
          1
         ],
         "title": {
          "text": "x"
         }
        },
        "yaxis": {
         "anchor": "x",
         "domain": [
          0,
          1
         ],
         "title": {
          "text": "y"
         }
        }
       }
      }
     },
     "metadata": {},
     "output_type": "display_data"
    }
   ],
   "source": [
    "fig = px.bar(x=[\"A\", \"B\", \"C\"], y=[1, 3, 2], title=\"Sample Bar Chart\")\n",
    "fig.show()\n"
   ]
  },
  {
   "cell_type": "code",
   "execution_count": 59,
   "id": "07842def",
   "metadata": {},
   "outputs": [],
   "source": [
    "fig.write_html(\"Interactive_plot.html\")"
   ]
  },
  {
   "cell_type": "code",
   "execution_count": 60,
   "id": "a30c5d5e",
   "metadata": {},
   "outputs": [],
   "source": [
    "#static visualization : fixed images or plots non interactive\n"
   ]
  },
  {
   "cell_type": "code",
   "execution_count": 61,
   "id": "b3473bc0",
   "metadata": {},
   "outputs": [],
   "source": [
    "import os\n",
    "import plotly.io as pio\n",
    "\n",
    "plot_containers = \"\"  # Initialize this at the top of your notebook or script\n",
    "\n",
    "html_files_path = \"./\"\n",
    "\n",
    "# Ensure the directory exists\n",
    "if not os.path.exists(html_files_path):\n",
    "    os.makedirs(html_files_path)\n",
    "\n",
    "# Save Plotly figure as HTML and generate dashboard snippet\n",
    "def save_plot_as_html(fig, filename, insight):\n",
    "    global plot_containers\n",
    "    filepath = os.path.join(html_files_path, filename)\n",
    "\n",
    "    # Convert Plotly figure to HTML snippet\n",
    "    html_content = pio.to_html(fig, full_html=False, include_plotlyjs='inline')\n",
    "\n",
    "    # Append chart HTML + insight to the dashboard container\n",
    "    plot_containers += f\"\"\"\n",
    "    <div class=\"plot-container\" id=\"{filename}\" onclick=\"openPlot('{filename}')\">\n",
    "        <div class=\"plot\">{html_content}</div>\n",
    "        <div class=\"insights\">{insight}</div>\n",
    "    </div>\n",
    "    \"\"\"\n",
    "\n",
    "    # Save the chart to a separate HTML file\n",
    "    fig.write_html(filepath, full_html=False, include_plotlyjs='inline')"
   ]
  },
  {
   "cell_type": "code",
   "execution_count": 62,
   "id": "028f371f",
   "metadata": {},
   "outputs": [],
   "source": [
    "plot_width=400\n",
    "plot_height=300\n",
    "plot_bg_color='black'\n",
    "text_color='white'\n",
    "title_font={'size':16}\n",
    "axis_font={'size':12}"
   ]
  },
  {
   "cell_type": "code",
   "execution_count": 63,
   "id": "c601b927",
   "metadata": {},
   "outputs": [],
   "source": [
    "# 📊 Figure 1: Top 10 App Categories on Play Store\n",
    "import plotly.express as px\n",
    "\n",
    "# Get top 10 categories by count\n",
    "category_counts = apps_df['Category'].value_counts().nlargest(10)\n",
    "\n",
    "# Create bar chart\n",
    "fig1 = px.bar(\n",
    "    x=category_counts.index,\n",
    "    y=category_counts.values,\n",
    "    labels={'x': 'Category', 'y': 'Count'},\n",
    "    title='Top Categories on Play Store',\n",
    "    color=category_counts.index,\n",
    "    color_discrete_sequence=px.colors.sequential.Plasma,\n",
    "    width=400,\n",
    "    height=300\n",
    ")\n",
    "\n",
    "# Update layout for dark theme\n",
    "fig1.update_layout(\n",
    "    plot_bgcolor='black',\n",
    "    paper_bgcolor='black',\n",
    "    font_color='white',\n",
    "    title_font=dict(size=16),\n",
    "    xaxis=dict(title_font=dict(size=12)),\n",
    "    yaxis=dict(title_font=dict(size=12)),\n",
    "    margin=dict(l=10, r=10, t=30, b=10)\n",
    ")\n",
    "\n",
    "# Optional: Add white outline to bars\n",
    "# fig1.update_traces(marker=dict(line=dict(color='white', width=1)))\n",
    "\n",
    "# Save chart as HTML with description\n",
    "save_plot_as_html(\n",
    "    fig1,\n",
    "    \"Category Graph 1.html\",\n",
    "    \"The top categories on the Play Store are dominated by tools, entertainment, and productivity apps.\"\n",
    ")"
   ]
  },
  {
   "cell_type": "code",
   "execution_count": 64,
   "id": "83c40848",
   "metadata": {},
   "outputs": [],
   "source": [
    "#Figure 2\n",
    "type_counts=apps_df['Type'].value_counts()\n",
    "fig2=px.pie(\n",
    "    values=type_counts.values,\n",
    "    names=type_counts.index,\n",
    "    title='App Type Distribution',\n",
    "    color_discrete_sequence=px.colors.sequential.RdBu,\n",
    "    width=400,\n",
    "    height=300\n",
    ")\n",
    "fig2.update_layout(\n",
    "    plot_bgcolor='black',\n",
    "    paper_bgcolor='black',\n",
    "    font_color='white',\n",
    "    title_font={'size':16},\n",
    "    margin=dict(l=10,r=10,t=30,b=10)\n",
    ")\n",
    "#fig1.update_traces(marker=dict(pattern=dict(line=dict(color='white',width=1))))\n",
    "save_plot_as_html(fig2,\"Type Graph 2.html\",\"Most apps on the Playstore are free, indicating a strategy to attract users first and monetize through ads or in app purchases\")\n",
    "\n",
    "\n",
    "     "
   ]
  },
  {
   "cell_type": "code",
   "execution_count": 65,
   "id": "3f4c5fe2",
   "metadata": {},
   "outputs": [],
   "source": [
    "import pandas as pd\n",
    "import numpy as np\n",
    "import plotly.express as px\n",
    "import plotly.io as pio\n",
    "from sklearn.model_selection import train_test_split\n",
    "from sklearn.ensemble import RandomForestRegressor\n",
    "from sklearn.metrics import mean_squared_error, r2_score\n",
    "from nltk.sentiment.vader import SentimentIntensityAnalyzer\n",
    "import nltk\n",
    "import webbrowser\n",
    "import os"
   ]
  },
  {
   "cell_type": "code",
   "execution_count": 66,
   "id": "8cf50754",
   "metadata": {},
   "outputs": [],
   "source": [
    "#Figure 3\n",
    "import plotly.express as px\n",
    "fig3=px.histogram(\n",
    "    apps_df,\n",
    "    x='Rating',\n",
    "    nbins=20,\n",
    "    title='Rating Distribution',\n",
    "    color_discrete_sequence=['#636EFA'],\n",
    "    width=400,\n",
    "    height=300\n",
    ")\n",
    "fig3.update_layout(\n",
    "    plot_bgcolor='black',\n",
    "    paper_bgcolor='black',\n",
    "    font_color='white',\n",
    "    title_font={'size':16},\n",
    "    xaxis=dict(title_font={'size':12}),\n",
    "    yaxis=dict(title_font={'size':12}),\n",
    "    margin=dict(l=10,r=10,t=30,b=10)\n",
    ")\n",
    "#fig1.update_traces(marker=dict(pattern=dict(line=dict(color='white',width=1))))\n",
    "save_plot_as_html(fig3,\"Rating Graph 3.html\",\"Ratings are skewed towards higher values, suggesting that most apps are rated favorably by users\")\n",
    "\n",
    "\n",
    "     "
   ]
  },
  {
   "cell_type": "code",
   "execution_count": 67,
   "id": "e956caca",
   "metadata": {},
   "outputs": [],
   "source": [
    "#Figure 4\n",
    "sentiment_counts=reviews_df['Sentiment_Score'].value_counts()\n",
    "fig4=px.bar(\n",
    "    x=sentiment_counts.index,\n",
    "    y=sentiment_counts.values,\n",
    "    labels={'x':'Sentiment Score','y':'Count'},\n",
    "    title='Sentiment Distribution',\n",
    "    color=sentiment_counts.index,\n",
    "    color_discrete_sequence=px.colors.sequential.RdPu,\n",
    "    width=400,\n",
    "    height=300\n",
    ")\n",
    "fig4.update_layout(\n",
    "    plot_bgcolor='black',\n",
    "    paper_bgcolor='black',\n",
    "    font_color='white',\n",
    "    title_font={'size':16},\n",
    "    xaxis=dict(title_font={'size':12}),\n",
    "    yaxis=dict(title_font={'size':12}),\n",
    "    margin=dict(l=10,r=10,t=30,b=10)\n",
    ")\n",
    "#fig1.update_traces(marker=dict(pattern=dict(line=dict(color='white',width=1))))\n",
    "save_plot_as_html(fig4,\"Sentiment Graph 4.html\",\"Sentiments in reviews show a mix of positive and negative feedback, with a slight lean towards positive sentiments\")\n",
    "\n",
    "\n",
    "     "
   ]
  },
  {
   "cell_type": "code",
   "execution_count": 68,
   "id": "4967a1f3",
   "metadata": {},
   "outputs": [],
   "source": [
    "#Figure 5\n",
    "installs_by_category=apps_df.groupby('Category')['Installs'].sum().nlargest(10)\n",
    "fig5=px.bar(\n",
    "    x=installs_by_category.index,\n",
    "    y=installs_by_category.values,\n",
    "    orientation='h',\n",
    "    labels={'x':'Installs','y':'Category'},\n",
    "    title='Installs by Category',\n",
    "    color=installs_by_category.index,\n",
    "    color_discrete_sequence=px.colors.sequential.Blues,\n",
    "    width=400,\n",
    "    height=300\n",
    ")\n",
    "fig5.update_layout(\n",
    "    plot_bgcolor='black',\n",
    "    paper_bgcolor='black',\n",
    "    font_color='white',\n",
    "    title_font={'size':16},\n",
    "    xaxis=dict(title_font={'size':12}),\n",
    "    yaxis=dict(title_font={'size':12}),\n",
    "    margin=dict(l=10,r=10,t=30,b=10)\n",
    ")\n",
    "#fig1.update_traces(marker=dict(pattern=dict(line=dict(color='white',width=1))))\n",
    "save_plot_as_html(fig5,\"Installs Graph 5.html\",\"The categories with the most installs are social and communication apps, reflecting their broad appeal and daily usage\")\n",
    "\n",
    "\n",
    "     "
   ]
  },
  {
   "cell_type": "code",
   "execution_count": 69,
   "id": "32600def",
   "metadata": {},
   "outputs": [],
   "source": [
    "#figure 6 - line plot\n",
    "# Updates Per Year Plot\n",
    "updates_per_year = apps_df['Last Updated'].dt.year.value_counts().sort_index()\n",
    "fig6 = px.line(\n",
    "    x=updates_per_year.index,\n",
    "    y=updates_per_year.values,\n",
    "    labels={'x': 'Year', 'y': 'Number of Updates'},\n",
    "    title='Number of Updates Over the Years',\n",
    "    color_discrete_sequence=['#AB63FA'],\n",
    "    width=plot_width,\n",
    "    height=plot_height\n",
    ")\n",
    "fig6.update_layout(\n",
    "    plot_bgcolor=plot_bg_color,\n",
    "    paper_bgcolor=plot_bg_color,\n",
    "    font_color=text_color,\n",
    "    title_font=title_font,\n",
    "    xaxis=dict(title_font=axis_font),\n",
    "    yaxis=dict(title_font=axis_font),\n",
    "    margin=dict(l=10, r=10, t=30, b=10)\n",
    ")\n",
    "save_plot_as_html(fig6, \"Updates Graph 6.html\", \"Updates have been increasing over the years, showing that developers are actively maintaining and improving their apps.\")\n",
    "\n",
    "\n",
    "     "
   ]
  },
  {
   "cell_type": "code",
   "execution_count": 70,
   "id": "469ae873",
   "metadata": {},
   "outputs": [],
   "source": [
    "# Figure 7: Revenue by Category\n",
    "#Figure 7\n",
    "revenue_by_category=apps_df.groupby('Category')['Revenue'].sum().nlargest(10)\n",
    "fig7=px.bar(\n",
    "    x=installs_by_category.index,\n",
    "    y=installs_by_category.values,\n",
    "    labels={'x':'Category','y':'Revenue'},\n",
    "    title='Revenue by Category',\n",
    "    color=installs_by_category.index,\n",
    "    color_discrete_sequence=px.colors.sequential.Greens,\n",
    "    width=400,\n",
    "    height=300\n",
    ")\n",
    "fig7.update_layout(\n",
    "    plot_bgcolor='black',\n",
    "    paper_bgcolor='black',\n",
    "    font_color='white',\n",
    "    title_font={'size':16},\n",
    "    xaxis=dict(title_font={'size':12}),\n",
    "    yaxis=dict(title_font={'size':12}),\n",
    "    margin=dict(l=10,r=10,t=30,b=10)\n",
    ")\n",
    "#fig1.update_traces(marker=dict(pattern=dict(line=dict(color='white',width=1))))\n",
    "save_plot_as_html(fig7,\"Revenue Graph 7.html\",\"Categories such as Business and Productivity lead in revenue generation, indicating their monetization potential\")\n",
    "\n",
    "\n",
    "     "
   ]
  },
  {
   "cell_type": "code",
   "execution_count": 71,
   "id": "276f7fd5",
   "metadata": {},
   "outputs": [],
   "source": [
    "#Figure 8\n",
    "genre_counts=apps_df['Genres'].str.split(';',expand=True).stack().value_counts().nlargest(10)\n",
    "fig8=px.bar(\n",
    "    x=genre_counts.index,\n",
    "    y=genre_counts.values,\n",
    "    labels={'x':'Genre','y':'Count'},\n",
    "    title='Top Genres',\n",
    "    color=installs_by_category.index,\n",
    "    color_discrete_sequence=px.colors.sequential.OrRd,\n",
    "    width=400,\n",
    "    height=300\n",
    ")\n",
    "fig8.update_layout(\n",
    "    plot_bgcolor='black',\n",
    "    paper_bgcolor='black',\n",
    "    font_color='white',\n",
    "    title_font={'size':16},\n",
    "    xaxis=dict(title_font={'size':12}),\n",
    "    yaxis=dict(title_font={'size':12}),\n",
    "    margin=dict(l=10,r=10,t=30,b=10)\n",
    ")\n",
    "#fig1.update_traces(marker=dict(pattern=dict(line=dict(color='white',width=1))))\n",
    "save_plot_as_html(fig8,\"Genre Graph 8.html\",\"Action and Casual genres are the most common, reflecting users' preference for engaging and easy-to-play games\")\n",
    "\n",
    "\n",
    "     "
   ]
  },
  {
   "cell_type": "code",
   "execution_count": 72,
   "id": "e9c650aa",
   "metadata": {},
   "outputs": [],
   "source": [
    "#Figure 9\n",
    "fig9=px.scatter(\n",
    "    apps_df,\n",
    "    x='Last Updated',\n",
    "    y='Rating',\n",
    "    color='Type',\n",
    "    title='Impact of Last Update on Rating',\n",
    "    color_discrete_sequence=px.colors.qualitative.Vivid,\n",
    "    width=400,\n",
    "    height=300\n",
    ")\n",
    "fig9.update_layout(\n",
    "    plot_bgcolor='black',\n",
    "    paper_bgcolor='black',\n",
    "    font_color='white',\n",
    "    title_font={'size':16},\n",
    "    xaxis=dict(title_font={'size':12}),\n",
    "    yaxis=dict(title_font={'size':12}),\n",
    "    margin=dict(l=10,r=10,t=30,b=10)\n",
    ")\n",
    "#fig1.update_traces(marker=dict(pattern=dict(line=dict(color='white',width=1))))\n",
    "save_plot_as_html(fig9,\"Update Graph 9.html\",\"The Scatter Plot shows a weak correlation between the last update and ratings, suggesting that more frequent updates dont always result in better ratings.\")\n",
    "\n",
    "\n",
    "     "
   ]
  },
  {
   "cell_type": "code",
   "execution_count": 73,
   "id": "a7370548",
   "metadata": {},
   "outputs": [],
   "source": [
    "#Figure 10 - box plot\n",
    "fig10=px.box(\n",
    "    apps_df,\n",
    "    x='Type',\n",
    "    y='Rating',\n",
    "    color='Type',\n",
    "    title='Rating for Paid vs Free Apps',\n",
    "    color_discrete_sequence=px.colors.qualitative.Pastel,\n",
    "    width=400,\n",
    "    height=300\n",
    ")\n",
    "fig10.update_layout(\n",
    "    plot_bgcolor='black',\n",
    "    paper_bgcolor='black',\n",
    "    font_color='white',\n",
    "    title_font={'size':16},\n",
    "    xaxis=dict(title_font={'size':12}),\n",
    "    yaxis=dict(title_font={'size':12}),\n",
    "    margin=dict(l=10,r=10,t=30,b=10)\n",
    ")\n",
    "#fig1.update_traces(marker=dict(pattern=dict(line=dict(color='white',width=1))))\n",
    "save_plot_as_html(fig10,\"Paid Free Graph 10.html\",\"Paid apps generally have higher ratings compared to free apps, suggesting that users expect higher quality from apps they pay for\")\n",
    "\n",
    "\n",
    "     "
   ]
  },
  {
   "cell_type": "code",
   "execution_count": 74,
   "id": "a0fedb25",
   "metadata": {},
   "outputs": [],
   "source": [
    "plot_containers_split=plot_containers.split('</div>')\n"
   ]
  },
  {
   "cell_type": "code",
   "execution_count": 75,
   "id": "87935158",
   "metadata": {},
   "outputs": [],
   "source": [
    "if len(plot_containers_split) > 1:\n",
    "    final_plot = plot_containers_split[-2]+'</div>'\n",
    "else:\n",
    "    final_plot=plot_containers"
   ]
  },
  {
   "cell_type": "code",
   "execution_count": 76,
   "id": "6076eaa3",
   "metadata": {},
   "outputs": [],
   "source": [
    "dashboard_html = \"\"\"\n",
    "<!DOCTYPE html>\n",
    "<html lang=\"en\">\n",
    "<head>\n",
    "    <meta charset=\"UTF-8\">\n",
    "    <meta name=\"viewport\" content=\"width=device-width, initial-scale=1.0\">\n",
    "    <title>Google Play Store Review Analytics</title>\n",
    "    <style>\n",
    "        body {{\n",
    "            font-family: 'Segoe UI', Tahoma, Geneva, Verdana, sans-serif;\n",
    "            background-color: #121212;\n",
    "            color: #e0e0e0;\n",
    "            margin: 0;\n",
    "            padding: 0;\n",
    "        }}\n",
    "        .header {{\n",
    "            display: flex;\n",
    "            flex-wrap: wrap;\n",
    "            justify-content: center;\n",
    "            align-items: center;\n",
    "            padding: 20px;\n",
    "            background-color: #1f1f1f;\n",
    "            gap: 15px;\n",
    "        }}\n",
    "        .header img {{\n",
    "            height: 50px;\n",
    "        }}\n",
    "        h1 {{\n",
    "            font-size: 24px;\n",
    "            text-align: center;\n",
    "        }}\n",
    "        .container {{\n",
    "            display: grid;\n",
    "            grid-template-columns: repeat(auto-fit, minmax(400px, 1fr));\n",
    "            gap: 20px;\n",
    "            padding: 30px;\n",
    "        }}\n",
    "        .plot-container {{\n",
    "            background-color: #222;\n",
    "            border: 1px solid #444;\n",
    "            border-radius: 12px;\n",
    "            overflow: hidden;\n",
    "            padding: 10px;\n",
    "            position: relative;\n",
    "            transition: transform 0.3s ease, box-shadow 0.3s ease;\n",
    "            cursor: pointer;\n",
    "            width: {plot_width}px;\n",
    "            height: {plot_height}px;\n",
    "        }}\n",
    "        .plot-container:hover {{\n",
    "            transform: scale(1.02);\n",
    "            box-shadow: 0 0 15px rgba(255, 255, 255, 0.1);\n",
    "        }}\n",
    "        .insights {{\n",
    "            display: none;\n",
    "            position: absolute;\n",
    "            bottom: 10px;\n",
    "            left: 10px;\n",
    "            background-color: rgba(0, 0, 0, 0.7);\n",
    "            padding: 8px 12px;\n",
    "            border-radius: 6px;\n",
    "            font-size: 14px;\n",
    "        }}\n",
    "        .plot-container:hover .insights {{\n",
    "            display: block;\n",
    "        }}\n",
    "        @media screen and (max-width: 600px) {{\n",
    "            h1 {{\n",
    "                font-size: 18px;\n",
    "            }}\n",
    "        }}\n",
    "    </style>\n",
    "    <script>\n",
    "        function openPlot(filename) {{\n",
    "            window.open(filename, '_blank');\n",
    "        }}\n",
    "    </script>\n",
    "</head>\n",
    "<body>\n",
    "    <div class=\"header\">\n",
    "        <img src=\"https://upload.wikimedia.org/wikipedia/commons/thumb/4/4a/Logo_2013_Google.png/800px-Logo_2013_Google.png\" alt=\"Google Logo\">\n",
    "        <h1>Google Play Store Reviews Analytics</h1>\n",
    "        <img src=\"https://upload.wikimedia.org/wikipedia/commons/thumb/7/78/Google_Play_Store_badge_EN.svg/1024px-Google_Play_Store_badge_EN.svg.png\" alt=\"Play Store Logo\">\n",
    "    </div>\n",
    "    <div class=\"container\">\n",
    "        {plots}\n",
    "    </div>\n",
    "</body>\n",
    "</html>\n",
    "\"\"\"\n"
   ]
  },
  {
   "cell_type": "code",
   "execution_count": 77,
   "id": "290015c5",
   "metadata": {},
   "outputs": [],
   "source": [
    "final_html = dashboard_html.format(plots = plot_containers, plot_width = plot_width, plot_height = plot_height)"
   ]
  },
  {
   "cell_type": "code",
   "execution_count": 78,
   "id": "adc7a892",
   "metadata": {},
   "outputs": [],
   "source": [
    "dashboard_path = \"dashboard.html\"  # or you can give full path like \"outputs/dashboard.html\"\n",
    "\n",
    "with open(dashboard_path, \"w\", encoding=\"utf-8\") as f:\n",
    "    f.write(final_html)\n"
   ]
  },
  {
   "cell_type": "code",
   "execution_count": 79,
   "id": "34c3d92b",
   "metadata": {},
   "outputs": [
    {
     "data": {
      "text/plain": [
       "True"
      ]
     },
     "execution_count": 79,
     "metadata": {},
     "output_type": "execute_result"
    }
   ],
   "source": [
    "webbrowser.open('file://'+os.path.realpath(dashboard_path))"
   ]
  },
  {
   "cell_type": "code",
   "execution_count": 80,
   "id": "d757d023",
   "metadata": {},
   "outputs": [],
   "source": [
    "#INTERNSHIP TASKS"
   ]
  },
  {
   "cell_type": "code",
   "execution_count": 81,
   "id": "e2bbd365",
   "metadata": {},
   "outputs": [
    {
     "name": "stdout",
     "output_type": "stream",
     "text": [
      "Collecting wordcloud\n",
      "  Downloading wordcloud-1.9.4-cp311-cp311-win_amd64.whl.metadata (3.5 kB)\n",
      "Requirement already satisfied: matplotlib in c:\\users\\atharva\\appdata\\local\\packages\\pythonsoftwarefoundation.python.3.11_qbz5n2kfra8p0\\localcache\\local-packages\\python311\\site-packages (3.10.1)\n",
      "Requirement already satisfied: pandas in c:\\users\\atharva\\appdata\\local\\packages\\pythonsoftwarefoundation.python.3.11_qbz5n2kfra8p0\\localcache\\local-packages\\python311\\site-packages (2.2.3)\n",
      "Requirement already satisfied: nltk in c:\\users\\atharva\\appdata\\local\\packages\\pythonsoftwarefoundation.python.3.11_qbz5n2kfra8p0\\localcache\\local-packages\\python311\\site-packages (3.9.1)\n",
      "Requirement already satisfied: numpy>=1.6.1 in c:\\users\\atharva\\appdata\\local\\packages\\pythonsoftwarefoundation.python.3.11_qbz5n2kfra8p0\\localcache\\local-packages\\python311\\site-packages (from wordcloud) (2.2.5)\n",
      "Requirement already satisfied: pillow in c:\\users\\atharva\\appdata\\local\\packages\\pythonsoftwarefoundation.python.3.11_qbz5n2kfra8p0\\localcache\\local-packages\\python311\\site-packages (from wordcloud) (11.2.1)\n",
      "Requirement already satisfied: contourpy>=1.0.1 in c:\\users\\atharva\\appdata\\local\\packages\\pythonsoftwarefoundation.python.3.11_qbz5n2kfra8p0\\localcache\\local-packages\\python311\\site-packages (from matplotlib) (1.3.2)\n",
      "Requirement already satisfied: cycler>=0.10 in c:\\users\\atharva\\appdata\\local\\packages\\pythonsoftwarefoundation.python.3.11_qbz5n2kfra8p0\\localcache\\local-packages\\python311\\site-packages (from matplotlib) (0.12.1)\n",
      "Requirement already satisfied: fonttools>=4.22.0 in c:\\users\\atharva\\appdata\\local\\packages\\pythonsoftwarefoundation.python.3.11_qbz5n2kfra8p0\\localcache\\local-packages\\python311\\site-packages (from matplotlib) (4.57.0)\n",
      "Requirement already satisfied: kiwisolver>=1.3.1 in c:\\users\\atharva\\appdata\\local\\packages\\pythonsoftwarefoundation.python.3.11_qbz5n2kfra8p0\\localcache\\local-packages\\python311\\site-packages (from matplotlib) (1.4.8)\n",
      "Requirement already satisfied: packaging>=20.0 in c:\\users\\atharva\\appdata\\local\\packages\\pythonsoftwarefoundation.python.3.11_qbz5n2kfra8p0\\localcache\\local-packages\\python311\\site-packages (from matplotlib) (24.2)\n",
      "Requirement already satisfied: pyparsing>=2.3.1 in c:\\users\\atharva\\appdata\\local\\packages\\pythonsoftwarefoundation.python.3.11_qbz5n2kfra8p0\\localcache\\local-packages\\python311\\site-packages (from matplotlib) (3.2.3)\n",
      "Requirement already satisfied: python-dateutil>=2.7 in c:\\users\\atharva\\appdata\\local\\packages\\pythonsoftwarefoundation.python.3.11_qbz5n2kfra8p0\\localcache\\local-packages\\python311\\site-packages (from matplotlib) (2.9.0.post0)\n",
      "Requirement already satisfied: pytz>=2020.1 in c:\\users\\atharva\\appdata\\local\\packages\\pythonsoftwarefoundation.python.3.11_qbz5n2kfra8p0\\localcache\\local-packages\\python311\\site-packages (from pandas) (2025.2)\n",
      "Requirement already satisfied: tzdata>=2022.7 in c:\\users\\atharva\\appdata\\local\\packages\\pythonsoftwarefoundation.python.3.11_qbz5n2kfra8p0\\localcache\\local-packages\\python311\\site-packages (from pandas) (2025.2)\n",
      "Requirement already satisfied: click in c:\\users\\atharva\\appdata\\local\\packages\\pythonsoftwarefoundation.python.3.11_qbz5n2kfra8p0\\localcache\\local-packages\\python311\\site-packages (from nltk) (8.1.8)\n",
      "Requirement already satisfied: joblib in c:\\users\\atharva\\appdata\\local\\packages\\pythonsoftwarefoundation.python.3.11_qbz5n2kfra8p0\\localcache\\local-packages\\python311\\site-packages (from nltk) (1.4.2)\n",
      "Requirement already satisfied: regex>=2021.8.3 in c:\\users\\atharva\\appdata\\local\\packages\\pythonsoftwarefoundation.python.3.11_qbz5n2kfra8p0\\localcache\\local-packages\\python311\\site-packages (from nltk) (2024.11.6)\n",
      "Requirement already satisfied: tqdm in c:\\users\\atharva\\appdata\\local\\packages\\pythonsoftwarefoundation.python.3.11_qbz5n2kfra8p0\\localcache\\local-packages\\python311\\site-packages (from nltk) (4.67.1)\n",
      "Requirement already satisfied: six>=1.5 in c:\\users\\atharva\\appdata\\local\\packages\\pythonsoftwarefoundation.python.3.11_qbz5n2kfra8p0\\localcache\\local-packages\\python311\\site-packages (from python-dateutil>=2.7->matplotlib) (1.17.0)\n",
      "Requirement already satisfied: colorama in c:\\users\\atharva\\appdata\\local\\packages\\pythonsoftwarefoundation.python.3.11_qbz5n2kfra8p0\\localcache\\local-packages\\python311\\site-packages (from click->nltk) (0.4.6)\n",
      "Downloading wordcloud-1.9.4-cp311-cp311-win_amd64.whl (299 kB)\n",
      "Installing collected packages: wordcloud\n",
      "Successfully installed wordcloud-1.9.4\n",
      "Note: you may need to restart the kernel to use updated packages.\n"
     ]
    }
   ],
   "source": [
    "pip install wordcloud matplotlib pandas nltk"
   ]
  },
  {
   "cell_type": "code",
   "execution_count": 138,
   "id": "89816c6f",
   "metadata": {},
   "outputs": [],
   "source": [
    " ###"
   ]
  },
  {
   "cell_type": "code",
   "execution_count": 83,
   "id": "9f28a8fc",
   "metadata": {},
   "outputs": [],
   "source": [
    "from wordcloud import WordCloud, STOPWORDS"
   ]
  },
  {
   "cell_type": "code",
   "execution_count": 84,
   "id": "41fc64e4",
   "metadata": {},
   "outputs": [],
   "source": [
    "import nltk\n",
    "from nltk.corpus import stopwords\n",
    "import matplotlib.pyplot as plt"
   ]
  },
  {
   "cell_type": "code",
   "execution_count": 85,
   "id": "1127a140",
   "metadata": {},
   "outputs": [
    {
     "name": "stderr",
     "output_type": "stream",
     "text": [
      "[nltk_data] Downloading package stopwords to\n",
      "[nltk_data]     C:\\Users\\Atharva\\AppData\\Roaming\\nltk_data...\n",
      "[nltk_data]   Unzipping corpora\\stopwords.zip.\n"
     ]
    },
    {
     "data": {
      "text/plain": [
       "True"
      ]
     },
     "execution_count": 85,
     "metadata": {},
     "output_type": "execute_result"
    }
   ],
   "source": [
    "nltk.download('stopwords')"
   ]
  },
  {
   "cell_type": "code",
   "execution_count": 86,
   "id": "3012e14d",
   "metadata": {},
   "outputs": [],
   "source": [
    "import pandas as pd\n",
    "apps_df = pd.read_csv('Play Store Data.csv')\n",
    "reviews_df = pd.read_csv('User Reviews.csv')"
   ]
  },
  {
   "cell_type": "code",
   "execution_count": 87,
   "id": "512a6f05",
   "metadata": {},
   "outputs": [],
   "source": [
    "apps_df['App'] = apps_df['App'].str.strip()\n",
    "apps_df['Category'] = apps_df['Category'].str.strip()\n",
    "reviews_df['App'] = reviews_df['App'].str.strip()"
   ]
  },
  {
   "cell_type": "code",
   "execution_count": 88,
   "id": "f93e4938",
   "metadata": {},
   "outputs": [],
   "source": [
    "health_apps = apps_df[apps_df['Category'] == 'HEALTH_AND_FITNESS']['App'].unique()"
   ]
  },
  {
   "cell_type": "code",
   "execution_count": 89,
   "id": "7033c43d",
   "metadata": {},
   "outputs": [],
   "source": [
    "merged_df = pd.merge(reviews_df, apps_df[['App', 'Category']], on='App', how='inner')"
   ]
  },
  {
   "cell_type": "code",
   "execution_count": 90,
   "id": "e7c05903",
   "metadata": {},
   "outputs": [],
   "source": [
    "custom_stopwords = set(STOPWORDS)\n",
    "custom_stopwords.update(app.lower() for app in health_apps)"
   ]
  },
  {
   "cell_type": "code",
   "execution_count": 91,
   "id": "d6a40f49",
   "metadata": {},
   "outputs": [],
   "source": [
    "filtered_reviews = merged_df[(merged_df['Category'] == 'HEALTH_AND_FITNESS') &\n",
    "                             (merged_df['Translated_Review'].notnull()) &\n",
    "                             (merged_df['Sentiment'] == 'Positive')]\n",
    "five_star_reviews = filtered_reviews.copy()"
   ]
  },
  {
   "cell_type": "code",
   "execution_count": 92,
   "id": "b0dc51c9",
   "metadata": {},
   "outputs": [],
   "source": [
    "text = \" \".join(filtered_reviews['Translated_Review'].astype(str).tolist())\n",
    "text = ' '.join(review.lower() for review in five_star_reviews['Translated_Review'])"
   ]
  },
  {
   "cell_type": "code",
   "execution_count": 93,
   "id": "7e445f2a",
   "metadata": {},
   "outputs": [
    {
     "data": {
      "image/png": "[encoded data removed]",
      "text/plain": [
       "<Figure size 1000x500 with 1 Axes>"
      ]
     },
     "metadata": {},
     "output_type": "display_data"
    }
   ],
   "source": [
    "wordcloud = WordCloud(width=800, height=400, background_color='black',\n",
    "                      stopwords=custom_stopwords, colormap='viridis').generate(text)\n",
    "\n",
    "# Plot it\n",
    "plt.figure(figsize=(10, 5))\n",
    "plt.imshow(wordcloud, interpolation='bilinear')\n",
    "plt.axis('off')\n",
    "plt.title(\"Word Cloud for 5-Star Reviews (Health & Fitness Apps)\", fontsize=14)\n",
    "plt.show()"
   ]
  },
  {
   "cell_type": "code",
   "execution_count": null,
   "id": "1a3f0261",
   "metadata": {},
   "outputs": [],
   "source": [
    "#Task-1"
   ]
  },
  {
   "cell_type": "code",
   "execution_count": 4,
   "id": "e0fd5706",
   "metadata": {},
   "outputs": [],
   "source": [
    "# task1_scatter_plot.py\n",
    "\n",
    "import pandas as pd\n",
    "import matplotlib.pyplot as plt\n",
    "import seaborn as sns"
   ]
  },
  {
   "cell_type": "code",
   "execution_count": 5,
   "id": "0a819946",
   "metadata": {},
   "outputs": [
    {
     "data": {
      "text/html": [
       "<div>\n",
       "<style scoped>\n",
       "    .dataframe tbody tr th:only-of-type {\n",
       "        vertical-align: middle;\n",
       "    }\n",
       "\n",
       "    .dataframe tbody tr th {\n",
       "        vertical-align: top;\n",
       "    }\n",
       "\n",
       "    .dataframe thead th {\n",
       "        text-align: right;\n",
       "    }\n",
       "</style>\n",
       "<table border=\"1\" class=\"dataframe\">\n",
       "  <thead>\n",
       "    <tr style=\"text-align: right;\">\n",
       "      <th></th>\n",
       "      <th>App</th>\n",
       "      <th>Category</th>\n",
       "      <th>Rating</th>\n",
       "      <th>Reviews</th>\n",
       "      <th>Size</th>\n",
       "      <th>Installs</th>\n",
       "      <th>Type</th>\n",
       "      <th>Price</th>\n",
       "      <th>Content Rating</th>\n",
       "      <th>Genres</th>\n",
       "      <th>Last Updated</th>\n",
       "      <th>Current Ver</th>\n",
       "      <th>Android Ver</th>\n",
       "    </tr>\n",
       "  </thead>\n",
       "  <tbody>\n",
       "    <tr>\n",
       "      <th>0</th>\n",
       "      <td>Photo Editor &amp; Candy Camera &amp; Grid &amp; ScrapBook</td>\n",
       "      <td>ART_AND_DESIGN</td>\n",
       "      <td>4.1</td>\n",
       "      <td>159</td>\n",
       "      <td>19M</td>\n",
       "      <td>10,000+</td>\n",
       "      <td>Free</td>\n",
       "      <td>0</td>\n",
       "      <td>Everyone</td>\n",
       "      <td>Art &amp; Design</td>\n",
       "      <td>January 7, 2018</td>\n",
       "      <td>1.0.0</td>\n",
       "      <td>4.0.3 and up</td>\n",
       "    </tr>\n",
       "    <tr>\n",
       "      <th>1</th>\n",
       "      <td>Coloring book moana</td>\n",
       "      <td>ART_AND_DESIGN</td>\n",
       "      <td>3.9</td>\n",
       "      <td>967</td>\n",
       "      <td>14M</td>\n",
       "      <td>500,000+</td>\n",
       "      <td>Free</td>\n",
       "      <td>0</td>\n",
       "      <td>Everyone</td>\n",
       "      <td>Art &amp; Design;Pretend Play</td>\n",
       "      <td>January 15, 2018</td>\n",
       "      <td>2.0.0</td>\n",
       "      <td>4.0.3 and up</td>\n",
       "    </tr>\n",
       "    <tr>\n",
       "      <th>2</th>\n",
       "      <td>U Launcher Lite – FREE Live Cool Themes, Hide ...</td>\n",
       "      <td>ART_AND_DESIGN</td>\n",
       "      <td>4.7</td>\n",
       "      <td>87510</td>\n",
       "      <td>8.7M</td>\n",
       "      <td>5,000,000+</td>\n",
       "      <td>Free</td>\n",
       "      <td>0</td>\n",
       "      <td>Everyone</td>\n",
       "      <td>Art &amp; Design</td>\n",
       "      <td>August 1, 2018</td>\n",
       "      <td>1.2.4</td>\n",
       "      <td>4.0.3 and up</td>\n",
       "    </tr>\n",
       "    <tr>\n",
       "      <th>3</th>\n",
       "      <td>Sketch - Draw &amp; Paint</td>\n",
       "      <td>ART_AND_DESIGN</td>\n",
       "      <td>4.5</td>\n",
       "      <td>215644</td>\n",
       "      <td>25M</td>\n",
       "      <td>50,000,000+</td>\n",
       "      <td>Free</td>\n",
       "      <td>0</td>\n",
       "      <td>Teen</td>\n",
       "      <td>Art &amp; Design</td>\n",
       "      <td>June 8, 2018</td>\n",
       "      <td>Varies with device</td>\n",
       "      <td>4.2 and up</td>\n",
       "    </tr>\n",
       "    <tr>\n",
       "      <th>4</th>\n",
       "      <td>Pixel Draw - Number Art Coloring Book</td>\n",
       "      <td>ART_AND_DESIGN</td>\n",
       "      <td>4.3</td>\n",
       "      <td>967</td>\n",
       "      <td>2.8M</td>\n",
       "      <td>100,000+</td>\n",
       "      <td>Free</td>\n",
       "      <td>0</td>\n",
       "      <td>Everyone</td>\n",
       "      <td>Art &amp; Design;Creativity</td>\n",
       "      <td>June 20, 2018</td>\n",
       "      <td>1.1</td>\n",
       "      <td>4.4 and up</td>\n",
       "    </tr>\n",
       "  </tbody>\n",
       "</table>\n",
       "</div>"
      ],
      "text/plain": [
       "                                                 App        Category  Rating  \\\n",
       "0     Photo Editor & Candy Camera & Grid & ScrapBook  ART_AND_DESIGN     4.1   \n",
       "1                                Coloring book moana  ART_AND_DESIGN     3.9   \n",
       "2  U Launcher Lite – FREE Live Cool Themes, Hide ...  ART_AND_DESIGN     4.7   \n",
       "3                              Sketch - Draw & Paint  ART_AND_DESIGN     4.5   \n",
       "4              Pixel Draw - Number Art Coloring Book  ART_AND_DESIGN     4.3   \n",
       "\n",
       "  Reviews  Size     Installs  Type Price Content Rating  \\\n",
       "0     159   19M      10,000+  Free     0       Everyone   \n",
       "1     967   14M     500,000+  Free     0       Everyone   \n",
       "2   87510  8.7M   5,000,000+  Free     0       Everyone   \n",
       "3  215644   25M  50,000,000+  Free     0           Teen   \n",
       "4     967  2.8M     100,000+  Free     0       Everyone   \n",
       "\n",
       "                      Genres      Last Updated         Current Ver  \\\n",
       "0               Art & Design   January 7, 2018               1.0.0   \n",
       "1  Art & Design;Pretend Play  January 15, 2018               2.0.0   \n",
       "2               Art & Design    August 1, 2018               1.2.4   \n",
       "3               Art & Design      June 8, 2018  Varies with device   \n",
       "4    Art & Design;Creativity     June 20, 2018                 1.1   \n",
       "\n",
       "    Android Ver  \n",
       "0  4.0.3 and up  \n",
       "1  4.0.3 and up  \n",
       "2  4.0.3 and up  \n",
       "3    4.2 and up  \n",
       "4    4.4 and up  "
      ]
     },
     "execution_count": 5,
     "metadata": {},
     "output_type": "execute_result"
    }
   ],
   "source": [
    "# Load the dataset\n",
    "df = pd.read_csv('Play Store Data.csv')\n",
    "df.head()"
   ]
  },
  {
   "cell_type": "code",
   "execution_count": 6,
   "id": "cb0e6160",
   "metadata": {},
   "outputs": [
    {
     "name": "stdout",
     "output_type": "stream",
     "text": [
      "<class 'pandas.core.frame.DataFrame'>\n",
      "RangeIndex: 10841 entries, 0 to 10840\n",
      "Data columns (total 13 columns):\n",
      " #   Column          Non-Null Count  Dtype  \n",
      "---  ------          --------------  -----  \n",
      " 0   App             10841 non-null  object \n",
      " 1   Category        10841 non-null  object \n",
      " 2   Rating          9367 non-null   float64\n",
      " 3   Reviews         10841 non-null  object \n",
      " 4   Size            10841 non-null  object \n",
      " 5   Installs        10841 non-null  object \n",
      " 6   Type            10840 non-null  object \n",
      " 7   Price           10841 non-null  object \n",
      " 8   Content Rating  10840 non-null  object \n",
      " 9   Genres          10841 non-null  object \n",
      " 10  Last Updated    10841 non-null  object \n",
      " 11  Current Ver     10833 non-null  object \n",
      " 12  Android Ver     10838 non-null  object \n",
      "dtypes: float64(1), object(12)\n",
      "memory usage: 1.1+ MB\n"
     ]
    }
   ],
   "source": [
    "df.info()"
   ]
  },
  {
   "cell_type": "code",
   "execution_count": 7,
   "id": "c284c54f",
   "metadata": {},
   "outputs": [],
   "source": [
    "#Filter for Paid apps only\n",
    "df = df[df['Type'] == 'Paid']"
   ]
  },
  {
   "cell_type": "code",
   "execution_count": 8,
   "id": "0b07f930",
   "metadata": {},
   "outputs": [],
   "source": [
    "# Clean 'Installs' column\n",
    "df['Installs'] = df['Installs'].str.replace('[+,]', '', regex=True)\n",
    "df['Installs'] = pd.to_numeric(df['Installs'], errors='coerce')"
   ]
  },
  {
   "cell_type": "code",
   "execution_count": 9,
   "id": "11f82a8f",
   "metadata": {},
   "outputs": [],
   "source": [
    "# Clean 'Price' column\n",
    "df['Price'] = df['Price'].str.replace('$', '', regex=False)\n",
    "df['Price'] = pd.to_numeric(df['Price'], errors='coerce')"
   ]
  },
  {
   "cell_type": "code",
   "execution_count": 10,
   "id": "df54e4cb",
   "metadata": {},
   "outputs": [],
   "source": [
    "# Drop rows with missing/invalid 'Installs' or 'Price'\n",
    "df = df.dropna(subset=['Installs', 'Price'])"
   ]
  },
  {
   "cell_type": "code",
   "execution_count": 11,
   "id": "e695d0a8",
   "metadata": {},
   "outputs": [],
   "source": [
    "# Create Revenue Column\n",
    "df['Revenue'] = df['Installs'] * df['Price']"
   ]
  },
  {
   "cell_type": "code",
   "execution_count": 12,
   "id": "89fd8519",
   "metadata": {},
   "outputs": [],
   "source": [
    "#Drop rows with zero or negative revenue just to clean visuals\n",
    "df = df[df['Revenue'] > 0]"
   ]
  },
  {
   "cell_type": "code",
   "execution_count": 13,
   "id": "8ad440f3",
   "metadata": {},
   "outputs": [
    {
     "data": {
      "image/png": "[encoded data removed]",
      "text/plain": [
       "<Figure size 1200x800 with 1 Axes>"
      ]
     },
     "metadata": {},
     "output_type": "display_data"
    }
   ],
   "source": [
    "#Step 7: Plot scatterplot with trendline\n",
    "plt.figure(figsize=(12, 8))\n",
    "sns.scatterplot(data=df, x='Installs', y='Revenue', hue='Category', palette='tab10', alpha=0.7)\n",
    "\n",
    "# Add trendline using regression\n",
    "sns.regplot(data=df, x='Installs', y='Revenue', scatter=False, color='black', line_kws={\"linewidth\":1.5})\n",
    "\n",
    "plt.title('Revenue vs Installs for Paid Apps by Category')\n",
    "plt.xlabel('Number of Installs')\n",
    "plt.ylabel('Revenue (USD)')\n",
    "plt.legend(title='Category', bbox_to_anchor=(1.05, 1), loc='upper left')\n",
    "plt.tight_layout()\n",
    "plt.grid(True)\n",
    "plt.show()"
   ]
  },
  {
   "cell_type": "code",
   "execution_count": 14,
   "id": "3536e9b4",
   "metadata": {},
   "outputs": [
    {
     "data": {
      "application/vnd.plotly.v1+json": {
       "config": {
        "plotlyServerURL": "https://plot.ly"
       },
       "data": [
        {
         "customdata": [
          [
           "TurboScan: scan documents and receipts in PDF",
           4.99
          ],
          [
           "Tiny Scanner Pro: PDF Doc Scan",
           4.99
          ],
          [
           "TurboScan: scan documents and receipts in PDF",
           4.99
          ],
          [
           "Tiny Scanner Pro: PDF Doc Scan",
           4.99
          ],
          [
           "AW Toolbox",
           19.9
          ],
          [
           "Bk Bee Sales Manager",
           0.99
          ],
          [
           "SkyTest BU/GU Lite",
           17.99
          ],
          [
           "BZ Reminder PRO",
           3.99
          ],
          [
           "CM FILE MANAGER Pro",
           2.99
          ],
          [
           "Super Resume Builder Pro, CV",
           4.99
          ],
          [
           "DG Surveyor",
           8.99
          ],
          [
           "The DG Buddy",
           2.49
          ],
          [
           "DS Helpdesk Plus",
           12.99
          ],
          [
           "Lean EQ",
           89.99
          ]
         ],
         "hovertemplate": "Category=BUSINESS<br>Number of Installs=%{x}<br>Revenue (USD)=%{y}<br>App=%{customdata[0]}<br>Price=%{customdata[1]}<extra></extra>",
         "legendgroup": "BUSINESS",
         "marker": {
          "color": "#636efa",
          "symbol": "circle"
         },
         "mode": "markers",
         "name": "BUSINESS",
         "orientation": "v",
         "showlegend": true,
         "type": "scatter",
         "x": {
          "bdata": "oIYBAKCGAQCghgEAoIYBAGQAAAAFAAAA9AEAAOgDAAAQJwAA6AMAADIAAAAKAAAAZAAAAAoAAAA=",
          "dtype": "i4"
         },
         "xaxis": "x",
         "y": {
          "bdata": "AAAAAOB0HkEAAAAA4HQeQQAAAADgdB5BAAAAAOB0HkH//////xefQM3MzMzMzBNAAAAAAICRwUAAAAAAACyvQAEAAAAAM91AAAAAAAB+s0AAAAAAABh8QGdmZmZm5jhAAAAAAABMlEAzMzMzMx+MQA==",
          "dtype": "f8"
         },
         "yaxis": "y"
        },
        {
         "customdata": [
          [
           "Puffin Browser Pro",
           3.99
          ],
          [
           "Deaf - Hearing chat device H",
           3.99
          ],
          [
           "J Alvarej Moji",
           1.99
          ],
          [
           "K-@ Mail Pro - Email App",
           4.99
          ],
          [
           "pretty Easy privacy p≡p",
           0.99
          ],
          [
           "Z PIVOT",
           19.99
          ],
          [
           "AG Contacts, Premium edition",
           4.99
          ],
          [
           "Threema",
           2.99
          ],
          [
           "FREE CHATS C.L.",
           0.99
          ],
          [
           "10 WPM Amateur ham radio CW Morse code trainer",
           1.49
          ],
          [
           "CV-RECORD Pro",
           0.99
          ],
          [
           "2 Amateur ham radio CW Morse code practice keys TX",
           1.49
          ],
          [
           "CW Beacon for Ham Radio",
           1.49
          ],
          [
           "Morse Decoder for Ham Radio",
           4.99
          ],
          [
           "CW Studio ®",
           0.99
          ],
          [
           "20WPM Amateur ham radio Koch CW Morse code trainer",
           1.49
          ],
          [
           "Morse Trainer for Ham Radio",
           2.99
          ],
          [
           "Morse Machine for Ham Radio",
           0.99
          ],
          [
           "CW Ringtone (Morse Code generator)",
           2.49
          ],
          [
           "Koch Morse Trainer Pro",
           2.49
          ],
          [
           "iCluster - The DX-Cluster database",
           0.99
          ],
          [
           "WiFi Tether Router",
           2.9
          ],
          [
           "Remote EX for NISSAN",
           1.49
          ],
          [
           "ExDialer PRO Key",
           3.99
          ],
          [
           "Smart Wi-Fi Hotspot PRO",
           2.99
          ],
          [
           "Portable Wi-Fi hotspot Premium",
           0.99
          ],
          [
           "Talkie Pro - Wi-Fi Calling, Chats, File Sharing",
           2.99
          ]
         ],
         "hovertemplate": "Category=COMMUNICATION<br>Number of Installs=%{x}<br>Revenue (USD)=%{y}<br>App=%{customdata[0]}<br>Price=%{customdata[1]}<extra></extra>",
         "legendgroup": "COMMUNICATION",
         "marker": {
          "color": "#EF553B",
          "symbol": "circle"
         },
         "mode": "markers",
         "name": "COMMUNICATION",
         "orientation": "v",
         "showlegend": true,
         "type": "scatter",
         "x": {
          "bdata": "oIYBAPQBAAAKAAAAECcAAPQBAAAKAAAA9AEAAEBCDwAKAAAAZAAAAOgDAABkAAAAZAAAAIgTAABkAAAAZAAAABAnAACIEwAACgAAAOgDAAAKAAAAoIYBAIgTAACghgEAECcAABAnAADoAwAA",
          "dtype": "i4"
         },
         "xaxis": "x",
         "y": {
          "bdata": "AAAAAGBaGEEAAAAAACyfQGZmZmZm5jNAAAAAAIBd6EAAAAAAAPB+QMzMzMzM/GhAAAAAAAB+o0AAAAAA2M9GQc3MzMzMzCNAAAAAAACgYkAAAAAAAPCOQAAAAAAAoGJAAAAAAACgYkAAAAAAgF3YQAAAAAAAwFhAAAAAAACgYkABAAAAADPdQAAAAAAAVrNAZ2ZmZmbmOEAAAAAAAHSjQM3MzMzMzCNAAAAAAECzEUEAAAAAABq9QAAAAABgWhhBAQAAAAAz3UAAAAAAAFbDQAAAAAAAXKdA",
          "dtype": "f8"
         },
         "yaxis": "y"
        },
        {
         "customdata": [
          [
           "Moco+ - Chat, Meet People",
           3.99
          ],
          [
           "Calculator",
           6.99
          ],
          [
           "Truth or Dare Pro",
           1.49
          ],
          [
           "Private Dating, Hide App- Blue for PrivacyHider",
           2.99
          ],
          [
           "Ad Blocker for SayHi",
           3.99
          ],
          [
           "AMBW Dating App: Asian Men Black Women Interracial",
           7.99
          ],
          [
           "Moco+ - Chat, Meet People",
           3.99
          ]
         ],
         "hovertemplate": "Category=DATING<br>Number of Installs=%{x}<br>Revenue (USD)=%{y}<br>App=%{customdata[0]}<br>Price=%{customdata[1]}<extra></extra>",
         "legendgroup": "DATING",
         "marker": {
          "color": "#00cc96",
          "symbol": "circle"
         },
         "mode": "markers",
         "name": "DATING",
         "orientation": "v",
         "showlegend": true,
         "type": "scatter",
         "x": {
          "bdata": "ECfoAzIAZABkAGQAECc=",
          "dtype": "i2"
         },
         "xaxis": "x",
         "y": {
          "bdata": "AAAAAIB740AAAAAAAE67QAAAAAAAoFJAAAAAAACwckAAAAAAAPB4QAAAAAAA+IhAAAAAAIB740A=",
          "dtype": "f8"
         },
         "yaxis": "y"
        },
        {
         "customdata": [
          [
           "Sago Mini Hat Maker",
           3.99
          ],
          [
           "Fuzzy Numbers: Pre-K Number Foundation",
           5.99
          ],
          [
           "Toca Life: City",
           3.99
          ],
          [
           "Toca Life: Hospital",
           3.99
          ]
         ],
         "hovertemplate": "Category=EDUCATION<br>Number of Installs=%{x}<br>Revenue (USD)=%{y}<br>App=%{customdata[0]}<br>Price=%{customdata[1]}<extra></extra>",
         "legendgroup": "EDUCATION",
         "marker": {
          "color": "#ab63fa",
          "symbol": "circle"
         },
         "mode": "markers",
         "name": "EDUCATION",
         "orientation": "v",
         "showlegend": true,
         "type": "scatter",
         "x": {
          "bdata": "6AMAAOgDAAAgoQcAoIYBAA==",
          "dtype": "i4"
         },
         "xaxis": "x",
         "y": {
          "bdata": "AAAAAAAsr0AAAAAAAGa3QAAAAAD4cD5BAAAAAGBaGEE=",
          "dtype": "f8"
         },
         "yaxis": "y"
        },
        {
         "customdata": [
          [
           "My Talking Pet",
           4.99
          ],
          [
           "Meme Generator",
           2.99
          ]
         ],
         "hovertemplate": "Category=ENTERTAINMENT<br>Number of Installs=%{x}<br>Revenue (USD)=%{y}<br>App=%{customdata[0]}<br>Price=%{customdata[1]}<extra></extra>",
         "legendgroup": "ENTERTAINMENT",
         "marker": {
          "color": "#FFA15A",
          "symbol": "circle"
         },
         "mode": "markers",
         "name": "ENTERTAINMENT",
         "orientation": "v",
         "showlegend": true,
         "type": "scatter",
         "x": {
          "bdata": "oIYBAKCGAQA=",
          "dtype": "i4"
         },
         "xaxis": "x",
         "y": {
          "bdata": "AAAAAOB0HkEAAAAA4D8SQQ==",
          "dtype": "f8"
         },
         "yaxis": "y"
        },
        {
         "customdata": [
          [
           "My CookBook Pro (Ad Free)",
           3.49
          ],
          [
           "Paprika Recipe Manager",
           4.99
          ]
         ],
         "hovertemplate": "Category=FOOD_AND_DRINK<br>Number of Installs=%{x}<br>Revenue (USD)=%{y}<br>App=%{customdata[0]}<br>Price=%{customdata[1]}<extra></extra>",
         "legendgroup": "FOOD_AND_DRINK",
         "marker": {
          "color": "#19d3f3",
          "symbol": "circle"
         },
         "mode": "markers",
         "name": "FOOD_AND_DRINK",
         "orientation": "v",
         "showlegend": true,
         "type": "scatter",
         "x": {
          "bdata": "ECcAAFDDAAA=",
          "dtype": "i4"
         },
         "xaxis": "x",
         "y": {
          "bdata": "AAAAAIAK4UAAAAAA4HQOQQ==",
          "dtype": "f8"
         },
         "yaxis": "y"
        },
        {
         "customdata": [
          [
           "Pocket Yoga",
           2.99
          ],
          [
           "Meditation Studio",
           3.99
          ],
          [
           "Relax Melodies P: Sleep Sounds",
           2.99
          ],
          [
           "Pocket Yoga",
           2.99
          ],
          [
           "Daily Ab Workout",
           1.99
          ],
          [
           "cronometer (ad free)",
           2.99
          ],
          [
           "Lullaby Add-on for Sleep as Android",
           1.99
          ],
          [
           "Be Stronger",
           1.99
          ],
          [
           "Monitor My BP",
           5.99
          ],
          [
           "All-night drugstore CI & Price",
           0.99
          ],
          [
           "Tools & Mi Band",
           3.49
          ],
          [
           "Dr. McDougall Mobile Cookbook",
           4.99
          ],
          [
           "Vital Tones EI Pro",
           9.99
          ],
          [
           "The EO Bar",
           6.99
          ],
          [
           "EO Guide",
           4.99
          ],
          [
           "Fast Tract Diet",
           7.99
          ]
         ],
         "hovertemplate": "Category=HEALTH_AND_FITNESS<br>Number of Installs=%{x}<br>Revenue (USD)=%{y}<br>App=%{customdata[0]}<br>Price=%{customdata[1]}<extra></extra>",
         "legendgroup": "HEALTH_AND_FITNESS",
         "marker": {
          "color": "#FF6692",
          "symbol": "circle"
         },
         "mode": "markers",
         "name": "HEALTH_AND_FITNESS",
         "orientation": "v",
         "showlegend": true,
         "type": "scatter",
         "x": {
          "bdata": "oIYBABAnAACghgEAoIYBAFDDAABQwwAAUMMAAOgDAAAyAAAACgAAAKCGAQDoAwAAMgAAABAnAADoAwAA6AMAAA==",
          "dtype": "i4"
         },
         "xaxis": "x",
         "y": {
          "bdata": "AAAAAOA/EkEAAAAAgHvjQAAAAADgPxJBAAAAAOA/EkEAAAAAwEr4QAAAAADgPwJBAAAAAMBK+EAAAAAAABifQAAAAAAAuHJAzczMzMzMI0AAAAAAIE0VQQAAAAAAfrNAAAAAAAA4f0AAAAAAwBDxQAAAAAAAfrNAAAAAAAA2v0A=",
          "dtype": "f8"
         },
         "yaxis": "y"
        },
        {
         "customdata": [
          [
           "The Game of Life",
           2.99
          ],
          [
           "Clue",
           1.99
          ],
          [
           "The Room: Old Sins",
           4.99
          ],
          [
           "The Escapists",
           4.99
          ],
          [
           "Farming Simulator 18",
           4.99
          ],
          [
           "RollerCoaster Tycoon® Classic",
           5.99
          ],
          [
           "Call of Duty:Black Ops Zombies",
           6.99
          ],
          [
           "Star Wars ™: DIRTY",
           9.99
          ],
          [
           "Monument Valley 2",
           4.99
          ],
          [
           "B-52 Spirits of Glory Deluxe",
           0.99
          ],
          [
           "B-Grade Renegade",
           1.99
          ],
          [
           "CURSUM B",
           0.99
          ],
          [
           "Hitman Sniper",
           0.99
          ],
          [
           "The World Ends With You",
           17.99
          ],
          [
           "D+H Reaction Wall",
           0.99
          ],
          [
           "Traps n' Gemstones",
           4.99
          ],
          [
           "Ghosts'n Goblins MOBILE",
           0.99
          ],
          [
           "Lock 'n' Roll Pro - Ad Free",
           0.99
          ],
          [
           "Jump'N'Shoot Attack",
           2.49
          ],
          [
           "Ghouls'n Ghosts MOBILE",
           1.99
          ],
          [
           "Oddworld: New 'n' Tasty",
           4.99
          ],
          [
           "Obbligo o Verità? PRO",
           0.99
          ],
          [
           "R-TYPE II",
           1.99
          ],
          [
           "R-TYPE",
           1.99
          ],
          [
           "Don't Starve: Pocket Edition",
           4.99
          ],
          [
           "Don't Starve: Shipwrecked",
           4.99
          ],
          [
           "Ludo - Don't get angry",
           1.61
          ],
          [
           "Mental Hospital V",
           0.99
          ],
          [
           "Zombie Avengers:(Dreamsky)Stickman War Z",
           0.99
          ],
          [
           "Assassin's Creed Identity",
           1.99
          ],
          [
           "ONScripter Plus (Ad Free)",
           3.99
          ],
          [
           "Mupen64Plus AE (N64 Emulator)",
           0.99
          ],
          [
           "AJ Jump: Animal Jam Kangaroos!",
           1.99
          ],
          [
           "I am Bread",
           4.99
          ],
          [
           "Nightenfell: Shared AR",
           0.99
          ],
          [
           "Five Nights at Freddy's",
           2.99
          ],
          [
           "Five Nights at Freddy's: SL",
           2.99
          ],
          [
           "Five Nights at Freddy's 4",
           2.99
          ],
          [
           "Five Nights at Freddy's 3",
           2.99
          ],
          [
           "YAKALA AY",
           0.99
          ],
          [
           "Ra Ga Ba",
           1.49
          ],
          [
           "Wolf of the BF:Commando MOBILE",
           0.99
          ],
          [
           "Shadow Fight 2 Special Edition",
           4.99
          ],
          [
           "Backgammon NJ for Android",
           7.99
          ],
          [
           "Bi-Tank Ads Free",
           0.99
          ],
          [
           "BJ Bridge Pro 2018",
           4.49
          ],
          [
           "Blackjack Verite Drills",
           14
          ],
          [
           "MEGA MAN MOBILE",
           1.99
          ],
          [
           "New York Mysteries (Full)",
           6.99
          ],
          [
           "The Legacy (Full)",
           6.99
          ],
          [
           "Skip-Bo™",
           2.99
          ],
          [
           "Sic Bo",
           1.99
          ],
          [
           "BW-Go",
           3.49
          ],
          [
           "PAC-MAN CE DX",
           4.99
          ],
          [
           "Grand Theft Auto: San Andreas",
           6.99
          ],
          [
           "F*ck This Game",
           0.99
          ],
          [
           "211:CK",
           0.99
          ],
          [
           "Adventure Time Game Wizard",
           4.99
          ],
          [
           "Best Park in the Universe",
           2.99
          ],
          [
           "Chinese Chess 3D Online (Xiangqi, 象棋, co tuong)",
           0.99
          ],
          [
           "CT-REMOTE",
           4.49
          ],
          [
           "Cytus II",
           1.99
          ],
          [
           "Dr. Splorchy Presents Space Heroes",
           4.99
          ],
          [
           "DraStic DS Emulator",
           4.99
          ],
          [
           "Riptide GP: Renegade",
           2.99
          ],
          [
           "Dirt Trackin Sprint Cars",
           3.99
          ],
          [
           "Retro City Rampage DX",
           2.99
          ],
          [
           "Santa's Monster Shootout DX",
           1.99
          ],
          [
           "Lost Journey (Dreamsky)",
           0.99
          ],
          [
           "League of Stickman 2018- Ninja Arena PVP(Dreamsky)",
           0.99
          ],
          [
           "Stickman Legends: Shadow Wars",
           0.99
          ],
          [
           "E.G. Chess",
           0.99
          ],
          [
           "WIZARD Card Game",
           1.99
          ],
          [
           "The Game of Life",
           2.99
          ],
          [
           "Poker Equity Calculator Pro for No Limit Hold'em",
           0.99
          ],
          [
           "Superbrothers Sword & Sworcery",
           3.99
          ],
          [
           "Sonic 4™ Episode I",
           2.99
          ],
          [
           "An Elite Warrior Ex",
           0.99
          ],
          [
           "Galaxian(FC)",
           1.99
          ],
          [
           "Solitaire+",
           2.99
          ],
          [
           "Fruit Ninja Classic",
           0.99
          ],
          [
           "Mu.F.O.",
           0.99
          ],
          [
           "Trine 2: Complete Story",
           16.99
          ]
         ],
         "hovertemplate": "Category=GAME<br>Number of Installs=%{x}<br>Revenue (USD)=%{y}<br>App=%{customdata[0]}<br>Price=%{customdata[1]}<extra></extra>",
         "legendgroup": "GAME",
         "marker": {
          "color": "#B6E880",
          "symbol": "circle"
         },
         "mode": "markers",
         "name": "GAME",
         "orientation": "v",
         "showlegend": true,
         "type": "scatter",
         "x": {
          "bdata": "oIYBAKCGAQCghgEAoIYBAKCGAQCghgEAoIYBAKCGAQCghgEAZAAAAOgDAAD0AQAAgJaYABAnAAABAAAA6AMAABAnAADoAwAA6AMAAIgTAAAQJwAAZAAAAFDDAACghgEAoIYBABAnAADoAwAAUMMAAEBCDwAgoQcA6AMAAKCGAQBQwwAAECcAAOgDAABAQg8AoIYBAKCGAQCghgEAAQAAAAEAAADoAwAAUMMAABAnAAABAAAA9AEAAGQAAAAQJwAAiBMAAOgDAACghgEAZAAAAOgDAAAQJwAAQEIPAGQAAAAKAAAAUMMAABAnAADoAwAAZAAAAKCGAQBkAAAAQEIPAKCGAQAQJwAAECcAADIAAABAQg8AQEIPAEBCDwDoAwAA6AMAAKCGAQCIEwAAoIYBAKCGAQBkAAAAZAAAAKCGAQBAQg8AAQAAABAnAAA=",
          "dtype": "i4"
         },
         "xaxis": "x",
         "y": {
          "bdata": "AAAAAOA/EkEAAAAAwEoIQQAAAADgdB5BAAAAAOB0HkEAAAAA4HQeQQAAAACwRyJBAAAAAPBUJUEAAAAAsHwuQQAAAADgdB5BAAAAAADAWEAAAAAAABifQAAAAAAA8H5AAAAAAPzhYkH/////3/UFQa5H4XoUru8/AAAAAAB+s0AAAAAAAFbDQAAAAAAA8I5AAAAAAAB0o0AAAAAAAG/DQAAAAACAXehAAAAAAADAWEAAAAAAwEr4QAAAAADASghBAAAAAOB0HkEAAAAAgF3oQAAAAAAAKJlAAAAAAIAr6EAAAAAAYDYuQQAAAABwXS5BAAAAAAAsr0AAAAAAgCv4QAAAAADASvhAAAAAAIBd6EAAAAAAAPCOQAAAAADYz0ZBAAAAAOA/EkEAAAAA4D8SQQAAAADgPxJBrkfhehSu7z/Xo3A9Ctf3PwAAAAAA8I5AAAAAAOB0DkEAAAAAwIHzQK5H4XoUru8/AAAAAACKoUAAAAAAAOCVQAAAAAAAb9NAAAAAAMAQ4UAAAAAAAE67QAAAAADgPxJBAAAAAADgaEAAAAAAAESrQAAAAACAXehAAAAAACyqWkEAAAAAAMBYQM3MzMzMzCNAAAAAAOB0DkEBAAAAADPdQAAAAAAA8I5AAAAAAAAQfEAAAAAAwEoIQQAAAAAAMH9AAAAAAAwJU0EAAAAA4D8SQQAAAACAe+NAAQAAAAAz3UAAAAAAAOBYQAAAAABgNi5BAAAAAGA2LkEAAAAAYDYuQQAAAAAA8I5AAAAAAAAYn0AAAAAA4D8SQQAAAAAAVrNAAAAAAGBaGEEAAAAA4D8SQQAAAAAAwFhAAAAAAADgaEAAAAAA4D8SQQAAAABgNi5BrkfhehSu7z//////X70EQQ==",
          "dtype": "f8"
         },
         "yaxis": "y"
        },
        {
         "customdata": [
          [
           "Toca Mystery House",
           3.99
          ],
          [
           "My Little Princess : Stores",
           2.99
          ],
          [
           "Sago Mini Big City",
           3.99
          ],
          [
           "Pinkalicious Party",
           2.99
          ],
          [
           "Toca Builders",
           3.99
          ],
          [
           "Toca Life: City",
           3.99
          ],
          [
           "LEGO® Friends",
           4.99
          ],
          [
           "My Little Work – Garage",
           3.99
          ],
          [
           "Alizay, pirate girl",
           2.99
          ],
          [
           "Children Educational Game Full",
           7.49
          ],
          [
           "Hactar Go",
           2.99
          ],
          [
           "All-in-One Mahjong 3",
           0.99
          ],
          [
           "World Racers family board game",
           0.99
          ],
          [
           "SweetLand — Family Board Game",
           0.99
          ],
          [
           "Steam: Rails to Riches",
           4.99
          ],
          [
           "Whoowasit? - Best kids game!",
           2.99
          ],
          [
           "Lanterns: The Harvest Festival",
           4.99
          ],
          [
           "Tsuro - The Game of the Path",
           2.99
          ],
          [
           "THE aMAZEing Labyrinth",
           4.99
          ],
          [
           "Chess and Mate",
           4.99
          ],
          [
           "Avokiddo Emotions",
           2.99
          ],
          [
           "Nighty Night Circus",
           2.99
          ],
          [
           "Sago Mini Babies",
           3.99
          ],
          [
           "Dr. Panda & Toto's Treehouse",
           3.99
          ],
          [
           "Avokiddo Emotions",
           2.99
          ],
          [
           "Nighty Night Circus",
           2.99
          ],
          [
           "Sago Mini Babies",
           3.99
          ],
          [
           "Dr. Panda & Toto's Treehouse",
           3.99
          ],
          [
           "Minecraft",
           6.99
          ],
          [
           "Card Wars - Adventure Time",
           2.99
          ],
          [
           "C4droid - C/C++ compiler & IDE",
           2.99
          ],
          [
           "Mind Games Pro",
           2.99
          ],
          [
           "Speech Therapy: F",
           2.99
          ],
          [
           "F-Sim Space Shuttle",
           4.99
          ],
          [
           "Norwegian For Kids & Babies F",
           39.99
          ],
          [
           "most expensive app (H)",
           399.99
          ],
          [
           "Cut the Rope GOLD",
           0.99
          ],
          [
           "K.MOJI",
           1.99
          ],
          [
           "Math Games for Pre-K - Grade 4",
           1.99
          ],
          [
           "Fuzzy Numbers: Pre-K Number Foundation",
           5.99
          ],
          [
           "Anna.K Tarot",
           3.99
          ],
          [
           "Minecraft",
           6.99
          ],
          [
           "Guns'n'Glory Zombies Premium",
           2.99
          ],
          [
           "Guns'n'Glory Premium",
           2.99
          ],
          [
           "Guns'n'Glory Heroes Premium",
           2.99
          ],
          [
           "Age of Conquest: N. America",
           3.99
          ],
          [
           "Guns'n'Glory WW2 Premium",
           2.99
          ],
          [
           "Stand O’Food® (Full)",
           1.99
          ],
          [
           "Detect-O-Gromit (D.O.G 2)",
           2.49
          ],
          [
           "P Icon Pack",
           0.99
          ],
          [
           "Q Avatar Pro",
           1.49
          ],
          [
           "R Instructor",
           4.84
          ],
          [
           "Day R Premium",
           4.99
          ],
          [
           "Elemental Knights R Platinum",
           4.77
          ],
          [
           "Please, Don't Touch Anything",
           4.99
          ],
          [
           "Please Don't Touch Anything 3D",
           5.99
          ],
          [
           "Jurassic Life: T Rex Simulator",
           0.99
          ],
          [
           "FINAL FANTASY V",
           7.99
          ],
          [
           "DRAGON QUEST V",
           14.99
          ],
          [
           "X Construction",
           1.49
          ],
          [
           "Z Origins - (Z The Game)",
           2.99
          ],
          [
           "Math games for kids : times tables training",
           1.59
          ],
          [
           "My baby firework (Remove ad)",
           0.99
          ],
          [
           "Gunship III Vietnam People AF",
           4.99
          ],
          [
           "AG Subway Simulator Mobile",
           0.99
          ],
          [
           "Michael's AG Sound Board",
           0.99
          ],
          [
           "The Artificial Intelligence Project (A.I. Chat)",
           1.99
          ],
          [
           "Age of AI: War Strategy",
           2.49
          ],
          [
           "Hey AJ! It's Bedtime!",
           4.99
          ],
          [
           "I am Rich Plus",
           399.99
          ],
          [
           "I Am Rich Pro",
           399.99
          ],
          [
           "I Am Rich",
           389.99
          ],
          [
           "The Hunt for the Lost Treasure",
           2.99
          ],
          [
           "Attack the Light",
           2.99
          ],
          [
           "AP Government Review",
           2.99
          ],
          [
           "500 AP World History Questions",
           9.99
          ],
          [
           "iScore5 AP Psych",
           4.99
          ],
          [
           "meStudying: AP English Lit",
           4.99
          ],
          [
           "AP Art History Flashcards",
           29.99
          ],
          [
           "AQ Math Facts",
           2.99
          ],
          [
           "Five Nights at Freddy's 2",
           2.99
          ],
          [
           "INTERACTIVE CALCULUS PRO",
           0.99
          ],
          [
           "¡Ay Caramba!",
           1.99
          ],
          [
           "Alif Ba Ta Bullseye",
           1.99
          ],
          [
           "Learn Quran with Elif Ba",
           1.49
          ],
          [
           "Ice Crush 10.000 B.C.",
           0.99
          ],
          [
           "Car Driving Theory Test BC",
           1.49
          ],
          [
           "Truck Driving Test Class 3 BC",
           1.49
          ],
          [
           "My Virtual Boyfriend",
           0.99
          ],
          [
           "Baldur's Gate: Enhanced Edition",
           9.99
          ],
          [
           "CSCS BG (в български)",
           3.99
          ],
          [
           "LEGO ® Batman: Beyond Gotham",
           4.99
          ],
          [
           "Baldur's Gate II",
           9.99
          ],
          [
           "Battleheart Legacy",
           4.99
          ],
          [
           "Phonics Puzzles",
           2.99
          ],
          [
           "Chess of Blades (BL/Yaoi Game) (No VA)",
           14.99
          ],
          [
           "Beck & Bo: Toddler First Words",
           2.99
          ],
          [
           "Bo's Bedtime Story",
           2.49
          ],
          [
           "Dr.Dice - Sic bo analyzer",
           46.99
          ],
          [
           "Bo's Matching Game",
           0.99
          ],
          [
           "Bo's Dinnertime Story",
           2.49
          ],
          [
           "Bo's School Day",
           2.99
          ],
          [
           "Infinity Dungeon VIP",
           0.99
          ],
          [
           "TV Guide BR Gold",
           1.49
          ],
          [
           "BS Detector - Diss 'n' Gauges",
           1.49
          ],
          [
           "Hitman GO",
           0.99
          ],
          [
           "Theatre of the Absurd CE(Full)",
           2.99
          ],
          [
           "TI-84 CE Graphing Calculator Manual TI 84",
           4.99
          ],
          [
           "AC CE BJT Actorial",
           2
          ],
          [
           "Depths of Betrayal CE (Full)",
           2.99
          ],
          [
           "Führerschein Klasse CE, LKW 2018",
           2.49
          ],
          [
           "Dots puzzle",
           0.99
          ],
          [
           "Reading Race 1b: sh, ch words",
           3.99
          ],
          [
           "Speech Therapy: CH",
           1.99
          ],
          [
           "boattheory.ch Full 2018",
           19.4
          ],
          [
           "DRAGON QUEST IV",
           14.99
          ],
          [
           "USMLE Step 2 CK Flashcards",
           19.99
          ],
          [
           "Teen Titans GO Figure!",
           3.99
          ],
          [
           "CN Superstar Soccer: Goal!!!",
           2.99
          ],
          [
           "Teeny Titans - Teen Titans Go!",
           3.99
          ],
          [
           "Ski Safari: Adventure Time",
           0.99
          ],
          [
           "Rockstars of Ooo",
           1.99
          ],
          [
           "Flipped Out! - Powerpuff Girls",
           2.99
          ],
          [
           "Formula Cartoon All Stars",
           2.99
          ],
          [
           "Tetrobot and Co.",
           2.99
          ],
          [
           "Wuwu & Co.",
           2.99
          ],
          [
           "CS go bomb simulator",
           0.99
          ],
          [
           "Morse Player",
           1.99
          ],
          [
           "30WPM Amateur ham radio Koch CW Morse code trainer",
           1.49
          ],
          [
           "Learn CW",
           2.49
          ],
          [
           "TI-Nspire CX Calculator Manual",
           4.99
          ],
          [
           "go41cx",
           10
          ],
          [
           "The House of Da Vinci",
           4.99
          ],
          [
           "King of Math",
           2.99
          ],
          [
           "Peppa Pig: Party Time",
           2.99
          ],
          [
           "LEGO Batman: DC Super Heroes",
           4.99
          ],
          [
           "Myth Defense 2: DF Platinum",
           3.99
          ],
          [
           "ZombieVital DG",
           12.99
          ],
          [
           "Interactive NPC DM Tool",
           0.99
          ],
          [
           "Writing Wizard Premium - Handwriting",
           4.49
          ],
          [
           "DRAGON QUEST VIII",
           19.99
          ],
          [
           "DRAGON QUEST III",
           9.99
          ],
          [
           "DRAGON QUEST",
           2.99
          ],
          [
           "DRAGON QUEST II",
           4.99
          ],
          [
           "DRAGON QUEST VI",
           14.99
          ],
          [
           "CHRONO TRIGGER (Upgrade Ver.)",
           9.99
          ],
          [
           "FINAL FANTASY DIMENSIONS",
           13.99
          ],
          [
           "Dr. Panda Farm",
           2.99
          ],
          [
           "DR.MEEP",
           2.99
          ],
          [
           "Dr. Panda Art Class",
           2.99
          ],
          [
           "Dr. Panda's Swimming Pool",
           1.99
          ],
          [
           "Dr. Panda & Toto's Treehouse",
           3.99
          ],
          [
           "Dr. Seuss's ABC",
           3.99
          ],
          [
           "Dr. Panda Hospital",
           2.99
          ],
          [
           "Dr. Panda Restaurant 2",
           2.99
          ],
          [
           "Dr. Panda Supermarket",
           2.99
          ],
          [
           "Real Sheet ∞: Pathfinder + DT",
           2.99
          ],
          [
           "Bloons TD 5",
           2.99
          ],
          [
           "ZOOKEEPER DX TouchEdition",
           0.99
          ],
          [
           "Chronolink DX",
           0.99
          ],
          [
           "Bubble Shooter DX AdFree",
           2.99
          ],
          [
           "Dress Up RagazzA13 DX",
           0.99
          ],
          [
           "Unstoppaball DX",
           1.49
          ],
          [
           "Sokoban Land DX",
           2.99
          ],
          [
           "Train Sim Pro",
           1.49
          ],
          [
           "DZ Puzzle",
           0.99
          ],
          [
           "NBA JAM by EA SPORTS™",
           4.99
          ],
          [
           "RPG ブレイジング ソウルズ アクセレイト",
           10.99
          ],
          [
           "Carrier Landings Pro",
           12.99
          ],
          [
           "EG Classroom Decimals™",
           2.99
          ],
          [
           "Learn Music Notes",
           1.99
          ],
          [
           "Farming Simulator 16",
           2.99
          ],
          [
           "El Chavo",
           0.99
          ],
          [
           "Masha and the Bear- House Cleaning Games for Girls",
           1.99
          ],
          [
           "Masha and the Bear - Hair Salon and MakeUp Games",
           2.49
          ],
          [
           "Where's My Water?",
           1.99
          ],
          [
           "Out There Chronicles - Ep. 1",
           2.99
          ],
          [
           "Out There Chronicles - Ep. 2",
           2.99
          ],
          [
           "EP McGuffey Primer",
           1.99
          ],
          [
           "The Great Wobo Escape Ep.1",
           1.99
          ],
          [
           "Learn Italian with MosaLingua",
           4.99
          ],
          [
           "IF YOU TO EU PEGO",
           1.26
          ],
          [
           "European War 6: 1804",
           0.99
          ],
          [
           "XCOM®: Enemy Within",
           9.99
          ],
          [
           "Deus Ex GO",
           0.99
          ],
          [
           "SCI-FI UI",
           1.99
          ],
          [
           "FP VoiceBot",
           0.99
          ],
          [
           "sugar, sugar",
           1.2
          ],
          [
           "Word Search Tab 1 FR",
           1.04
          ]
         ],
         "hovertemplate": "Category=FAMILY<br>Number of Installs=%{x}<br>Revenue (USD)=%{y}<br>App=%{customdata[0]}<br>Price=%{customdata[1]}<extra></extra>",
         "legendgroup": "FAMILY",
         "marker": {
          "color": "#FF97FF",
          "symbol": "circle"
         },
         "mode": "markers",
         "name": "FAMILY",
         "orientation": "v",
         "showlegend": true,
         "type": "scatter",
         "x": {
          "bdata": "iBMAAIgTAADoAwAA9AEAAKCGAQAgoQcAECcAABAnAADoAwAA6AMAAOgDAABkAAAAZAAAAOgDAACIEwAAiBMAAOgDAAAQJwAAECcAAIgTAADoAwAAECcAABAnAABQwwAA6AMAABAnAAAQJwAAUMMAAICWmABAQg8AUMMAAKCGAQAKAAAAoIYBAAUAAABkAAAAQEIPAPQBAADoAwAA6AMAAGQAAACAlpgAiBMAAKCGAQAQJwAAECcAAKCGAQAQJwAAECcAAAoAAABkAAAA6AMAAKCGAQBQwwAAECcAAIgTAAAQJwAAoIYBABAnAACghgEAUMMAABAnAADoAwAAiBMAAIgTAAABAAAAiBMAAPQBAAAKAAAAECcAAIgTAAAQJwAAoIYBAKCGAQDoAwAAZAAAAGQAAAAKAAAACgAAAAEAAAAgoQcACgAAAAEAAAAFAAAAZAAAAGQAAAAKAAAAMgAAAOgDAACghgEAZAAAAKCGAQBQwwAAUMMAAGQAAAAKAAAA6AMAAOgDAAAKAAAA6AMAAOgDAADoAwAAQEIPAIgTAAAyAAAAIKEHABAnAABkAAAAMgAAAOgDAADoAwAAUMMAADIAAAAKAAAA6AMAABAnAAAKAAAAECcAAKCGAQCghgEAoIYBABAnAAAQJwAAECcAAIgTAABkAAAACgAAAGQAAAAKAAAAAQAAAPQBAADoAwAAoIYBABAnAAAQJwAAUMMAABAnAABkAAAAMgAAAIgTAABQwwAAECcAAKCGAQAQJwAAoIYBAKCGAQCghgEAECcAAPQBAABQwwAAoIYBAFDDAAAQJwAAUMMAAKCGAQBQwwAAMgAAAEBCDwCghgEACgAAADIAAABkAAAAMgAAABAnAAAQJwAACgAAACChBwDoAwAAECcAADIAAADoAwAAIKEHABAnAABkAAAAZAAAAEBCDwBQwwAA6AMAADIAAAD0AQAAUMMAAGQAAAAQJwAAoIYBAKCGAQBkAAAAZAAAABAnAAAyAAAA",
          "dtype": "i4"
         },
         "xaxis": "x",
         "y": {
          "bdata": "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",
          "dtype": "f8"
         },
         "yaxis": "y"
        },
        {
         "customdata": [
          [
           "Monash Uni Low FODMAP Diet",
           9
          ],
          [
           "iBP Blood Pressure",
           0.99
          ],
          [
           "Pedi STAT",
           5.49
          ],
          [
           "ASCCP Mobile",
           9.99
          ],
          [
           "Journal Club: Medicine",
           6.99
          ],
          [
           "Paramedic Protocol Provider",
           10
          ],
          [
           "MommyMeds",
           3.99
          ],
          [
           "Medical ID - In Case of Emergency (ICE)",
           5.99
          ],
          [
           "Human Anatomy Atlas 2018: Complete 3D Human Body",
           24.99
          ],
          [
           "Essential Anatomy 3",
           11.99
          ],
          [
           "Vargo Anesthesia Mega App",
           79.99
          ],
          [
           "EMT Review Plus",
           11.99
          ],
          [
           "Muscle Trigger Point Anatomy",
           2.99
          ],
          [
           "2017 EMRA Antibiotic Guide",
           16.99
          ],
          [
           "ASRA Coags",
           3.99
          ],
          [
           "IBM Micromedex Drug Info",
           2.99
          ],
          [
           "Diabetes & Diet Tracker",
           9.99
          ],
          [
           "VeinSeek",
           3.99
          ],
          [
           "Block Buddy",
           14.99
          ],
          [
           "Super Hearing Secret Voices Recorder PRO",
           2.99
          ],
          [
           "EMT Study - NREMT Test Prep",
           3.99
          ],
          [
           "Calcium Pro",
           2.99
          ],
          [
           "Arrhythmias and Dysrhythmias",
           1
          ],
          [
           "EMT PASS",
           29.99
          ],
          [
           "Pocket Lab Values",
           2.99
          ],
          [
           "Medical terms (OFFLINE)",
           2.99
          ],
          [
           "Cardiac diagnosis (heart rate, arrhythmia)",
           12.99
          ],
          [
           "ERres- Emergency Medicine",
           4.99
          ],
          [
           "FHR 5-Tier 2.0",
           2.99
          ],
          [
           "AnatomyMapp",
           14.99
          ],
          [
           "OptoDrum",
           5.99
          ],
          [
           "Migraine, Headache Diary HeadApp Pro",
           3.49
          ],
          [
           "Blood Pressure Companion",
           0.99
          ],
          [
           "Visual Anatomy 2",
           2.49
          ],
          [
           "Muscle Premium - Human Anatomy, Kinesiology, Bones",
           24.99
          ],
          [
           "CCHT PREP",
           10.99
          ],
          [
           "Paramedic Meds",
           1.99
          ],
          [
           "Advanced Comprehension Therapy",
           24.99
          ],
          [
           "OmniMedix Medical Calculator",
           4.99
          ],
          [
           "Breathing Zone",
           3.99
          ],
          [
           "Lab Values + Medical Reference",
           2.99
          ],
          [
           "Recognise Foot",
           7.49
          ],
          [
           "Anti Mosquito simulation",
           1.5
          ],
          [
           "Pain Tracker & Diary",
           2.99
          ],
          [
           "Menstrual Calendar Premium",
           3.99
          ],
          [
           "Whist - Tinnitus Relief",
           1.99
          ],
          [
           "Critical Care Paramedic Review",
           9.99
          ],
          [
           "With Helper Pro Pill Reminder",
           3.99
          ],
          [
           "Manage My Pain Pro",
           3.99
          ],
          [
           "End Anxiety Pro - Stress, Panic Attack Help",
           3.99
          ],
          [
           "Acupuncture Assistant",
           7.99
          ],
          [
           "Number Therapy",
           14.99
          ],
          [
           "InfantRisk Center HCP",
           9.99
          ],
          [
           "EMT Tutor NREMT-B Study Guide",
           3.99
          ],
          [
           "Hospitalist Handbook",
           19.99
          ],
          [
           "PTA Content Master",
           29.99
          ],
          [
           "Navi Radiography Pro",
           15.99
          ],
          [
           "Nursing Care Plan NANDA Tables",
           0.99
          ],
          [
           "A Manual of Acupuncture",
           33.99
          ],
          [
           "palmPEDi: Pediatric Tape",
           0.99
          ],
          [
           "Vargo Anesthesia Mega App",
           79.99
          ],
          [
           "Monash Uni Low FODMAP Diet",
           9
          ],
          [
           "Human Anatomy Atlas 2018: Complete 3D Human Body",
           24.99
          ],
          [
           "ASCCP Mobile",
           9.99
          ],
          [
           "Paramedic Protocol Provider",
           10
          ],
          [
           "2017 EMRA Antibiotic Guide",
           16.99
          ],
          [
           "Essential Anatomy 3",
           11.99
          ],
          [
           "EMT PASS",
           29.99
          ],
          [
           "Block Buddy",
           14.99
          ],
          [
           "Language Therapy: Aphasia",
           74.99
          ],
          [
           "EMT Review Plus",
           11.99
          ],
          [
           "Journal Club: Medicine",
           6.99
          ],
          [
           "Pedi STAT",
           5.49
          ],
          [
           "AnatomyMapp",
           14.99
          ],
          [
           "Diabetes & Diet Tracker",
           9.99
          ],
          [
           "A Manual of Acupuncture",
           33.99
          ],
          [
           "PTA Content Master",
           29.99
          ],
          [
           "Muscle Premium - Human Anatomy, Kinesiology, Bones",
           24.99
          ],
          [
           "Cardiac diagnosis (heart rate, arrhythmia)",
           12.99
          ],
          [
           "LTC AS Legal",
           39.99
          ],
          [
           "Medical ID - In Case of Emergency (ICE)",
           5.99
          ],
          [
           "IBM Micromedex Drug Info",
           2.99
          ],
          [
           "Advanced Comprehension Therapy",
           24.99
          ],
          [
           "Hospitalist Handbook",
           19.99
          ],
          [
           "Visualmed",
           2.99
          ],
          [
           "ABG Master",
           0.99
          ],
          [
           "OrthoFlow",
           5.99
          ],
          [
           "Be the Expert in Phlebotomy - Professional Nursing",
           0.99
          ],
          [
           "EMT Tutor NREMT-B Study Guide",
           3.99
          ],
          [
           "Cardio Z",
           5.99
          ],
          [
           "AF-STROKE",
           5
          ],
          [
           "Gravidez ao Vivo",
           2.99
          ],
          [
           "BG Monitor Diabetes Pro",
           5.99
          ],
          [
           "iBP Blood Pressure",
           0.99
          ],
          [
           "Blood Pressure Companion",
           0.99
          ],
          [
           "bpresso PRO",
           5.49
          ],
          [
           "CE Genius Nurses Edition",
           3.99
          ],
          [
           "Squeezy CF",
           2.99
          ],
          [
           "Emergency Brain CT",
           0.99
          ],
          [
           "Abdominal CT Sectional Walker",
           9.99
          ],
          [
           "Interactive CT and MRI Anatomy",
           15.46
          ],
          [
           "CT and XR Dose Calculator",
           0.99
          ],
          [
           "Chest CT Sectional Walker",
           9.99
          ],
          [
           "Radiological Anatomy For FRCR1",
           6.99
          ],
          [
           "Differential Dx",
           3.99
          ],
          [
           "Human Anatomy Atlas 2018: Complete 3D Human Body",
           24.99
          ],
          [
           "EP Calipers",
           0.99
          ],
          [
           "EP Coding",
           0.99
          ]
         ],
         "hovertemplate": "Category=MEDICAL<br>Number of Installs=%{x}<br>Revenue (USD)=%{y}<br>App=%{customdata[0]}<br>Price=%{customdata[1]}<extra></extra>",
         "legendgroup": "MEDICAL",
         "marker": {
          "color": "#FECB52",
          "symbol": "circle"
         },
         "mode": "markers",
         "name": "MEDICAL",
         "orientation": "v",
         "showlegend": true,
         "type": "scatter",
         "x": {
          "bdata": "oIYBABAnAAAQJwAAECcAABAnAAAQJwAAiBMAAIgTAACghgEAUMMAAOgDAAAQJwAAUMMAAOgDAADoAwAAECcAAOgDAADoAwAA6AMAAGQAAACIEwAAiBMAAPQBAADoAwAAECcAAOgDAABkAAAA6AMAAPQBAACIEwAA6AMAAPQBAADoAwAAiBMAABAnAADoAwAAECcAAGQAAADoAwAAiBMAABAnAADoAwAA6AMAAGQAAABQwwAA6AMAAOgDAACIEwAAiBMAAOgDAAAQJwAAMgAAAOgDAAAQJwAA6AMAAOgDAAD0AQAA9AEAAOgDAACIEwAA6AMAAKCGAQCghgEAECcAABAnAADoAwAAUMMAAOgDAADoAwAA6AMAABAnAAAQJwAAECcAAIgTAADoAwAA6AMAAOgDAAAQJwAAZAAAAGQAAACIEwAAECcAAGQAAADoAwAAAQAAADIAAAAKAAAAAQAAABAnAABkAAAAZAAAAOgDAAD0AQAAECcAAOgDAADoAwAAAQAAAAoAAAAKAAAAZAAAAOgDAAAyAAAAZAAAAGQAAAD0AQAAoIYBAGQAAAAyAAAA",
          "dtype": "i4"
         },
         "xaxis": "x",
         "y": {
          "bdata": "AAAAAEB3K0EAAAAAAFbDQAAAAACAzupAAAAAAMBj+EAAAAAAwBDxQAAAAAAAavhAAAAAAIB700AAAAAAgD/dQAAAAADcEENBAAAAAJhLIkEAAAAAYIfzQAAAAADARf1AAAAAAOA/AkEAAAAAgJfQQAAAAAAALK9AAQAAAAAz3UAAAAAAAIPDQAAAAAAALK9AAAAAAABHzUAAAAAAALByQAAAAACAe9NAAQAAAAAzzUAAAAAAAEB/QAAAAACASd1AAQAAAAAz3UAAAAAAAFynQAAAAAAATJRAAAAAAAB+s0AAAAAAAFyXQAAAAABgTPJAAAAAAABmt0AAAAAAAESbQAAAAAAA8I5AAQAAAABRyED/////X4EOQQAAAAAAd8VAAAAAAABv00AAAAAAAIajQAAAAAAAfrNAAAAAAIB700ABAAAAADPdQAAAAAAAQr1AAAAAAABwl0AAAAAAALByQAAAAABgWghBAAAAAAAYn0AAAAAAAIPDQAAAAACAe9NAAAAAAIB700AAAAAAACyvQAAAAADAgfNAAAAAAABsh0AAAAAAAIPDQAAAAACAe+NAAAAAAICF00AAAAAAgEndQAAAAAAAO79AAAAAAADwfkAAAAAAwJjgQAAAAAAAVrNAAAAAAGCH80AAAAAAQHcrQQAAAADcEENBAAAAAMBj+EAAAAAAAGr4QAAAAACAl9BAAAAAAJhLIkEAAAAAgEndQAAAAAAAR81AAAAAAOBO8kAAAAAAwEX9QAAAAADAEPFAAAAAAIDO6kAAAAAAYEzyQAAAAAAAg8NAAAAAAMCY4EAAAAAAgEndQP////9fgQ5BAAAAAABMlEAAAAAAAD6vQAAAAACAP91AAQAAAAAz3UAAAAAAAIajQAAAAACAhdNA7FG4HoXrB0AAAAAAAMBIQDQzMzMz801ArkfhehSu7z8AAAAAgHvjQAAAAAAAuIJAAAAAAABAf0AAAAAAAFynQAAAAAAAZqdAAAAAAABWw0AAAAAAAPCOQAAAAAAAcrVA7FG4HoXrD0BnZmZmZuY9QM3MzMzMzCNAAAAAAAA4j0AAAAAAADLOQAAAAAAAwEhAAAAAAAA4j0AAAAAAANiFQAAAAAAALJ9AAAAAANwQQ0EAAAAAAMBYQAAAAAAAwEhA",
          "dtype": "f8"
         },
         "yaxis": "y"
        },
        {
         "customdata": [
          [
           "Facetune - For Free",
           5.99
          ],
          [
           "Lapse It • Time Lapse • Pro",
           2.99
          ],
          [
           "Facetune - For Free",
           5.99
          ],
          [
           "Camera FV-5",
           3.95
          ],
          [
           "Facetune - For Free",
           5.99
          ],
          [
           "F-Stop Gallery Pro",
           4.99
          ],
          [
           "F Length Sim (no Ads)",
           2
          ],
          [
           "Arto: f.infrared photo",
           1.49
          ],
          [
           "Pocket AC",
           9.99
          ],
          [
           "NewTek NDI",
           19.99
          ],
          [
           "AI Draw | Art Filter for Selfie",
           2.99
          ],
          [
           "Ai-Ball AV Recorder",
           2.99
          ],
          [
           "BeFunky Photo Editor Pro",
           1.99
          ],
          [
           "BL 1-Click Camera",
           3.99
          ],
          [
           "Camera FV-5",
           3.95
          ],
          [
           "BlackCam Pro - B&W Camera",
           1.49
          ],
          [
           "LC-DB",
           3.49
          ],
          [
           "Guide to Nikon Df",
           29.99
          ],
          [
           "Cameringo+ Filters Camera",
           2.99
          ],
          [
           "LightMeter (noAds)",
           1.99
          ],
          [
           "PhotoFrame for Synology DS",
           4.99
          ],
          [
           "EF Lens Simulator",
           9.99
          ]
         ],
         "hovertemplate": "Category=PHOTOGRAPHY<br>Number of Installs=%{x}<br>Revenue (USD)=%{y}<br>App=%{customdata[0]}<br>Price=%{customdata[1]}<extra></extra>",
         "legendgroup": "PHOTOGRAPHY",
         "marker": {
          "color": "#636efa",
          "symbol": "circle"
         },
         "mode": "markers",
         "name": "PHOTOGRAPHY",
         "orientation": "v",
         "showlegend": true,
         "type": "scatter",
         "x": {
          "bdata": "QEIPAKCGAQBAQg8AoIYBAEBCDwAQJwAACgAAAPQBAADoAwAA6AMAAOgDAACIEwAAUMMAAGQAAACghgEAoIYBAAoAAAAKAAAAIKEHABAnAAAKAAAAZAAAAA==",
          "dtype": "i4"
         },
         "xaxis": "x",
         "y": {
          "bdata": "AAAAAJzZVkEAAAAA4D8SQQAAAACc2VZBAAAAAOAbGEEAAAAAnNlWQQAAAACAXehAAAAAAAAANEAAAAAAAEiHQAAAAAAAg8NAAAAAAICF00AAAAAAAFynQAEAAAAAM81AAAAAAMBK+EAAAAAAAPB4QAAAAADgGxhBAAAAAEAwAkE0MzMzM3NBQGZmZmZmvnJAAAAAANjPNkEAAAAAAG/TQDQzMzMz80hAAAAAAAA4j0A=",
          "dtype": "f8"
         },
         "yaxis": "y"
        },
        {
         "customdata": [
          [
           "Golfshot Plus: Golf GPS",
           29.99
          ],
          [
           "G-Force Driving Assistant",
           3.88
          ],
          [
           "O'Route Orienteering",
           3.02
          ],
          [
           "Mike V: Skateboard Party PRO",
           3.99
          ],
          [
           "True Skate",
           1.99
          ],
          [
           "Hunt Buddy BC",
           2.99
          ],
          [
           "iHunter BC",
           4.49
          ],
          [
           "iFish BC",
           3.99
          ],
          [
           "Basket Manager 2018 Pro",
           2.99
          ],
          [
           "Basket Manager 2016 Pro",
           0.99
          ],
          [
           "Basket Manager 2017 Pro",
           0.99
          ],
          [
           "BT Speed",
           4.8
          ],
          [
           "Dive-Store.ch",
           1.99
          ],
          [
           "Jetting for Honda CR dirt bike",
           3.49
          ],
          [
           "Absolute RC Heli Simulator",
           4.99
          ],
          [
           "Fodbold DK Pro",
           2.99
          ],
          [
           "Basketball Dynasty Manager 16",
           1.99
          ],
          [
           "PORTABLE SOCCER DX",
           1
          ],
          [
           "Active Soccer 2 DX",
           2.99
          ],
          [
           "LocaToWeb - Live GPS tracking",
           2.49
          ],
          [
           "FL SW Fishing Regulations",
           1.99
          ],
          [
           "FL Racing Manager 2015 Pro",
           0.99
          ],
          [
           "FL Racing Manager 2018 Pro",
           1.99
          ],
          [
           "Football Manager Mobile 2018",
           8.99
          ]
         ],
         "hovertemplate": "Category=SPORTS<br>Number of Installs=%{x}<br>Revenue (USD)=%{y}<br>App=%{customdata[0]}<br>Price=%{customdata[1]}<extra></extra>",
         "legendgroup": "SPORTS",
         "marker": {
          "color": "#EF553B",
          "symbol": "circle"
         },
         "mode": "markers",
         "name": "SPORTS",
         "orientation": "v",
         "showlegend": true,
         "type": "scatter",
         "x": {
          "bdata": "UMMAAGQAAABkAAAAUMMAAEBCDwCIEwAA6AMAAOgDAADoAwAA6AMAAOgDAAAKAAAABQAAAGQAAAAQJwAA6AMAAIgTAACIEwAA9AEAAOgDAADoAwAAiBMAAIgTAACghgEA",
          "dtype": "i4"
         },
         "xaxis": "x",
         "y": {
          "bdata": "AAAAAGzhNkEAAAAAAEB4QAAAAAAA4HJAAAAAAGBaCEEAAAAAcF0+QQEAAAAAM81AAAAAAACKsUAAAAAAACyvQAAAAAAAXKdAAAAAAADwjkAAAAAAAPCOQAAAAAAAAEhAZmZmZmbmI0AAAAAAANB1QAAAAACAXehAAAAAAABcp0AAAAAAAG/DQAAAAAAAiLNAAAAAAABcl0AAAAAAAHSjQAAAAAAAGJ9AAAAAAABWs0AAAAAAAG/DQAAAAABwbytB",
          "dtype": "f8"
         },
         "yaxis": "y"
        },
        {
         "customdata": [
          [
           "Beautiful Widgets Pro",
           2.49
          ],
          [
           "HD Widgets",
           0.99
          ],
          [
           "Kairo XP (for HD Widgets)",
           0.99
          ],
          [
           "BIG Launcher",
           9.99
          ],
          [
           "Smart Launcher Pro 3",
           4.49
          ],
          [
           "B-17 Flying Fortress WWII LWP",
           1.49
          ],
          [
           "Smart Launcher theme b. gold",
           1.99
          ],
          [
           "Next Launcher 3D Theme Hit-B",
           1.7
          ],
          [
           "C Locker Pro",
           2.99
          ],
          [
           "Neon Glow C - Icon Pack",
           0.99
          ],
          [
           "Koi Live Wallpaper",
           0.99
          ],
          [
           "F-1 watchface by Delta",
           2.49
          ],
          [
           "Next Launcher 3D Theme Hit-G",
           1.7
          ],
          [
           "Go",
           0.99
          ],
          [
           "G Theme 2 for LG V30, LG G6",
           1.49
          ],
          [
           "Dialer theme G Black Gold",
           1.49
          ],
          [
           "N Launcher Pro - Nougat 7.0",
           2.99
          ],
          [
           "Dark Infusion Substratum Theme for Android N & O",
           2.49
          ],
          [
           "Planet O - Icon Pack",
           0.99
          ],
          [
           "Prime Key for Nougat Launcher& O Launcher &KitKat",
           6.99
          ],
          [
           "Android P | Xperia™ Theme 4800+ icons",
           1.99
          ],
          [
           "Android P Home KLWP",
           1.49
          ],
          [
           "P-Home for KLWP",
           0.99
          ],
          [
           "[substratum] Vacuum: P",
           1.49
          ],
          [
           "[Sub/EMUI] P Pro - EMUI 8.1/8.0/5.X Theme",
           0.99
          ],
          [
           "Pacify Exceed (Android P) - Theme for Xperia™",
           1.49
          ],
          [
           "Theme Android P Design for LG V30",
           1.49
          ],
          [
           "Pistachio Launcher for Android P 9.0",
           1.49
          ],
          [
           "Theme Android P for LG G7 & V35",
           1.49
          ],
          [
           "Pacify (Android P theme) - Theme for Xperia™",
           0.99
          ],
          [
           "Theme Android P Black design for LG V30",
           1.49
          ],
          [
           "Theme Android P Black for LG G7 & V35",
           1.49
          ],
          [
           "Pureness Pacify (Android P) - Theme for Xperia™",
           1.49
          ],
          [
           "Android P Style Icon Pack",
           0.99
          ],
          [
           "Pixel Oreo/P Dark White AMOLED UI - Icon Pack",
           1.49
          ],
          [
           "Neon-R (Red)",
           0.99
          ],
          [
           "S Launcher Pro for Galaxy",
           4.99
          ],
          [
           "PitchBlack S - Samsung Substratum Theme “For Oreo”",
           1.99
          ],
          [
           "weather HD",
           1.99
          ],
          [
           "Light X - Icon Pack",
           0.99
          ],
          [
           "iLauncher OS 12 Pro - Phone X",
           2.99
          ],
          [
           "X Back - Icon Pack",
           0.99
          ],
          [
           "Space Z 🌏 🚀Icon Pack Theme",
           1.49
          ],
          [
           "Watch Face Swiss AJ-6",
           0.99
          ],
          [
           "AJ Gray Icon Pack",
           0.99
          ],
          [
           "AJ Gray Dark Icon Pack",
           0.99
          ],
          [
           "AJ Blue Icon Pack",
           0.99
          ],
          [
           "AJ Turquoise Dark Icon Pack",
           0.99
          ],
          [
           "AJ Orange Icon Pack",
           0.99
          ],
          [
           "AP Themes for Kustom/KLWP",
           1.49
          ],
          [
           "Glanceable Ap Watch Face",
           0.99
          ],
          [
           "Ultimate Watch 2 watch face",
           0.99
          ],
          [
           "Pujie Black Watch Face for Android Wear OS",
           1.99
          ],
          [
           "AX Watch for WatchMaker",
           0.99
          ],
          [
           "Ay Yıldız - Xperia Live Theme",
           0.99
          ],
          [
           "SLANGY-Perfect BK World Theme",
           4.85
          ],
          [
           "BL Holo Theme",
           2
          ],
          [
           "Watch Face BW Inter",
           0.99
          ],
          [
           "Beautiful Widgets Pro",
           2.49
          ],
          [
           "HD Widgets",
           0.99
          ],
          [
           "Color Changer Pro [root]",
           0.99
          ],
          [
           "Lollipop Launcher Plus",
           4.99
          ],
          [
           "Next Launcher 3D Bold-CF Theme",
           0.99
          ],
          [
           "FAV KWGT",
           0.99
          ],
          [
           "Pixxy KWGT",
           0.99
          ],
          [
           "CI 174 Gray Icon Pack",
           0.99
          ],
          [
           "CM Launcher 3D Pro💎",
           4.99
          ],
          [
           "Swift Dark CM / CM13 Theme",
           1.99
          ],
          [
           "OMEGA Black UI Theme - CM 12+",
           0.99
          ],
          [
           "Asiimov Skin - CS GO Icon Pack",
           2.49
          ],
          [
           "DK Primrose for KLWP",
           0.99
          ],
          [
           "MultiPicture Live Wallpaper dn",
           1.99
          ],
          [
           "Day Night Live Wallpaper (All)",
           2.49
          ],
          [
           "RETRO Shocked DW-6000",
           1.49
          ],
          [
           "DX Glow - Clock Widget",
           0.99
          ],
          [
           "EM Launcher Pro",
           3.99
          ],
          [
           "EU Flags Live Wallpaper",
           0.99
          ],
          [
           "ADWLauncher 1 EX",
           2.49
          ],
          [
           "Device Info Ex Live Wallpaper",
           0.99
          ],
          [
           "GO Contacts EX Black & Grey",
           0.99
          ],
          [
           "Circle Colors Pack-FN Theme",
           0.99
          ],
          [
           "FO Bixby",
           0.99
          ]
         ],
         "hovertemplate": "Category=PERSONALIZATION<br>Number of Installs=%{x}<br>Revenue (USD)=%{y}<br>App=%{customdata[0]}<br>Price=%{customdata[1]}<extra></extra>",
         "legendgroup": "PERSONALIZATION",
         "marker": {
          "color": "#00cc96",
          "symbol": "circle"
         },
         "mode": "markers",
         "name": "PERSONALIZATION",
         "orientation": "v",
         "showlegend": true,
         "type": "scatter",
         "x": {
          "bdata": "QEIPAEBCDwAQJwAAECcAAKCGAQBkAAAAiBMAAOgDAAAQJwAAECcAAKCGAQAKAAAA6AMAAIgTAAD0AQAA9AEAAKCGAQDoAwAAECcAAIgTAABkAAAABQAAAGQAAADoAwAAZAAAAAoAAAD0AQAAAQAAAGQAAAAKAAAAZAAAAGQAAAABAAAAZAAAAIgTAABkAAAA6AMAAOgDAAAQJwAAECcAADIAAAAQJwAA6AMAAGQAAAAyAAAACgAAADIAAAAKAAAACgAAAPQBAAAFAAAAECcAAKCGAQABAAAACgAAADIAAAD0AQAA6AMAAEBCDwBAQg8A6AMAAOgDAADoAwAA6AMAAOgDAAAKAAAAoIYBABAnAABkAAAAZAAAAAEAAAAQJwAAUMMAAGQAAAAyAAAA6AMAABAnAAAgoQcAUMMAAPQBAAAyAAAAZAAAAA==",
          "dtype": "i4"
         },
         "xaxis": "x",
         "y": {
          "bdata": "AAAAAEj/QkEAAAAAYDYuQQAAAAAAVsNAAAAAAMBj+EAAAAAAoGcbQQAAAAAAoGJAAAAAAABvw0AAAAAAAJCaQAEAAAAAM91AAAAAAABWw0AAAAAAgCv4QGdmZmZm5jhAAAAAAACQmkAAAAAAAFazQAAAAAAASIdAAAAAAABIh0AAAAAA4D8SQQAAAAAAdKNAAAAAAABWw0AAAAAAwBDhQAAAAAAA4GhAzczMzMzMHUAAAAAAAMBYQAAAAAAASJdAAAAAAADAWEDNzMzMzMwtQAAAAAAASIdA16NwPQrX9z8AAAAAAKBiQM3MzMzMzCNAAAAAAACgYkAAAAAAAKBiQNejcD0K1/c/AAAAAADAWEAAAAAAABq9QAAAAAAAwFhAAAAAAAB+s0AAAAAAABifQAAAAAAAb9NAAAAAAABWw0AAAAAAALBiQAAAAAAAVsNAAAAAAABIl0AAAAAAAMBYQAAAAAAAwEhAzczMzMzMI0AAAAAAAMBIQM3MzMzMzCNAzczMzMzMI0AAAAAAAEiHQM3MzMzMzBNAAAAAAABWw0AAAAAAwEoIQa5H4XoUru8/zczMzMzMI0D//////09uQAAAAAAAQI9AAAAAAADwjkAAAAAASP9CQQAAAABgNi5BAAAAAADwjkAAAAAAAH6zQAAAAAAA8I5AAAAAAADwjkAAAAAAAPCOQM3MzMzMzCNAAAAAAOB0HkEAAAAAAG/TQAAAAAAAwFhAAQAAAAAgb0CuR+F6FK7vPwAAAAAAb9NAAQAAAEBl/kAAAAAAAKBiQAAAAAAAwEhAAAAAAAAsr0AAAAAAAFbDQAAAAABI/zJBAAAAAIAr6EAAAAAAAPB+QAAAAAAAwEhAAAAAAADAWEA=",
          "dtype": "f8"
         },
         "yaxis": "y"
        },
        {
         "customdata": [
          [
           "aCalendar+ Calendar & Tasks",
           5.99
          ],
          [
           "Ramfer - CNC Lathe G-code Tool",
           2.99
          ],
          [
           "m>notes notepad",
           2.99
          ],
          [
           "Ad Removal: thereisonlywe",
           6.49
          ],
          [
           "Ad Remove Plugin for App2SD",
           1.29
          ],
          [
           "F05WatchFace for Android Wear",
           0.99
          ],
          [
           "PROFESSOR SEE-BA LINGUAGENS E SUAS TECNOLOGIAS",
           2.99
          ],
          [
           "Business Calendar Pro",
           4.99
          ],
          [
           "BI Barcode Scanner",
           0.99
          ],
          [
           "QR Code Pro",
           4.49
          ],
          [
           "California Cop Assist CA Cop",
           4.99
          ],
          [
           "CI Attendance",
           0.99
          ],
          [
           "CamScanner (License)",
           1.99
          ],
          [
           "Pocket RxTx Pro",
           3.99
          ],
          [
           "ACCDB MDB DB Manager Pro - Editor for MS Access",
           8.99
          ],
          [
           "Técnico Legislativo Câmara Legislativa DF",
           2.99
          ],
          [
           "Cargo de Praça PM DF",
           2.99
          ],
          [
           "Diseño de columnas NTC - RSEE 2017",
           0.99
          ],
          [
           "DL Image Manager",
           0.99
          ],
          [
           "MC.Fitting",
           8.49
          ],
          [
           "myGrow",
           4.29
          ],
          [
           "Ability DS UNO",
           2.6
          ],
          [
           "Inventory & Barcode scanner & WIFI scanner",
           1.49
          ],
          [
           "ES File Explorer/Manager PRO",
           2.99
          ],
          [
           "EX File Explorer File Manage Pro",
           1.99
          ],
          [
           "Organizer",
           2.99
          ],
          [
           "Police Field Interview FI Card",
           7.99
          ]
         ],
         "hovertemplate": "Category=PRODUCTIVITY<br>Number of Installs=%{x}<br>Revenue (USD)=%{y}<br>App=%{customdata[0]}<br>Price=%{customdata[1]}<extra></extra>",
         "legendgroup": "PRODUCTIVITY",
         "marker": {
          "color": "#ab63fa",
          "symbol": "circle"
         },
         "mode": "markers",
         "name": "PRODUCTIVITY",
         "orientation": "v",
         "showlegend": true,
         "type": "scatter",
         "x": {
          "bdata": "oIYBAGQAAADoAwAAZAAAAOgDAADoAwAACgAAAKCGAQAKAAAAoIYBAGQAAAAFAAAAIKEHAIgTAAD0AQAACgAAAAoAAABkAAAACgAAAOgDAADoAwAAMgAAAFDDAAAgoQcAMgAAAFDDAADoAwAA",
          "dtype": "i4"
         },
         "xaxis": "x",
         "y": {
          "bdata": "AAAAALBHIkEAAAAAALByQAAAAAAAXKdAAAAAAABIhEAAAAAAACiUQAAAAAAA8I5AZ2ZmZmbmPUAAAAAA4HQeQc3MzMzMzCNAAAAAAKBnG0EAAAAAADB/QM3MzMzMzBNAAAAAAHBdLkEAAAAAgHvTQAAAAAAAj7FAZ2ZmZmbmPUBnZmZmZuY9QAAAAAAAwFhAzczMzMzMI0AAAAAAAJXAQAAAAAAAwrBAAAAAAABAYEAAAAAAQDDyQAAAAADYzzZBAAAAAADgWEAAAAAA4D8CQQAAAAAANr9A",
          "dtype": "f8"
         },
         "yaxis": "y"
        },
        {
         "customdata": [
          [
           "Weather Live Pro",
           4.49
          ],
          [
           "Weather Live",
           5.99
          ],
          [
           "W Pro - Weather Forecast & Animated Weather Maps",
           1.99
          ],
          [
           "MyRadar NOAA Weather Radar Ad Free",
           2.99
          ],
          [
           "Weather & Radar Pro - Ad-Free",
           2.99
          ],
          [
           "Weather Data CH",
           2.99
          ],
          [
           "Weather Forecast Pro",
           3.99
          ],
          [
           "Florida Tides & Weather",
           6.99
          ]
         ],
         "hovertemplate": "Category=WEATHER<br>Number of Installs=%{x}<br>Revenue (USD)=%{y}<br>App=%{customdata[0]}<br>Price=%{customdata[1]}<extra></extra>",
         "legendgroup": "WEATHER",
         "marker": {
          "color": "#FFA15A",
          "symbol": "circle"
         },
         "mode": "markers",
         "name": "WEATHER",
         "orientation": "v",
         "showlegend": true,
         "type": "scatter",
         "x": {
          "bdata": "oIYBACChBwD0AQAAECcAAKCGAQD0AQAAoIYBAOgDAAA=",
          "dtype": "i4"
         },
         "xaxis": "x",
         "y": {
          "bdata": "AAAAAKBnG0EAAAAAnNlGQQAAAAAAGI9AAQAAAAAz3UAAAAAA4D8SQQAAAAAAXJdAAAAAAGBaGEEAAAAAAE67QA==",
          "dtype": "f8"
         },
         "yaxis": "y"
        },
        {
         "customdata": [
          [
           "ADS-B Driver",
           1.99
          ],
          [
           "G Cloud Apps Backup Key * root",
           4.99
          ],
          [
           "G-Playlists",
           1.49
          ],
          [
           "G-NetTrack Pro",
           14.99
          ],
          [
           "G-NetReport Pro",
           25.99
          ],
          [
           "G-NetWiFi Pro",
           5.99
          ],
          [
           "Volume Slider Like Android P Volume Control",
           0.99
          ],
          [
           "Q-slope",
           1.76
          ],
          [
           "I Can't Wake Up!",
           2.99
          ],
          [
           "X-Plane to GPS",
           0.99
          ],
          [
           "Decibel X PRO - Sound Meter dBA, Noise Detector",
           3.99
          ],
          [
           "X Home Bar - Home Bar Gesture Pro",
           1.99
          ],
          [
           "ZArchiver Donate",
           2.5
          ],
          [
           "FVD Ad-Free",
           1.99
          ],
          [
           "Vpn Hosts (ad blocker & no root & support ipv6 )",
           2.99
          ],
          [
           "RAM Cleanup Ad-Free Option",
           2.99
          ],
          [
           "Easy Hotspot Ad Free",
           0.99
          ],
          [
           "AH Alarm Panel",
           4.99
          ],
          [
           "Message AI - Write Better Messages",
           2.99
          ],
          [
           "ap,wifi testing,iperf,ping,android,Bluetooth,tcp",
           2.99
          ],
          [
           "AV Tools Pro",
           2.49
          ],
          [
           "Analog Clock AW-7 PRO",
           1.99
          ],
          [
           "Analog and Digital Clock AW-7PRO",
           1.99
          ],
          [
           "Droid PRoCon BF3",
           0.99
          ],
          [
           "BusyBox Pro",
           2.49
          ],
          [
           "Power Widget",
           1.99
          ],
          [
           "BL File Explorer",
           1.99
          ],
          [
           "BL IP-Camera",
           3.99
          ],
          [
           "BL PowerPoint Remote",
           3.99
          ],
          [
           "BatControl Pro",
           3.99
          ],
          [
           "Sam.BN Pro",
           0.99
          ],
          [
           "BS Match Maker Premium",
           0.99
          ],
          [
           "Little Magnet BT Pro",
           0.99
          ],
          [
           "Battery Notifier Pro BT",
           2.59
          ],
          [
           "USB BT Wi-Fi Color Terminal Modem",
           8.99
          ],
          [
           "Bixby Button Remapper - bxActions Pro / Coffee",
           2.99
          ],
          [
           "Trinomial Factoring Wizard",
           0.99
          ],
          [
           "CB Frequencies",
           0.99
          ],
          [
           "Antenna Tool Premium",
           0.99
          ],
          [
           "Frequencies",
           0.99
          ],
          [
           "CF-Bench Pro",
           1.49
          ],
          [
           "Battery HD Pro",
           3.99
          ],
          [
           "Automagic * Automation",
           3.9
          ],
          [
           "FlashLight HD LED Pro",
           2.99
          ],
          [
           "UFO-CQ",
           0.99
          ],
          [
           "25WPM Amateur ham radio Koch CW Morse code trainer",
           1.49
          ],
          [
           "DCUO|CR Calculator Pro",
           0.99
          ],
          [
           "Servidor Privado CR y CoC - Royale Servers PRO",
           1.99
          ],
          [
           "CZ-Cyberon Voice Commander",
           5.99
          ],
          [
           "Scale Models DB",
           2.99
          ],
          [
           "ReDNAKET DB Normalization Tool",
           0.99
          ],
          [
           "db Meter - sound level meter with data logging",
           1.49
          ],
          [
           "Droidbug BusyBox Advance PRO",
           3.99
          ],
          [
           "Penny Puss",
           4.99
          ],
          [
           "Advanced Download Manager Pro",
           2.99
          ],
          [
           "DM Die Roller 9000",
           0.99
          ],
          [
           "Deep Sleep Battery Saver Pro",
           3.28
          ],
          [
           "iCam - Webcam Video Streaming",
           4.99
          ],
          [
           "DW Contacts widget",
           0.99
          ],
          [
           "KeePass DX Pro",
           5.99
          ],
          [
           "Electrician Calculator Pro",
           14.99
          ],
          [
           "EC music dictionary",
           1.99
          ],
          [
           "Silence Premium Do Not Disturb",
           2.95
          ],
          [
           "Trazado de tuberia El Tubero",
           1.97
          ],
          [
           "ai.type keyboard Plus + Emoji",
           4.49
          ],
          [
           "Tasker",
           2.99
          ],
          [
           "Advanced EX for HYUNDAI",
           4.99
          ],
          [
           "Advanced EX for MITSUBISHI",
           4.99
          ],
          [
           "Advanced EX for KIA",
           4.99
          ],
          [
           "Advanced EX for NISSAN",
           4.99
          ],
          [
           "Advanced EX for FIAT",
           4.99
          ],
          [
           "Advanced EX for RENAULT",
           4.99
          ],
          [
           "Volume Control Ex",
           1.49
          ],
          [
           "FiSwitch",
           1.99
          ],
          [
           "WiFi Monitor Pro - analyzer of Wi-Fi networks",
           2.99
          ],
          [
           "Wi-Fi Rabbit Unlock Key",
           1
          ],
          [
           "FJ Toolkit",
           1.49
          ],
          [
           "Kernel Manager for Franco Kernel ✨",
           3.49
          ]
         ],
         "hovertemplate": "Category=TOOLS<br>Number of Installs=%{x}<br>Revenue (USD)=%{y}<br>App=%{customdata[0]}<br>Price=%{customdata[1]}<extra></extra>",
         "legendgroup": "TOOLS",
         "marker": {
          "color": "#19d3f3",
          "symbol": "circle"
         },
         "mode": "markers",
         "name": "TOOLS",
         "orientation": "v",
         "showlegend": true,
         "type": "scatter",
         "x": {
          "bdata": "ZAAAAIgTAADoAwAAiBMAAAoAAABkAAAAECcAADIAAAAQJwAAiBMAAOgDAAAQJwAAECcAABAnAAAQJwAAECcAAAoAAABkAAAAZAAAAAoAAADoAwAA6AMAAGQAAACIEwAAoIYBABAnAAAyAAAAZAAAAPQBAAD0AQAACgAAAAoAAADoAwAAECcAAAUAAAAQJwAA6AMAAGQAAAD0AQAA9AEAAOgDAACghgEAECcAAFDDAAAKAAAACgAAAPQBAABkAAAA6AMAADIAAAAKAAAAAQAAAGQAAADoAwAAUMMAAAUAAAAQJwAAECcAAOgDAABkAAAA6AMAAPQBAAAQJwAAECcAAKCGAQBAQg8AiBMAAOgDAACIEwAAiBMAAIgTAACIEwAAZAAAABAnAADoAwAAiBMAAGQAAACghgEA",
          "dtype": "i4"
         },
         "xaxis": "x",
         "y": {
          "bdata": "AAAAAADgaEAAAAAAgF3YQAAAAAAASJdAAAAAAGBM8kBmZmZmZj5wQAAAAAAAuIJAAAAAAABWw0AAAAAAAABWQAEAAAAAM91AAAAAAABWs0AAAAAAACyvQAAAAAAAb9NAAAAAAABq2EAAAAAAAG/TQAEAAAAAM91AAQAAAAAz3UDNzMzMzMwjQAAAAAAAMH9AAAAAAACwckBnZmZmZuY9QAAAAAAAdKNAAAAAAAAYn0AAAAAAAOBoQAAAAAAAVrNAAQAAAEBlDkEAAAAAAG/TQAAAAAAA4FhAAAAAAADweEAAAAAAACyfQAAAAAAALJ9AzczMzMzMI0DNzMzMzMwjQAAAAAAA8I5AAAAAAABL2UCamZmZmXlGQAEAAAAAM91AAAAAAADwjkAAAAAAAMBYQAAAAAAA8H5AAAAAAADwfkAAAAAAAEiXQAAAAABgWhhBAAAAAAAL40AAAAAA4D8CQc3MzMzMzCNAzczMzMzMLUAAAAAAAPB+QAAAAAAA4GhAAAAAAABmt0AAAAAAALBiQM3MzMzMzCNA16NwPQrX9z8AAAAAAPB4QAAAAAAAfrNAAAAAAOA/AkHNzMzMzMwTQAAAAAAABOBAAAAAAIBd6EAAAAAAAPCOQAAAAAAAuIJAAAAAAABHzUAAAAAAABiPQAAAAAAAz9xAAAAAAAA900AAAAAAoGcbQQAAAADYz0ZBAAAAAIBd2EAAAAAAAH6zQAAAAACAXdhAAAAAAIBd2EAAAAAAgF3YQAAAAACAXdhAAAAAAACgYkAAAAAAAG/TQAAAAAAAXKdAAAAAAACIs0AAAAAAAKBiQAAAAAAgTRVB",
          "dtype": "f8"
         },
         "yaxis": "y"
        },
        {
         "customdata": [
          [
           "Maps & GPS Navigation OsmAnd+",
           8.99
          ],
          [
           "Greater London A-Z 2016",
           8.49
          ],
          [
           "Es-Bg Offline Voice Translator",
           1.49
          ],
          [
           "Ultimate Public Campgrounds (Over 37,100 in US&CA)",
           3.99
          ],
          [
           "Navigator PRO - GPS Navigation with Offline Maps",
           2.49
          ],
          [
           "D.C. Driving/Walking Tours",
           4.99
          ],
          [
           "DC Metro Transit",
           2.99
          ],
          [
           "Monastery of El Escorial",
           1.99
          ],
          [
           "YouCamp EU",
           2.56
          ],
          [
           "Campervan.Guide Pro",
           5.99
          ],
          [
           "XE Currency Pro",
           1.99
          ]
         ],
         "hovertemplate": "Category=TRAVEL_AND_LOCAL<br>Number of Installs=%{x}<br>Revenue (USD)=%{y}<br>App=%{customdata[0]}<br>Price=%{customdata[1]}<extra></extra>",
         "legendgroup": "TRAVEL_AND_LOCAL",
         "marker": {
          "color": "#FF6692",
          "symbol": "circle"
         },
         "mode": "markers",
         "name": "TRAVEL_AND_LOCAL",
         "orientation": "v",
         "showlegend": true,
         "type": "scatter",
         "x": {
          "bdata": "oIYBAOgDAAAKAAAAiBMAAFDDAAAyAAAAiBMAAOgDAADoAwAAECcAABAnAAA=",
          "dtype": "i4"
         },
         "xaxis": "x",
         "y": {
          "bdata": "AAAAAHBvK0EAAAAAAJXAQM3MzMzMzC1AAAAAAIB700ABAAAAQGX+QAAAAAAAMG9AAQAAAAAzzUAAAAAAABifQAAAAAAAAKRAAAAAAIA/7UAAAAAAAG/TQA==",
          "dtype": "f8"
         },
         "yaxis": "y"
        },
        {
         "customdata": [
          [
           "A41 WatchFace for Android Wear Smart Watch",
           0.99
          ],
          [
           "H*nest Meditation",
           1.99
          ],
          [
           "💎 I'm rich",
           399.99
          ],
          [
           "I'm Rich - Trump Edition",
           400
          ],
          [
           "Kicker U",
           3.99
          ],
          [
           "Alarmy (Sleep If U Can) - Pro",
           2.49
          ],
          [
           "I am rich",
           399.99
          ],
          [
           "I am rich VIP",
           299.99
          ],
          [
           "I am extremely Rich",
           379.99
          ],
          [
           "I am Rich Person",
           37.99
          ],
          [
           "I am Millionaire - Richest guy in the town",
           2.49
          ],
          [
           "Sleep as Android Unlock",
           5.99
          ],
          [
           "Lunar Calendar",
           4.99
          ],
          [
           "Board Game Stats: Play tracking for tabletop games",
           2.99
          ],
          [
           "CA Speakers",
           0.99
          ],
          [
           "My Movies Pro - Movie & TV Collection Library",
           7.99
          ],
          [
           "AC DC Power Monitor",
           3.04
          ],
          [
           "The Secret Daily Teachings",
           4.99
          ]
         ],
         "hovertemplate": "Category=LIFESTYLE<br>Number of Installs=%{x}<br>Revenue (USD)=%{y}<br>App=%{customdata[0]}<br>Price=%{customdata[1]}<extra></extra>",
         "legendgroup": "LIFESTYLE",
         "marker": {
          "color": "#B6E880",
          "symbol": "circle"
         },
         "mode": "markers",
         "name": "LIFESTYLE",
         "orientation": "v",
         "showlegend": true,
         "type": "scatter",
         "x": {
          "bdata": "iBMAAIgTAAAQJwAAECcAAIgTAAAQJwAAoIYBABAnAADoAwAA6AMAAIgTAABAQg8A6AMAAIgTAABkAAAAECcAAAoAAADoAwAA",
          "dtype": "i4"
         },
         "xaxis": "x",
         "y": {
          "bdata": "AAAAAABWs0AAAAAAAG/DQAAAAABOhE5BAAAAAICETkEAAAAAgHvTQAEAAAAAUdhAAAAAwLASg0EAAAAALuNGQQAAAABYMRdBAAAAAMCM4kABAAAAAFHIQAAAAACc2VZBAAAAAAB+s0ABAAAAADPNQAAAAAAAwFhAAAAAAMCB80BmZmZmZmY+QAAAAAAAfrNA",
          "dtype": "f8"
         },
         "yaxis": "y"
        },
        {
         "customdata": [
          [
           "Ulysse Speedometer Pro",
           1.99
          ],
          [
           "FORD V SERIES CALC - NO LIMIT",
           9.99
          ],
          [
           "Билеты ПДД CD 2019 PRO",
           1.49
          ]
         ],
         "hovertemplate": "Category=AUTO_AND_VEHICLES<br>Number of Installs=%{x}<br>Revenue (USD)=%{y}<br>App=%{customdata[0]}<br>Price=%{customdata[1]}<extra></extra>",
         "legendgroup": "AUTO_AND_VEHICLES",
         "marker": {
          "color": "#FF97FF",
          "symbol": "circle"
         },
         "mode": "markers",
         "name": "AUTO_AND_VEHICLES",
         "orientation": "v",
         "showlegend": true,
         "type": "scatter",
         "x": {
          "bdata": "UMMAADIAAABkAAAA",
          "dtype": "i4"
         },
         "xaxis": "x",
         "y": {
          "bdata": "AAAAAMBK+EAAAAAAADh/QAAAAAAAoGJA",
          "dtype": "f8"
         },
         "yaxis": "y"
        },
        {
         "customdata": [
          [
           "Q Alerts: QAnon Drop Notifications, Research +++",
           0.99
          ],
          [
           "Égalité et Réconciliation",
           2.99
          ]
         ],
         "hovertemplate": "Category=NEWS_AND_MAGAZINES<br>Number of Installs=%{x}<br>Revenue (USD)=%{y}<br>App=%{customdata[0]}<br>Price=%{customdata[1]}<extra></extra>",
         "legendgroup": "NEWS_AND_MAGAZINES",
         "marker": {
          "color": "#FECB52",
          "symbol": "circle"
         },
         "mode": "markers",
         "name": "NEWS_AND_MAGAZINES",
         "orientation": "v",
         "showlegend": true,
         "type": "scatter",
         "x": {
          "bdata": "iBP0AQ==",
          "dtype": "i2"
         },
         "xaxis": "x",
         "y": {
          "bdata": "AAAAAABWs0AAAAAAAFyXQA==",
          "dtype": "f8"
         },
         "yaxis": "y"
        },
        {
         "customdata": [
          [
           "Shopping List S PRO",
           2.49
          ],
          [
           "Penny Finder",
           2.99
          ]
         ],
         "hovertemplate": "Category=SHOPPING<br>Number of Installs=%{x}<br>Revenue (USD)=%{y}<br>App=%{customdata[0]}<br>Price=%{customdata[1]}<extra></extra>",
         "legendgroup": "SHOPPING",
         "marker": {
          "color": "#636efa",
          "symbol": "circle"
         },
         "mode": "markers",
         "name": "SHOPPING",
         "orientation": "v",
         "showlegend": true,
         "type": "scatter",
         "x": {
          "bdata": "ZAAQJw==",
          "dtype": "i2"
         },
         "xaxis": "x",
         "y": {
          "bdata": "AQAAAAAgb0ABAAAAADPdQA==",
          "dtype": "f8"
         },
         "yaxis": "y"
        },
        {
         "customdata": [
          [
           "Don't Panic with Andrew J.",
           2.99
          ],
          [
           "Hey AJ! It's Saturday!",
           3.99
          ],
          [
           "Al'Quran Bahasa Indonesia PRO",
           4.49
          ],
          [
           "BC MVA Fines",
           1.75
          ],
          [
           "17th Edition Cable Sizer",
           3.08
          ],
          [
           "ch-mm Dict",
           1.96
          ],
          [
           "CZ-70 (CZ-50) pistol explained",
           5.99
          ],
          [
           "CZ-52 pistol explained",
           5.99
          ],
          [
           "CZ-27 pistol explained",
           5.99
          ],
          [
           "CZ-45 pistol explained",
           5.49
          ],
          [
           "Pistolet CZ-70 CZ-50 expliqué",
           5.99
          ],
          [
           "CZ-38 (vz 38) pistol explained",
           5.99
          ],
          [
           "Reksio cz. 1",
           0.99
          ],
          [
           "10,000 Quotes DB (Premium)",
           0.99
          ],
          [
           "Dungeons and Dragons DM Tools",
           1.99
          ],
          [
           "Cossack Dictionary (DN)",
           2.99
          ],
          [
           "Officiel du SCRABBLE LAROUSSE",
           4.6
          ],
          [
           "Schlaumeier",
           0.99
          ],
          [
           "O Céu e o Inferno",
           0.99
          ],
          [
           "EU RCD Guide",
           3.61
          ],
          [
           "FN pistol Model 1906 explained",
           5.49
          ],
          [
           "FN pistol model 1903 explained",
           6.49
          ],
          [
           "The FN \"Baby\" pistol explained",
           5.99
          ],
          [
           "FN FAL rifle explained",
           6.49
          ],
          [
           "The FN HP pistol explained",
           6.49
          ],
          [
           "FN model 1900 pistol explained",
           6.49
          ],
          [
           "Pistolet FN GP35 expliqué",
           5.99
          ],
          [
           "Pistolet FN 1906 expliqué",
           5.49
          ]
         ],
         "hovertemplate": "Category=BOOKS_AND_REFERENCE<br>Number of Installs=%{x}<br>Revenue (USD)=%{y}<br>App=%{customdata[0]}<br>Price=%{customdata[1]}<extra></extra>",
         "legendgroup": "BOOKS_AND_REFERENCE",
         "marker": {
          "color": "#EF553B",
          "symbol": "circle"
         },
         "mode": "markers",
         "name": "BOOKS_AND_REFERENCE",
         "orientation": "v",
         "showlegend": true,
         "type": "scatter",
         "x": {
          "bdata": "iBNkABAnMgDoAwoACgAKAAoACgABAAUACgD0AegDCgCIEwUA9AEKAAoACgAKAAoACgAKAAUACgA=",
          "dtype": "i2"
         },
         "xaxis": "x",
         "y": {
          "bdata": "AQAAAAAzzUAAAAAAAPB4QAAAAACA7OVAAAAAAADgVUAAAAAAABCoQJqZmZmZmTNANDMzMzPzTUA0MzMzM/NNQDQzMzMz801ANDMzMzNzS0D2KFyPwvUXQDQzMzMz8z1AzczMzMzMI0AAAAAAAPB+QAAAAAAAGJ9AZ2ZmZmbmPUAAAAAAAHbWQM3MzMzMzBNAAAAAAADwfkDNzMzMzAxCQDQzMzMzc0tAmpmZmZk5UEA0MzMzM/NNQJqZmZmZOVBAmpmZmZk5UECamZmZmTlQQDQzMzMz8z1ANDMzMzNzS0A=",
          "dtype": "f8"
         },
         "yaxis": "y"
        },
        {
         "customdata": [
          [
           "W-History Standalone",
           0.99
          ],
          [
           "WhatsFake Pro (Ad free)",
           0.99
          ]
         ],
         "hovertemplate": "Category=SOCIAL<br>Number of Installs=%{x}<br>Revenue (USD)=%{y}<br>App=%{customdata[0]}<br>Price=%{customdata[1]}<extra></extra>",
         "legendgroup": "SOCIAL",
         "marker": {
          "color": "#00cc96",
          "symbol": "circle"
         },
         "mode": "markers",
         "name": "SOCIAL",
         "orientation": "v",
         "showlegend": true,
         "type": "scatter",
         "x": {
          "bdata": "6AOIEw==",
          "dtype": "i2"
         },
         "xaxis": "x",
         "y": {
          "bdata": "AAAAAADwjkAAAAAAAFazQA==",
          "dtype": "f8"
         },
         "yaxis": "y"
        },
        {
         "customdata": [
          [
           "X Launcher Pro: PhoneX Theme, OS11 Control Center",
           1.99
          ],
          [
           "X Launcher Pro - IOS Style Theme & Control Center",
           1.99
          ],
          [
           "X Launcher Prime: With OS Style Theme & No Ads",
           1.99
          ]
         ],
         "hovertemplate": "Category=ART_AND_DESIGN<br>Number of Installs=%{x}<br>Revenue (USD)=%{y}<br>App=%{customdata[0]}<br>Price=%{customdata[1]}<extra></extra>",
         "legendgroup": "ART_AND_DESIGN",
         "marker": {
          "color": "#ab63fa",
          "symbol": "circle"
         },
         "mode": "markers",
         "name": "ART_AND_DESIGN",
         "orientation": "v",
         "showlegend": true,
         "type": "scatter",
         "x": {
          "bdata": "iBMQJ+gD",
          "dtype": "i2"
         },
         "xaxis": "x",
         "y": {
          "bdata": "AAAAAABvw0AAAAAAAG/TQAAAAAAAGJ9A",
          "dtype": "f8"
         },
         "yaxis": "y"
        },
        {
         "customdata": [
          [
           "Flud (Ad free)",
           1.49
          ],
          [
           "tTorrent - ad free",
           1.99
          ],
          [
           "BSPlayer",
           5.99
          ],
          [
           "Online TV CZ/SK PRO",
           0.99
          ]
         ],
         "hovertemplate": "Category=VIDEO_PLAYERS<br>Number of Installs=%{x}<br>Revenue (USD)=%{y}<br>App=%{customdata[0]}<br>Price=%{customdata[1]}<extra></extra>",
         "legendgroup": "VIDEO_PLAYERS",
         "marker": {
          "color": "#FFA15A",
          "symbol": "circle"
         },
         "mode": "markers",
         "name": "VIDEO_PLAYERS",
         "orientation": "v",
         "showlegend": true,
         "type": "scatter",
         "x": {
          "bdata": "ECcAABAnAABQwwAA6AMAAA==",
          "dtype": "i4"
         },
         "xaxis": "x",
         "y": {
          "bdata": "AAAAAAAazUAAAAAAAG/TQAAAAACwRxJBAAAAAADwjkA=",
          "dtype": "f8"
         },
         "yaxis": "y"
        },
        {
         "customdata": [
          [
           "I Am Rich Premium",
           399.99
          ],
          [
           "I am Rich!",
           399.99
          ],
          [
           "I am rich(premium)",
           399.99
          ],
          [
           "I am Rich Premium Plus",
           18.99
          ],
          [
           "I am rich (Most expensive app)",
           399.99
          ],
          [
           "I am Rich",
           399.99
          ],
          [
           "I AM RICH PRO PLUS",
           399.99
          ],
          [
           "Ba Financial Calculator plus",
           3.99
          ],
          [
           "Financial Calculator BA Chien.",
           3.99
          ],
          [
           "BA Pro Financial Calculator",
           1.99
          ],
          [
           "My Budget Book",
           2.99
          ],
          [
           "Bitcoin BX Thailand PRO",
           4.99
          ],
          [
           "amm dz",
           5.99
          ],
          [
           "Dz kayas",
           28.99
          ],
          [
           "Ray Financial Calculator Pro",
           2.99
          ]
         ],
         "hovertemplate": "Category=FINANCE<br>Number of Installs=%{x}<br>Revenue (USD)=%{y}<br>App=%{customdata[0]}<br>Price=%{customdata[1]}<extra></extra>",
         "legendgroup": "FINANCE",
         "marker": {
          "color": "#19d3f3",
          "symbol": "circle"
         },
         "mode": "markers",
         "name": "FINANCE",
         "orientation": "v",
         "showlegend": true,
         "type": "scatter",
         "x": {
          "bdata": "UMMAAOgDAACIEwAAECcAAOgDAACIEwAA6AMAAOgDAAD0AQAA6AMAAKCGAQBkAAAAAQAAAAEAAAAQJwAA",
          "dtype": "i4"
         },
         "xaxis": "x",
         "y": {
          "bdata": "AAAAwLASc0EAAAAA2GkYQQAAAABOhD5B/////18uB0EAAAAA2GkYQQAAAABOhD5BAAAAANhpGEEAAAAAACyvQAAAAAAALJ9AAAAAAAAYn0AAAAAA4D8SQQAAAAAAMH9A9ihcj8L1F0A9CtejcP08QAEAAAAAM91A",
          "dtype": "f8"
         },
         "yaxis": "y"
        },
        {
         "customdata": [
          [
           "BringGo AU & NZ",
           0.99
          ],
          [
           "BackCountry Navigator TOPO GPS PRO",
           11.99
          ],
          [
           "CE Map - Interactive Conan Exiles Map",
           0.99
          ],
          [
           "Paris ci la Sortie du Métro",
           2.99
          ],
          [
           "Jeppesen CR Flight Computer",
           9.99
          ]
         ],
         "hovertemplate": "Category=MAPS_AND_NAVIGATION<br>Number of Installs=%{x}<br>Revenue (USD)=%{y}<br>App=%{customdata[0]}<br>Price=%{customdata[1]}<extra></extra>",
         "legendgroup": "MAPS_AND_NAVIGATION",
         "marker": {
          "color": "#FF6692",
          "symbol": "circle"
         },
         "mode": "markers",
         "name": "MAPS_AND_NAVIGATION",
         "orientation": "v",
         "showlegend": true,
         "type": "scatter",
         "x": {
          "bdata": "ECcAAKCGAQDoAwAAECcAAGQAAAA=",
          "dtype": "i4"
         },
         "xaxis": "x",
         "y": {
          "bdata": "AAAAAABWw0AAAAAAmEsyQQAAAAAA8I5AAQAAAAAz3UAAAAAAADiPQA==",
          "dtype": "f8"
         },
         "yaxis": "y"
        },
        {
         "customdata": [
          [
           "Baby Connect (activity log)",
           4.99
          ],
          [
           "SharedCare™ Co-parenting",
           4.59
          ]
         ],
         "hovertemplate": "Category=PARENTING<br>Number of Installs=%{x}<br>Revenue (USD)=%{y}<br>App=%{customdata[0]}<br>Price=%{customdata[1]}<extra></extra>",
         "legendgroup": "PARENTING",
         "marker": {
          "color": "#B6E880",
          "symbol": "circle"
         },
         "mode": "markers",
         "name": "PARENTING",
         "orientation": "v",
         "showlegend": true,
         "type": "scatter",
         "x": {
          "bdata": "UMMAAGQAAAA=",
          "dtype": "i4"
         },
         "xaxis": "x",
         "y": {
          "bdata": "AAAAAOB0DkEAAAAAALB8QA==",
          "dtype": "f8"
         },
         "yaxis": "y"
        },
        {
         "customdata": [
          [
           "Socle Commun BO du 23-04-2015",
           0.99
          ]
         ],
         "hovertemplate": "Category=LIBRARIES_AND_DEMO<br>Number of Installs=%{x}<br>Revenue (USD)=%{y}<br>App=%{customdata[0]}<br>Price=%{customdata[1]}<extra></extra>",
         "legendgroup": "LIBRARIES_AND_DEMO",
         "marker": {
          "color": "#FF97FF",
          "symbol": "circle"
         },
         "mode": "markers",
         "name": "LIBRARIES_AND_DEMO",
         "orientation": "v",
         "showlegend": true,
         "type": "scatter",
         "x": {
          "bdata": "ZA==",
          "dtype": "i1"
         },
         "xaxis": "x",
         "y": {
          "bdata": "AAAAAADAWEA=",
          "dtype": "f8"
         },
         "yaxis": "y"
        },
        {
         "customdata": [
          [
           "BP Fitness Lead Scanner",
           109.99
          ]
         ],
         "hovertemplate": "Category=EVENTS<br>Number of Installs=%{x}<br>Revenue (USD)=%{y}<br>App=%{customdata[0]}<br>Price=%{customdata[1]}<extra></extra>",
         "legendgroup": "EVENTS",
         "marker": {
          "color": "#FECB52",
          "symbol": "circle"
         },
         "mode": "markers",
         "name": "EVENTS",
         "orientation": "v",
         "showlegend": true,
         "type": "scatter",
         "x": {
          "bdata": "AQ==",
          "dtype": "i1"
         },
         "xaxis": "x",
         "y": {
          "bdata": "j8L1KFx/W0A=",
          "dtype": "f8"
         },
         "yaxis": "y"
        }
       ],
       "layout": {
        "legend": {
         "title": {
          "text": "Category"
         },
         "tracegroupgap": 0
        },
        "template": {
         "data": {
          "bar": [
           {
            "error_x": {
             "color": "#2a3f5f"
            },
            "error_y": {
             "color": "#2a3f5f"
            },
            "marker": {
             "line": {
              "color": "#E5ECF6",
              "width": 0.5
             },
             "pattern": {
              "fillmode": "overlay",
              "size": 10,
              "solidity": 0.2
             }
            },
            "type": "bar"
           }
          ],
          "barpolar": [
           {
            "marker": {
             "line": {
              "color": "#E5ECF6",
              "width": 0.5
             },
             "pattern": {
              "fillmode": "overlay",
              "size": 10,
              "solidity": 0.2
             }
            },
            "type": "barpolar"
           }
          ],
          "carpet": [
           {
            "aaxis": {
             "endlinecolor": "#2a3f5f",
             "gridcolor": "white",
             "linecolor": "white",
             "minorgridcolor": "white",
             "startlinecolor": "#2a3f5f"
            },
            "baxis": {
             "endlinecolor": "#2a3f5f",
             "gridcolor": "white",
             "linecolor": "white",
             "minorgridcolor": "white",
             "startlinecolor": "#2a3f5f"
            },
            "type": "carpet"
           }
          ],
          "choropleth": [
           {
            "colorbar": {
             "outlinewidth": 0,
             "ticks": ""
            },
            "type": "choropleth"
           }
          ],
          "contour": [
           {
            "colorbar": {
             "outlinewidth": 0,
             "ticks": ""
            },
            "colorscale": [
             [
              0,
              "#0d0887"
             ],
             [
              0.1111111111111111,
              "#46039f"
             ],
             [
              0.2222222222222222,
              "#7201a8"
             ],
             [
              0.3333333333333333,
              "#9c179e"
             ],
             [
              0.4444444444444444,
              "#bd3786"
             ],
             [
              0.5555555555555556,
              "#d8576b"
             ],
             [
              0.6666666666666666,
              "#ed7953"
             ],
             [
              0.7777777777777778,
              "#fb9f3a"
             ],
             [
              0.8888888888888888,
              "#fdca26"
             ],
             [
              1,
              "#f0f921"
             ]
            ],
            "type": "contour"
           }
          ],
          "contourcarpet": [
           {
            "colorbar": {
             "outlinewidth": 0,
             "ticks": ""
            },
            "type": "contourcarpet"
           }
          ],
          "heatmap": [
           {
            "colorbar": {
             "outlinewidth": 0,
             "ticks": ""
            },
            "colorscale": [
             [
              0,
              "#0d0887"
             ],
             [
              0.1111111111111111,
              "#46039f"
             ],
             [
              0.2222222222222222,
              "#7201a8"
             ],
             [
              0.3333333333333333,
              "#9c179e"
             ],
             [
              0.4444444444444444,
              "#bd3786"
             ],
             [
              0.5555555555555556,
              "#d8576b"
             ],
             [
              0.6666666666666666,
              "#ed7953"
             ],
             [
              0.7777777777777778,
              "#fb9f3a"
             ],
             [
              0.8888888888888888,
              "#fdca26"
             ],
             [
              1,
              "#f0f921"
             ]
            ],
            "type": "heatmap"
           }
          ],
          "histogram": [
           {
            "marker": {
             "pattern": {
              "fillmode": "overlay",
              "size": 10,
              "solidity": 0.2
             }
            },
            "type": "histogram"
           }
          ],
          "histogram2d": [
           {
            "colorbar": {
             "outlinewidth": 0,
             "ticks": ""
            },
            "colorscale": [
             [
              0,
              "#0d0887"
             ],
             [
              0.1111111111111111,
              "#46039f"
             ],
             [
              0.2222222222222222,
              "#7201a8"
             ],
             [
              0.3333333333333333,
              "#9c179e"
             ],
             [
              0.4444444444444444,
              "#bd3786"
             ],
             [
              0.5555555555555556,
              "#d8576b"
             ],
             [
              0.6666666666666666,
              "#ed7953"
             ],
             [
              0.7777777777777778,
              "#fb9f3a"
             ],
             [
              0.8888888888888888,
              "#fdca26"
             ],
             [
              1,
              "#f0f921"
             ]
            ],
            "type": "histogram2d"
           }
          ],
          "histogram2dcontour": [
           {
            "colorbar": {
             "outlinewidth": 0,
             "ticks": ""
            },
            "colorscale": [
             [
              0,
              "#0d0887"
             ],
             [
              0.1111111111111111,
              "#46039f"
             ],
             [
              0.2222222222222222,
              "#7201a8"
             ],
             [
              0.3333333333333333,
              "#9c179e"
             ],
             [
              0.4444444444444444,
              "#bd3786"
             ],
             [
              0.5555555555555556,
              "#d8576b"
             ],
             [
              0.6666666666666666,
              "#ed7953"
             ],
             [
              0.7777777777777778,
              "#fb9f3a"
             ],
             [
              0.8888888888888888,
              "#fdca26"
             ],
             [
              1,
              "#f0f921"
             ]
            ],
            "type": "histogram2dcontour"
           }
          ],
          "mesh3d": [
           {
            "colorbar": {
             "outlinewidth": 0,
             "ticks": ""
            },
            "type": "mesh3d"
           }
          ],
          "parcoords": [
           {
            "line": {
             "colorbar": {
              "outlinewidth": 0,
              "ticks": ""
             }
            },
            "type": "parcoords"
           }
          ],
          "pie": [
           {
            "automargin": true,
            "type": "pie"
           }
          ],
          "scatter": [
           {
            "fillpattern": {
             "fillmode": "overlay",
             "size": 10,
             "solidity": 0.2
            },
            "type": "scatter"
           }
          ],
          "scatter3d": [
           {
            "line": {
             "colorbar": {
              "outlinewidth": 0,
              "ticks": ""
             }
            },
            "marker": {
             "colorbar": {
              "outlinewidth": 0,
              "ticks": ""
             }
            },
            "type": "scatter3d"
           }
          ],
          "scattercarpet": [
           {
            "marker": {
             "colorbar": {
              "outlinewidth": 0,
              "ticks": ""
             }
            },
            "type": "scattercarpet"
           }
          ],
          "scattergeo": [
           {
            "marker": {
             "colorbar": {
              "outlinewidth": 0,
              "ticks": ""
             }
            },
            "type": "scattergeo"
           }
          ],
          "scattergl": [
           {
            "marker": {
             "colorbar": {
              "outlinewidth": 0,
              "ticks": ""
             }
            },
            "type": "scattergl"
           }
          ],
          "scattermap": [
           {
            "marker": {
             "colorbar": {
              "outlinewidth": 0,
              "ticks": ""
             }
            },
            "type": "scattermap"
           }
          ],
          "scattermapbox": [
           {
            "marker": {
             "colorbar": {
              "outlinewidth": 0,
              "ticks": ""
             }
            },
            "type": "scattermapbox"
           }
          ],
          "scatterpolar": [
           {
            "marker": {
             "colorbar": {
              "outlinewidth": 0,
              "ticks": ""
             }
            },
            "type": "scatterpolar"
           }
          ],
          "scatterpolargl": [
           {
            "marker": {
             "colorbar": {
              "outlinewidth": 0,
              "ticks": ""
             }
            },
            "type": "scatterpolargl"
           }
          ],
          "scatterternary": [
           {
            "marker": {
             "colorbar": {
              "outlinewidth": 0,
              "ticks": ""
             }
            },
            "type": "scatterternary"
           }
          ],
          "surface": [
           {
            "colorbar": {
             "outlinewidth": 0,
             "ticks": ""
            },
            "colorscale": [
             [
              0,
              "#0d0887"
             ],
             [
              0.1111111111111111,
              "#46039f"
             ],
             [
              0.2222222222222222,
              "#7201a8"
             ],
             [
              0.3333333333333333,
              "#9c179e"
             ],
             [
              0.4444444444444444,
              "#bd3786"
             ],
             [
              0.5555555555555556,
              "#d8576b"
             ],
             [
              0.6666666666666666,
              "#ed7953"
             ],
             [
              0.7777777777777778,
              "#fb9f3a"
             ],
             [
              0.8888888888888888,
              "#fdca26"
             ],
             [
              1,
              "#f0f921"
             ]
            ],
            "type": "surface"
           }
          ],
          "table": [
           {
            "cells": {
             "fill": {
              "color": "#EBF0F8"
             },
             "line": {
              "color": "white"
             }
            },
            "header": {
             "fill": {
              "color": "#C8D4E3"
             },
             "line": {
              "color": "white"
             }
            },
            "type": "table"
           }
          ]
         },
         "layout": {
          "annotationdefaults": {
           "arrowcolor": "#2a3f5f",
           "arrowhead": 0,
           "arrowwidth": 1
          },
          "autotypenumbers": "strict",
          "coloraxis": {
           "colorbar": {
            "outlinewidth": 0,
            "ticks": ""
           }
          },
          "colorscale": {
           "diverging": [
            [
             0,
             "#8e0152"
            ],
            [
             0.1,
             "#c51b7d"
            ],
            [
             0.2,
             "#de77ae"
            ],
            [
             0.3,
             "#f1b6da"
            ],
            [
             0.4,
             "#fde0ef"
            ],
            [
             0.5,
             "#f7f7f7"
            ],
            [
             0.6,
             "#e6f5d0"
            ],
            [
             0.7,
             "#b8e186"
            ],
            [
             0.8,
             "#7fbc41"
            ],
            [
             0.9,
             "#4d9221"
            ],
            [
             1,
             "#276419"
            ]
           ],
           "sequential": [
            [
             0,
             "#0d0887"
            ],
            [
             0.1111111111111111,
             "#46039f"
            ],
            [
             0.2222222222222222,
             "#7201a8"
            ],
            [
             0.3333333333333333,
             "#9c179e"
            ],
            [
             0.4444444444444444,
             "#bd3786"
            ],
            [
             0.5555555555555556,
             "#d8576b"
            ],
            [
             0.6666666666666666,
             "#ed7953"
            ],
            [
             0.7777777777777778,
             "#fb9f3a"
            ],
            [
             0.8888888888888888,
             "#fdca26"
            ],
            [
             1,
             "#f0f921"
            ]
           ],
           "sequentialminus": [
            [
             0,
             "#0d0887"
            ],
            [
             0.1111111111111111,
             "#46039f"
            ],
            [
             0.2222222222222222,
             "#7201a8"
            ],
            [
             0.3333333333333333,
             "#9c179e"
            ],
            [
             0.4444444444444444,
             "#bd3786"
            ],
            [
             0.5555555555555556,
             "#d8576b"
            ],
            [
             0.6666666666666666,
             "#ed7953"
            ],
            [
             0.7777777777777778,
             "#fb9f3a"
            ],
            [
             0.8888888888888888,
             "#fdca26"
            ],
            [
             1,
             "#f0f921"
            ]
           ]
          },
          "colorway": [
           "#636efa",
           "#EF553B",
           "#00cc96",
           "#ab63fa",
           "#FFA15A",
           "#19d3f3",
           "#FF6692",
           "#B6E880",
           "#FF97FF",
           "#FECB52"
          ],
          "font": {
           "color": "#2a3f5f"
          },
          "geo": {
           "bgcolor": "white",
           "lakecolor": "white",
           "landcolor": "#E5ECF6",
           "showlakes": true,
           "showland": true,
           "subunitcolor": "white"
          },
          "hoverlabel": {
           "align": "left"
          },
          "hovermode": "closest",
          "mapbox": {
           "style": "light"
          },
          "paper_bgcolor": "white",
          "plot_bgcolor": "#E5ECF6",
          "polar": {
           "angularaxis": {
            "gridcolor": "white",
            "linecolor": "white",
            "ticks": ""
           },
           "bgcolor": "#E5ECF6",
           "radialaxis": {
            "gridcolor": "white",
            "linecolor": "white",
            "ticks": ""
           }
          },
          "scene": {
           "xaxis": {
            "backgroundcolor": "#E5ECF6",
            "gridcolor": "white",
            "gridwidth": 2,
            "linecolor": "white",
            "showbackground": true,
            "ticks": "",
            "zerolinecolor": "white"
           },
           "yaxis": {
            "backgroundcolor": "#E5ECF6",
            "gridcolor": "white",
            "gridwidth": 2,
            "linecolor": "white",
            "showbackground": true,
            "ticks": "",
            "zerolinecolor": "white"
           },
           "zaxis": {
            "backgroundcolor": "#E5ECF6",
            "gridcolor": "white",
            "gridwidth": 2,
            "linecolor": "white",
            "showbackground": true,
            "ticks": "",
            "zerolinecolor": "white"
           }
          },
          "shapedefaults": {
           "line": {
            "color": "#2a3f5f"
           }
          },
          "ternary": {
           "aaxis": {
            "gridcolor": "white",
            "linecolor": "white",
            "ticks": ""
           },
           "baxis": {
            "gridcolor": "white",
            "linecolor": "white",
            "ticks": ""
           },
           "bgcolor": "#E5ECF6",
           "caxis": {
            "gridcolor": "white",
            "linecolor": "white",
            "ticks": ""
           }
          },
          "title": {
           "x": 0.05
          },
          "xaxis": {
           "automargin": true,
           "gridcolor": "white",
           "linecolor": "white",
           "ticks": "",
           "title": {
            "standoff": 15
           },
           "zerolinecolor": "white",
           "zerolinewidth": 2
          },
          "yaxis": {
           "automargin": true,
           "gridcolor": "white",
           "linecolor": "white",
           "ticks": "",
           "title": {
            "standoff": 15
           },
           "zerolinecolor": "white",
           "zerolinewidth": 2
          }
         }
        },
        "title": {
         "text": "Revenue vs Installs for Paid Apps by Category"
        },
        "xaxis": {
         "anchor": "y",
         "domain": [
          0,
          1
         ],
         "title": {
          "text": "Number of Installs"
         }
        },
        "yaxis": {
         "anchor": "x",
         "domain": [
          0,
          1
         ],
         "title": {
          "text": "Revenue (USD)"
         }
        }
       }
      }
     },
     "metadata": {},
     "output_type": "display_data"
    }
   ],
   "source": [
    "import plotly.express as px\n",
    "\n",
    "# Create Plotly Scatter Plot\n",
    "fig = px.scatter(df, x='Installs', y='Revenue', color='Category',\n",
    "                 title='Revenue vs Installs for Paid Apps by Category',\n",
    "                 labels={'Revenue': 'Revenue (USD)', 'Installs': 'Number of Installs'},\n",
    "                 hover_data=['App', 'Price'])\n",
    "\n",
    "# Save as HTML\n",
    "fig.write_html(\"Task1_Revenue_vs_Installs_ScatterPlot.html\")\n",
    "\n",
    "fig.show()"
   ]
  },
  {
   "cell_type": "code",
   "execution_count": null,
   "id": "c710d4f5",
   "metadata": {},
   "outputs": [],
   "source": [
    "#Task-2"
   ]
  },
  {
   "cell_type": "code",
   "execution_count": 15,
   "id": "9a1cb806",
   "metadata": {},
   "outputs": [],
   "source": [
    "import pandas as pd\n",
    "import numpy as np\n",
    "import matplotlib.pyplot as plt\n",
    "import seaborn as sns\n",
    "from datetime import datetime\n",
    "from plotly.offline import plot\n",
    "import plotly.graph_objects as go"
   ]
  },
  {
   "cell_type": "code",
   "execution_count": 16,
   "id": "457a1760",
   "metadata": {},
   "outputs": [
    {
     "data": {
      "text/html": [
       "<div>\n",
       "<style scoped>\n",
       "    .dataframe tbody tr th:only-of-type {\n",
       "        vertical-align: middle;\n",
       "    }\n",
       "\n",
       "    .dataframe tbody tr th {\n",
       "        vertical-align: top;\n",
       "    }\n",
       "\n",
       "    .dataframe thead th {\n",
       "        text-align: right;\n",
       "    }\n",
       "</style>\n",
       "<table border=\"1\" class=\"dataframe\">\n",
       "  <thead>\n",
       "    <tr style=\"text-align: right;\">\n",
       "      <th></th>\n",
       "      <th>App</th>\n",
       "      <th>Category</th>\n",
       "      <th>Rating</th>\n",
       "      <th>Reviews</th>\n",
       "      <th>Size</th>\n",
       "      <th>Installs</th>\n",
       "      <th>Type</th>\n",
       "      <th>Price</th>\n",
       "      <th>Content Rating</th>\n",
       "      <th>Genres</th>\n",
       "      <th>Last Updated</th>\n",
       "      <th>Current Ver</th>\n",
       "      <th>Android Ver</th>\n",
       "    </tr>\n",
       "  </thead>\n",
       "  <tbody>\n",
       "    <tr>\n",
       "      <th>0</th>\n",
       "      <td>Photo Editor &amp; Candy Camera &amp; Grid &amp; ScrapBook</td>\n",
       "      <td>ART_AND_DESIGN</td>\n",
       "      <td>4.1</td>\n",
       "      <td>159</td>\n",
       "      <td>19M</td>\n",
       "      <td>10,000+</td>\n",
       "      <td>Free</td>\n",
       "      <td>0</td>\n",
       "      <td>Everyone</td>\n",
       "      <td>Art &amp; Design</td>\n",
       "      <td>January 7, 2018</td>\n",
       "      <td>1.0.0</td>\n",
       "      <td>4.0.3 and up</td>\n",
       "    </tr>\n",
       "    <tr>\n",
       "      <th>1</th>\n",
       "      <td>Coloring book moana</td>\n",
       "      <td>ART_AND_DESIGN</td>\n",
       "      <td>3.9</td>\n",
       "      <td>967</td>\n",
       "      <td>14M</td>\n",
       "      <td>500,000+</td>\n",
       "      <td>Free</td>\n",
       "      <td>0</td>\n",
       "      <td>Everyone</td>\n",
       "      <td>Art &amp; Design;Pretend Play</td>\n",
       "      <td>January 15, 2018</td>\n",
       "      <td>2.0.0</td>\n",
       "      <td>4.0.3 and up</td>\n",
       "    </tr>\n",
       "    <tr>\n",
       "      <th>2</th>\n",
       "      <td>U Launcher Lite – FREE Live Cool Themes, Hide ...</td>\n",
       "      <td>ART_AND_DESIGN</td>\n",
       "      <td>4.7</td>\n",
       "      <td>87510</td>\n",
       "      <td>8.7M</td>\n",
       "      <td>5,000,000+</td>\n",
       "      <td>Free</td>\n",
       "      <td>0</td>\n",
       "      <td>Everyone</td>\n",
       "      <td>Art &amp; Design</td>\n",
       "      <td>August 1, 2018</td>\n",
       "      <td>1.2.4</td>\n",
       "      <td>4.0.3 and up</td>\n",
       "    </tr>\n",
       "    <tr>\n",
       "      <th>3</th>\n",
       "      <td>Sketch - Draw &amp; Paint</td>\n",
       "      <td>ART_AND_DESIGN</td>\n",
       "      <td>4.5</td>\n",
       "      <td>215644</td>\n",
       "      <td>25M</td>\n",
       "      <td>50,000,000+</td>\n",
       "      <td>Free</td>\n",
       "      <td>0</td>\n",
       "      <td>Teen</td>\n",
       "      <td>Art &amp; Design</td>\n",
       "      <td>June 8, 2018</td>\n",
       "      <td>Varies with device</td>\n",
       "      <td>4.2 and up</td>\n",
       "    </tr>\n",
       "    <tr>\n",
       "      <th>4</th>\n",
       "      <td>Pixel Draw - Number Art Coloring Book</td>\n",
       "      <td>ART_AND_DESIGN</td>\n",
       "      <td>4.3</td>\n",
       "      <td>967</td>\n",
       "      <td>2.8M</td>\n",
       "      <td>100,000+</td>\n",
       "      <td>Free</td>\n",
       "      <td>0</td>\n",
       "      <td>Everyone</td>\n",
       "      <td>Art &amp; Design;Creativity</td>\n",
       "      <td>June 20, 2018</td>\n",
       "      <td>1.1</td>\n",
       "      <td>4.4 and up</td>\n",
       "    </tr>\n",
       "  </tbody>\n",
       "</table>\n",
       "</div>"
      ],
      "text/plain": [
       "                                                 App        Category  Rating  \\\n",
       "0     Photo Editor & Candy Camera & Grid & ScrapBook  ART_AND_DESIGN     4.1   \n",
       "1                                Coloring book moana  ART_AND_DESIGN     3.9   \n",
       "2  U Launcher Lite – FREE Live Cool Themes, Hide ...  ART_AND_DESIGN     4.7   \n",
       "3                              Sketch - Draw & Paint  ART_AND_DESIGN     4.5   \n",
       "4              Pixel Draw - Number Art Coloring Book  ART_AND_DESIGN     4.3   \n",
       "\n",
       "  Reviews  Size     Installs  Type Price Content Rating  \\\n",
       "0     159   19M      10,000+  Free     0       Everyone   \n",
       "1     967   14M     500,000+  Free     0       Everyone   \n",
       "2   87510  8.7M   5,000,000+  Free     0       Everyone   \n",
       "3  215644   25M  50,000,000+  Free     0           Teen   \n",
       "4     967  2.8M     100,000+  Free     0       Everyone   \n",
       "\n",
       "                      Genres      Last Updated         Current Ver  \\\n",
       "0               Art & Design   January 7, 2018               1.0.0   \n",
       "1  Art & Design;Pretend Play  January 15, 2018               2.0.0   \n",
       "2               Art & Design    August 1, 2018               1.2.4   \n",
       "3               Art & Design      June 8, 2018  Varies with device   \n",
       "4    Art & Design;Creativity     June 20, 2018                 1.1   \n",
       "\n",
       "    Android Ver  \n",
       "0  4.0.3 and up  \n",
       "1  4.0.3 and up  \n",
       "2  4.0.3 and up  \n",
       "3    4.2 and up  \n",
       "4    4.4 and up  "
      ]
     },
     "execution_count": 16,
     "metadata": {},
     "output_type": "execute_result"
    }
   ],
   "source": [
    "# Load the dataset\n",
    "df = pd.read_csv(\"Play Store Data.csv\")\n",
    "df.head()"
   ]
  },
  {
   "cell_type": "code",
   "execution_count": 17,
   "id": "ec49c1df",
   "metadata": {},
   "outputs": [
    {
     "name": "stdout",
     "output_type": "stream",
     "text": [
      "<class 'pandas.core.frame.DataFrame'>\n",
      "RangeIndex: 10841 entries, 0 to 10840\n",
      "Data columns (total 13 columns):\n",
      " #   Column          Non-Null Count  Dtype  \n",
      "---  ------          --------------  -----  \n",
      " 0   App             10841 non-null  object \n",
      " 1   Category        10841 non-null  object \n",
      " 2   Rating          9367 non-null   float64\n",
      " 3   Reviews         10841 non-null  object \n",
      " 4   Size            10841 non-null  object \n",
      " 5   Installs        10841 non-null  object \n",
      " 6   Type            10840 non-null  object \n",
      " 7   Price           10841 non-null  object \n",
      " 8   Content Rating  10840 non-null  object \n",
      " 9   Genres          10841 non-null  object \n",
      " 10  Last Updated    10841 non-null  object \n",
      " 11  Current Ver     10833 non-null  object \n",
      " 12  Android Ver     10838 non-null  object \n",
      "dtypes: float64(1), object(12)\n",
      "memory usage: 1.1+ MB\n"
     ]
    }
   ],
   "source": [
    "df.info()"
   ]
  },
  {
   "cell_type": "code",
   "execution_count": 18,
   "id": "afa59117",
   "metadata": {},
   "outputs": [
    {
     "data": {
      "text/plain": [
       "App                  0\n",
       "Category             0\n",
       "Rating            1474\n",
       "Reviews              0\n",
       "Size                 0\n",
       "Installs             0\n",
       "Type                 1\n",
       "Price                0\n",
       "Content Rating       1\n",
       "Genres               0\n",
       "Last Updated         0\n",
       "Current Ver          8\n",
       "Android Ver          3\n",
       "dtype: int64"
      ]
     },
     "execution_count": 18,
     "metadata": {},
     "output_type": "execute_result"
    }
   ],
   "source": [
    "df.isnull().sum()"
   ]
  },
  {
   "cell_type": "code",
   "execution_count": 19,
   "id": "08e21708",
   "metadata": {},
   "outputs": [],
   "source": [
    "# Remove rows with missing values in relevant columns\n",
    "df = df.dropna(subset=['Category', 'Rating', 'Reviews', 'Installs', 'Size', 'Last Updated'])"
   ]
  },
  {
   "cell_type": "code",
   "execution_count": 20,
   "id": "25c3055b",
   "metadata": {},
   "outputs": [
    {
     "data": {
      "text/html": [
       "<div>\n",
       "<style scoped>\n",
       "    .dataframe tbody tr th:only-of-type {\n",
       "        vertical-align: middle;\n",
       "    }\n",
       "\n",
       "    .dataframe tbody tr th {\n",
       "        vertical-align: top;\n",
       "    }\n",
       "\n",
       "    .dataframe thead th {\n",
       "        text-align: right;\n",
       "    }\n",
       "</style>\n",
       "<table border=\"1\" class=\"dataframe\">\n",
       "  <thead>\n",
       "    <tr style=\"text-align: right;\">\n",
       "      <th></th>\n",
       "      <th>App</th>\n",
       "      <th>Category</th>\n",
       "      <th>Rating</th>\n",
       "      <th>Reviews</th>\n",
       "      <th>Size</th>\n",
       "      <th>Installs</th>\n",
       "      <th>Type</th>\n",
       "      <th>Price</th>\n",
       "      <th>Content Rating</th>\n",
       "      <th>Genres</th>\n",
       "      <th>Last Updated</th>\n",
       "      <th>Current Ver</th>\n",
       "      <th>Android Ver</th>\n",
       "    </tr>\n",
       "  </thead>\n",
       "  <tbody>\n",
       "    <tr>\n",
       "      <th>0</th>\n",
       "      <td>Photo Editor &amp; Candy Camera &amp; Grid &amp; ScrapBook</td>\n",
       "      <td>ART_AND_DESIGN</td>\n",
       "      <td>4.1</td>\n",
       "      <td>159</td>\n",
       "      <td>19M</td>\n",
       "      <td>10,000+</td>\n",
       "      <td>Free</td>\n",
       "      <td>0</td>\n",
       "      <td>Everyone</td>\n",
       "      <td>Art &amp; Design</td>\n",
       "      <td>January 7, 2018</td>\n",
       "      <td>1.0.0</td>\n",
       "      <td>4.0.3 and up</td>\n",
       "    </tr>\n",
       "    <tr>\n",
       "      <th>1</th>\n",
       "      <td>Coloring book moana</td>\n",
       "      <td>ART_AND_DESIGN</td>\n",
       "      <td>3.9</td>\n",
       "      <td>967</td>\n",
       "      <td>14M</td>\n",
       "      <td>500,000+</td>\n",
       "      <td>Free</td>\n",
       "      <td>0</td>\n",
       "      <td>Everyone</td>\n",
       "      <td>Art &amp; Design;Pretend Play</td>\n",
       "      <td>January 15, 2018</td>\n",
       "      <td>2.0.0</td>\n",
       "      <td>4.0.3 and up</td>\n",
       "    </tr>\n",
       "    <tr>\n",
       "      <th>2</th>\n",
       "      <td>U Launcher Lite – FREE Live Cool Themes, Hide ...</td>\n",
       "      <td>ART_AND_DESIGN</td>\n",
       "      <td>4.7</td>\n",
       "      <td>87510</td>\n",
       "      <td>8.7M</td>\n",
       "      <td>5,000,000+</td>\n",
       "      <td>Free</td>\n",
       "      <td>0</td>\n",
       "      <td>Everyone</td>\n",
       "      <td>Art &amp; Design</td>\n",
       "      <td>August 1, 2018</td>\n",
       "      <td>1.2.4</td>\n",
       "      <td>4.0.3 and up</td>\n",
       "    </tr>\n",
       "    <tr>\n",
       "      <th>3</th>\n",
       "      <td>Sketch - Draw &amp; Paint</td>\n",
       "      <td>ART_AND_DESIGN</td>\n",
       "      <td>4.5</td>\n",
       "      <td>215644</td>\n",
       "      <td>25M</td>\n",
       "      <td>50,000,000+</td>\n",
       "      <td>Free</td>\n",
       "      <td>0</td>\n",
       "      <td>Teen</td>\n",
       "      <td>Art &amp; Design</td>\n",
       "      <td>June 8, 2018</td>\n",
       "      <td>Varies with device</td>\n",
       "      <td>4.2 and up</td>\n",
       "    </tr>\n",
       "    <tr>\n",
       "      <th>4</th>\n",
       "      <td>Pixel Draw - Number Art Coloring Book</td>\n",
       "      <td>ART_AND_DESIGN</td>\n",
       "      <td>4.3</td>\n",
       "      <td>967</td>\n",
       "      <td>2.8M</td>\n",
       "      <td>100,000+</td>\n",
       "      <td>Free</td>\n",
       "      <td>0</td>\n",
       "      <td>Everyone</td>\n",
       "      <td>Art &amp; Design;Creativity</td>\n",
       "      <td>June 20, 2018</td>\n",
       "      <td>1.1</td>\n",
       "      <td>4.4 and up</td>\n",
       "    </tr>\n",
       "    <tr>\n",
       "      <th>...</th>\n",
       "      <td>...</td>\n",
       "      <td>...</td>\n",
       "      <td>...</td>\n",
       "      <td>...</td>\n",
       "      <td>...</td>\n",
       "      <td>...</td>\n",
       "      <td>...</td>\n",
       "      <td>...</td>\n",
       "      <td>...</td>\n",
       "      <td>...</td>\n",
       "      <td>...</td>\n",
       "      <td>...</td>\n",
       "      <td>...</td>\n",
       "    </tr>\n",
       "    <tr>\n",
       "      <th>10834</th>\n",
       "      <td>FR Calculator</td>\n",
       "      <td>FAMILY</td>\n",
       "      <td>4.0</td>\n",
       "      <td>7</td>\n",
       "      <td>2.6M</td>\n",
       "      <td>500+</td>\n",
       "      <td>Free</td>\n",
       "      <td>0</td>\n",
       "      <td>Everyone</td>\n",
       "      <td>Education</td>\n",
       "      <td>June 18, 2017</td>\n",
       "      <td>1.0.0</td>\n",
       "      <td>4.1 and up</td>\n",
       "    </tr>\n",
       "    <tr>\n",
       "      <th>10836</th>\n",
       "      <td>Sya9a Maroc - FR</td>\n",
       "      <td>FAMILY</td>\n",
       "      <td>4.5</td>\n",
       "      <td>38</td>\n",
       "      <td>53M</td>\n",
       "      <td>5,000+</td>\n",
       "      <td>Free</td>\n",
       "      <td>0</td>\n",
       "      <td>Everyone</td>\n",
       "      <td>Education</td>\n",
       "      <td>July 25, 2017</td>\n",
       "      <td>1.48</td>\n",
       "      <td>4.1 and up</td>\n",
       "    </tr>\n",
       "    <tr>\n",
       "      <th>10837</th>\n",
       "      <td>Fr. Mike Schmitz Audio Teachings</td>\n",
       "      <td>FAMILY</td>\n",
       "      <td>5.0</td>\n",
       "      <td>4</td>\n",
       "      <td>3.6M</td>\n",
       "      <td>100+</td>\n",
       "      <td>Free</td>\n",
       "      <td>0</td>\n",
       "      <td>Everyone</td>\n",
       "      <td>Education</td>\n",
       "      <td>July 6, 2018</td>\n",
       "      <td>1.0</td>\n",
       "      <td>4.1 and up</td>\n",
       "    </tr>\n",
       "    <tr>\n",
       "      <th>10839</th>\n",
       "      <td>The SCP Foundation DB fr nn5n</td>\n",
       "      <td>BOOKS_AND_REFERENCE</td>\n",
       "      <td>4.5</td>\n",
       "      <td>114</td>\n",
       "      <td>Varies with device</td>\n",
       "      <td>1,000+</td>\n",
       "      <td>Free</td>\n",
       "      <td>0</td>\n",
       "      <td>Mature 17+</td>\n",
       "      <td>Books &amp; Reference</td>\n",
       "      <td>January 19, 2015</td>\n",
       "      <td>Varies with device</td>\n",
       "      <td>Varies with device</td>\n",
       "    </tr>\n",
       "    <tr>\n",
       "      <th>10840</th>\n",
       "      <td>iHoroscope - 2018 Daily Horoscope &amp; Astrology</td>\n",
       "      <td>LIFESTYLE</td>\n",
       "      <td>4.5</td>\n",
       "      <td>398307</td>\n",
       "      <td>19M</td>\n",
       "      <td>10,000,000+</td>\n",
       "      <td>Free</td>\n",
       "      <td>0</td>\n",
       "      <td>Everyone</td>\n",
       "      <td>Lifestyle</td>\n",
       "      <td>July 25, 2018</td>\n",
       "      <td>Varies with device</td>\n",
       "      <td>Varies with device</td>\n",
       "    </tr>\n",
       "  </tbody>\n",
       "</table>\n",
       "<p>9367 rows × 13 columns</p>\n",
       "</div>"
      ],
      "text/plain": [
       "                                                     App             Category  \\\n",
       "0         Photo Editor & Candy Camera & Grid & ScrapBook       ART_AND_DESIGN   \n",
       "1                                    Coloring book moana       ART_AND_DESIGN   \n",
       "2      U Launcher Lite – FREE Live Cool Themes, Hide ...       ART_AND_DESIGN   \n",
       "3                                  Sketch - Draw & Paint       ART_AND_DESIGN   \n",
       "4                  Pixel Draw - Number Art Coloring Book       ART_AND_DESIGN   \n",
       "...                                                  ...                  ...   \n",
       "10834                                      FR Calculator               FAMILY   \n",
       "10836                                   Sya9a Maroc - FR               FAMILY   \n",
       "10837                   Fr. Mike Schmitz Audio Teachings               FAMILY   \n",
       "10839                      The SCP Foundation DB fr nn5n  BOOKS_AND_REFERENCE   \n",
       "10840      iHoroscope - 2018 Daily Horoscope & Astrology            LIFESTYLE   \n",
       "\n",
       "       Rating Reviews                Size     Installs  Type Price  \\\n",
       "0         4.1     159                 19M      10,000+  Free     0   \n",
       "1         3.9     967                 14M     500,000+  Free     0   \n",
       "2         4.7   87510                8.7M   5,000,000+  Free     0   \n",
       "3         4.5  215644                 25M  50,000,000+  Free     0   \n",
       "4         4.3     967                2.8M     100,000+  Free     0   \n",
       "...       ...     ...                 ...          ...   ...   ...   \n",
       "10834     4.0       7                2.6M         500+  Free     0   \n",
       "10836     4.5      38                 53M       5,000+  Free     0   \n",
       "10837     5.0       4                3.6M         100+  Free     0   \n",
       "10839     4.5     114  Varies with device       1,000+  Free     0   \n",
       "10840     4.5  398307                 19M  10,000,000+  Free     0   \n",
       "\n",
       "      Content Rating                     Genres      Last Updated  \\\n",
       "0           Everyone               Art & Design   January 7, 2018   \n",
       "1           Everyone  Art & Design;Pretend Play  January 15, 2018   \n",
       "2           Everyone               Art & Design    August 1, 2018   \n",
       "3               Teen               Art & Design      June 8, 2018   \n",
       "4           Everyone    Art & Design;Creativity     June 20, 2018   \n",
       "...              ...                        ...               ...   \n",
       "10834       Everyone                  Education     June 18, 2017   \n",
       "10836       Everyone                  Education     July 25, 2017   \n",
       "10837       Everyone                  Education      July 6, 2018   \n",
       "10839     Mature 17+          Books & Reference  January 19, 2015   \n",
       "10840       Everyone                  Lifestyle     July 25, 2018   \n",
       "\n",
       "              Current Ver         Android Ver  \n",
       "0                   1.0.0        4.0.3 and up  \n",
       "1                   2.0.0        4.0.3 and up  \n",
       "2                   1.2.4        4.0.3 and up  \n",
       "3      Varies with device          4.2 and up  \n",
       "4                     1.1          4.4 and up  \n",
       "...                   ...                 ...  \n",
       "10834               1.0.0          4.1 and up  \n",
       "10836                1.48          4.1 and up  \n",
       "10837                 1.0          4.1 and up  \n",
       "10839  Varies with device  Varies with device  \n",
       "10840  Varies with device  Varies with device  \n",
       "\n",
       "[9367 rows x 13 columns]"
      ]
     },
     "execution_count": 20,
     "metadata": {},
     "output_type": "execute_result"
    }
   ],
   "source": [
    "df"
   ]
  },
  {
   "cell_type": "code",
   "execution_count": 21,
   "id": "11cdbea7",
   "metadata": {},
   "outputs": [],
   "source": [
    "# Clean 'Installs' column\n",
    "df['Installs'] = df['Installs'].astype(str).str.replace('[+,]', '', regex=True)\n",
    "\n",
    "# Handle possible missing values before converting to int\n",
    "df['Installs'] = pd.to_numeric(df['Installs'], errors='coerce').fillna(0).astype(int)"
   ]
  },
  {
   "cell_type": "code",
   "execution_count": 22,
   "id": "b14fab94",
   "metadata": {},
   "outputs": [],
   "source": [
    "# Filter: Rating >= 4.0\n",
    "df = df[df['Rating'] >= 4.0]"
   ]
  },
  {
   "cell_type": "code",
   "execution_count": 23,
   "id": "70099d02",
   "metadata": {},
   "outputs": [
    {
     "name": "stderr",
     "output_type": "stream",
     "text": [
      "C:\\Users\\Atharva\\AppData\\Local\\Temp\\ipykernel_4280\\1052423054.py:10: SettingWithCopyWarning:\n",
      "\n",
      "\n",
      "A value is trying to be set on a copy of a slice from a DataFrame.\n",
      "Try using .loc[row_indexer,col_indexer] = value instead\n",
      "\n",
      "See the caveats in the documentation: https://pandas.pydata.org/pandas-docs/stable/user_guide/indexing.html#returning-a-view-versus-a-copy\n",
      "\n",
      "C:\\Users\\Atharva\\AppData\\Local\\Temp\\ipykernel_4280\\1052423054.py:11: SettingWithCopyWarning:\n",
      "\n",
      "\n",
      "A value is trying to be set on a copy of a slice from a DataFrame.\n",
      "Try using .loc[row_indexer,col_indexer] = value instead\n",
      "\n",
      "See the caveats in the documentation: https://pandas.pydata.org/pandas-docs/stable/user_guide/indexing.html#returning-a-view-versus-a-copy\n",
      "\n"
     ]
    }
   ],
   "source": [
    "# Convert 'Size' to MB\n",
    "def convert_size(size):\n",
    "    if 'M' in size:\n",
    "        return float(size.replace('M', ''))\n",
    "    elif 'k' in size:\n",
    "        return float(size.replace('k', '')) / 1024\n",
    "    else:\n",
    "        return np.nan\n",
    "\n",
    "df['Size_MB'] = df['Size'].replace('Varies with device', np.nan)\n",
    "df['Size_MB'] = df['Size_MB'].dropna().apply(convert_size)\n",
    "df = df.dropna(subset=['Size_MB'])"
   ]
  },
  {
   "cell_type": "code",
   "execution_count": 24,
   "id": "904a5931",
   "metadata": {},
   "outputs": [],
   "source": [
    "# Filter: Size >= 10 MB\n",
    "df = df[df['Size_MB'] >= 10]"
   ]
  },
  {
   "cell_type": "code",
   "execution_count": 25,
   "id": "afaec0bf",
   "metadata": {},
   "outputs": [],
   "source": [
    "# Convert 'Last Updated' to datetime\n",
    "df['Last Updated'] = pd.to_datetime(df['Last Updated'])\n",
    "df['Update_Month'] = df['Last Updated'].dt.month_name()"
   ]
  },
  {
   "cell_type": "code",
   "execution_count": 26,
   "id": "4050acad",
   "metadata": {},
   "outputs": [],
   "source": [
    "# Filter: Only January updates\n",
    "df = df[df['Update_Month'] == 'January']"
   ]
  },
  {
   "cell_type": "code",
   "execution_count": 27,
   "id": "7e992d36",
   "metadata": {},
   "outputs": [],
   "source": [
    "top_10 = df.groupby('Category')['Installs'].sum().sort_values(ascending=False).head(10).index\n",
    "df_top = df[df['Category'].isin(top_10)]\n",
    "\n",
    "grouped = df_top.groupby('Category').agg({'Rating': 'mean', 'Reviews': 'sum'}).reset_index()"
   ]
  },
  {
   "cell_type": "code",
   "execution_count": 28,
   "id": "211c7cc7",
   "metadata": {},
   "outputs": [
    {
     "name": "stdout",
     "output_type": "stream",
     "text": [
      "5.984367320376515e+158\n"
     ]
    }
   ],
   "source": [
    "# Convert Reviews column to numeric\n",
    "grouped[\"Reviews\"]=pd.to_numeric(grouped[\"Reviews\"],errors=\"coerce\")\n",
    "\n",
    "# Normalize Reviews for better visualization\n",
    "max_reviews = grouped['Reviews'].max()\n",
    "grouped['Reviews_scaled'] = grouped['Reviews'] / max_reviews * 5  # Scale to match Rating axis\n",
    "print(max_reviews)"
   ]
  },
  {
   "cell_type": "code",
   "execution_count": 29,
   "id": "70e5bb4a",
   "metadata": {},
   "outputs": [],
   "source": [
    "now = datetime.now()\n",
    "current_hour = now.hour"
   ]
  },
  {
   "cell_type": "code",
   "execution_count": 30,
   "id": "af2b1627",
   "metadata": {},
   "outputs": [
    {
     "name": "stdout",
     "output_type": "stream",
     "text": [
      "Chart displayed and saved as HTML.\n"
     ]
    }
   ],
   "source": [
    "if 15 <= current_hour < 17:\n",
    "    # 📊 Step 4: Plot Grouped Bar Chart\n",
    "    fig = go.Figure(data=[\n",
    "        go.Bar(name='Average Rating', x=grouped['Category'], y=grouped['Rating']),\n",
    "        go.Bar(name='Total Reviews (scaled)', x=grouped['Category'], y=grouped['Reviews_scaled'])\n",
    "    ])\n",
    "\n",
    "    fig.update_layout(\n",
    "        title='Grouped Bar Chart: Avg Rating vs Total Reviews (Top 10 Categories)',\n",
    "        xaxis_title='App Category',\n",
    "        yaxis_title='Values',\n",
    "        barmode='group'\n",
    "    )\n",
    "    \n",
    "# Save as HTML\n",
    "fig.write_html(\"Task2_grouped_bar_chart.html\")\n",
    "\n",
    "print(\"Chart displayed and saved as HTML.\")"
   ]
  },
  {
   "cell_type": "code",
   "execution_count": 31,
   "id": "95d451f8",
   "metadata": {},
   "outputs": [
    {
     "data": {
      "application/vnd.plotly.v1+json": {
       "config": {
        "plotlyServerURL": "https://plot.ly"
       },
       "data": [
        {
         "customdata": [
          [
           "TurboScan: scan documents and receipts in PDF",
           4.99
          ],
          [
           "Tiny Scanner Pro: PDF Doc Scan",
           4.99
          ],
          [
           "TurboScan: scan documents and receipts in PDF",
           4.99
          ],
          [
           "Tiny Scanner Pro: PDF Doc Scan",
           4.99
          ],
          [
           "AW Toolbox",
           19.9
          ],
          [
           "Bk Bee Sales Manager",
           0.99
          ],
          [
           "SkyTest BU/GU Lite",
           17.99
          ],
          [
           "BZ Reminder PRO",
           3.99
          ],
          [
           "CM FILE MANAGER Pro",
           2.99
          ],
          [
           "Super Resume Builder Pro, CV",
           4.99
          ],
          [
           "DG Surveyor",
           8.99
          ],
          [
           "The DG Buddy",
           2.49
          ],
          [
           "DS Helpdesk Plus",
           12.99
          ],
          [
           "Lean EQ",
           89.99
          ]
         ],
         "hovertemplate": "Category=BUSINESS<br>Number of Installs=%{x}<br>Revenue (USD)=%{y}<br>App=%{customdata[0]}<br>Price=%{customdata[1]}<extra></extra>",
         "legendgroup": "BUSINESS",
         "marker": {
          "color": "#636efa",
          "symbol": "circle"
         },
         "mode": "markers",
         "name": "BUSINESS",
         "orientation": "v",
         "showlegend": true,
         "type": "scatter",
         "x": {
          "bdata": "oIYBAKCGAQCghgEAoIYBAGQAAAAFAAAA9AEAAOgDAAAQJwAA6AMAADIAAAAKAAAAZAAAAAoAAAA=",
          "dtype": "i4"
         },
         "xaxis": "x",
         "y": {
          "bdata": "AAAAAOB0HkEAAAAA4HQeQQAAAADgdB5BAAAAAOB0HkH//////xefQM3MzMzMzBNAAAAAAICRwUAAAAAAACyvQAEAAAAAM91AAAAAAAB+s0AAAAAAABh8QGdmZmZm5jhAAAAAAABMlEAzMzMzMx+MQA==",
          "dtype": "f8"
         },
         "yaxis": "y"
        },
        {
         "customdata": [
          [
           "Puffin Browser Pro",
           3.99
          ],
          [
           "Deaf - Hearing chat device H",
           3.99
          ],
          [
           "J Alvarej Moji",
           1.99
          ],
          [
           "K-@ Mail Pro - Email App",
           4.99
          ],
          [
           "pretty Easy privacy p≡p",
           0.99
          ],
          [
           "Z PIVOT",
           19.99
          ],
          [
           "AG Contacts, Premium edition",
           4.99
          ],
          [
           "Threema",
           2.99
          ],
          [
           "FREE CHATS C.L.",
           0.99
          ],
          [
           "10 WPM Amateur ham radio CW Morse code trainer",
           1.49
          ],
          [
           "CV-RECORD Pro",
           0.99
          ],
          [
           "2 Amateur ham radio CW Morse code practice keys TX",
           1.49
          ],
          [
           "CW Beacon for Ham Radio",
           1.49
          ],
          [
           "Morse Decoder for Ham Radio",
           4.99
          ],
          [
           "CW Studio ®",
           0.99
          ],
          [
           "20WPM Amateur ham radio Koch CW Morse code trainer",
           1.49
          ],
          [
           "Morse Trainer for Ham Radio",
           2.99
          ],
          [
           "Morse Machine for Ham Radio",
           0.99
          ],
          [
           "CW Ringtone (Morse Code generator)",
           2.49
          ],
          [
           "Koch Morse Trainer Pro",
           2.49
          ],
          [
           "iCluster - The DX-Cluster database",
           0.99
          ],
          [
           "WiFi Tether Router",
           2.9
          ],
          [
           "Remote EX for NISSAN",
           1.49
          ],
          [
           "ExDialer PRO Key",
           3.99
          ],
          [
           "Smart Wi-Fi Hotspot PRO",
           2.99
          ],
          [
           "Portable Wi-Fi hotspot Premium",
           0.99
          ],
          [
           "Talkie Pro - Wi-Fi Calling, Chats, File Sharing",
           2.99
          ]
         ],
         "hovertemplate": "Category=COMMUNICATION<br>Number of Installs=%{x}<br>Revenue (USD)=%{y}<br>App=%{customdata[0]}<br>Price=%{customdata[1]}<extra></extra>",
         "legendgroup": "COMMUNICATION",
         "marker": {
          "color": "#EF553B",
          "symbol": "circle"
         },
         "mode": "markers",
         "name": "COMMUNICATION",
         "orientation": "v",
         "showlegend": true,
         "type": "scatter",
         "x": {
          "bdata": "oIYBAPQBAAAKAAAAECcAAPQBAAAKAAAA9AEAAEBCDwAKAAAAZAAAAOgDAABkAAAAZAAAAIgTAABkAAAAZAAAABAnAACIEwAACgAAAOgDAAAKAAAAoIYBAIgTAACghgEAECcAABAnAADoAwAA",
          "dtype": "i4"
         },
         "xaxis": "x",
         "y": {
          "bdata": "AAAAAGBaGEEAAAAAACyfQGZmZmZm5jNAAAAAAIBd6EAAAAAAAPB+QMzMzMzM/GhAAAAAAAB+o0AAAAAA2M9GQc3MzMzMzCNAAAAAAACgYkAAAAAAAPCOQAAAAAAAoGJAAAAAAACgYkAAAAAAgF3YQAAAAAAAwFhAAAAAAACgYkABAAAAADPdQAAAAAAAVrNAZ2ZmZmbmOEAAAAAAAHSjQM3MzMzMzCNAAAAAAECzEUEAAAAAABq9QAAAAABgWhhBAQAAAAAz3UAAAAAAAFbDQAAAAAAAXKdA",
          "dtype": "f8"
         },
         "yaxis": "y"
        },
        {
         "customdata": [
          [
           "Moco+ - Chat, Meet People",
           3.99
          ],
          [
           "Calculator",
           6.99
          ],
          [
           "Truth or Dare Pro",
           1.49
          ],
          [
           "Private Dating, Hide App- Blue for PrivacyHider",
           2.99
          ],
          [
           "Ad Blocker for SayHi",
           3.99
          ],
          [
           "AMBW Dating App: Asian Men Black Women Interracial",
           7.99
          ],
          [
           "Moco+ - Chat, Meet People",
           3.99
          ]
         ],
         "hovertemplate": "Category=DATING<br>Number of Installs=%{x}<br>Revenue (USD)=%{y}<br>App=%{customdata[0]}<br>Price=%{customdata[1]}<extra></extra>",
         "legendgroup": "DATING",
         "marker": {
          "color": "#00cc96",
          "symbol": "circle"
         },
         "mode": "markers",
         "name": "DATING",
         "orientation": "v",
         "showlegend": true,
         "type": "scatter",
         "x": {
          "bdata": "ECfoAzIAZABkAGQAECc=",
          "dtype": "i2"
         },
         "xaxis": "x",
         "y": {
          "bdata": "AAAAAIB740AAAAAAAE67QAAAAAAAoFJAAAAAAACwckAAAAAAAPB4QAAAAAAA+IhAAAAAAIB740A=",
          "dtype": "f8"
         },
         "yaxis": "y"
        },
        {
         "customdata": [
          [
           "Sago Mini Hat Maker",
           3.99
          ],
          [
           "Fuzzy Numbers: Pre-K Number Foundation",
           5.99
          ],
          [
           "Toca Life: City",
           3.99
          ],
          [
           "Toca Life: Hospital",
           3.99
          ]
         ],
         "hovertemplate": "Category=EDUCATION<br>Number of Installs=%{x}<br>Revenue (USD)=%{y}<br>App=%{customdata[0]}<br>Price=%{customdata[1]}<extra></extra>",
         "legendgroup": "EDUCATION",
         "marker": {
          "color": "#ab63fa",
          "symbol": "circle"
         },
         "mode": "markers",
         "name": "EDUCATION",
         "orientation": "v",
         "showlegend": true,
         "type": "scatter",
         "x": {
          "bdata": "6AMAAOgDAAAgoQcAoIYBAA==",
          "dtype": "i4"
         },
         "xaxis": "x",
         "y": {
          "bdata": "AAAAAAAsr0AAAAAAAGa3QAAAAAD4cD5BAAAAAGBaGEE=",
          "dtype": "f8"
         },
         "yaxis": "y"
        },
        {
         "customdata": [
          [
           "My Talking Pet",
           4.99
          ],
          [
           "Meme Generator",
           2.99
          ]
         ],
         "hovertemplate": "Category=ENTERTAINMENT<br>Number of Installs=%{x}<br>Revenue (USD)=%{y}<br>App=%{customdata[0]}<br>Price=%{customdata[1]}<extra></extra>",
         "legendgroup": "ENTERTAINMENT",
         "marker": {
          "color": "#FFA15A",
          "symbol": "circle"
         },
         "mode": "markers",
         "name": "ENTERTAINMENT",
         "orientation": "v",
         "showlegend": true,
         "type": "scatter",
         "x": {
          "bdata": "oIYBAKCGAQA=",
          "dtype": "i4"
         },
         "xaxis": "x",
         "y": {
          "bdata": "AAAAAOB0HkEAAAAA4D8SQQ==",
          "dtype": "f8"
         },
         "yaxis": "y"
        },
        {
         "customdata": [
          [
           "My CookBook Pro (Ad Free)",
           3.49
          ],
          [
           "Paprika Recipe Manager",
           4.99
          ]
         ],
         "hovertemplate": "Category=FOOD_AND_DRINK<br>Number of Installs=%{x}<br>Revenue (USD)=%{y}<br>App=%{customdata[0]}<br>Price=%{customdata[1]}<extra></extra>",
         "legendgroup": "FOOD_AND_DRINK",
         "marker": {
          "color": "#19d3f3",
          "symbol": "circle"
         },
         "mode": "markers",
         "name": "FOOD_AND_DRINK",
         "orientation": "v",
         "showlegend": true,
         "type": "scatter",
         "x": {
          "bdata": "ECcAAFDDAAA=",
          "dtype": "i4"
         },
         "xaxis": "x",
         "y": {
          "bdata": "AAAAAIAK4UAAAAAA4HQOQQ==",
          "dtype": "f8"
         },
         "yaxis": "y"
        },
        {
         "customdata": [
          [
           "Pocket Yoga",
           2.99
          ],
          [
           "Meditation Studio",
           3.99
          ],
          [
           "Relax Melodies P: Sleep Sounds",
           2.99
          ],
          [
           "Pocket Yoga",
           2.99
          ],
          [
           "Daily Ab Workout",
           1.99
          ],
          [
           "cronometer (ad free)",
           2.99
          ],
          [
           "Lullaby Add-on for Sleep as Android",
           1.99
          ],
          [
           "Be Stronger",
           1.99
          ],
          [
           "Monitor My BP",
           5.99
          ],
          [
           "All-night drugstore CI & Price",
           0.99
          ],
          [
           "Tools & Mi Band",
           3.49
          ],
          [
           "Dr. McDougall Mobile Cookbook",
           4.99
          ],
          [
           "Vital Tones EI Pro",
           9.99
          ],
          [
           "The EO Bar",
           6.99
          ],
          [
           "EO Guide",
           4.99
          ],
          [
           "Fast Tract Diet",
           7.99
          ]
         ],
         "hovertemplate": "Category=HEALTH_AND_FITNESS<br>Number of Installs=%{x}<br>Revenue (USD)=%{y}<br>App=%{customdata[0]}<br>Price=%{customdata[1]}<extra></extra>",
         "legendgroup": "HEALTH_AND_FITNESS",
         "marker": {
          "color": "#FF6692",
          "symbol": "circle"
         },
         "mode": "markers",
         "name": "HEALTH_AND_FITNESS",
         "orientation": "v",
         "showlegend": true,
         "type": "scatter",
         "x": {
          "bdata": "oIYBABAnAACghgEAoIYBAFDDAABQwwAAUMMAAOgDAAAyAAAACgAAAKCGAQDoAwAAMgAAABAnAADoAwAA6AMAAA==",
          "dtype": "i4"
         },
         "xaxis": "x",
         "y": {
          "bdata": "AAAAAOA/EkEAAAAAgHvjQAAAAADgPxJBAAAAAOA/EkEAAAAAwEr4QAAAAADgPwJBAAAAAMBK+EAAAAAAABifQAAAAAAAuHJAzczMzMzMI0AAAAAAIE0VQQAAAAAAfrNAAAAAAAA4f0AAAAAAwBDxQAAAAAAAfrNAAAAAAAA2v0A=",
          "dtype": "f8"
         },
         "yaxis": "y"
        },
        {
         "customdata": [
          [
           "The Game of Life",
           2.99
          ],
          [
           "Clue",
           1.99
          ],
          [
           "The Room: Old Sins",
           4.99
          ],
          [
           "The Escapists",
           4.99
          ],
          [
           "Farming Simulator 18",
           4.99
          ],
          [
           "RollerCoaster Tycoon® Classic",
           5.99
          ],
          [
           "Call of Duty:Black Ops Zombies",
           6.99
          ],
          [
           "Star Wars ™: DIRTY",
           9.99
          ],
          [
           "Monument Valley 2",
           4.99
          ],
          [
           "B-52 Spirits of Glory Deluxe",
           0.99
          ],
          [
           "B-Grade Renegade",
           1.99
          ],
          [
           "CURSUM B",
           0.99
          ],
          [
           "Hitman Sniper",
           0.99
          ],
          [
           "The World Ends With You",
           17.99
          ],
          [
           "D+H Reaction Wall",
           0.99
          ],
          [
           "Traps n' Gemstones",
           4.99
          ],
          [
           "Ghosts'n Goblins MOBILE",
           0.99
          ],
          [
           "Lock 'n' Roll Pro - Ad Free",
           0.99
          ],
          [
           "Jump'N'Shoot Attack",
           2.49
          ],
          [
           "Ghouls'n Ghosts MOBILE",
           1.99
          ],
          [
           "Oddworld: New 'n' Tasty",
           4.99
          ],
          [
           "Obbligo o Verità? PRO",
           0.99
          ],
          [
           "R-TYPE II",
           1.99
          ],
          [
           "R-TYPE",
           1.99
          ],
          [
           "Don't Starve: Pocket Edition",
           4.99
          ],
          [
           "Don't Starve: Shipwrecked",
           4.99
          ],
          [
           "Ludo - Don't get angry",
           1.61
          ],
          [
           "Mental Hospital V",
           0.99
          ],
          [
           "Zombie Avengers:(Dreamsky)Stickman War Z",
           0.99
          ],
          [
           "Assassin's Creed Identity",
           1.99
          ],
          [
           "ONScripter Plus (Ad Free)",
           3.99
          ],
          [
           "Mupen64Plus AE (N64 Emulator)",
           0.99
          ],
          [
           "AJ Jump: Animal Jam Kangaroos!",
           1.99
          ],
          [
           "I am Bread",
           4.99
          ],
          [
           "Nightenfell: Shared AR",
           0.99
          ],
          [
           "Five Nights at Freddy's",
           2.99
          ],
          [
           "Five Nights at Freddy's: SL",
           2.99
          ],
          [
           "Five Nights at Freddy's 4",
           2.99
          ],
          [
           "Five Nights at Freddy's 3",
           2.99
          ],
          [
           "YAKALA AY",
           0.99
          ],
          [
           "Ra Ga Ba",
           1.49
          ],
          [
           "Wolf of the BF:Commando MOBILE",
           0.99
          ],
          [
           "Shadow Fight 2 Special Edition",
           4.99
          ],
          [
           "Backgammon NJ for Android",
           7.99
          ],
          [
           "Bi-Tank Ads Free",
           0.99
          ],
          [
           "BJ Bridge Pro 2018",
           4.49
          ],
          [
           "Blackjack Verite Drills",
           14
          ],
          [
           "MEGA MAN MOBILE",
           1.99
          ],
          [
           "New York Mysteries (Full)",
           6.99
          ],
          [
           "The Legacy (Full)",
           6.99
          ],
          [
           "Skip-Bo™",
           2.99
          ],
          [
           "Sic Bo",
           1.99
          ],
          [
           "BW-Go",
           3.49
          ],
          [
           "PAC-MAN CE DX",
           4.99
          ],
          [
           "Grand Theft Auto: San Andreas",
           6.99
          ],
          [
           "F*ck This Game",
           0.99
          ],
          [
           "211:CK",
           0.99
          ],
          [
           "Adventure Time Game Wizard",
           4.99
          ],
          [
           "Best Park in the Universe",
           2.99
          ],
          [
           "Chinese Chess 3D Online (Xiangqi, 象棋, co tuong)",
           0.99
          ],
          [
           "CT-REMOTE",
           4.49
          ],
          [
           "Cytus II",
           1.99
          ],
          [
           "Dr. Splorchy Presents Space Heroes",
           4.99
          ],
          [
           "DraStic DS Emulator",
           4.99
          ],
          [
           "Riptide GP: Renegade",
           2.99
          ],
          [
           "Dirt Trackin Sprint Cars",
           3.99
          ],
          [
           "Retro City Rampage DX",
           2.99
          ],
          [
           "Santa's Monster Shootout DX",
           1.99
          ],
          [
           "Lost Journey (Dreamsky)",
           0.99
          ],
          [
           "League of Stickman 2018- Ninja Arena PVP(Dreamsky)",
           0.99
          ],
          [
           "Stickman Legends: Shadow Wars",
           0.99
          ],
          [
           "E.G. Chess",
           0.99
          ],
          [
           "WIZARD Card Game",
           1.99
          ],
          [
           "The Game of Life",
           2.99
          ],
          [
           "Poker Equity Calculator Pro for No Limit Hold'em",
           0.99
          ],
          [
           "Superbrothers Sword & Sworcery",
           3.99
          ],
          [
           "Sonic 4™ Episode I",
           2.99
          ],
          [
           "An Elite Warrior Ex",
           0.99
          ],
          [
           "Galaxian(FC)",
           1.99
          ],
          [
           "Solitaire+",
           2.99
          ],
          [
           "Fruit Ninja Classic",
           0.99
          ],
          [
           "Mu.F.O.",
           0.99
          ],
          [
           "Trine 2: Complete Story",
           16.99
          ]
         ],
         "hovertemplate": "Category=GAME<br>Number of Installs=%{x}<br>Revenue (USD)=%{y}<br>App=%{customdata[0]}<br>Price=%{customdata[1]}<extra></extra>",
         "legendgroup": "GAME",
         "marker": {
          "color": "#B6E880",
          "symbol": "circle"
         },
         "mode": "markers",
         "name": "GAME",
         "orientation": "v",
         "showlegend": true,
         "type": "scatter",
         "x": {
          "bdata": "oIYBAKCGAQCghgEAoIYBAKCGAQCghgEAoIYBAKCGAQCghgEAZAAAAOgDAAD0AQAAgJaYABAnAAABAAAA6AMAABAnAADoAwAA6AMAAIgTAAAQJwAAZAAAAFDDAACghgEAoIYBABAnAADoAwAAUMMAAEBCDwAgoQcA6AMAAKCGAQBQwwAAECcAAOgDAABAQg8AoIYBAKCGAQCghgEAAQAAAAEAAADoAwAAUMMAABAnAAABAAAA9AEAAGQAAAAQJwAAiBMAAOgDAACghgEAZAAAAOgDAAAQJwAAQEIPAGQAAAAKAAAAUMMAABAnAADoAwAAZAAAAKCGAQBkAAAAQEIPAKCGAQAQJwAAECcAADIAAABAQg8AQEIPAEBCDwDoAwAA6AMAAKCGAQCIEwAAoIYBAKCGAQBkAAAAZAAAAKCGAQBAQg8AAQAAABAnAAA=",
          "dtype": "i4"
         },
         "xaxis": "x",
         "y": {
          "bdata": "AAAAAOA/EkEAAAAAwEoIQQAAAADgdB5BAAAAAOB0HkEAAAAA4HQeQQAAAACwRyJBAAAAAPBUJUEAAAAAsHwuQQAAAADgdB5BAAAAAADAWEAAAAAAABifQAAAAAAA8H5AAAAAAPzhYkH/////3/UFQa5H4XoUru8/AAAAAAB+s0AAAAAAAFbDQAAAAAAA8I5AAAAAAAB0o0AAAAAAAG/DQAAAAACAXehAAAAAAADAWEAAAAAAwEr4QAAAAADASghBAAAAAOB0HkEAAAAAgF3oQAAAAAAAKJlAAAAAAIAr6EAAAAAAYDYuQQAAAABwXS5BAAAAAAAsr0AAAAAAgCv4QAAAAADASvhAAAAAAIBd6EAAAAAAAPCOQAAAAADYz0ZBAAAAAOA/EkEAAAAA4D8SQQAAAADgPxJBrkfhehSu7z/Xo3A9Ctf3PwAAAAAA8I5AAAAAAOB0DkEAAAAAwIHzQK5H4XoUru8/AAAAAACKoUAAAAAAAOCVQAAAAAAAb9NAAAAAAMAQ4UAAAAAAAE67QAAAAADgPxJBAAAAAADgaEAAAAAAAESrQAAAAACAXehAAAAAACyqWkEAAAAAAMBYQM3MzMzMzCNAAAAAAOB0DkEBAAAAADPdQAAAAAAA8I5AAAAAAAAQfEAAAAAAwEoIQQAAAAAAMH9AAAAAAAwJU0EAAAAA4D8SQQAAAACAe+NAAQAAAAAz3UAAAAAAAOBYQAAAAABgNi5BAAAAAGA2LkEAAAAAYDYuQQAAAAAA8I5AAAAAAAAYn0AAAAAA4D8SQQAAAAAAVrNAAAAAAGBaGEEAAAAA4D8SQQAAAAAAwFhAAAAAAADgaEAAAAAA4D8SQQAAAABgNi5BrkfhehSu7z//////X70EQQ==",
          "dtype": "f8"
         },
         "yaxis": "y"
        },
        {
         "customdata": [
          [
           "Toca Mystery House",
           3.99
          ],
          [
           "My Little Princess : Stores",
           2.99
          ],
          [
           "Sago Mini Big City",
           3.99
          ],
          [
           "Pinkalicious Party",
           2.99
          ],
          [
           "Toca Builders",
           3.99
          ],
          [
           "Toca Life: City",
           3.99
          ],
          [
           "LEGO® Friends",
           4.99
          ],
          [
           "My Little Work – Garage",
           3.99
          ],
          [
           "Alizay, pirate girl",
           2.99
          ],
          [
           "Children Educational Game Full",
           7.49
          ],
          [
           "Hactar Go",
           2.99
          ],
          [
           "All-in-One Mahjong 3",
           0.99
          ],
          [
           "World Racers family board game",
           0.99
          ],
          [
           "SweetLand — Family Board Game",
           0.99
          ],
          [
           "Steam: Rails to Riches",
           4.99
          ],
          [
           "Whoowasit? - Best kids game!",
           2.99
          ],
          [
           "Lanterns: The Harvest Festival",
           4.99
          ],
          [
           "Tsuro - The Game of the Path",
           2.99
          ],
          [
           "THE aMAZEing Labyrinth",
           4.99
          ],
          [
           "Chess and Mate",
           4.99
          ],
          [
           "Avokiddo Emotions",
           2.99
          ],
          [
           "Nighty Night Circus",
           2.99
          ],
          [
           "Sago Mini Babies",
           3.99
          ],
          [
           "Dr. Panda & Toto's Treehouse",
           3.99
          ],
          [
           "Avokiddo Emotions",
           2.99
          ],
          [
           "Nighty Night Circus",
           2.99
          ],
          [
           "Sago Mini Babies",
           3.99
          ],
          [
           "Dr. Panda & Toto's Treehouse",
           3.99
          ],
          [
           "Minecraft",
           6.99
          ],
          [
           "Card Wars - Adventure Time",
           2.99
          ],
          [
           "C4droid - C/C++ compiler & IDE",
           2.99
          ],
          [
           "Mind Games Pro",
           2.99
          ],
          [
           "Speech Therapy: F",
           2.99
          ],
          [
           "F-Sim Space Shuttle",
           4.99
          ],
          [
           "Norwegian For Kids & Babies F",
           39.99
          ],
          [
           "most expensive app (H)",
           399.99
          ],
          [
           "Cut the Rope GOLD",
           0.99
          ],
          [
           "K.MOJI",
           1.99
          ],
          [
           "Math Games for Pre-K - Grade 4",
           1.99
          ],
          [
           "Fuzzy Numbers: Pre-K Number Foundation",
           5.99
          ],
          [
           "Anna.K Tarot",
           3.99
          ],
          [
           "Minecraft",
           6.99
          ],
          [
           "Guns'n'Glory Zombies Premium",
           2.99
          ],
          [
           "Guns'n'Glory Premium",
           2.99
          ],
          [
           "Guns'n'Glory Heroes Premium",
           2.99
          ],
          [
           "Age of Conquest: N. America",
           3.99
          ],
          [
           "Guns'n'Glory WW2 Premium",
           2.99
          ],
          [
           "Stand O’Food® (Full)",
           1.99
          ],
          [
           "Detect-O-Gromit (D.O.G 2)",
           2.49
          ],
          [
           "P Icon Pack",
           0.99
          ],
          [
           "Q Avatar Pro",
           1.49
          ],
          [
           "R Instructor",
           4.84
          ],
          [
           "Day R Premium",
           4.99
          ],
          [
           "Elemental Knights R Platinum",
           4.77
          ],
          [
           "Please, Don't Touch Anything",
           4.99
          ],
          [
           "Please Don't Touch Anything 3D",
           5.99
          ],
          [
           "Jurassic Life: T Rex Simulator",
           0.99
          ],
          [
           "FINAL FANTASY V",
           7.99
          ],
          [
           "DRAGON QUEST V",
           14.99
          ],
          [
           "X Construction",
           1.49
          ],
          [
           "Z Origins - (Z The Game)",
           2.99
          ],
          [
           "Math games for kids : times tables training",
           1.59
          ],
          [
           "My baby firework (Remove ad)",
           0.99
          ],
          [
           "Gunship III Vietnam People AF",
           4.99
          ],
          [
           "AG Subway Simulator Mobile",
           0.99
          ],
          [
           "Michael's AG Sound Board",
           0.99
          ],
          [
           "The Artificial Intelligence Project (A.I. Chat)",
           1.99
          ],
          [
           "Age of AI: War Strategy",
           2.49
          ],
          [
           "Hey AJ! It's Bedtime!",
           4.99
          ],
          [
           "I am Rich Plus",
           399.99
          ],
          [
           "I Am Rich Pro",
           399.99
          ],
          [
           "I Am Rich",
           389.99
          ],
          [
           "The Hunt for the Lost Treasure",
           2.99
          ],
          [
           "Attack the Light",
           2.99
          ],
          [
           "AP Government Review",
           2.99
          ],
          [
           "500 AP World History Questions",
           9.99
          ],
          [
           "iScore5 AP Psych",
           4.99
          ],
          [
           "meStudying: AP English Lit",
           4.99
          ],
          [
           "AP Art History Flashcards",
           29.99
          ],
          [
           "AQ Math Facts",
           2.99
          ],
          [
           "Five Nights at Freddy's 2",
           2.99
          ],
          [
           "INTERACTIVE CALCULUS PRO",
           0.99
          ],
          [
           "¡Ay Caramba!",
           1.99
          ],
          [
           "Alif Ba Ta Bullseye",
           1.99
          ],
          [
           "Learn Quran with Elif Ba",
           1.49
          ],
          [
           "Ice Crush 10.000 B.C.",
           0.99
          ],
          [
           "Car Driving Theory Test BC",
           1.49
          ],
          [
           "Truck Driving Test Class 3 BC",
           1.49
          ],
          [
           "My Virtual Boyfriend",
           0.99
          ],
          [
           "Baldur's Gate: Enhanced Edition",
           9.99
          ],
          [
           "CSCS BG (в български)",
           3.99
          ],
          [
           "LEGO ® Batman: Beyond Gotham",
           4.99
          ],
          [
           "Baldur's Gate II",
           9.99
          ],
          [
           "Battleheart Legacy",
           4.99
          ],
          [
           "Phonics Puzzles",
           2.99
          ],
          [
           "Chess of Blades (BL/Yaoi Game) (No VA)",
           14.99
          ],
          [
           "Beck & Bo: Toddler First Words",
           2.99
          ],
          [
           "Bo's Bedtime Story",
           2.49
          ],
          [
           "Dr.Dice - Sic bo analyzer",
           46.99
          ],
          [
           "Bo's Matching Game",
           0.99
          ],
          [
           "Bo's Dinnertime Story",
           2.49
          ],
          [
           "Bo's School Day",
           2.99
          ],
          [
           "Infinity Dungeon VIP",
           0.99
          ],
          [
           "TV Guide BR Gold",
           1.49
          ],
          [
           "BS Detector - Diss 'n' Gauges",
           1.49
          ],
          [
           "Hitman GO",
           0.99
          ],
          [
           "Theatre of the Absurd CE(Full)",
           2.99
          ],
          [
           "TI-84 CE Graphing Calculator Manual TI 84",
           4.99
          ],
          [
           "AC CE BJT Actorial",
           2
          ],
          [
           "Depths of Betrayal CE (Full)",
           2.99
          ],
          [
           "Führerschein Klasse CE, LKW 2018",
           2.49
          ],
          [
           "Dots puzzle",
           0.99
          ],
          [
           "Reading Race 1b: sh, ch words",
           3.99
          ],
          [
           "Speech Therapy: CH",
           1.99
          ],
          [
           "boattheory.ch Full 2018",
           19.4
          ],
          [
           "DRAGON QUEST IV",
           14.99
          ],
          [
           "USMLE Step 2 CK Flashcards",
           19.99
          ],
          [
           "Teen Titans GO Figure!",
           3.99
          ],
          [
           "CN Superstar Soccer: Goal!!!",
           2.99
          ],
          [
           "Teeny Titans - Teen Titans Go!",
           3.99
          ],
          [
           "Ski Safari: Adventure Time",
           0.99
          ],
          [
           "Rockstars of Ooo",
           1.99
          ],
          [
           "Flipped Out! - Powerpuff Girls",
           2.99
          ],
          [
           "Formula Cartoon All Stars",
           2.99
          ],
          [
           "Tetrobot and Co.",
           2.99
          ],
          [
           "Wuwu & Co.",
           2.99
          ],
          [
           "CS go bomb simulator",
           0.99
          ],
          [
           "Morse Player",
           1.99
          ],
          [
           "30WPM Amateur ham radio Koch CW Morse code trainer",
           1.49
          ],
          [
           "Learn CW",
           2.49
          ],
          [
           "TI-Nspire CX Calculator Manual",
           4.99
          ],
          [
           "go41cx",
           10
          ],
          [
           "The House of Da Vinci",
           4.99
          ],
          [
           "King of Math",
           2.99
          ],
          [
           "Peppa Pig: Party Time",
           2.99
          ],
          [
           "LEGO Batman: DC Super Heroes",
           4.99
          ],
          [
           "Myth Defense 2: DF Platinum",
           3.99
          ],
          [
           "ZombieVital DG",
           12.99
          ],
          [
           "Interactive NPC DM Tool",
           0.99
          ],
          [
           "Writing Wizard Premium - Handwriting",
           4.49
          ],
          [
           "DRAGON QUEST VIII",
           19.99
          ],
          [
           "DRAGON QUEST III",
           9.99
          ],
          [
           "DRAGON QUEST",
           2.99
          ],
          [
           "DRAGON QUEST II",
           4.99
          ],
          [
           "DRAGON QUEST VI",
           14.99
          ],
          [
           "CHRONO TRIGGER (Upgrade Ver.)",
           9.99
          ],
          [
           "FINAL FANTASY DIMENSIONS",
           13.99
          ],
          [
           "Dr. Panda Farm",
           2.99
          ],
          [
           "DR.MEEP",
           2.99
          ],
          [
           "Dr. Panda Art Class",
           2.99
          ],
          [
           "Dr. Panda's Swimming Pool",
           1.99
          ],
          [
           "Dr. Panda & Toto's Treehouse",
           3.99
          ],
          [
           "Dr. Seuss's ABC",
           3.99
          ],
          [
           "Dr. Panda Hospital",
           2.99
          ],
          [
           "Dr. Panda Restaurant 2",
           2.99
          ],
          [
           "Dr. Panda Supermarket",
           2.99
          ],
          [
           "Real Sheet ∞: Pathfinder + DT",
           2.99
          ],
          [
           "Bloons TD 5",
           2.99
          ],
          [
           "ZOOKEEPER DX TouchEdition",
           0.99
          ],
          [
           "Chronolink DX",
           0.99
          ],
          [
           "Bubble Shooter DX AdFree",
           2.99
          ],
          [
           "Dress Up RagazzA13 DX",
           0.99
          ],
          [
           "Unstoppaball DX",
           1.49
          ],
          [
           "Sokoban Land DX",
           2.99
          ],
          [
           "Train Sim Pro",
           1.49
          ],
          [
           "DZ Puzzle",
           0.99
          ],
          [
           "NBA JAM by EA SPORTS™",
           4.99
          ],
          [
           "RPG ブレイジング ソウルズ アクセレイト",
           10.99
          ],
          [
           "Carrier Landings Pro",
           12.99
          ],
          [
           "EG Classroom Decimals™",
           2.99
          ],
          [
           "Learn Music Notes",
           1.99
          ],
          [
           "Farming Simulator 16",
           2.99
          ],
          [
           "El Chavo",
           0.99
          ],
          [
           "Masha and the Bear- House Cleaning Games for Girls",
           1.99
          ],
          [
           "Masha and the Bear - Hair Salon and MakeUp Games",
           2.49
          ],
          [
           "Where's My Water?",
           1.99
          ],
          [
           "Out There Chronicles - Ep. 1",
           2.99
          ],
          [
           "Out There Chronicles - Ep. 2",
           2.99
          ],
          [
           "EP McGuffey Primer",
           1.99
          ],
          [
           "The Great Wobo Escape Ep.1",
           1.99
          ],
          [
           "Learn Italian with MosaLingua",
           4.99
          ],
          [
           "IF YOU TO EU PEGO",
           1.26
          ],
          [
           "European War 6: 1804",
           0.99
          ],
          [
           "XCOM®: Enemy Within",
           9.99
          ],
          [
           "Deus Ex GO",
           0.99
          ],
          [
           "SCI-FI UI",
           1.99
          ],
          [
           "FP VoiceBot",
           0.99
          ],
          [
           "sugar, sugar",
           1.2
          ],
          [
           "Word Search Tab 1 FR",
           1.04
          ]
         ],
         "hovertemplate": "Category=FAMILY<br>Number of Installs=%{x}<br>Revenue (USD)=%{y}<br>App=%{customdata[0]}<br>Price=%{customdata[1]}<extra></extra>",
         "legendgroup": "FAMILY",
         "marker": {
          "color": "#FF97FF",
          "symbol": "circle"
         },
         "mode": "markers",
         "name": "FAMILY",
         "orientation": "v",
         "showlegend": true,
         "type": "scatter",
         "x": {
          "bdata": "iBMAAIgTAADoAwAA9AEAAKCGAQAgoQcAECcAABAnAADoAwAA6AMAAOgDAABkAAAAZAAAAOgDAACIEwAAiBMAAOgDAAAQJwAAECcAAIgTAADoAwAAECcAABAnAABQwwAA6AMAABAnAAAQJwAAUMMAAICWmABAQg8AUMMAAKCGAQAKAAAAoIYBAAUAAABkAAAAQEIPAPQBAADoAwAA6AMAAGQAAACAlpgAiBMAAKCGAQAQJwAAECcAAKCGAQAQJwAAECcAAAoAAABkAAAA6AMAAKCGAQBQwwAAECcAAIgTAAAQJwAAoIYBABAnAACghgEAUMMAABAnAADoAwAAiBMAAIgTAAABAAAAiBMAAPQBAAAKAAAAECcAAIgTAAAQJwAAoIYBAKCGAQDoAwAAZAAAAGQAAAAKAAAACgAAAAEAAAAgoQcACgAAAAEAAAAFAAAAZAAAAGQAAAAKAAAAMgAAAOgDAACghgEAZAAAAKCGAQBQwwAAUMMAAGQAAAAKAAAA6AMAAOgDAAAKAAAA6AMAAOgDAADoAwAAQEIPAIgTAAAyAAAAIKEHABAnAABkAAAAMgAAAOgDAADoAwAAUMMAADIAAAAKAAAA6AMAABAnAAAKAAAAECcAAKCGAQCghgEAoIYBABAnAAAQJwAAECcAAIgTAABkAAAACgAAAGQAAAAKAAAAAQAAAPQBAADoAwAAoIYBABAnAAAQJwAAUMMAABAnAABkAAAAMgAAAIgTAABQwwAAECcAAKCGAQAQJwAAoIYBAKCGAQCghgEAECcAAPQBAABQwwAAoIYBAFDDAAAQJwAAUMMAAKCGAQBQwwAAMgAAAEBCDwCghgEACgAAADIAAABkAAAAMgAAABAnAAAQJwAACgAAACChBwDoAwAAECcAADIAAADoAwAAIKEHABAnAABkAAAAZAAAAEBCDwBQwwAA6AMAADIAAAD0AQAAUMMAAGQAAAAQJwAAoIYBAKCGAQBkAAAAZAAAABAnAAAyAAAA",
          "dtype": "i4"
         },
         "xaxis": "x",
         "y": {
          "bdata": "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",
          "dtype": "f8"
         },
         "yaxis": "y"
        },
        {
         "customdata": [
          [
           "Monash Uni Low FODMAP Diet",
           9
          ],
          [
           "iBP Blood Pressure",
           0.99
          ],
          [
           "Pedi STAT",
           5.49
          ],
          [
           "ASCCP Mobile",
           9.99
          ],
          [
           "Journal Club: Medicine",
           6.99
          ],
          [
           "Paramedic Protocol Provider",
           10
          ],
          [
           "MommyMeds",
           3.99
          ],
          [
           "Medical ID - In Case of Emergency (ICE)",
           5.99
          ],
          [
           "Human Anatomy Atlas 2018: Complete 3D Human Body",
           24.99
          ],
          [
           "Essential Anatomy 3",
           11.99
          ],
          [
           "Vargo Anesthesia Mega App",
           79.99
          ],
          [
           "EMT Review Plus",
           11.99
          ],
          [
           "Muscle Trigger Point Anatomy",
           2.99
          ],
          [
           "2017 EMRA Antibiotic Guide",
           16.99
          ],
          [
           "ASRA Coags",
           3.99
          ],
          [
           "IBM Micromedex Drug Info",
           2.99
          ],
          [
           "Diabetes & Diet Tracker",
           9.99
          ],
          [
           "VeinSeek",
           3.99
          ],
          [
           "Block Buddy",
           14.99
          ],
          [
           "Super Hearing Secret Voices Recorder PRO",
           2.99
          ],
          [
           "EMT Study - NREMT Test Prep",
           3.99
          ],
          [
           "Calcium Pro",
           2.99
          ],
          [
           "Arrhythmias and Dysrhythmias",
           1
          ],
          [
           "EMT PASS",
           29.99
          ],
          [
           "Pocket Lab Values",
           2.99
          ],
          [
           "Medical terms (OFFLINE)",
           2.99
          ],
          [
           "Cardiac diagnosis (heart rate, arrhythmia)",
           12.99
          ],
          [
           "ERres- Emergency Medicine",
           4.99
          ],
          [
           "FHR 5-Tier 2.0",
           2.99
          ],
          [
           "AnatomyMapp",
           14.99
          ],
          [
           "OptoDrum",
           5.99
          ],
          [
           "Migraine, Headache Diary HeadApp Pro",
           3.49
          ],
          [
           "Blood Pressure Companion",
           0.99
          ],
          [
           "Visual Anatomy 2",
           2.49
          ],
          [
           "Muscle Premium - Human Anatomy, Kinesiology, Bones",
           24.99
          ],
          [
           "CCHT PREP",
           10.99
          ],
          [
           "Paramedic Meds",
           1.99
          ],
          [
           "Advanced Comprehension Therapy",
           24.99
          ],
          [
           "OmniMedix Medical Calculator",
           4.99
          ],
          [
           "Breathing Zone",
           3.99
          ],
          [
           "Lab Values + Medical Reference",
           2.99
          ],
          [
           "Recognise Foot",
           7.49
          ],
          [
           "Anti Mosquito simulation",
           1.5
          ],
          [
           "Pain Tracker & Diary",
           2.99
          ],
          [
           "Menstrual Calendar Premium",
           3.99
          ],
          [
           "Whist - Tinnitus Relief",
           1.99
          ],
          [
           "Critical Care Paramedic Review",
           9.99
          ],
          [
           "With Helper Pro Pill Reminder",
           3.99
          ],
          [
           "Manage My Pain Pro",
           3.99
          ],
          [
           "End Anxiety Pro - Stress, Panic Attack Help",
           3.99
          ],
          [
           "Acupuncture Assistant",
           7.99
          ],
          [
           "Number Therapy",
           14.99
          ],
          [
           "InfantRisk Center HCP",
           9.99
          ],
          [
           "EMT Tutor NREMT-B Study Guide",
           3.99
          ],
          [
           "Hospitalist Handbook",
           19.99
          ],
          [
           "PTA Content Master",
           29.99
          ],
          [
           "Navi Radiography Pro",
           15.99
          ],
          [
           "Nursing Care Plan NANDA Tables",
           0.99
          ],
          [
           "A Manual of Acupuncture",
           33.99
          ],
          [
           "palmPEDi: Pediatric Tape",
           0.99
          ],
          [
           "Vargo Anesthesia Mega App",
           79.99
          ],
          [
           "Monash Uni Low FODMAP Diet",
           9
          ],
          [
           "Human Anatomy Atlas 2018: Complete 3D Human Body",
           24.99
          ],
          [
           "ASCCP Mobile",
           9.99
          ],
          [
           "Paramedic Protocol Provider",
           10
          ],
          [
           "2017 EMRA Antibiotic Guide",
           16.99
          ],
          [
           "Essential Anatomy 3",
           11.99
          ],
          [
           "EMT PASS",
           29.99
          ],
          [
           "Block Buddy",
           14.99
          ],
          [
           "Language Therapy: Aphasia",
           74.99
          ],
          [
           "EMT Review Plus",
           11.99
          ],
          [
           "Journal Club: Medicine",
           6.99
          ],
          [
           "Pedi STAT",
           5.49
          ],
          [
           "AnatomyMapp",
           14.99
          ],
          [
           "Diabetes & Diet Tracker",
           9.99
          ],
          [
           "A Manual of Acupuncture",
           33.99
          ],
          [
           "PTA Content Master",
           29.99
          ],
          [
           "Muscle Premium - Human Anatomy, Kinesiology, Bones",
           24.99
          ],
          [
           "Cardiac diagnosis (heart rate, arrhythmia)",
           12.99
          ],
          [
           "LTC AS Legal",
           39.99
          ],
          [
           "Medical ID - In Case of Emergency (ICE)",
           5.99
          ],
          [
           "IBM Micromedex Drug Info",
           2.99
          ],
          [
           "Advanced Comprehension Therapy",
           24.99
          ],
          [
           "Hospitalist Handbook",
           19.99
          ],
          [
           "Visualmed",
           2.99
          ],
          [
           "ABG Master",
           0.99
          ],
          [
           "OrthoFlow",
           5.99
          ],
          [
           "Be the Expert in Phlebotomy - Professional Nursing",
           0.99
          ],
          [
           "EMT Tutor NREMT-B Study Guide",
           3.99
          ],
          [
           "Cardio Z",
           5.99
          ],
          [
           "AF-STROKE",
           5
          ],
          [
           "Gravidez ao Vivo",
           2.99
          ],
          [
           "BG Monitor Diabetes Pro",
           5.99
          ],
          [
           "iBP Blood Pressure",
           0.99
          ],
          [
           "Blood Pressure Companion",
           0.99
          ],
          [
           "bpresso PRO",
           5.49
          ],
          [
           "CE Genius Nurses Edition",
           3.99
          ],
          [
           "Squeezy CF",
           2.99
          ],
          [
           "Emergency Brain CT",
           0.99
          ],
          [
           "Abdominal CT Sectional Walker",
           9.99
          ],
          [
           "Interactive CT and MRI Anatomy",
           15.46
          ],
          [
           "CT and XR Dose Calculator",
           0.99
          ],
          [
           "Chest CT Sectional Walker",
           9.99
          ],
          [
           "Radiological Anatomy For FRCR1",
           6.99
          ],
          [
           "Differential Dx",
           3.99
          ],
          [
           "Human Anatomy Atlas 2018: Complete 3D Human Body",
           24.99
          ],
          [
           "EP Calipers",
           0.99
          ],
          [
           "EP Coding",
           0.99
          ]
         ],
         "hovertemplate": "Category=MEDICAL<br>Number of Installs=%{x}<br>Revenue (USD)=%{y}<br>App=%{customdata[0]}<br>Price=%{customdata[1]}<extra></extra>",
         "legendgroup": "MEDICAL",
         "marker": {
          "color": "#FECB52",
          "symbol": "circle"
         },
         "mode": "markers",
         "name": "MEDICAL",
         "orientation": "v",
         "showlegend": true,
         "type": "scatter",
         "x": {
          "bdata": "oIYBABAnAAAQJwAAECcAABAnAAAQJwAAiBMAAIgTAACghgEAUMMAAOgDAAAQJwAAUMMAAOgDAADoAwAAECcAAOgDAADoAwAA6AMAAGQAAACIEwAAiBMAAPQBAADoAwAAECcAAOgDAABkAAAA6AMAAPQBAACIEwAA6AMAAPQBAADoAwAAiBMAABAnAADoAwAAECcAAGQAAADoAwAAiBMAABAnAADoAwAA6AMAAGQAAABQwwAA6AMAAOgDAACIEwAAiBMAAOgDAAAQJwAAMgAAAOgDAAAQJwAA6AMAAOgDAAD0AQAA9AEAAOgDAACIEwAA6AMAAKCGAQCghgEAECcAABAnAADoAwAAUMMAAOgDAADoAwAA6AMAABAnAAAQJwAAECcAAIgTAADoAwAA6AMAAOgDAAAQJwAAZAAAAGQAAACIEwAAECcAAGQAAADoAwAAAQAAADIAAAAKAAAAAQAAABAnAABkAAAAZAAAAOgDAAD0AQAAECcAAOgDAADoAwAAAQAAAAoAAAAKAAAAZAAAAOgDAAAyAAAAZAAAAGQAAAD0AQAAoIYBAGQAAAAyAAAA",
          "dtype": "i4"
         },
         "xaxis": "x",
         "y": {
          "bdata": "AAAAAEB3K0EAAAAAAFbDQAAAAACAzupAAAAAAMBj+EAAAAAAwBDxQAAAAAAAavhAAAAAAIB700AAAAAAgD/dQAAAAADcEENBAAAAAJhLIkEAAAAAYIfzQAAAAADARf1AAAAAAOA/AkEAAAAAgJfQQAAAAAAALK9AAQAAAAAz3UAAAAAAAIPDQAAAAAAALK9AAAAAAABHzUAAAAAAALByQAAAAACAe9NAAQAAAAAzzUAAAAAAAEB/QAAAAACASd1AAQAAAAAz3UAAAAAAAFynQAAAAAAATJRAAAAAAAB+s0AAAAAAAFyXQAAAAABgTPJAAAAAAABmt0AAAAAAAESbQAAAAAAA8I5AAQAAAABRyED/////X4EOQQAAAAAAd8VAAAAAAABv00AAAAAAAIajQAAAAAAAfrNAAAAAAIB700ABAAAAADPdQAAAAAAAQr1AAAAAAABwl0AAAAAAALByQAAAAABgWghBAAAAAAAYn0AAAAAAAIPDQAAAAACAe9NAAAAAAIB700AAAAAAACyvQAAAAADAgfNAAAAAAABsh0AAAAAAAIPDQAAAAACAe+NAAAAAAICF00AAAAAAgEndQAAAAAAAO79AAAAAAADwfkAAAAAAwJjgQAAAAAAAVrNAAAAAAGCH80AAAAAAQHcrQQAAAADcEENBAAAAAMBj+EAAAAAAAGr4QAAAAACAl9BAAAAAAJhLIkEAAAAAgEndQAAAAAAAR81AAAAAAOBO8kAAAAAAwEX9QAAAAADAEPFAAAAAAIDO6kAAAAAAYEzyQAAAAAAAg8NAAAAAAMCY4EAAAAAAgEndQP////9fgQ5BAAAAAABMlEAAAAAAAD6vQAAAAACAP91AAQAAAAAz3UAAAAAAAIajQAAAAACAhdNA7FG4HoXrB0AAAAAAAMBIQDQzMzMz801ArkfhehSu7z8AAAAAgHvjQAAAAAAAuIJAAAAAAABAf0AAAAAAAFynQAAAAAAAZqdAAAAAAABWw0AAAAAAAPCOQAAAAAAAcrVA7FG4HoXrD0BnZmZmZuY9QM3MzMzMzCNAAAAAAAA4j0AAAAAAADLOQAAAAAAAwEhAAAAAAAA4j0AAAAAAANiFQAAAAAAALJ9AAAAAANwQQ0EAAAAAAMBYQAAAAAAAwEhA",
          "dtype": "f8"
         },
         "yaxis": "y"
        },
        {
         "customdata": [
          [
           "Facetune - For Free",
           5.99
          ],
          [
           "Lapse It • Time Lapse • Pro",
           2.99
          ],
          [
           "Facetune - For Free",
           5.99
          ],
          [
           "Camera FV-5",
           3.95
          ],
          [
           "Facetune - For Free",
           5.99
          ],
          [
           "F-Stop Gallery Pro",
           4.99
          ],
          [
           "F Length Sim (no Ads)",
           2
          ],
          [
           "Arto: f.infrared photo",
           1.49
          ],
          [
           "Pocket AC",
           9.99
          ],
          [
           "NewTek NDI",
           19.99
          ],
          [
           "AI Draw | Art Filter for Selfie",
           2.99
          ],
          [
           "Ai-Ball AV Recorder",
           2.99
          ],
          [
           "BeFunky Photo Editor Pro",
           1.99
          ],
          [
           "BL 1-Click Camera",
           3.99
          ],
          [
           "Camera FV-5",
           3.95
          ],
          [
           "BlackCam Pro - B&W Camera",
           1.49
          ],
          [
           "LC-DB",
           3.49
          ],
          [
           "Guide to Nikon Df",
           29.99
          ],
          [
           "Cameringo+ Filters Camera",
           2.99
          ],
          [
           "LightMeter (noAds)",
           1.99
          ],
          [
           "PhotoFrame for Synology DS",
           4.99
          ],
          [
           "EF Lens Simulator",
           9.99
          ]
         ],
         "hovertemplate": "Category=PHOTOGRAPHY<br>Number of Installs=%{x}<br>Revenue (USD)=%{y}<br>App=%{customdata[0]}<br>Price=%{customdata[1]}<extra></extra>",
         "legendgroup": "PHOTOGRAPHY",
         "marker": {
          "color": "#636efa",
          "symbol": "circle"
         },
         "mode": "markers",
         "name": "PHOTOGRAPHY",
         "orientation": "v",
         "showlegend": true,
         "type": "scatter",
         "x": {
          "bdata": "QEIPAKCGAQBAQg8AoIYBAEBCDwAQJwAACgAAAPQBAADoAwAA6AMAAOgDAACIEwAAUMMAAGQAAACghgEAoIYBAAoAAAAKAAAAIKEHABAnAAAKAAAAZAAAAA==",
          "dtype": "i4"
         },
         "xaxis": "x",
         "y": {
          "bdata": "AAAAAJzZVkEAAAAA4D8SQQAAAACc2VZBAAAAAOAbGEEAAAAAnNlWQQAAAACAXehAAAAAAAAANEAAAAAAAEiHQAAAAAAAg8NAAAAAAICF00AAAAAAAFynQAEAAAAAM81AAAAAAMBK+EAAAAAAAPB4QAAAAADgGxhBAAAAAEAwAkE0MzMzM3NBQGZmZmZmvnJAAAAAANjPNkEAAAAAAG/TQDQzMzMz80hAAAAAAAA4j0A=",
          "dtype": "f8"
         },
         "yaxis": "y"
        },
        {
         "customdata": [
          [
           "Golfshot Plus: Golf GPS",
           29.99
          ],
          [
           "G-Force Driving Assistant",
           3.88
          ],
          [
           "O'Route Orienteering",
           3.02
          ],
          [
           "Mike V: Skateboard Party PRO",
           3.99
          ],
          [
           "True Skate",
           1.99
          ],
          [
           "Hunt Buddy BC",
           2.99
          ],
          [
           "iHunter BC",
           4.49
          ],
          [
           "iFish BC",
           3.99
          ],
          [
           "Basket Manager 2018 Pro",
           2.99
          ],
          [
           "Basket Manager 2016 Pro",
           0.99
          ],
          [
           "Basket Manager 2017 Pro",
           0.99
          ],
          [
           "BT Speed",
           4.8
          ],
          [
           "Dive-Store.ch",
           1.99
          ],
          [
           "Jetting for Honda CR dirt bike",
           3.49
          ],
          [
           "Absolute RC Heli Simulator",
           4.99
          ],
          [
           "Fodbold DK Pro",
           2.99
          ],
          [
           "Basketball Dynasty Manager 16",
           1.99
          ],
          [
           "PORTABLE SOCCER DX",
           1
          ],
          [
           "Active Soccer 2 DX",
           2.99
          ],
          [
           "LocaToWeb - Live GPS tracking",
           2.49
          ],
          [
           "FL SW Fishing Regulations",
           1.99
          ],
          [
           "FL Racing Manager 2015 Pro",
           0.99
          ],
          [
           "FL Racing Manager 2018 Pro",
           1.99
          ],
          [
           "Football Manager Mobile 2018",
           8.99
          ]
         ],
         "hovertemplate": "Category=SPORTS<br>Number of Installs=%{x}<br>Revenue (USD)=%{y}<br>App=%{customdata[0]}<br>Price=%{customdata[1]}<extra></extra>",
         "legendgroup": "SPORTS",
         "marker": {
          "color": "#EF553B",
          "symbol": "circle"
         },
         "mode": "markers",
         "name": "SPORTS",
         "orientation": "v",
         "showlegend": true,
         "type": "scatter",
         "x": {
          "bdata": "UMMAAGQAAABkAAAAUMMAAEBCDwCIEwAA6AMAAOgDAADoAwAA6AMAAOgDAAAKAAAABQAAAGQAAAAQJwAA6AMAAIgTAACIEwAA9AEAAOgDAADoAwAAiBMAAIgTAACghgEA",
          "dtype": "i4"
         },
         "xaxis": "x",
         "y": {
          "bdata": "AAAAAGzhNkEAAAAAAEB4QAAAAAAA4HJAAAAAAGBaCEEAAAAAcF0+QQEAAAAAM81AAAAAAACKsUAAAAAAACyvQAAAAAAAXKdAAAAAAADwjkAAAAAAAPCOQAAAAAAAAEhAZmZmZmbmI0AAAAAAANB1QAAAAACAXehAAAAAAABcp0AAAAAAAG/DQAAAAAAAiLNAAAAAAABcl0AAAAAAAHSjQAAAAAAAGJ9AAAAAAABWs0AAAAAAAG/DQAAAAABwbytB",
          "dtype": "f8"
         },
         "yaxis": "y"
        },
        {
         "customdata": [
          [
           "Beautiful Widgets Pro",
           2.49
          ],
          [
           "HD Widgets",
           0.99
          ],
          [
           "Kairo XP (for HD Widgets)",
           0.99
          ],
          [
           "BIG Launcher",
           9.99
          ],
          [
           "Smart Launcher Pro 3",
           4.49
          ],
          [
           "B-17 Flying Fortress WWII LWP",
           1.49
          ],
          [
           "Smart Launcher theme b. gold",
           1.99
          ],
          [
           "Next Launcher 3D Theme Hit-B",
           1.7
          ],
          [
           "C Locker Pro",
           2.99
          ],
          [
           "Neon Glow C - Icon Pack",
           0.99
          ],
          [
           "Koi Live Wallpaper",
           0.99
          ],
          [
           "F-1 watchface by Delta",
           2.49
          ],
          [
           "Next Launcher 3D Theme Hit-G",
           1.7
          ],
          [
           "Go",
           0.99
          ],
          [
           "G Theme 2 for LG V30, LG G6",
           1.49
          ],
          [
           "Dialer theme G Black Gold",
           1.49
          ],
          [
           "N Launcher Pro - Nougat 7.0",
           2.99
          ],
          [
           "Dark Infusion Substratum Theme for Android N & O",
           2.49
          ],
          [
           "Planet O - Icon Pack",
           0.99
          ],
          [
           "Prime Key for Nougat Launcher& O Launcher &KitKat",
           6.99
          ],
          [
           "Android P | Xperia™ Theme 4800+ icons",
           1.99
          ],
          [
           "Android P Home KLWP",
           1.49
          ],
          [
           "P-Home for KLWP",
           0.99
          ],
          [
           "[substratum] Vacuum: P",
           1.49
          ],
          [
           "[Sub/EMUI] P Pro - EMUI 8.1/8.0/5.X Theme",
           0.99
          ],
          [
           "Pacify Exceed (Android P) - Theme for Xperia™",
           1.49
          ],
          [
           "Theme Android P Design for LG V30",
           1.49
          ],
          [
           "Pistachio Launcher for Android P 9.0",
           1.49
          ],
          [
           "Theme Android P for LG G7 & V35",
           1.49
          ],
          [
           "Pacify (Android P theme) - Theme for Xperia™",
           0.99
          ],
          [
           "Theme Android P Black design for LG V30",
           1.49
          ],
          [
           "Theme Android P Black for LG G7 & V35",
           1.49
          ],
          [
           "Pureness Pacify (Android P) - Theme for Xperia™",
           1.49
          ],
          [
           "Android P Style Icon Pack",
           0.99
          ],
          [
           "Pixel Oreo/P Dark White AMOLED UI - Icon Pack",
           1.49
          ],
          [
           "Neon-R (Red)",
           0.99
          ],
          [
           "S Launcher Pro for Galaxy",
           4.99
          ],
          [
           "PitchBlack S - Samsung Substratum Theme “For Oreo”",
           1.99
          ],
          [
           "weather HD",
           1.99
          ],
          [
           "Light X - Icon Pack",
           0.99
          ],
          [
           "iLauncher OS 12 Pro - Phone X",
           2.99
          ],
          [
           "X Back - Icon Pack",
           0.99
          ],
          [
           "Space Z 🌏 🚀Icon Pack Theme",
           1.49
          ],
          [
           "Watch Face Swiss AJ-6",
           0.99
          ],
          [
           "AJ Gray Icon Pack",
           0.99
          ],
          [
           "AJ Gray Dark Icon Pack",
           0.99
          ],
          [
           "AJ Blue Icon Pack",
           0.99
          ],
          [
           "AJ Turquoise Dark Icon Pack",
           0.99
          ],
          [
           "AJ Orange Icon Pack",
           0.99
          ],
          [
           "AP Themes for Kustom/KLWP",
           1.49
          ],
          [
           "Glanceable Ap Watch Face",
           0.99
          ],
          [
           "Ultimate Watch 2 watch face",
           0.99
          ],
          [
           "Pujie Black Watch Face for Android Wear OS",
           1.99
          ],
          [
           "AX Watch for WatchMaker",
           0.99
          ],
          [
           "Ay Yıldız - Xperia Live Theme",
           0.99
          ],
          [
           "SLANGY-Perfect BK World Theme",
           4.85
          ],
          [
           "BL Holo Theme",
           2
          ],
          [
           "Watch Face BW Inter",
           0.99
          ],
          [
           "Beautiful Widgets Pro",
           2.49
          ],
          [
           "HD Widgets",
           0.99
          ],
          [
           "Color Changer Pro [root]",
           0.99
          ],
          [
           "Lollipop Launcher Plus",
           4.99
          ],
          [
           "Next Launcher 3D Bold-CF Theme",
           0.99
          ],
          [
           "FAV KWGT",
           0.99
          ],
          [
           "Pixxy KWGT",
           0.99
          ],
          [
           "CI 174 Gray Icon Pack",
           0.99
          ],
          [
           "CM Launcher 3D Pro💎",
           4.99
          ],
          [
           "Swift Dark CM / CM13 Theme",
           1.99
          ],
          [
           "OMEGA Black UI Theme - CM 12+",
           0.99
          ],
          [
           "Asiimov Skin - CS GO Icon Pack",
           2.49
          ],
          [
           "DK Primrose for KLWP",
           0.99
          ],
          [
           "MultiPicture Live Wallpaper dn",
           1.99
          ],
          [
           "Day Night Live Wallpaper (All)",
           2.49
          ],
          [
           "RETRO Shocked DW-6000",
           1.49
          ],
          [
           "DX Glow - Clock Widget",
           0.99
          ],
          [
           "EM Launcher Pro",
           3.99
          ],
          [
           "EU Flags Live Wallpaper",
           0.99
          ],
          [
           "ADWLauncher 1 EX",
           2.49
          ],
          [
           "Device Info Ex Live Wallpaper",
           0.99
          ],
          [
           "GO Contacts EX Black & Grey",
           0.99
          ],
          [
           "Circle Colors Pack-FN Theme",
           0.99
          ],
          [
           "FO Bixby",
           0.99
          ]
         ],
         "hovertemplate": "Category=PERSONALIZATION<br>Number of Installs=%{x}<br>Revenue (USD)=%{y}<br>App=%{customdata[0]}<br>Price=%{customdata[1]}<extra></extra>",
         "legendgroup": "PERSONALIZATION",
         "marker": {
          "color": "#00cc96",
          "symbol": "circle"
         },
         "mode": "markers",
         "name": "PERSONALIZATION",
         "orientation": "v",
         "showlegend": true,
         "type": "scatter",
         "x": {
          "bdata": "QEIPAEBCDwAQJwAAECcAAKCGAQBkAAAAiBMAAOgDAAAQJwAAECcAAKCGAQAKAAAA6AMAAIgTAAD0AQAA9AEAAKCGAQDoAwAAECcAAIgTAABkAAAABQAAAGQAAADoAwAAZAAAAAoAAAD0AQAAAQAAAGQAAAAKAAAAZAAAAGQAAAABAAAAZAAAAIgTAABkAAAA6AMAAOgDAAAQJwAAECcAADIAAAAQJwAA6AMAAGQAAAAyAAAACgAAADIAAAAKAAAACgAAAPQBAAAFAAAAECcAAKCGAQABAAAACgAAADIAAAD0AQAA6AMAAEBCDwBAQg8A6AMAAOgDAADoAwAA6AMAAOgDAAAKAAAAoIYBABAnAABkAAAAZAAAAAEAAAAQJwAAUMMAAGQAAAAyAAAA6AMAABAnAAAgoQcAUMMAAPQBAAAyAAAAZAAAAA==",
          "dtype": "i4"
         },
         "xaxis": "x",
         "y": {
          "bdata": "AAAAAEj/QkEAAAAAYDYuQQAAAAAAVsNAAAAAAMBj+EAAAAAAoGcbQQAAAAAAoGJAAAAAAABvw0AAAAAAAJCaQAEAAAAAM91AAAAAAABWw0AAAAAAgCv4QGdmZmZm5jhAAAAAAACQmkAAAAAAAFazQAAAAAAASIdAAAAAAABIh0AAAAAA4D8SQQAAAAAAdKNAAAAAAABWw0AAAAAAwBDhQAAAAAAA4GhAzczMzMzMHUAAAAAAAMBYQAAAAAAASJdAAAAAAADAWEDNzMzMzMwtQAAAAAAASIdA16NwPQrX9z8AAAAAAKBiQM3MzMzMzCNAAAAAAACgYkAAAAAAAKBiQNejcD0K1/c/AAAAAADAWEAAAAAAABq9QAAAAAAAwFhAAAAAAAB+s0AAAAAAABifQAAAAAAAb9NAAAAAAABWw0AAAAAAALBiQAAAAAAAVsNAAAAAAABIl0AAAAAAAMBYQAAAAAAAwEhAzczMzMzMI0AAAAAAAMBIQM3MzMzMzCNAzczMzMzMI0AAAAAAAEiHQM3MzMzMzBNAAAAAAABWw0AAAAAAwEoIQa5H4XoUru8/zczMzMzMI0D//////09uQAAAAAAAQI9AAAAAAADwjkAAAAAASP9CQQAAAABgNi5BAAAAAADwjkAAAAAAAH6zQAAAAAAA8I5AAAAAAADwjkAAAAAAAPCOQM3MzMzMzCNAAAAAAOB0HkEAAAAAAG/TQAAAAAAAwFhAAQAAAAAgb0CuR+F6FK7vPwAAAAAAb9NAAQAAAEBl/kAAAAAAAKBiQAAAAAAAwEhAAAAAAAAsr0AAAAAAAFbDQAAAAABI/zJBAAAAAIAr6EAAAAAAAPB+QAAAAAAAwEhAAAAAAADAWEA=",
          "dtype": "f8"
         },
         "yaxis": "y"
        },
        {
         "customdata": [
          [
           "aCalendar+ Calendar & Tasks",
           5.99
          ],
          [
           "Ramfer - CNC Lathe G-code Tool",
           2.99
          ],
          [
           "m>notes notepad",
           2.99
          ],
          [
           "Ad Removal: thereisonlywe",
           6.49
          ],
          [
           "Ad Remove Plugin for App2SD",
           1.29
          ],
          [
           "F05WatchFace for Android Wear",
           0.99
          ],
          [
           "PROFESSOR SEE-BA LINGUAGENS E SUAS TECNOLOGIAS",
           2.99
          ],
          [
           "Business Calendar Pro",
           4.99
          ],
          [
           "BI Barcode Scanner",
           0.99
          ],
          [
           "QR Code Pro",
           4.49
          ],
          [
           "California Cop Assist CA Cop",
           4.99
          ],
          [
           "CI Attendance",
           0.99
          ],
          [
           "CamScanner (License)",
           1.99
          ],
          [
           "Pocket RxTx Pro",
           3.99
          ],
          [
           "ACCDB MDB DB Manager Pro - Editor for MS Access",
           8.99
          ],
          [
           "Técnico Legislativo Câmara Legislativa DF",
           2.99
          ],
          [
           "Cargo de Praça PM DF",
           2.99
          ],
          [
           "Diseño de columnas NTC - RSEE 2017",
           0.99
          ],
          [
           "DL Image Manager",
           0.99
          ],
          [
           "MC.Fitting",
           8.49
          ],
          [
           "myGrow",
           4.29
          ],
          [
           "Ability DS UNO",
           2.6
          ],
          [
           "Inventory & Barcode scanner & WIFI scanner",
           1.49
          ],
          [
           "ES File Explorer/Manager PRO",
           2.99
          ],
          [
           "EX File Explorer File Manage Pro",
           1.99
          ],
          [
           "Organizer",
           2.99
          ],
          [
           "Police Field Interview FI Card",
           7.99
          ]
         ],
         "hovertemplate": "Category=PRODUCTIVITY<br>Number of Installs=%{x}<br>Revenue (USD)=%{y}<br>App=%{customdata[0]}<br>Price=%{customdata[1]}<extra></extra>",
         "legendgroup": "PRODUCTIVITY",
         "marker": {
          "color": "#ab63fa",
          "symbol": "circle"
         },
         "mode": "markers",
         "name": "PRODUCTIVITY",
         "orientation": "v",
         "showlegend": true,
         "type": "scatter",
         "x": {
          "bdata": "oIYBAGQAAADoAwAAZAAAAOgDAADoAwAACgAAAKCGAQAKAAAAoIYBAGQAAAAFAAAAIKEHAIgTAAD0AQAACgAAAAoAAABkAAAACgAAAOgDAADoAwAAMgAAAFDDAAAgoQcAMgAAAFDDAADoAwAA",
          "dtype": "i4"
         },
         "xaxis": "x",
         "y": {
          "bdata": "AAAAALBHIkEAAAAAALByQAAAAAAAXKdAAAAAAABIhEAAAAAAACiUQAAAAAAA8I5AZ2ZmZmbmPUAAAAAA4HQeQc3MzMzMzCNAAAAAAKBnG0EAAAAAADB/QM3MzMzMzBNAAAAAAHBdLkEAAAAAgHvTQAAAAAAAj7FAZ2ZmZmbmPUBnZmZmZuY9QAAAAAAAwFhAzczMzMzMI0AAAAAAAJXAQAAAAAAAwrBAAAAAAABAYEAAAAAAQDDyQAAAAADYzzZBAAAAAADgWEAAAAAA4D8CQQAAAAAANr9A",
          "dtype": "f8"
         },
         "yaxis": "y"
        },
        {
         "customdata": [
          [
           "Weather Live Pro",
           4.49
          ],
          [
           "Weather Live",
           5.99
          ],
          [
           "W Pro - Weather Forecast & Animated Weather Maps",
           1.99
          ],
          [
           "MyRadar NOAA Weather Radar Ad Free",
           2.99
          ],
          [
           "Weather & Radar Pro - Ad-Free",
           2.99
          ],
          [
           "Weather Data CH",
           2.99
          ],
          [
           "Weather Forecast Pro",
           3.99
          ],
          [
           "Florida Tides & Weather",
           6.99
          ]
         ],
         "hovertemplate": "Category=WEATHER<br>Number of Installs=%{x}<br>Revenue (USD)=%{y}<br>App=%{customdata[0]}<br>Price=%{customdata[1]}<extra></extra>",
         "legendgroup": "WEATHER",
         "marker": {
          "color": "#FFA15A",
          "symbol": "circle"
         },
         "mode": "markers",
         "name": "WEATHER",
         "orientation": "v",
         "showlegend": true,
         "type": "scatter",
         "x": {
          "bdata": "oIYBACChBwD0AQAAECcAAKCGAQD0AQAAoIYBAOgDAAA=",
          "dtype": "i4"
         },
         "xaxis": "x",
         "y": {
          "bdata": "AAAAAKBnG0EAAAAAnNlGQQAAAAAAGI9AAQAAAAAz3UAAAAAA4D8SQQAAAAAAXJdAAAAAAGBaGEEAAAAAAE67QA==",
          "dtype": "f8"
         },
         "yaxis": "y"
        },
        {
         "customdata": [
          [
           "ADS-B Driver",
           1.99
          ],
          [
           "G Cloud Apps Backup Key * root",
           4.99
          ],
          [
           "G-Playlists",
           1.49
          ],
          [
           "G-NetTrack Pro",
           14.99
          ],
          [
           "G-NetReport Pro",
           25.99
          ],
          [
           "G-NetWiFi Pro",
           5.99
          ],
          [
           "Volume Slider Like Android P Volume Control",
           0.99
          ],
          [
           "Q-slope",
           1.76
          ],
          [
           "I Can't Wake Up!",
           2.99
          ],
          [
           "X-Plane to GPS",
           0.99
          ],
          [
           "Decibel X PRO - Sound Meter dBA, Noise Detector",
           3.99
          ],
          [
           "X Home Bar - Home Bar Gesture Pro",
           1.99
          ],
          [
           "ZArchiver Donate",
           2.5
          ],
          [
           "FVD Ad-Free",
           1.99
          ],
          [
           "Vpn Hosts (ad blocker & no root & support ipv6 )",
           2.99
          ],
          [
           "RAM Cleanup Ad-Free Option",
           2.99
          ],
          [
           "Easy Hotspot Ad Free",
           0.99
          ],
          [
           "AH Alarm Panel",
           4.99
          ],
          [
           "Message AI - Write Better Messages",
           2.99
          ],
          [
           "ap,wifi testing,iperf,ping,android,Bluetooth,tcp",
           2.99
          ],
          [
           "AV Tools Pro",
           2.49
          ],
          [
           "Analog Clock AW-7 PRO",
           1.99
          ],
          [
           "Analog and Digital Clock AW-7PRO",
           1.99
          ],
          [
           "Droid PRoCon BF3",
           0.99
          ],
          [
           "BusyBox Pro",
           2.49
          ],
          [
           "Power Widget",
           1.99
          ],
          [
           "BL File Explorer",
           1.99
          ],
          [
           "BL IP-Camera",
           3.99
          ],
          [
           "BL PowerPoint Remote",
           3.99
          ],
          [
           "BatControl Pro",
           3.99
          ],
          [
           "Sam.BN Pro",
           0.99
          ],
          [
           "BS Match Maker Premium",
           0.99
          ],
          [
           "Little Magnet BT Pro",
           0.99
          ],
          [
           "Battery Notifier Pro BT",
           2.59
          ],
          [
           "USB BT Wi-Fi Color Terminal Modem",
           8.99
          ],
          [
           "Bixby Button Remapper - bxActions Pro / Coffee",
           2.99
          ],
          [
           "Trinomial Factoring Wizard",
           0.99
          ],
          [
           "CB Frequencies",
           0.99
          ],
          [
           "Antenna Tool Premium",
           0.99
          ],
          [
           "Frequencies",
           0.99
          ],
          [
           "CF-Bench Pro",
           1.49
          ],
          [
           "Battery HD Pro",
           3.99
          ],
          [
           "Automagic * Automation",
           3.9
          ],
          [
           "FlashLight HD LED Pro",
           2.99
          ],
          [
           "UFO-CQ",
           0.99
          ],
          [
           "25WPM Amateur ham radio Koch CW Morse code trainer",
           1.49
          ],
          [
           "DCUO|CR Calculator Pro",
           0.99
          ],
          [
           "Servidor Privado CR y CoC - Royale Servers PRO",
           1.99
          ],
          [
           "CZ-Cyberon Voice Commander",
           5.99
          ],
          [
           "Scale Models DB",
           2.99
          ],
          [
           "ReDNAKET DB Normalization Tool",
           0.99
          ],
          [
           "db Meter - sound level meter with data logging",
           1.49
          ],
          [
           "Droidbug BusyBox Advance PRO",
           3.99
          ],
          [
           "Penny Puss",
           4.99
          ],
          [
           "Advanced Download Manager Pro",
           2.99
          ],
          [
           "DM Die Roller 9000",
           0.99
          ],
          [
           "Deep Sleep Battery Saver Pro",
           3.28
          ],
          [
           "iCam - Webcam Video Streaming",
           4.99
          ],
          [
           "DW Contacts widget",
           0.99
          ],
          [
           "KeePass DX Pro",
           5.99
          ],
          [
           "Electrician Calculator Pro",
           14.99
          ],
          [
           "EC music dictionary",
           1.99
          ],
          [
           "Silence Premium Do Not Disturb",
           2.95
          ],
          [
           "Trazado de tuberia El Tubero",
           1.97
          ],
          [
           "ai.type keyboard Plus + Emoji",
           4.49
          ],
          [
           "Tasker",
           2.99
          ],
          [
           "Advanced EX for HYUNDAI",
           4.99
          ],
          [
           "Advanced EX for MITSUBISHI",
           4.99
          ],
          [
           "Advanced EX for KIA",
           4.99
          ],
          [
           "Advanced EX for NISSAN",
           4.99
          ],
          [
           "Advanced EX for FIAT",
           4.99
          ],
          [
           "Advanced EX for RENAULT",
           4.99
          ],
          [
           "Volume Control Ex",
           1.49
          ],
          [
           "FiSwitch",
           1.99
          ],
          [
           "WiFi Monitor Pro - analyzer of Wi-Fi networks",
           2.99
          ],
          [
           "Wi-Fi Rabbit Unlock Key",
           1
          ],
          [
           "FJ Toolkit",
           1.49
          ],
          [
           "Kernel Manager for Franco Kernel ✨",
           3.49
          ]
         ],
         "hovertemplate": "Category=TOOLS<br>Number of Installs=%{x}<br>Revenue (USD)=%{y}<br>App=%{customdata[0]}<br>Price=%{customdata[1]}<extra></extra>",
         "legendgroup": "TOOLS",
         "marker": {
          "color": "#19d3f3",
          "symbol": "circle"
         },
         "mode": "markers",
         "name": "TOOLS",
         "orientation": "v",
         "showlegend": true,
         "type": "scatter",
         "x": {
          "bdata": "ZAAAAIgTAADoAwAAiBMAAAoAAABkAAAAECcAADIAAAAQJwAAiBMAAOgDAAAQJwAAECcAABAnAAAQJwAAECcAAAoAAABkAAAAZAAAAAoAAADoAwAA6AMAAGQAAACIEwAAoIYBABAnAAAyAAAAZAAAAPQBAAD0AQAACgAAAAoAAADoAwAAECcAAAUAAAAQJwAA6AMAAGQAAAD0AQAA9AEAAOgDAACghgEAECcAAFDDAAAKAAAACgAAAPQBAABkAAAA6AMAADIAAAAKAAAAAQAAAGQAAADoAwAAUMMAAAUAAAAQJwAAECcAAOgDAABkAAAA6AMAAPQBAAAQJwAAECcAAKCGAQBAQg8AiBMAAOgDAACIEwAAiBMAAIgTAACIEwAAZAAAABAnAADoAwAAiBMAAGQAAACghgEA",
          "dtype": "i4"
         },
         "xaxis": "x",
         "y": {
          "bdata": "AAAAAADgaEAAAAAAgF3YQAAAAAAASJdAAAAAAGBM8kBmZmZmZj5wQAAAAAAAuIJAAAAAAABWw0AAAAAAAABWQAEAAAAAM91AAAAAAABWs0AAAAAAACyvQAAAAAAAb9NAAAAAAABq2EAAAAAAAG/TQAEAAAAAM91AAQAAAAAz3UDNzMzMzMwjQAAAAAAAMH9AAAAAAACwckBnZmZmZuY9QAAAAAAAdKNAAAAAAAAYn0AAAAAAAOBoQAAAAAAAVrNAAQAAAEBlDkEAAAAAAG/TQAAAAAAA4FhAAAAAAADweEAAAAAAACyfQAAAAAAALJ9AzczMzMzMI0DNzMzMzMwjQAAAAAAA8I5AAAAAAABL2UCamZmZmXlGQAEAAAAAM91AAAAAAADwjkAAAAAAAMBYQAAAAAAA8H5AAAAAAADwfkAAAAAAAEiXQAAAAABgWhhBAAAAAAAL40AAAAAA4D8CQc3MzMzMzCNAzczMzMzMLUAAAAAAAPB+QAAAAAAA4GhAAAAAAABmt0AAAAAAALBiQM3MzMzMzCNA16NwPQrX9z8AAAAAAPB4QAAAAAAAfrNAAAAAAOA/AkHNzMzMzMwTQAAAAAAABOBAAAAAAIBd6EAAAAAAAPCOQAAAAAAAuIJAAAAAAABHzUAAAAAAABiPQAAAAAAAz9xAAAAAAAA900AAAAAAoGcbQQAAAADYz0ZBAAAAAIBd2EAAAAAAAH6zQAAAAACAXdhAAAAAAIBd2EAAAAAAgF3YQAAAAACAXdhAAAAAAACgYkAAAAAAAG/TQAAAAAAAXKdAAAAAAACIs0AAAAAAAKBiQAAAAAAgTRVB",
          "dtype": "f8"
         },
         "yaxis": "y"
        },
        {
         "customdata": [
          [
           "Maps & GPS Navigation OsmAnd+",
           8.99
          ],
          [
           "Greater London A-Z 2016",
           8.49
          ],
          [
           "Es-Bg Offline Voice Translator",
           1.49
          ],
          [
           "Ultimate Public Campgrounds (Over 37,100 in US&CA)",
           3.99
          ],
          [
           "Navigator PRO - GPS Navigation with Offline Maps",
           2.49
          ],
          [
           "D.C. Driving/Walking Tours",
           4.99
          ],
          [
           "DC Metro Transit",
           2.99
          ],
          [
           "Monastery of El Escorial",
           1.99
          ],
          [
           "YouCamp EU",
           2.56
          ],
          [
           "Campervan.Guide Pro",
           5.99
          ],
          [
           "XE Currency Pro",
           1.99
          ]
         ],
         "hovertemplate": "Category=TRAVEL_AND_LOCAL<br>Number of Installs=%{x}<br>Revenue (USD)=%{y}<br>App=%{customdata[0]}<br>Price=%{customdata[1]}<extra></extra>",
         "legendgroup": "TRAVEL_AND_LOCAL",
         "marker": {
          "color": "#FF6692",
          "symbol": "circle"
         },
         "mode": "markers",
         "name": "TRAVEL_AND_LOCAL",
         "orientation": "v",
         "showlegend": true,
         "type": "scatter",
         "x": {
          "bdata": "oIYBAOgDAAAKAAAAiBMAAFDDAAAyAAAAiBMAAOgDAADoAwAAECcAABAnAAA=",
          "dtype": "i4"
         },
         "xaxis": "x",
         "y": {
          "bdata": "AAAAAHBvK0EAAAAAAJXAQM3MzMzMzC1AAAAAAIB700ABAAAAQGX+QAAAAAAAMG9AAQAAAAAzzUAAAAAAABifQAAAAAAAAKRAAAAAAIA/7UAAAAAAAG/TQA==",
          "dtype": "f8"
         },
         "yaxis": "y"
        },
        {
         "customdata": [
          [
           "A41 WatchFace for Android Wear Smart Watch",
           0.99
          ],
          [
           "H*nest Meditation",
           1.99
          ],
          [
           "💎 I'm rich",
           399.99
          ],
          [
           "I'm Rich - Trump Edition",
           400
          ],
          [
           "Kicker U",
           3.99
          ],
          [
           "Alarmy (Sleep If U Can) - Pro",
           2.49
          ],
          [
           "I am rich",
           399.99
          ],
          [
           "I am rich VIP",
           299.99
          ],
          [
           "I am extremely Rich",
           379.99
          ],
          [
           "I am Rich Person",
           37.99
          ],
          [
           "I am Millionaire - Richest guy in the town",
           2.49
          ],
          [
           "Sleep as Android Unlock",
           5.99
          ],
          [
           "Lunar Calendar",
           4.99
          ],
          [
           "Board Game Stats: Play tracking for tabletop games",
           2.99
          ],
          [
           "CA Speakers",
           0.99
          ],
          [
           "My Movies Pro - Movie & TV Collection Library",
           7.99
          ],
          [
           "AC DC Power Monitor",
           3.04
          ],
          [
           "The Secret Daily Teachings",
           4.99
          ]
         ],
         "hovertemplate": "Category=LIFESTYLE<br>Number of Installs=%{x}<br>Revenue (USD)=%{y}<br>App=%{customdata[0]}<br>Price=%{customdata[1]}<extra></extra>",
         "legendgroup": "LIFESTYLE",
         "marker": {
          "color": "#B6E880",
          "symbol": "circle"
         },
         "mode": "markers",
         "name": "LIFESTYLE",
         "orientation": "v",
         "showlegend": true,
         "type": "scatter",
         "x": {
          "bdata": "iBMAAIgTAAAQJwAAECcAAIgTAAAQJwAAoIYBABAnAADoAwAA6AMAAIgTAABAQg8A6AMAAIgTAABkAAAAECcAAAoAAADoAwAA",
          "dtype": "i4"
         },
         "xaxis": "x",
         "y": {
          "bdata": "AAAAAABWs0AAAAAAAG/DQAAAAABOhE5BAAAAAICETkEAAAAAgHvTQAEAAAAAUdhAAAAAwLASg0EAAAAALuNGQQAAAABYMRdBAAAAAMCM4kABAAAAAFHIQAAAAACc2VZBAAAAAAB+s0ABAAAAADPNQAAAAAAAwFhAAAAAAMCB80BmZmZmZmY+QAAAAAAAfrNA",
          "dtype": "f8"
         },
         "yaxis": "y"
        },
        {
         "customdata": [
          [
           "Ulysse Speedometer Pro",
           1.99
          ],
          [
           "FORD V SERIES CALC - NO LIMIT",
           9.99
          ],
          [
           "Билеты ПДД CD 2019 PRO",
           1.49
          ]
         ],
         "hovertemplate": "Category=AUTO_AND_VEHICLES<br>Number of Installs=%{x}<br>Revenue (USD)=%{y}<br>App=%{customdata[0]}<br>Price=%{customdata[1]}<extra></extra>",
         "legendgroup": "AUTO_AND_VEHICLES",
         "marker": {
          "color": "#FF97FF",
          "symbol": "circle"
         },
         "mode": "markers",
         "name": "AUTO_AND_VEHICLES",
         "orientation": "v",
         "showlegend": true,
         "type": "scatter",
         "x": {
          "bdata": "UMMAADIAAABkAAAA",
          "dtype": "i4"
         },
         "xaxis": "x",
         "y": {
          "bdata": "AAAAAMBK+EAAAAAAADh/QAAAAAAAoGJA",
          "dtype": "f8"
         },
         "yaxis": "y"
        },
        {
         "customdata": [
          [
           "Q Alerts: QAnon Drop Notifications, Research +++",
           0.99
          ],
          [
           "Égalité et Réconciliation",
           2.99
          ]
         ],
         "hovertemplate": "Category=NEWS_AND_MAGAZINES<br>Number of Installs=%{x}<br>Revenue (USD)=%{y}<br>App=%{customdata[0]}<br>Price=%{customdata[1]}<extra></extra>",
         "legendgroup": "NEWS_AND_MAGAZINES",
         "marker": {
          "color": "#FECB52",
          "symbol": "circle"
         },
         "mode": "markers",
         "name": "NEWS_AND_MAGAZINES",
         "orientation": "v",
         "showlegend": true,
         "type": "scatter",
         "x": {
          "bdata": "iBP0AQ==",
          "dtype": "i2"
         },
         "xaxis": "x",
         "y": {
          "bdata": "AAAAAABWs0AAAAAAAFyXQA==",
          "dtype": "f8"
         },
         "yaxis": "y"
        },
        {
         "customdata": [
          [
           "Shopping List S PRO",
           2.49
          ],
          [
           "Penny Finder",
           2.99
          ]
         ],
         "hovertemplate": "Category=SHOPPING<br>Number of Installs=%{x}<br>Revenue (USD)=%{y}<br>App=%{customdata[0]}<br>Price=%{customdata[1]}<extra></extra>",
         "legendgroup": "SHOPPING",
         "marker": {
          "color": "#636efa",
          "symbol": "circle"
         },
         "mode": "markers",
         "name": "SHOPPING",
         "orientation": "v",
         "showlegend": true,
         "type": "scatter",
         "x": {
          "bdata": "ZAAQJw==",
          "dtype": "i2"
         },
         "xaxis": "x",
         "y": {
          "bdata": "AQAAAAAgb0ABAAAAADPdQA==",
          "dtype": "f8"
         },
         "yaxis": "y"
        },
        {
         "customdata": [
          [
           "Don't Panic with Andrew J.",
           2.99
          ],
          [
           "Hey AJ! It's Saturday!",
           3.99
          ],
          [
           "Al'Quran Bahasa Indonesia PRO",
           4.49
          ],
          [
           "BC MVA Fines",
           1.75
          ],
          [
           "17th Edition Cable Sizer",
           3.08
          ],
          [
           "ch-mm Dict",
           1.96
          ],
          [
           "CZ-70 (CZ-50) pistol explained",
           5.99
          ],
          [
           "CZ-52 pistol explained",
           5.99
          ],
          [
           "CZ-27 pistol explained",
           5.99
          ],
          [
           "CZ-45 pistol explained",
           5.49
          ],
          [
           "Pistolet CZ-70 CZ-50 expliqué",
           5.99
          ],
          [
           "CZ-38 (vz 38) pistol explained",
           5.99
          ],
          [
           "Reksio cz. 1",
           0.99
          ],
          [
           "10,000 Quotes DB (Premium)",
           0.99
          ],
          [
           "Dungeons and Dragons DM Tools",
           1.99
          ],
          [
           "Cossack Dictionary (DN)",
           2.99
          ],
          [
           "Officiel du SCRABBLE LAROUSSE",
           4.6
          ],
          [
           "Schlaumeier",
           0.99
          ],
          [
           "O Céu e o Inferno",
           0.99
          ],
          [
           "EU RCD Guide",
           3.61
          ],
          [
           "FN pistol Model 1906 explained",
           5.49
          ],
          [
           "FN pistol model 1903 explained",
           6.49
          ],
          [
           "The FN \"Baby\" pistol explained",
           5.99
          ],
          [
           "FN FAL rifle explained",
           6.49
          ],
          [
           "The FN HP pistol explained",
           6.49
          ],
          [
           "FN model 1900 pistol explained",
           6.49
          ],
          [
           "Pistolet FN GP35 expliqué",
           5.99
          ],
          [
           "Pistolet FN 1906 expliqué",
           5.49
          ]
         ],
         "hovertemplate": "Category=BOOKS_AND_REFERENCE<br>Number of Installs=%{x}<br>Revenue (USD)=%{y}<br>App=%{customdata[0]}<br>Price=%{customdata[1]}<extra></extra>",
         "legendgroup": "BOOKS_AND_REFERENCE",
         "marker": {
          "color": "#EF553B",
          "symbol": "circle"
         },
         "mode": "markers",
         "name": "BOOKS_AND_REFERENCE",
         "orientation": "v",
         "showlegend": true,
         "type": "scatter",
         "x": {
          "bdata": "iBNkABAnMgDoAwoACgAKAAoACgABAAUACgD0AegDCgCIEwUA9AEKAAoACgAKAAoACgAKAAUACgA=",
          "dtype": "i2"
         },
         "xaxis": "x",
         "y": {
          "bdata": "AQAAAAAzzUAAAAAAAPB4QAAAAACA7OVAAAAAAADgVUAAAAAAABCoQJqZmZmZmTNANDMzMzPzTUA0MzMzM/NNQDQzMzMz801ANDMzMzNzS0D2KFyPwvUXQDQzMzMz8z1AzczMzMzMI0AAAAAAAPB+QAAAAAAAGJ9AZ2ZmZmbmPUAAAAAAAHbWQM3MzMzMzBNAAAAAAADwfkDNzMzMzAxCQDQzMzMzc0tAmpmZmZk5UEA0MzMzM/NNQJqZmZmZOVBAmpmZmZk5UECamZmZmTlQQDQzMzMz8z1ANDMzMzNzS0A=",
          "dtype": "f8"
         },
         "yaxis": "y"
        },
        {
         "customdata": [
          [
           "W-History Standalone",
           0.99
          ],
          [
           "WhatsFake Pro (Ad free)",
           0.99
          ]
         ],
         "hovertemplate": "Category=SOCIAL<br>Number of Installs=%{x}<br>Revenue (USD)=%{y}<br>App=%{customdata[0]}<br>Price=%{customdata[1]}<extra></extra>",
         "legendgroup": "SOCIAL",
         "marker": {
          "color": "#00cc96",
          "symbol": "circle"
         },
         "mode": "markers",
         "name": "SOCIAL",
         "orientation": "v",
         "showlegend": true,
         "type": "scatter",
         "x": {
          "bdata": "6AOIEw==",
          "dtype": "i2"
         },
         "xaxis": "x",
         "y": {
          "bdata": "AAAAAADwjkAAAAAAAFazQA==",
          "dtype": "f8"
         },
         "yaxis": "y"
        },
        {
         "customdata": [
          [
           "X Launcher Pro: PhoneX Theme, OS11 Control Center",
           1.99
          ],
          [
           "X Launcher Pro - IOS Style Theme & Control Center",
           1.99
          ],
          [
           "X Launcher Prime: With OS Style Theme & No Ads",
           1.99
          ]
         ],
         "hovertemplate": "Category=ART_AND_DESIGN<br>Number of Installs=%{x}<br>Revenue (USD)=%{y}<br>App=%{customdata[0]}<br>Price=%{customdata[1]}<extra></extra>",
         "legendgroup": "ART_AND_DESIGN",
         "marker": {
          "color": "#ab63fa",
          "symbol": "circle"
         },
         "mode": "markers",
         "name": "ART_AND_DESIGN",
         "orientation": "v",
         "showlegend": true,
         "type": "scatter",
         "x": {
          "bdata": "iBMQJ+gD",
          "dtype": "i2"
         },
         "xaxis": "x",
         "y": {
          "bdata": "AAAAAABvw0AAAAAAAG/TQAAAAAAAGJ9A",
          "dtype": "f8"
         },
         "yaxis": "y"
        },
        {
         "customdata": [
          [
           "Flud (Ad free)",
           1.49
          ],
          [
           "tTorrent - ad free",
           1.99
          ],
          [
           "BSPlayer",
           5.99
          ],
          [
           "Online TV CZ/SK PRO",
           0.99
          ]
         ],
         "hovertemplate": "Category=VIDEO_PLAYERS<br>Number of Installs=%{x}<br>Revenue (USD)=%{y}<br>App=%{customdata[0]}<br>Price=%{customdata[1]}<extra></extra>",
         "legendgroup": "VIDEO_PLAYERS",
         "marker": {
          "color": "#FFA15A",
          "symbol": "circle"
         },
         "mode": "markers",
         "name": "VIDEO_PLAYERS",
         "orientation": "v",
         "showlegend": true,
         "type": "scatter",
         "x": {
          "bdata": "ECcAABAnAABQwwAA6AMAAA==",
          "dtype": "i4"
         },
         "xaxis": "x",
         "y": {
          "bdata": "AAAAAAAazUAAAAAAAG/TQAAAAACwRxJBAAAAAADwjkA=",
          "dtype": "f8"
         },
         "yaxis": "y"
        },
        {
         "customdata": [
          [
           "I Am Rich Premium",
           399.99
          ],
          [
           "I am Rich!",
           399.99
          ],
          [
           "I am rich(premium)",
           399.99
          ],
          [
           "I am Rich Premium Plus",
           18.99
          ],
          [
           "I am rich (Most expensive app)",
           399.99
          ],
          [
           "I am Rich",
           399.99
          ],
          [
           "I AM RICH PRO PLUS",
           399.99
          ],
          [
           "Ba Financial Calculator plus",
           3.99
          ],
          [
           "Financial Calculator BA Chien.",
           3.99
          ],
          [
           "BA Pro Financial Calculator",
           1.99
          ],
          [
           "My Budget Book",
           2.99
          ],
          [
           "Bitcoin BX Thailand PRO",
           4.99
          ],
          [
           "amm dz",
           5.99
          ],
          [
           "Dz kayas",
           28.99
          ],
          [
           "Ray Financial Calculator Pro",
           2.99
          ]
         ],
         "hovertemplate": "Category=FINANCE<br>Number of Installs=%{x}<br>Revenue (USD)=%{y}<br>App=%{customdata[0]}<br>Price=%{customdata[1]}<extra></extra>",
         "legendgroup": "FINANCE",
         "marker": {
          "color": "#19d3f3",
          "symbol": "circle"
         },
         "mode": "markers",
         "name": "FINANCE",
         "orientation": "v",
         "showlegend": true,
         "type": "scatter",
         "x": {
          "bdata": "UMMAAOgDAACIEwAAECcAAOgDAACIEwAA6AMAAOgDAAD0AQAA6AMAAKCGAQBkAAAAAQAAAAEAAAAQJwAA",
          "dtype": "i4"
         },
         "xaxis": "x",
         "y": {
          "bdata": "AAAAwLASc0EAAAAA2GkYQQAAAABOhD5B/////18uB0EAAAAA2GkYQQAAAABOhD5BAAAAANhpGEEAAAAAACyvQAAAAAAALJ9AAAAAAAAYn0AAAAAA4D8SQQAAAAAAMH9A9ihcj8L1F0A9CtejcP08QAEAAAAAM91A",
          "dtype": "f8"
         },
         "yaxis": "y"
        },
        {
         "customdata": [
          [
           "BringGo AU & NZ",
           0.99
          ],
          [
           "BackCountry Navigator TOPO GPS PRO",
           11.99
          ],
          [
           "CE Map - Interactive Conan Exiles Map",
           0.99
          ],
          [
           "Paris ci la Sortie du Métro",
           2.99
          ],
          [
           "Jeppesen CR Flight Computer",
           9.99
          ]
         ],
         "hovertemplate": "Category=MAPS_AND_NAVIGATION<br>Number of Installs=%{x}<br>Revenue (USD)=%{y}<br>App=%{customdata[0]}<br>Price=%{customdata[1]}<extra></extra>",
         "legendgroup": "MAPS_AND_NAVIGATION",
         "marker": {
          "color": "#FF6692",
          "symbol": "circle"
         },
         "mode": "markers",
         "name": "MAPS_AND_NAVIGATION",
         "orientation": "v",
         "showlegend": true,
         "type": "scatter",
         "x": {
          "bdata": "ECcAAKCGAQDoAwAAECcAAGQAAAA=",
          "dtype": "i4"
         },
         "xaxis": "x",
         "y": {
          "bdata": "AAAAAABWw0AAAAAAmEsyQQAAAAAA8I5AAQAAAAAz3UAAAAAAADiPQA==",
          "dtype": "f8"
         },
         "yaxis": "y"
        },
        {
         "customdata": [
          [
           "Baby Connect (activity log)",
           4.99
          ],
          [
           "SharedCare™ Co-parenting",
           4.59
          ]
         ],
         "hovertemplate": "Category=PARENTING<br>Number of Installs=%{x}<br>Revenue (USD)=%{y}<br>App=%{customdata[0]}<br>Price=%{customdata[1]}<extra></extra>",
         "legendgroup": "PARENTING",
         "marker": {
          "color": "#B6E880",
          "symbol": "circle"
         },
         "mode": "markers",
         "name": "PARENTING",
         "orientation": "v",
         "showlegend": true,
         "type": "scatter",
         "x": {
          "bdata": "UMMAAGQAAAA=",
          "dtype": "i4"
         },
         "xaxis": "x",
         "y": {
          "bdata": "AAAAAOB0DkEAAAAAALB8QA==",
          "dtype": "f8"
         },
         "yaxis": "y"
        },
        {
         "customdata": [
          [
           "Socle Commun BO du 23-04-2015",
           0.99
          ]
         ],
         "hovertemplate": "Category=LIBRARIES_AND_DEMO<br>Number of Installs=%{x}<br>Revenue (USD)=%{y}<br>App=%{customdata[0]}<br>Price=%{customdata[1]}<extra></extra>",
         "legendgroup": "LIBRARIES_AND_DEMO",
         "marker": {
          "color": "#FF97FF",
          "symbol": "circle"
         },
         "mode": "markers",
         "name": "LIBRARIES_AND_DEMO",
         "orientation": "v",
         "showlegend": true,
         "type": "scatter",
         "x": {
          "bdata": "ZA==",
          "dtype": "i1"
         },
         "xaxis": "x",
         "y": {
          "bdata": "AAAAAADAWEA=",
          "dtype": "f8"
         },
         "yaxis": "y"
        },
        {
         "customdata": [
          [
           "BP Fitness Lead Scanner",
           109.99
          ]
         ],
         "hovertemplate": "Category=EVENTS<br>Number of Installs=%{x}<br>Revenue (USD)=%{y}<br>App=%{customdata[0]}<br>Price=%{customdata[1]}<extra></extra>",
         "legendgroup": "EVENTS",
         "marker": {
          "color": "#FECB52",
          "symbol": "circle"
         },
         "mode": "markers",
         "name": "EVENTS",
         "orientation": "v",
         "showlegend": true,
         "type": "scatter",
         "x": {
          "bdata": "AQ==",
          "dtype": "i1"
         },
         "xaxis": "x",
         "y": {
          "bdata": "j8L1KFx/W0A=",
          "dtype": "f8"
         },
         "yaxis": "y"
        }
       ],
       "layout": {
        "legend": {
         "title": {
          "text": "Category"
         },
         "tracegroupgap": 0
        },
        "template": {
         "data": {
          "bar": [
           {
            "error_x": {
             "color": "#2a3f5f"
            },
            "error_y": {
             "color": "#2a3f5f"
            },
            "marker": {
             "line": {
              "color": "#E5ECF6",
              "width": 0.5
             },
             "pattern": {
              "fillmode": "overlay",
              "size": 10,
              "solidity": 0.2
             }
            },
            "type": "bar"
           }
          ],
          "barpolar": [
           {
            "marker": {
             "line": {
              "color": "#E5ECF6",
              "width": 0.5
             },
             "pattern": {
              "fillmode": "overlay",
              "size": 10,
              "solidity": 0.2
             }
            },
            "type": "barpolar"
           }
          ],
          "carpet": [
           {
            "aaxis": {
             "endlinecolor": "#2a3f5f",
             "gridcolor": "white",
             "linecolor": "white",
             "minorgridcolor": "white",
             "startlinecolor": "#2a3f5f"
            },
            "baxis": {
             "endlinecolor": "#2a3f5f",
             "gridcolor": "white",
             "linecolor": "white",
             "minorgridcolor": "white",
             "startlinecolor": "#2a3f5f"
            },
            "type": "carpet"
           }
          ],
          "choropleth": [
           {
            "colorbar": {
             "outlinewidth": 0,
             "ticks": ""
            },
            "type": "choropleth"
           }
          ],
          "contour": [
           {
            "colorbar": {
             "outlinewidth": 0,
             "ticks": ""
            },
            "colorscale": [
             [
              0,
              "#0d0887"
             ],
             [
              0.1111111111111111,
              "#46039f"
             ],
             [
              0.2222222222222222,
              "#7201a8"
             ],
             [
              0.3333333333333333,
              "#9c179e"
             ],
             [
              0.4444444444444444,
              "#bd3786"
             ],
             [
              0.5555555555555556,
              "#d8576b"
             ],
             [
              0.6666666666666666,
              "#ed7953"
             ],
             [
              0.7777777777777778,
              "#fb9f3a"
             ],
             [
              0.8888888888888888,
              "#fdca26"
             ],
             [
              1,
              "#f0f921"
             ]
            ],
            "type": "contour"
           }
          ],
          "contourcarpet": [
           {
            "colorbar": {
             "outlinewidth": 0,
             "ticks": ""
            },
            "type": "contourcarpet"
           }
          ],
          "heatmap": [
           {
            "colorbar": {
             "outlinewidth": 0,
             "ticks": ""
            },
            "colorscale": [
             [
              0,
              "#0d0887"
             ],
             [
              0.1111111111111111,
              "#46039f"
             ],
             [
              0.2222222222222222,
              "#7201a8"
             ],
             [
              0.3333333333333333,
              "#9c179e"
             ],
             [
              0.4444444444444444,
              "#bd3786"
             ],
             [
              0.5555555555555556,
              "#d8576b"
             ],
             [
              0.6666666666666666,
              "#ed7953"
             ],
             [
              0.7777777777777778,
              "#fb9f3a"
             ],
             [
              0.8888888888888888,
              "#fdca26"
             ],
             [
              1,
              "#f0f921"
             ]
            ],
            "type": "heatmap"
           }
          ],
          "histogram": [
           {
            "marker": {
             "pattern": {
              "fillmode": "overlay",
              "size": 10,
              "solidity": 0.2
             }
            },
            "type": "histogram"
           }
          ],
          "histogram2d": [
           {
            "colorbar": {
             "outlinewidth": 0,
             "ticks": ""
            },
            "colorscale": [
             [
              0,
              "#0d0887"
             ],
             [
              0.1111111111111111,
              "#46039f"
             ],
             [
              0.2222222222222222,
              "#7201a8"
             ],
             [
              0.3333333333333333,
              "#9c179e"
             ],
             [
              0.4444444444444444,
              "#bd3786"
             ],
             [
              0.5555555555555556,
              "#d8576b"
             ],
             [
              0.6666666666666666,
              "#ed7953"
             ],
             [
              0.7777777777777778,
              "#fb9f3a"
             ],
             [
              0.8888888888888888,
              "#fdca26"
             ],
             [
              1,
              "#f0f921"
             ]
            ],
            "type": "histogram2d"
           }
          ],
          "histogram2dcontour": [
           {
            "colorbar": {
             "outlinewidth": 0,
             "ticks": ""
            },
            "colorscale": [
             [
              0,
              "#0d0887"
             ],
             [
              0.1111111111111111,
              "#46039f"
             ],
             [
              0.2222222222222222,
              "#7201a8"
             ],
             [
              0.3333333333333333,
              "#9c179e"
             ],
             [
              0.4444444444444444,
              "#bd3786"
             ],
             [
              0.5555555555555556,
              "#d8576b"
             ],
             [
              0.6666666666666666,
              "#ed7953"
             ],
             [
              0.7777777777777778,
              "#fb9f3a"
             ],
             [
              0.8888888888888888,
              "#fdca26"
             ],
             [
              1,
              "#f0f921"
             ]
            ],
            "type": "histogram2dcontour"
           }
          ],
          "mesh3d": [
           {
            "colorbar": {
             "outlinewidth": 0,
             "ticks": ""
            },
            "type": "mesh3d"
           }
          ],
          "parcoords": [
           {
            "line": {
             "colorbar": {
              "outlinewidth": 0,
              "ticks": ""
             }
            },
            "type": "parcoords"
           }
          ],
          "pie": [
           {
            "automargin": true,
            "type": "pie"
           }
          ],
          "scatter": [
           {
            "fillpattern": {
             "fillmode": "overlay",
             "size": 10,
             "solidity": 0.2
            },
            "type": "scatter"
           }
          ],
          "scatter3d": [
           {
            "line": {
             "colorbar": {
              "outlinewidth": 0,
              "ticks": ""
             }
            },
            "marker": {
             "colorbar": {
              "outlinewidth": 0,
              "ticks": ""
             }
            },
            "type": "scatter3d"
           }
          ],
          "scattercarpet": [
           {
            "marker": {
             "colorbar": {
              "outlinewidth": 0,
              "ticks": ""
             }
            },
            "type": "scattercarpet"
           }
          ],
          "scattergeo": [
           {
            "marker": {
             "colorbar": {
              "outlinewidth": 0,
              "ticks": ""
             }
            },
            "type": "scattergeo"
           }
          ],
          "scattergl": [
           {
            "marker": {
             "colorbar": {
              "outlinewidth": 0,
              "ticks": ""
             }
            },
            "type": "scattergl"
           }
          ],
          "scattermap": [
           {
            "marker": {
             "colorbar": {
              "outlinewidth": 0,
              "ticks": ""
             }
            },
            "type": "scattermap"
           }
          ],
          "scattermapbox": [
           {
            "marker": {
             "colorbar": {
              "outlinewidth": 0,
              "ticks": ""
             }
            },
            "type": "scattermapbox"
           }
          ],
          "scatterpolar": [
           {
            "marker": {
             "colorbar": {
              "outlinewidth": 0,
              "ticks": ""
             }
            },
            "type": "scatterpolar"
           }
          ],
          "scatterpolargl": [
           {
            "marker": {
             "colorbar": {
              "outlinewidth": 0,
              "ticks": ""
             }
            },
            "type": "scatterpolargl"
           }
          ],
          "scatterternary": [
           {
            "marker": {
             "colorbar": {
              "outlinewidth": 0,
              "ticks": ""
             }
            },
            "type": "scatterternary"
           }
          ],
          "surface": [
           {
            "colorbar": {
             "outlinewidth": 0,
             "ticks": ""
            },
            "colorscale": [
             [
              0,
              "#0d0887"
             ],
             [
              0.1111111111111111,
              "#46039f"
             ],
             [
              0.2222222222222222,
              "#7201a8"
             ],
             [
              0.3333333333333333,
              "#9c179e"
             ],
             [
              0.4444444444444444,
              "#bd3786"
             ],
             [
              0.5555555555555556,
              "#d8576b"
             ],
             [
              0.6666666666666666,
              "#ed7953"
             ],
             [
              0.7777777777777778,
              "#fb9f3a"
             ],
             [
              0.8888888888888888,
              "#fdca26"
             ],
             [
              1,
              "#f0f921"
             ]
            ],
            "type": "surface"
           }
          ],
          "table": [
           {
            "cells": {
             "fill": {
              "color": "#EBF0F8"
             },
             "line": {
              "color": "white"
             }
            },
            "header": {
             "fill": {
              "color": "#C8D4E3"
             },
             "line": {
              "color": "white"
             }
            },
            "type": "table"
           }
          ]
         },
         "layout": {
          "annotationdefaults": {
           "arrowcolor": "#2a3f5f",
           "arrowhead": 0,
           "arrowwidth": 1
          },
          "autotypenumbers": "strict",
          "coloraxis": {
           "colorbar": {
            "outlinewidth": 0,
            "ticks": ""
           }
          },
          "colorscale": {
           "diverging": [
            [
             0,
             "#8e0152"
            ],
            [
             0.1,
             "#c51b7d"
            ],
            [
             0.2,
             "#de77ae"
            ],
            [
             0.3,
             "#f1b6da"
            ],
            [
             0.4,
             "#fde0ef"
            ],
            [
             0.5,
             "#f7f7f7"
            ],
            [
             0.6,
             "#e6f5d0"
            ],
            [
             0.7,
             "#b8e186"
            ],
            [
             0.8,
             "#7fbc41"
            ],
            [
             0.9,
             "#4d9221"
            ],
            [
             1,
             "#276419"
            ]
           ],
           "sequential": [
            [
             0,
             "#0d0887"
            ],
            [
             0.1111111111111111,
             "#46039f"
            ],
            [
             0.2222222222222222,
             "#7201a8"
            ],
            [
             0.3333333333333333,
             "#9c179e"
            ],
            [
             0.4444444444444444,
             "#bd3786"
            ],
            [
             0.5555555555555556,
             "#d8576b"
            ],
            [
             0.6666666666666666,
             "#ed7953"
            ],
            [
             0.7777777777777778,
             "#fb9f3a"
            ],
            [
             0.8888888888888888,
             "#fdca26"
            ],
            [
             1,
             "#f0f921"
            ]
           ],
           "sequentialminus": [
            [
             0,
             "#0d0887"
            ],
            [
             0.1111111111111111,
             "#46039f"
            ],
            [
             0.2222222222222222,
             "#7201a8"
            ],
            [
             0.3333333333333333,
             "#9c179e"
            ],
            [
             0.4444444444444444,
             "#bd3786"
            ],
            [
             0.5555555555555556,
             "#d8576b"
            ],
            [
             0.6666666666666666,
             "#ed7953"
            ],
            [
             0.7777777777777778,
             "#fb9f3a"
            ],
            [
             0.8888888888888888,
             "#fdca26"
            ],
            [
             1,
             "#f0f921"
            ]
           ]
          },
          "colorway": [
           "#636efa",
           "#EF553B",
           "#00cc96",
           "#ab63fa",
           "#FFA15A",
           "#19d3f3",
           "#FF6692",
           "#B6E880",
           "#FF97FF",
           "#FECB52"
          ],
          "font": {
           "color": "#2a3f5f"
          },
          "geo": {
           "bgcolor": "white",
           "lakecolor": "white",
           "landcolor": "#E5ECF6",
           "showlakes": true,
           "showland": true,
           "subunitcolor": "white"
          },
          "hoverlabel": {
           "align": "left"
          },
          "hovermode": "closest",
          "mapbox": {
           "style": "light"
          },
          "paper_bgcolor": "white",
          "plot_bgcolor": "#E5ECF6",
          "polar": {
           "angularaxis": {
            "gridcolor": "white",
            "linecolor": "white",
            "ticks": ""
           },
           "bgcolor": "#E5ECF6",
           "radialaxis": {
            "gridcolor": "white",
            "linecolor": "white",
            "ticks": ""
           }
          },
          "scene": {
           "xaxis": {
            "backgroundcolor": "#E5ECF6",
            "gridcolor": "white",
            "gridwidth": 2,
            "linecolor": "white",
            "showbackground": true,
            "ticks": "",
            "zerolinecolor": "white"
           },
           "yaxis": {
            "backgroundcolor": "#E5ECF6",
            "gridcolor": "white",
            "gridwidth": 2,
            "linecolor": "white",
            "showbackground": true,
            "ticks": "",
            "zerolinecolor": "white"
           },
           "zaxis": {
            "backgroundcolor": "#E5ECF6",
            "gridcolor": "white",
            "gridwidth": 2,
            "linecolor": "white",
            "showbackground": true,
            "ticks": "",
            "zerolinecolor": "white"
           }
          },
          "shapedefaults": {
           "line": {
            "color": "#2a3f5f"
           }
          },
          "ternary": {
           "aaxis": {
            "gridcolor": "white",
            "linecolor": "white",
            "ticks": ""
           },
           "baxis": {
            "gridcolor": "white",
            "linecolor": "white",
            "ticks": ""
           },
           "bgcolor": "#E5ECF6",
           "caxis": {
            "gridcolor": "white",
            "linecolor": "white",
            "ticks": ""
           }
          },
          "title": {
           "x": 0.05
          },
          "xaxis": {
           "automargin": true,
           "gridcolor": "white",
           "linecolor": "white",
           "ticks": "",
           "title": {
            "standoff": 15
           },
           "zerolinecolor": "white",
           "zerolinewidth": 2
          },
          "yaxis": {
           "automargin": true,
           "gridcolor": "white",
           "linecolor": "white",
           "ticks": "",
           "title": {
            "standoff": 15
           },
           "zerolinecolor": "white",
           "zerolinewidth": 2
          }
         }
        },
        "title": {
         "text": "Revenue vs Installs for Paid Apps by Category"
        },
        "xaxis": {
         "anchor": "y",
         "domain": [
          0,
          1
         ],
         "title": {
          "text": "Number of Installs"
         }
        },
        "yaxis": {
         "anchor": "x",
         "domain": [
          0,
          1
         ],
         "title": {
          "text": "Revenue (USD)"
         }
        }
       }
      }
     },
     "metadata": {},
     "output_type": "display_data"
    }
   ],
   "source": [
    "fig.show()"
   ]
  },
  {
   "cell_type": "code",
   "execution_count": 32,
   "id": "c2790143",
   "metadata": {},
   "outputs": [
    {
     "name": "stdout",
     "output_type": "stream",
     "text": [
      " Chart can only be displayed between 3 PM and 5 PM IST.\n"
     ]
    }
   ],
   "source": [
    "# Insights\n",
    "from datetime import datetime\n",
    "\n",
    "current_time = datetime.now().time()\n",
    "if current_time.hour >= 15 and current_time.hour < 17:\n",
    "    print(\"\\nInsights:\")\n",
    "    print(\"-----------\")\n",
    "    top_rating = grouped.loc[grouped['Rating'].idxmax()]\n",
    "    top_reviews = grouped.loc[grouped['Reviews'].idxmax()]\n",
    "    \n",
    "    print(f\"Category with Highest Average Rating: {top_rating['Category']} ({top_rating['Rating']:.2f})\")\n",
    "    print(f\"Category with Most Total Reviews: {top_reviews['Category']} ({top_reviews['Reviews']})\")\n",
    "else:\n",
    "    print(\" Chart can only be displayed between 3 PM and 5 PM IST.\")"
   ]
  },
  {
   "cell_type": "code",
   "execution_count": 61,
   "id": "859a9bd6",
   "metadata": {},
   "outputs": [],
   "source": [
    "#Task-3"
   ]
  },
  {
   "cell_type": "code",
   "execution_count": 115,
   "id": "9a70fb2d",
   "metadata": {},
   "outputs": [],
   "source": [
    "import datetime as dt"
   ]
  },
  {
   "cell_type": "code",
   "execution_count": 125,
   "id": "a5e61920",
   "metadata": {},
   "outputs": [
    {
     "name": "stdout",
     "output_type": "stream",
     "text": [
      "Index(['App', 'Category', 'Rating', 'Reviews', 'Size', 'Installs', 'Type',\n",
      "       'Price', 'Content Rating', 'Genres', 'Last Updated', 'Current Ver',\n",
      "       'Android Ver', 'Revenue', 'Parsed_Android_Ver', 'Parsed Android Ver'],\n",
      "      dtype='object')\n"
     ]
    }
   ],
   "source": [
    "print(filtered_df3.columns)\n"
   ]
  },
  {
   "cell_type": "code",
   "execution_count": 126,
   "id": "7afbfed6",
   "metadata": {},
   "outputs": [],
   "source": [
    "apps_df.columns = apps_df.columns.str.strip()\n"
   ]
  },
  {
   "cell_type": "code",
   "execution_count": 127,
   "id": "0d9c219a",
   "metadata": {},
   "outputs": [],
   "source": [
    "# Remove non-numeric characters and convert to float\n",
    "apps_df['Installs'] = apps_df['Installs'].replace('[+,M]', '', regex=True).replace('Free', '0')\n",
    "apps_df['Installs'] = pd.to_numeric(apps_df['Installs'], errors='coerce')\n",
    "\n",
    "apps_df['Revenue'] = apps_df['Revenue'].replace('[\\$,M]', '', regex=True).replace('Free', '0')\n",
    "apps_df['Revenue'] = pd.to_numeric(apps_df['Revenue'], errors='coerce')\n"
   ]
  },
  {
   "cell_type": "code",
   "execution_count": 128,
   "id": "df5e5f11",
   "metadata": {},
   "outputs": [
    {
     "name": "stdout",
     "output_type": "stream",
     "text": [
      "(0, 16)\n",
      "Empty DataFrame\n",
      "Columns: [App, Category, Rating, Reviews, Size, Installs, Type, Price, Content Rating, Genres, Last Updated, Current Ver, Android Ver, Revenue, Parsed_Android_Ver, Parsed Android Ver]\n",
      "Index: []\n"
     ]
    }
   ],
   "source": [
    "print(filtered_df3.shape)\n",
    "print(filtered_df3.head())\n"
   ]
  },
  {
   "cell_type": "code",
   "execution_count": 132,
   "id": "b2868dee",
   "metadata": {},
   "outputs": [],
   "source": [
    "float = ...\n"
   ]
  },
  {
   "cell_type": "code",
   "execution_count": 133,
   "id": "135efb4c",
   "metadata": {},
   "outputs": [],
   "source": [
    "version_float = 4.5\n"
   ]
  },
  {
   "cell_type": "code",
   "execution_count": 134,
   "id": "b71986de",
   "metadata": {},
   "outputs": [
    {
     "ename": "TypeError",
     "evalue": "'ellipsis' object is not callable",
     "output_type": "error",
     "traceback": [
      "\u001b[31m---------------------------------------------------------------------------\u001b[39m",
      "\u001b[31mTypeError\u001b[39m                                 Traceback (most recent call last)",
      "\u001b[36mCell\u001b[39m\u001b[36m \u001b[39m\u001b[32mIn[134]\u001b[39m\u001b[32m, line 1\u001b[39m\n\u001b[32m----> \u001b[39m\u001b[32m1\u001b[39m \u001b[38;5;28mprint\u001b[39m(\u001b[38;5;28;43mfloat\u001b[39;49m\u001b[43m(\u001b[49m\u001b[33;43m\"\u001b[39;49m\u001b[33;43m4.4\u001b[39;49m\u001b[33;43m\"\u001b[39;49m\u001b[43m)\u001b[49m)   \u001b[38;5;66;03m# This should work if float hasn't been overwritten\u001b[39;00m\n",
      "\u001b[31mTypeError\u001b[39m: 'ellipsis' object is not callable"
     ]
    }
   ],
   "source": [
    "print(float(\"4.4\"))   # This should work if float hasn't been overwritten\n"
   ]
  },
  {
   "cell_type": "code",
   "execution_count": 135,
   "id": "68108219",
   "metadata": {},
   "outputs": [],
   "source": [
    "def parse_android_version(version):\n",
    "    if version == \"Varies with device\":\n",
    "        return float('inf')\n",
    "    elif '.' in version:\n",
    "        return float(version.split('-')[0].strip().replace('.', '', 1))\n",
    "    elif version == \"4.4W and up\":\n",
    "        return float('4.4')\n",
    "    else:\n",
    "        return float(version.split()[0].replace('.', '', 1))\n"
   ]
  },
  {
   "cell_type": "code",
   "execution_count": 136,
   "id": "f2ed7835",
   "metadata": {},
   "outputs": [
    {
     "ename": "TypeError",
     "evalue": "argument of type 'float' is not iterable",
     "output_type": "error",
     "traceback": [
      "\u001b[31m---------------------------------------------------------------------------\u001b[39m",
      "\u001b[31mTypeError\u001b[39m                                 Traceback (most recent call last)",
      "\u001b[36mCell\u001b[39m\u001b[36m \u001b[39m\u001b[32mIn[136]\u001b[39m\u001b[32m, line 9\u001b[39m\n\u001b[32m      6\u001b[39m apps_df[\u001b[33m'\u001b[39m\u001b[33mRevenue\u001b[39m\u001b[33m'\u001b[39m] = pd.to_numeric(apps_df[\u001b[33m'\u001b[39m\u001b[33mRevenue\u001b[39m\u001b[33m'\u001b[39m], errors=\u001b[33m'\u001b[39m\u001b[33mcoerce\u001b[39m\u001b[33m'\u001b[39m)\n\u001b[32m      8\u001b[39m \u001b[38;5;66;03m# Parse Android Version (as previously defined)\u001b[39;00m\n\u001b[32m----> \u001b[39m\u001b[32m9\u001b[39m apps_df[\u001b[33m'\u001b[39m\u001b[33mParsed Android Ver\u001b[39m\u001b[33m'\u001b[39m] = \u001b[43mapps_df\u001b[49m\u001b[43m[\u001b[49m\u001b[33;43m'\u001b[39;49m\u001b[33;43mAndroid Ver\u001b[39;49m\u001b[33;43m'\u001b[39;49m\u001b[43m]\u001b[49m\u001b[43m.\u001b[49m\u001b[43mapply\u001b[49m\u001b[43m(\u001b[49m\u001b[43mparse_android_version\u001b[49m\u001b[43m)\u001b[49m\n\u001b[32m     11\u001b[39m \u001b[38;5;66;03m# Apply filters\u001b[39;00m\n\u001b[32m     12\u001b[39m filtered_df3 = apps_df[\n\u001b[32m     13\u001b[39m     (apps_df[\u001b[33m'\u001b[39m\u001b[33mInstalls\u001b[39m\u001b[33m'\u001b[39m] >= \u001b[32m10000\u001b[39m) &\n\u001b[32m     14\u001b[39m     (apps_df[\u001b[33m'\u001b[39m\u001b[33mRevenue\u001b[39m\u001b[33m'\u001b[39m] >= \u001b[32m10000\u001b[39m) &\n\u001b[32m   (...)\u001b[39m\u001b[32m     18\u001b[39m     (apps_df[\u001b[33m'\u001b[39m\u001b[33mApp\u001b[39m\u001b[33m'\u001b[39m].apply(\u001b[38;5;28;01mlambda\u001b[39;00m x: \u001b[38;5;28mlen\u001b[39m(x) <= \u001b[32m30\u001b[39m))\n\u001b[32m     19\u001b[39m ]\n",
      "\u001b[36mFile \u001b[39m\u001b[32m~\\AppData\\Local\\Packages\\PythonSoftwareFoundation.Python.3.11_qbz5n2kfra8p0\\LocalCache\\local-packages\\Python311\\site-packages\\pandas\\core\\series.py:4924\u001b[39m, in \u001b[36mSeries.apply\u001b[39m\u001b[34m(self, func, convert_dtype, args, by_row, **kwargs)\u001b[39m\n\u001b[32m   4789\u001b[39m \u001b[38;5;28;01mdef\u001b[39;00m\u001b[38;5;250m \u001b[39m\u001b[34mapply\u001b[39m(\n\u001b[32m   4790\u001b[39m     \u001b[38;5;28mself\u001b[39m,\n\u001b[32m   4791\u001b[39m     func: AggFuncType,\n\u001b[32m   (...)\u001b[39m\u001b[32m   4796\u001b[39m     **kwargs,\n\u001b[32m   4797\u001b[39m ) -> DataFrame | Series:\n\u001b[32m   4798\u001b[39m \u001b[38;5;250m    \u001b[39m\u001b[33;03m\"\"\"\u001b[39;00m\n\u001b[32m   4799\u001b[39m \u001b[33;03m    Invoke function on values of Series.\u001b[39;00m\n\u001b[32m   4800\u001b[39m \n\u001b[32m   (...)\u001b[39m\u001b[32m   4915\u001b[39m \u001b[33;03m    dtype: float64\u001b[39;00m\n\u001b[32m   4916\u001b[39m \u001b[33;03m    \"\"\"\u001b[39;00m\n\u001b[32m   4917\u001b[39m     \u001b[38;5;28;01mreturn\u001b[39;00m \u001b[43mSeriesApply\u001b[49m\u001b[43m(\u001b[49m\n\u001b[32m   4918\u001b[39m \u001b[43m        \u001b[49m\u001b[38;5;28;43mself\u001b[39;49m\u001b[43m,\u001b[49m\n\u001b[32m   4919\u001b[39m \u001b[43m        \u001b[49m\u001b[43mfunc\u001b[49m\u001b[43m,\u001b[49m\n\u001b[32m   4920\u001b[39m \u001b[43m        \u001b[49m\u001b[43mconvert_dtype\u001b[49m\u001b[43m=\u001b[49m\u001b[43mconvert_dtype\u001b[49m\u001b[43m,\u001b[49m\n\u001b[32m   4921\u001b[39m \u001b[43m        \u001b[49m\u001b[43mby_row\u001b[49m\u001b[43m=\u001b[49m\u001b[43mby_row\u001b[49m\u001b[43m,\u001b[49m\n\u001b[32m   4922\u001b[39m \u001b[43m        \u001b[49m\u001b[43margs\u001b[49m\u001b[43m=\u001b[49m\u001b[43margs\u001b[49m\u001b[43m,\u001b[49m\n\u001b[32m   4923\u001b[39m \u001b[43m        \u001b[49m\u001b[43mkwargs\u001b[49m\u001b[43m=\u001b[49m\u001b[43mkwargs\u001b[49m\u001b[43m,\u001b[49m\n\u001b[32m-> \u001b[39m\u001b[32m4924\u001b[39m \u001b[43m    \u001b[49m\u001b[43m)\u001b[49m\u001b[43m.\u001b[49m\u001b[43mapply\u001b[49m\u001b[43m(\u001b[49m\u001b[43m)\u001b[49m\n",
      "\u001b[36mFile \u001b[39m\u001b[32m~\\AppData\\Local\\Packages\\PythonSoftwareFoundation.Python.3.11_qbz5n2kfra8p0\\LocalCache\\local-packages\\Python311\\site-packages\\pandas\\core\\apply.py:1427\u001b[39m, in \u001b[36mSeriesApply.apply\u001b[39m\u001b[34m(self)\u001b[39m\n\u001b[32m   1424\u001b[39m     \u001b[38;5;28;01mreturn\u001b[39;00m \u001b[38;5;28mself\u001b[39m.apply_compat()\n\u001b[32m   1426\u001b[39m \u001b[38;5;66;03m# self.func is Callable\u001b[39;00m\n\u001b[32m-> \u001b[39m\u001b[32m1427\u001b[39m \u001b[38;5;28;01mreturn\u001b[39;00m \u001b[38;5;28;43mself\u001b[39;49m\u001b[43m.\u001b[49m\u001b[43mapply_standard\u001b[49m\u001b[43m(\u001b[49m\u001b[43m)\u001b[49m\n",
      "\u001b[36mFile \u001b[39m\u001b[32m~\\AppData\\Local\\Packages\\PythonSoftwareFoundation.Python.3.11_qbz5n2kfra8p0\\LocalCache\\local-packages\\Python311\\site-packages\\pandas\\core\\apply.py:1507\u001b[39m, in \u001b[36mSeriesApply.apply_standard\u001b[39m\u001b[34m(self)\u001b[39m\n\u001b[32m   1501\u001b[39m \u001b[38;5;66;03m# row-wise access\u001b[39;00m\n\u001b[32m   1502\u001b[39m \u001b[38;5;66;03m# apply doesn't have a `na_action` keyword and for backward compat reasons\u001b[39;00m\n\u001b[32m   1503\u001b[39m \u001b[38;5;66;03m# we need to give `na_action=\"ignore\"` for categorical data.\u001b[39;00m\n\u001b[32m   1504\u001b[39m \u001b[38;5;66;03m# TODO: remove the `na_action=\"ignore\"` when that default has been changed in\u001b[39;00m\n\u001b[32m   1505\u001b[39m \u001b[38;5;66;03m#  Categorical (GH51645).\u001b[39;00m\n\u001b[32m   1506\u001b[39m action = \u001b[33m\"\u001b[39m\u001b[33mignore\u001b[39m\u001b[33m\"\u001b[39m \u001b[38;5;28;01mif\u001b[39;00m \u001b[38;5;28misinstance\u001b[39m(obj.dtype, CategoricalDtype) \u001b[38;5;28;01melse\u001b[39;00m \u001b[38;5;28;01mNone\u001b[39;00m\n\u001b[32m-> \u001b[39m\u001b[32m1507\u001b[39m mapped = \u001b[43mobj\u001b[49m\u001b[43m.\u001b[49m\u001b[43m_map_values\u001b[49m\u001b[43m(\u001b[49m\n\u001b[32m   1508\u001b[39m \u001b[43m    \u001b[49m\u001b[43mmapper\u001b[49m\u001b[43m=\u001b[49m\u001b[43mcurried\u001b[49m\u001b[43m,\u001b[49m\u001b[43m \u001b[49m\u001b[43mna_action\u001b[49m\u001b[43m=\u001b[49m\u001b[43maction\u001b[49m\u001b[43m,\u001b[49m\u001b[43m \u001b[49m\u001b[43mconvert\u001b[49m\u001b[43m=\u001b[49m\u001b[38;5;28;43mself\u001b[39;49m\u001b[43m.\u001b[49m\u001b[43mconvert_dtype\u001b[49m\n\u001b[32m   1509\u001b[39m \u001b[43m\u001b[49m\u001b[43m)\u001b[49m\n\u001b[32m   1511\u001b[39m \u001b[38;5;28;01mif\u001b[39;00m \u001b[38;5;28mlen\u001b[39m(mapped) \u001b[38;5;129;01mand\u001b[39;00m \u001b[38;5;28misinstance\u001b[39m(mapped[\u001b[32m0\u001b[39m], ABCSeries):\n\u001b[32m   1512\u001b[39m     \u001b[38;5;66;03m# GH#43986 Need to do list(mapped) in order to get treated as nested\u001b[39;00m\n\u001b[32m   1513\u001b[39m     \u001b[38;5;66;03m#  See also GH#25959 regarding EA support\u001b[39;00m\n\u001b[32m   1514\u001b[39m     \u001b[38;5;28;01mreturn\u001b[39;00m obj._constructor_expanddim(\u001b[38;5;28mlist\u001b[39m(mapped), index=obj.index)\n",
      "\u001b[36mFile \u001b[39m\u001b[32m~\\AppData\\Local\\Packages\\PythonSoftwareFoundation.Python.3.11_qbz5n2kfra8p0\\LocalCache\\local-packages\\Python311\\site-packages\\pandas\\core\\base.py:921\u001b[39m, in \u001b[36mIndexOpsMixin._map_values\u001b[39m\u001b[34m(self, mapper, na_action, convert)\u001b[39m\n\u001b[32m    918\u001b[39m \u001b[38;5;28;01mif\u001b[39;00m \u001b[38;5;28misinstance\u001b[39m(arr, ExtensionArray):\n\u001b[32m    919\u001b[39m     \u001b[38;5;28;01mreturn\u001b[39;00m arr.map(mapper, na_action=na_action)\n\u001b[32m--> \u001b[39m\u001b[32m921\u001b[39m \u001b[38;5;28;01mreturn\u001b[39;00m \u001b[43malgorithms\u001b[49m\u001b[43m.\u001b[49m\u001b[43mmap_array\u001b[49m\u001b[43m(\u001b[49m\u001b[43marr\u001b[49m\u001b[43m,\u001b[49m\u001b[43m \u001b[49m\u001b[43mmapper\u001b[49m\u001b[43m,\u001b[49m\u001b[43m \u001b[49m\u001b[43mna_action\u001b[49m\u001b[43m=\u001b[49m\u001b[43mna_action\u001b[49m\u001b[43m,\u001b[49m\u001b[43m \u001b[49m\u001b[43mconvert\u001b[49m\u001b[43m=\u001b[49m\u001b[43mconvert\u001b[49m\u001b[43m)\u001b[49m\n",
      "\u001b[36mFile \u001b[39m\u001b[32m~\\AppData\\Local\\Packages\\PythonSoftwareFoundation.Python.3.11_qbz5n2kfra8p0\\LocalCache\\local-packages\\Python311\\site-packages\\pandas\\core\\algorithms.py:1743\u001b[39m, in \u001b[36mmap_array\u001b[39m\u001b[34m(arr, mapper, na_action, convert)\u001b[39m\n\u001b[32m   1741\u001b[39m values = arr.astype(\u001b[38;5;28mobject\u001b[39m, copy=\u001b[38;5;28;01mFalse\u001b[39;00m)\n\u001b[32m   1742\u001b[39m \u001b[38;5;28;01mif\u001b[39;00m na_action \u001b[38;5;129;01mis\u001b[39;00m \u001b[38;5;28;01mNone\u001b[39;00m:\n\u001b[32m-> \u001b[39m\u001b[32m1743\u001b[39m     \u001b[38;5;28;01mreturn\u001b[39;00m \u001b[43mlib\u001b[49m\u001b[43m.\u001b[49m\u001b[43mmap_infer\u001b[49m\u001b[43m(\u001b[49m\u001b[43mvalues\u001b[49m\u001b[43m,\u001b[49m\u001b[43m \u001b[49m\u001b[43mmapper\u001b[49m\u001b[43m,\u001b[49m\u001b[43m \u001b[49m\u001b[43mconvert\u001b[49m\u001b[43m=\u001b[49m\u001b[43mconvert\u001b[49m\u001b[43m)\u001b[49m\n\u001b[32m   1744\u001b[39m \u001b[38;5;28;01melse\u001b[39;00m:\n\u001b[32m   1745\u001b[39m     \u001b[38;5;28;01mreturn\u001b[39;00m lib.map_infer_mask(\n\u001b[32m   1746\u001b[39m         values, mapper, mask=isna(values).view(np.uint8), convert=convert\n\u001b[32m   1747\u001b[39m     )\n",
      "\u001b[36mFile \u001b[39m\u001b[32mlib.pyx:2972\u001b[39m, in \u001b[36mpandas._libs.lib.map_infer\u001b[39m\u001b[34m()\u001b[39m\n",
      "\u001b[36mCell\u001b[39m\u001b[36m \u001b[39m\u001b[32mIn[135]\u001b[39m\u001b[32m, line 4\u001b[39m, in \u001b[36mparse_android_version\u001b[39m\u001b[34m(version)\u001b[39m\n\u001b[32m      2\u001b[39m \u001b[38;5;28;01mif\u001b[39;00m version == \u001b[33m\"\u001b[39m\u001b[33mVaries with device\u001b[39m\u001b[33m\"\u001b[39m:\n\u001b[32m      3\u001b[39m     \u001b[38;5;28;01mreturn\u001b[39;00m \u001b[38;5;28mfloat\u001b[39m(\u001b[33m'\u001b[39m\u001b[33minf\u001b[39m\u001b[33m'\u001b[39m)\n\u001b[32m----> \u001b[39m\u001b[32m4\u001b[39m \u001b[38;5;28;01melif\u001b[39;00m \u001b[33;43m'\u001b[39;49m\u001b[33;43m.\u001b[39;49m\u001b[33;43m'\u001b[39;49m\u001b[43m \u001b[49m\u001b[38;5;129;43;01min\u001b[39;49;00m\u001b[43m \u001b[49m\u001b[43mversion\u001b[49m:\n\u001b[32m      5\u001b[39m     \u001b[38;5;28;01mreturn\u001b[39;00m \u001b[38;5;28mfloat\u001b[39m(version.split(\u001b[33m'\u001b[39m\u001b[33m-\u001b[39m\u001b[33m'\u001b[39m)[\u001b[32m0\u001b[39m].strip().replace(\u001b[33m'\u001b[39m\u001b[33m.\u001b[39m\u001b[33m'\u001b[39m, \u001b[33m'\u001b[39m\u001b[33m'\u001b[39m, \u001b[32m1\u001b[39m))\n\u001b[32m      6\u001b[39m \u001b[38;5;28;01melif\u001b[39;00m version == \u001b[33m\"\u001b[39m\u001b[33m4.4W and up\u001b[39m\u001b[33m\"\u001b[39m:\n",
      "\u001b[31mTypeError\u001b[39m: argument of type 'float' is not iterable"
     ]
    }
   ],
   "source": [
    "# Clean data types\n",
    "apps_df['Installs'] = apps_df['Installs'].replace('[+,M]', '', regex=True)\n",
    "apps_df['Installs'] = pd.to_numeric(apps_df['Installs'], errors='coerce')\n",
    "\n",
    "apps_df['Revenue'] = apps_df['Revenue'].replace('[\\$,M]', '', regex=True)\n",
    "apps_df['Revenue'] = pd.to_numeric(apps_df['Revenue'], errors='coerce')\n",
    "\n",
    "# Parse Android Version (as previously defined)\n",
    "apps_df['Parsed Android Ver'] = apps_df['Android Ver'].apply(parse_android_version)\n",
    "\n",
    "# Apply filters\n",
    "filtered_df3 = apps_df[\n",
    "    (apps_df['Installs'] >= 10000) &\n",
    "    (apps_df['Revenue'] >= 10000) &\n",
    "    (apps_df['Parsed Android Ver'] > 4.0) &\n",
    "    (apps_df['Size'] > 15) &\n",
    "    (apps_df['Content Rating'] == 'Everyone') &\n",
    "    (apps_df['App'].apply(lambda x: len(x) <= 30))\n",
    "]\n",
    "\n",
    "# Get top 3 categories\n",
    "top_categories = filtered_df3['Category'].value_counts().nlargest(3).index\n",
    "\n",
    "# Filter by top categories\n",
    "filtered_df3 = filtered_df3[filtered_df3['Category'].isin(top_categories)]\n",
    "\n",
    "# Group and average\n",
    "avg_data = filtered_df3.groupby(['Category', 'Type']).agg({\n",
    "    'Installs': 'mean',\n",
    "    'Revenue': 'mean'\n",
    "}).reset_index()\n",
    "\n",
    "print(avg_data)\n"
   ]
  },
  {
   "cell_type": "code",
   "execution_count": 137,
   "id": "f4f774c1",
   "metadata": {},
   "outputs": [
    {
     "data": {
      "application/vnd.plotly.v1+json": {
       "config": {
        "plotlyServerURL": "https://plot.ly"
       },
       "data": [],
       "layout": {
        "annotations": [
         {
          "align": "center",
          "font": {
           "size": 20
          },
          "showarrow": false,
          "text": "The graph can only be displayed between 1 PM and 2 PM.",
          "x": 0.5,
          "xref": "paper",
          "y": 0.5,
          "yref": "paper"
         }
        ],
        "height": 400,
        "template": {
         "data": {
          "bar": [
           {
            "error_x": {
             "color": "#2a3f5f"
            },
            "error_y": {
             "color": "#2a3f5f"
            },
            "marker": {
             "line": {
              "color": "#E5ECF6",
              "width": 0.5
             },
             "pattern": {
              "fillmode": "overlay",
              "size": 10,
              "solidity": 0.2
             }
            },
            "type": "bar"
           }
          ],
          "barpolar": [
           {
            "marker": {
             "line": {
              "color": "#E5ECF6",
              "width": 0.5
             },
             "pattern": {
              "fillmode": "overlay",
              "size": 10,
              "solidity": 0.2
             }
            },
            "type": "barpolar"
           }
          ],
          "carpet": [
           {
            "aaxis": {
             "endlinecolor": "#2a3f5f",
             "gridcolor": "white",
             "linecolor": "white",
             "minorgridcolor": "white",
             "startlinecolor": "#2a3f5f"
            },
            "baxis": {
             "endlinecolor": "#2a3f5f",
             "gridcolor": "white",
             "linecolor": "white",
             "minorgridcolor": "white",
             "startlinecolor": "#2a3f5f"
            },
            "type": "carpet"
           }
          ],
          "choropleth": [
           {
            "colorbar": {
             "outlinewidth": 0,
             "ticks": ""
            },
            "type": "choropleth"
           }
          ],
          "contour": [
           {
            "colorbar": {
             "outlinewidth": 0,
             "ticks": ""
            },
            "colorscale": [
             [
              0,
              "#0d0887"
             ],
             [
              0.1111111111111111,
              "#46039f"
             ],
             [
              0.2222222222222222,
              "#7201a8"
             ],
             [
              0.3333333333333333,
              "#9c179e"
             ],
             [
              0.4444444444444444,
              "#bd3786"
             ],
             [
              0.5555555555555556,
              "#d8576b"
             ],
             [
              0.6666666666666666,
              "#ed7953"
             ],
             [
              0.7777777777777778,
              "#fb9f3a"
             ],
             [
              0.8888888888888888,
              "#fdca26"
             ],
             [
              1,
              "#f0f921"
             ]
            ],
            "type": "contour"
           }
          ],
          "contourcarpet": [
           {
            "colorbar": {
             "outlinewidth": 0,
             "ticks": ""
            },
            "type": "contourcarpet"
           }
          ],
          "heatmap": [
           {
            "colorbar": {
             "outlinewidth": 0,
             "ticks": ""
            },
            "colorscale": [
             [
              0,
              "#0d0887"
             ],
             [
              0.1111111111111111,
              "#46039f"
             ],
             [
              0.2222222222222222,
              "#7201a8"
             ],
             [
              0.3333333333333333,
              "#9c179e"
             ],
             [
              0.4444444444444444,
              "#bd3786"
             ],
             [
              0.5555555555555556,
              "#d8576b"
             ],
             [
              0.6666666666666666,
              "#ed7953"
             ],
             [
              0.7777777777777778,
              "#fb9f3a"
             ],
             [
              0.8888888888888888,
              "#fdca26"
             ],
             [
              1,
              "#f0f921"
             ]
            ],
            "type": "heatmap"
           }
          ],
          "histogram": [
           {
            "marker": {
             "pattern": {
              "fillmode": "overlay",
              "size": 10,
              "solidity": 0.2
             }
            },
            "type": "histogram"
           }
          ],
          "histogram2d": [
           {
            "colorbar": {
             "outlinewidth": 0,
             "ticks": ""
            },
            "colorscale": [
             [
              0,
              "#0d0887"
             ],
             [
              0.1111111111111111,
              "#46039f"
             ],
             [
              0.2222222222222222,
              "#7201a8"
             ],
             [
              0.3333333333333333,
              "#9c179e"
             ],
             [
              0.4444444444444444,
              "#bd3786"
             ],
             [
              0.5555555555555556,
              "#d8576b"
             ],
             [
              0.6666666666666666,
              "#ed7953"
             ],
             [
              0.7777777777777778,
              "#fb9f3a"
             ],
             [
              0.8888888888888888,
              "#fdca26"
             ],
             [
              1,
              "#f0f921"
             ]
            ],
            "type": "histogram2d"
           }
          ],
          "histogram2dcontour": [
           {
            "colorbar": {
             "outlinewidth": 0,
             "ticks": ""
            },
            "colorscale": [
             [
              0,
              "#0d0887"
             ],
             [
              0.1111111111111111,
              "#46039f"
             ],
             [
              0.2222222222222222,
              "#7201a8"
             ],
             [
              0.3333333333333333,
              "#9c179e"
             ],
             [
              0.4444444444444444,
              "#bd3786"
             ],
             [
              0.5555555555555556,
              "#d8576b"
             ],
             [
              0.6666666666666666,
              "#ed7953"
             ],
             [
              0.7777777777777778,
              "#fb9f3a"
             ],
             [
              0.8888888888888888,
              "#fdca26"
             ],
             [
              1,
              "#f0f921"
             ]
            ],
            "type": "histogram2dcontour"
           }
          ],
          "mesh3d": [
           {
            "colorbar": {
             "outlinewidth": 0,
             "ticks": ""
            },
            "type": "mesh3d"
           }
          ],
          "parcoords": [
           {
            "line": {
             "colorbar": {
              "outlinewidth": 0,
              "ticks": ""
             }
            },
            "type": "parcoords"
           }
          ],
          "pie": [
           {
            "automargin": true,
            "type": "pie"
           }
          ],
          "scatter": [
           {
            "fillpattern": {
             "fillmode": "overlay",
             "size": 10,
             "solidity": 0.2
            },
            "type": "scatter"
           }
          ],
          "scatter3d": [
           {
            "line": {
             "colorbar": {
              "outlinewidth": 0,
              "ticks": ""
             }
            },
            "marker": {
             "colorbar": {
              "outlinewidth": 0,
              "ticks": ""
             }
            },
            "type": "scatter3d"
           }
          ],
          "scattercarpet": [
           {
            "marker": {
             "colorbar": {
              "outlinewidth": 0,
              "ticks": ""
             }
            },
            "type": "scattercarpet"
           }
          ],
          "scattergeo": [
           {
            "marker": {
             "colorbar": {
              "outlinewidth": 0,
              "ticks": ""
             }
            },
            "type": "scattergeo"
           }
          ],
          "scattergl": [
           {
            "marker": {
             "colorbar": {
              "outlinewidth": 0,
              "ticks": ""
             }
            },
            "type": "scattergl"
           }
          ],
          "scattermap": [
           {
            "marker": {
             "colorbar": {
              "outlinewidth": 0,
              "ticks": ""
             }
            },
            "type": "scattermap"
           }
          ],
          "scattermapbox": [
           {
            "marker": {
             "colorbar": {
              "outlinewidth": 0,
              "ticks": ""
             }
            },
            "type": "scattermapbox"
           }
          ],
          "scatterpolar": [
           {
            "marker": {
             "colorbar": {
              "outlinewidth": 0,
              "ticks": ""
             }
            },
            "type": "scatterpolar"
           }
          ],
          "scatterpolargl": [
           {
            "marker": {
             "colorbar": {
              "outlinewidth": 0,
              "ticks": ""
             }
            },
            "type": "scatterpolargl"
           }
          ],
          "scatterternary": [
           {
            "marker": {
             "colorbar": {
              "outlinewidth": 0,
              "ticks": ""
             }
            },
            "type": "scatterternary"
           }
          ],
          "surface": [
           {
            "colorbar": {
             "outlinewidth": 0,
             "ticks": ""
            },
            "colorscale": [
             [
              0,
              "#0d0887"
             ],
             [
              0.1111111111111111,
              "#46039f"
             ],
             [
              0.2222222222222222,
              "#7201a8"
             ],
             [
              0.3333333333333333,
              "#9c179e"
             ],
             [
              0.4444444444444444,
              "#bd3786"
             ],
             [
              0.5555555555555556,
              "#d8576b"
             ],
             [
              0.6666666666666666,
              "#ed7953"
             ],
             [
              0.7777777777777778,
              "#fb9f3a"
             ],
             [
              0.8888888888888888,
              "#fdca26"
             ],
             [
              1,
              "#f0f921"
             ]
            ],
            "type": "surface"
           }
          ],
          "table": [
           {
            "cells": {
             "fill": {
              "color": "#EBF0F8"
             },
             "line": {
              "color": "white"
             }
            },
            "header": {
             "fill": {
              "color": "#C8D4E3"
             },
             "line": {
              "color": "white"
             }
            },
            "type": "table"
           }
          ]
         },
         "layout": {
          "annotationdefaults": {
           "arrowcolor": "#2a3f5f",
           "arrowhead": 0,
           "arrowwidth": 1
          },
          "autotypenumbers": "strict",
          "coloraxis": {
           "colorbar": {
            "outlinewidth": 0,
            "ticks": ""
           }
          },
          "colorscale": {
           "diverging": [
            [
             0,
             "#8e0152"
            ],
            [
             0.1,
             "#c51b7d"
            ],
            [
             0.2,
             "#de77ae"
            ],
            [
             0.3,
             "#f1b6da"
            ],
            [
             0.4,
             "#fde0ef"
            ],
            [
             0.5,
             "#f7f7f7"
            ],
            [
             0.6,
             "#e6f5d0"
            ],
            [
             0.7,
             "#b8e186"
            ],
            [
             0.8,
             "#7fbc41"
            ],
            [
             0.9,
             "#4d9221"
            ],
            [
             1,
             "#276419"
            ]
           ],
           "sequential": [
            [
             0,
             "#0d0887"
            ],
            [
             0.1111111111111111,
             "#46039f"
            ],
            [
             0.2222222222222222,
             "#7201a8"
            ],
            [
             0.3333333333333333,
             "#9c179e"
            ],
            [
             0.4444444444444444,
             "#bd3786"
            ],
            [
             0.5555555555555556,
             "#d8576b"
            ],
            [
             0.6666666666666666,
             "#ed7953"
            ],
            [
             0.7777777777777778,
             "#fb9f3a"
            ],
            [
             0.8888888888888888,
             "#fdca26"
            ],
            [
             1,
             "#f0f921"
            ]
           ],
           "sequentialminus": [
            [
             0,
             "#0d0887"
            ],
            [
             0.1111111111111111,
             "#46039f"
            ],
            [
             0.2222222222222222,
             "#7201a8"
            ],
            [
             0.3333333333333333,
             "#9c179e"
            ],
            [
             0.4444444444444444,
             "#bd3786"
            ],
            [
             0.5555555555555556,
             "#d8576b"
            ],
            [
             0.6666666666666666,
             "#ed7953"
            ],
            [
             0.7777777777777778,
             "#fb9f3a"
            ],
            [
             0.8888888888888888,
             "#fdca26"
            ],
            [
             1,
             "#f0f921"
            ]
           ]
          },
          "colorway": [
           "#636efa",
           "#EF553B",
           "#00cc96",
           "#ab63fa",
           "#FFA15A",
           "#19d3f3",
           "#FF6692",
           "#B6E880",
           "#FF97FF",
           "#FECB52"
          ],
          "font": {
           "color": "#2a3f5f"
          },
          "geo": {
           "bgcolor": "white",
           "lakecolor": "white",
           "landcolor": "#E5ECF6",
           "showlakes": true,
           "showland": true,
           "subunitcolor": "white"
          },
          "hoverlabel": {
           "align": "left"
          },
          "hovermode": "closest",
          "mapbox": {
           "style": "light"
          },
          "paper_bgcolor": "white",
          "plot_bgcolor": "#E5ECF6",
          "polar": {
           "angularaxis": {
            "gridcolor": "white",
            "linecolor": "white",
            "ticks": ""
           },
           "bgcolor": "#E5ECF6",
           "radialaxis": {
            "gridcolor": "white",
            "linecolor": "white",
            "ticks": ""
           }
          },
          "scene": {
           "xaxis": {
            "backgroundcolor": "#E5ECF6",
            "gridcolor": "white",
            "gridwidth": 2,
            "linecolor": "white",
            "showbackground": true,
            "ticks": "",
            "zerolinecolor": "white"
           },
           "yaxis": {
            "backgroundcolor": "#E5ECF6",
            "gridcolor": "white",
            "gridwidth": 2,
            "linecolor": "white",
            "showbackground": true,
            "ticks": "",
            "zerolinecolor": "white"
           },
           "zaxis": {
            "backgroundcolor": "#E5ECF6",
            "gridcolor": "white",
            "gridwidth": 2,
            "linecolor": "white",
            "showbackground": true,
            "ticks": "",
            "zerolinecolor": "white"
           }
          },
          "shapedefaults": {
           "line": {
            "color": "#2a3f5f"
           }
          },
          "ternary": {
           "aaxis": {
            "gridcolor": "white",
            "linecolor": "white",
            "ticks": ""
           },
           "baxis": {
            "gridcolor": "white",
            "linecolor": "white",
            "ticks": ""
           },
           "bgcolor": "#E5ECF6",
           "caxis": {
            "gridcolor": "white",
            "linecolor": "white",
            "ticks": ""
           }
          },
          "title": {
           "x": 0.05
          },
          "xaxis": {
           "automargin": true,
           "gridcolor": "white",
           "linecolor": "white",
           "ticks": "",
           "title": {
            "standoff": 15
           },
           "zerolinecolor": "white",
           "zerolinewidth": 2
          },
          "yaxis": {
           "automargin": true,
           "gridcolor": "white",
           "linecolor": "white",
           "ticks": "",
           "title": {
            "standoff": 15
           },
           "zerolinecolor": "white",
           "zerolinewidth": 2
          }
         }
        },
        "title": {
         "text": "Notice"
        },
        "width": 1000,
        "xaxis": {
         "visible": false
        },
        "yaxis": {
         "visible": false
        }
       }
      }
     },
     "metadata": {},
     "output_type": "display_data"
    },
    {
     "name": "stdout",
     "output_type": "stream",
     "text": [
      "Saved: Task 3.html\n"
     ]
    }
   ],
   "source": [
    "# Ensure the graph only displays between 1 PM to 2 PM\n",
    "current_time = dt.datetime.now().time()\n",
    "if current_time >= dt.time(13, 0) and current_time <= dt.time(14, 0):\n",
    "# Plot dual-axis chart using plotly express\n",
    "    fig3 = px.bar(avg_data, x='Category', y='Installs', color='Type',\n",
    "                labels={'Installs': 'Average Installs'},\n",
    "                title='Average Installs and Revenue for Free vs Paid Apps in Top Categories',\n",
    "                width=1000,\n",
    "                height=400)\n",
    "\n",
    "    fig3.add_scatter(x=avg_data[avg_data['Type'] == 'Free']['Category'], \n",
    "                    y=avg_data[avg_data['Type'] == 'Free']['Revenue'], \n",
    "                    mode='lines+markers', name='Free Revenue')\n",
    "\n",
    "    fig3.add_scatter(x=avg_data[avg_data['Type'] == 'Paid']['Category'], \n",
    "                    y=avg_data[avg_data['Type'] == 'Paid']['Revenue'], \n",
    "                    mode='lines+markers', name='Paid Revenue')\n",
    "\n",
    "    fig3.update_layout(yaxis2=dict(title='Average Revenue',\n",
    "                                overlaying='y',\n",
    "                                side='right'))\n",
    "\n",
    "    fig3.show()\n",
    "\n",
    "else:\n",
    "    # Create a blank figure with an annotation\n",
    "    fig3 = go.Figure()\n",
    "    fig3.add_annotation(\n",
    "        text=\"The graph can only be displayed between 1 PM and 2 PM.\",\n",
    "        x=0.5, y=0.5, \n",
    "        showarrow=False,\n",
    "        font=dict(size=20),\n",
    "        xref='paper', yref='paper',\n",
    "        align='center'\n",
    "    )\n",
    "\n",
    "    fig3.update_layout(\n",
    "        xaxis=dict(visible=False),\n",
    "        yaxis=dict(visible=False),\n",
    "        width=1000,\n",
    "        height=400,\n",
    "        title=\"Notice\"\n",
    "    )  \n",
    "    fig3.show()\n",
    "save_plot_as_html(fig3,\"Task 3.html\",\"\")"
   ]
  },
  {
   "cell_type": "code",
   "execution_count": 33,
   "id": "d8d47714",
   "metadata": {},
   "outputs": [],
   "source": [
    "#Task-4"
   ]
  },
  {
   "cell_type": "code",
   "execution_count": 34,
   "id": "bdea4b98",
   "metadata": {},
   "outputs": [],
   "source": [
    "import numpy as np\n",
    "import pandas as pd\n",
    "apps_df = pd.read_csv('Play Store Data.csv')\n",
    "reviews_df = pd.read_csv('User Reviews.csv ')"
   ]
  },
  {
   "cell_type": "code",
   "execution_count": 35,
   "id": "05698495",
   "metadata": {},
   "outputs": [],
   "source": [
    "categories = ['Game', 'Beauty', 'Business', 'Comics', 'Communication', 'Dating', \n",
    "              'Entertainment', 'Social', 'Event']"
   ]
  },
  {
   "cell_type": "code",
   "execution_count": 36,
   "id": "3c1535a2",
   "metadata": {},
   "outputs": [],
   "source": [
    "import pandas as pd\n",
    "\n",
    "# Clean 'Installs' column\n",
    "apps_df['Installs'] = apps_df['Installs'].str.replace('[+,]', '', regex=True)\n",
    "apps_df['Installs'] = pd.to_numeric(apps_df['Installs'], errors='coerce')\n",
    "\n",
    "# Clean 'Size' column\n",
    "apps_df['Size'] = apps_df['Size'].str.replace('M', '').replace('Varies with device', '0')\n",
    "apps_df['Size'] = pd.to_numeric(apps_df['Size'], errors='coerce')\n",
    "\n",
    "# Clean 'Last Updated'\n",
    "apps_df['Last Updated'] = pd.to_datetime(apps_df['Last Updated'], errors='coerce')\n",
    "\n",
    "merged_df = pd.merge(apps_df, reviews_df, on='App', how='inner')"
   ]
  },
  {
   "cell_type": "code",
   "execution_count": 38,
   "id": "8ba81a1e",
   "metadata": {},
   "outputs": [],
   "source": [
    "filtered_df = merged_df[\n",
    "    (merged_df['Rating'] > 3.5) &\n",
    "    (merged_df['Reviews'].astype(float) > 500) &\n",
    "    (merged_df['Installs'] > 50000) &\n",
    "    (merged_df['Sentiment_Subjectivity'] > 0.5) &\n",
    "    (merged_df['Category'].isin(['GAME', 'BEAUTY', 'BUSINESS', 'COMICS', 'COMMUNICATION', 'DATING', 'ENTERTAINMENT', 'SOCIAL', 'EVENT'])) &\n",
    "    (merged_df['Size'] > 0)\n",
    "]"
   ]
  },
  {
   "cell_type": "code",
   "execution_count": 57,
   "id": "cea99f97",
   "metadata": {},
   "outputs": [],
   "source": [
    "from datetime import datetime\n",
    "import pytz\n",
    "\n",
    "def is_visible():\n",
    "    india = pytz.timezone('Asia/Kolkata')\n",
    "    now = datetime.now(india)\n",
    "    print(f\"Current IST Time: {now}\")\n",
    "    return now.hour >= 17 and now.hour < 19"
   ]
  },
  {
   "cell_type": "code",
   "execution_count": 44,
   "id": "c2d0e641",
   "metadata": {},
   "outputs": [
    {
     "name": "stdout",
     "output_type": "stream",
     "text": [
      "Requirement already satisfied: dash in c:\\users\\atharva\\appdata\\local\\packages\\pythonsoftwarefoundation.python.3.11_qbz5n2kfra8p0\\localcache\\local-packages\\python311\\site-packages (3.0.4)\n",
      "Requirement already satisfied: Flask<3.1,>=1.0.4 in c:\\users\\atharva\\appdata\\local\\packages\\pythonsoftwarefoundation.python.3.11_qbz5n2kfra8p0\\localcache\\local-packages\\python311\\site-packages (from dash) (3.0.3)\n",
      "Requirement already satisfied: Werkzeug<3.1 in c:\\users\\atharva\\appdata\\local\\packages\\pythonsoftwarefoundation.python.3.11_qbz5n2kfra8p0\\localcache\\local-packages\\python311\\site-packages (from dash) (3.0.6)\n",
      "Requirement already satisfied: plotly>=5.0.0 in c:\\users\\atharva\\appdata\\local\\packages\\pythonsoftwarefoundation.python.3.11_qbz5n2kfra8p0\\localcache\\local-packages\\python311\\site-packages (from dash) (6.0.1)\n",
      "Requirement already satisfied: importlib-metadata in c:\\users\\atharva\\appdata\\local\\packages\\pythonsoftwarefoundation.python.3.11_qbz5n2kfra8p0\\localcache\\local-packages\\python311\\site-packages (from dash) (8.7.0)\n",
      "Requirement already satisfied: typing-extensions>=4.1.1 in c:\\users\\atharva\\appdata\\local\\packages\\pythonsoftwarefoundation.python.3.11_qbz5n2kfra8p0\\localcache\\local-packages\\python311\\site-packages (from dash) (4.13.1)\n",
      "Requirement already satisfied: requests in c:\\users\\atharva\\appdata\\local\\packages\\pythonsoftwarefoundation.python.3.11_qbz5n2kfra8p0\\localcache\\local-packages\\python311\\site-packages (from dash) (2.32.3)\n",
      "Requirement already satisfied: retrying in c:\\users\\atharva\\appdata\\local\\packages\\pythonsoftwarefoundation.python.3.11_qbz5n2kfra8p0\\localcache\\local-packages\\python311\\site-packages (from dash) (1.3.4)\n",
      "Requirement already satisfied: nest-asyncio in c:\\users\\atharva\\appdata\\local\\packages\\pythonsoftwarefoundation.python.3.11_qbz5n2kfra8p0\\localcache\\local-packages\\python311\\site-packages (from dash) (1.6.0)\n",
      "Requirement already satisfied: setuptools in c:\\program files\\windowsapps\\pythonsoftwarefoundation.python.3.11_3.11.2544.0_x64__qbz5n2kfra8p0\\lib\\site-packages (from dash) (65.5.0)\n",
      "Requirement already satisfied: Jinja2>=3.1.2 in c:\\users\\atharva\\appdata\\local\\packages\\pythonsoftwarefoundation.python.3.11_qbz5n2kfra8p0\\localcache\\local-packages\\python311\\site-packages (from Flask<3.1,>=1.0.4->dash) (3.1.6)\n",
      "Requirement already satisfied: itsdangerous>=2.1.2 in c:\\users\\atharva\\appdata\\local\\packages\\pythonsoftwarefoundation.python.3.11_qbz5n2kfra8p0\\localcache\\local-packages\\python311\\site-packages (from Flask<3.1,>=1.0.4->dash) (2.2.0)\n",
      "Requirement already satisfied: click>=8.1.3 in c:\\users\\atharva\\appdata\\local\\packages\\pythonsoftwarefoundation.python.3.11_qbz5n2kfra8p0\\localcache\\local-packages\\python311\\site-packages (from Flask<3.1,>=1.0.4->dash) (8.1.8)\n",
      "Requirement already satisfied: blinker>=1.6.2 in c:\\users\\atharva\\appdata\\local\\packages\\pythonsoftwarefoundation.python.3.11_qbz5n2kfra8p0\\localcache\\local-packages\\python311\\site-packages (from Flask<3.1,>=1.0.4->dash) (1.9.0)\n",
      "Requirement already satisfied: MarkupSafe>=2.1.1 in c:\\users\\atharva\\appdata\\local\\packages\\pythonsoftwarefoundation.python.3.11_qbz5n2kfra8p0\\localcache\\local-packages\\python311\\site-packages (from Werkzeug<3.1->dash) (3.0.2)\n",
      "Requirement already satisfied: colorama in c:\\users\\atharva\\appdata\\local\\packages\\pythonsoftwarefoundation.python.3.11_qbz5n2kfra8p0\\localcache\\local-packages\\python311\\site-packages (from click>=8.1.3->Flask<3.1,>=1.0.4->dash) (0.4.6)\n",
      "Requirement already satisfied: narwhals>=1.15.1 in c:\\users\\atharva\\appdata\\local\\packages\\pythonsoftwarefoundation.python.3.11_qbz5n2kfra8p0\\localcache\\local-packages\\python311\\site-packages (from plotly>=5.0.0->dash) (1.37.1)\n",
      "Requirement already satisfied: packaging in c:\\users\\atharva\\appdata\\local\\packages\\pythonsoftwarefoundation.python.3.11_qbz5n2kfra8p0\\localcache\\local-packages\\python311\\site-packages (from plotly>=5.0.0->dash) (24.2)\n",
      "Requirement already satisfied: zipp>=3.20 in c:\\users\\atharva\\appdata\\local\\packages\\pythonsoftwarefoundation.python.3.11_qbz5n2kfra8p0\\localcache\\local-packages\\python311\\site-packages (from importlib-metadata->dash) (3.21.0)\n",
      "Requirement already satisfied: charset-normalizer<4,>=2 in c:\\users\\atharva\\appdata\\local\\packages\\pythonsoftwarefoundation.python.3.11_qbz5n2kfra8p0\\localcache\\local-packages\\python311\\site-packages (from requests->dash) (3.4.2)\n",
      "Requirement already satisfied: idna<4,>=2.5 in c:\\users\\atharva\\appdata\\local\\packages\\pythonsoftwarefoundation.python.3.11_qbz5n2kfra8p0\\localcache\\local-packages\\python311\\site-packages (from requests->dash) (3.10)\n",
      "Requirement already satisfied: urllib3<3,>=1.21.1 in c:\\users\\atharva\\appdata\\local\\packages\\pythonsoftwarefoundation.python.3.11_qbz5n2kfra8p0\\localcache\\local-packages\\python311\\site-packages (from requests->dash) (2.4.0)\n",
      "Requirement already satisfied: certifi>=2017.4.17 in c:\\users\\atharva\\appdata\\local\\packages\\pythonsoftwarefoundation.python.3.11_qbz5n2kfra8p0\\localcache\\local-packages\\python311\\site-packages (from requests->dash) (2025.4.26)\n",
      "Requirement already satisfied: six>=1.7.0 in c:\\users\\atharva\\appdata\\local\\packages\\pythonsoftwarefoundation.python.3.11_qbz5n2kfra8p0\\localcache\\local-packages\\python311\\site-packages (from retrying->dash) (1.17.0)\n"
     ]
    }
   ],
   "source": [
    "!pip install dash"
   ]
  },
  {
   "cell_type": "code",
   "execution_count": 46,
   "id": "1688efe4",
   "metadata": {},
   "outputs": [],
   "source": [
    "import plotly.express as px\n",
    "import plotly.graph_objects as go\n",
    "from dash import html, dcc "
   ]
  },
  {
   "cell_type": "code",
   "execution_count": 58,
   "id": "8f6b61e6",
   "metadata": {},
   "outputs": [
    {
     "name": "stdout",
     "output_type": "stream",
     "text": [
      "Current IST Time: 2025-05-21 15:10:42.947385+05:30\n",
      "Current IST Time: 2025-05-21 15:10:42.949528+05:30\n"
     ]
    }
   ],
   "source": [
    "def create_bubble_chart(df):\n",
    "    fig = px.scatter(\n",
    "        df,\n",
    "        x=\"Size\",\n",
    "        y=\"Rating\",\n",
    "        size=\"Installs\",\n",
    "        color=\"Category\",\n",
    "        hover_name=\"App\",\n",
    "        title=\"Bubble Chart: Size vs Rating (Bubble = Installs)\",\n",
    "        size_max=60\n",
    "    )\n",
    "    return fig\n",
    "\n",
    "layout = html.Div([\n",
    "    html.H2(\"App Size vs Rating (Installs as Bubble Size)\"),\n",
    "    dcc.Graph(\n",
    "        id='bubble-chart',\n",
    "        figure=create_bubble_chart(filtered_df) if is_visible() else go.Figure()\n",
    "    ),\n",
    "    html.Div(\n",
    "        \"Chart will be visible between 5 PM and 7 PM IST only.\",\n",
    "        style={'color': 'red', 'marginTop': 20}\n",
    "    ) if not is_visible() else None\n",
    "])"
   ]
  },
  {
   "cell_type": "code",
   "execution_count": 59,
   "id": "028078eb",
   "metadata": {},
   "outputs": [],
   "source": [
    "from dash import Dash, dcc, html\n",
    "import plotly.express as px\n",
    "\n",
    "app = Dash(__name__)\n",
    "app.layout = layout"
   ]
  },
  {
   "cell_type": "code",
   "execution_count": 60,
   "id": "d38437c9",
   "metadata": {},
   "outputs": [
    {
     "data": {
      "text/html": [
       "\n",
       "        <iframe\n",
       "            width=\"100%\"\n",
       "            height=\"650\"\n",
       "            src=\"http://127.0.0.1:8050/\"\n",
       "            frameborder=\"0\"\n",
       "            allowfullscreen\n",
       "            \n",
       "        ></iframe>\n",
       "        "
      ],
      "text/plain": [
       "<IPython.lib.display.IFrame at 0x21872f2b450>"
      ]
     },
     "metadata": {},
     "output_type": "display_data"
    }
   ],
   "source": [
    "if __name__ == '__main__':\n",
    "    app.run(debug=True)"
   ]
  },
  {
   "cell_type": "code",
   "execution_count": 100,
   "id": "b624d1b5",
   "metadata": {},
   "outputs": [],
   "source": [
    "#Task-5"
   ]
  },
  {
   "cell_type": "code",
   "execution_count": 101,
   "id": "541c697e",
   "metadata": {},
   "outputs": [
    {
     "name": "stderr",
     "output_type": "stream",
     "text": [
      "C:\\Users\\Atharva\\AppData\\Local\\Temp\\ipykernel_4280\\3712534055.py:8: SettingWithCopyWarning:\n",
      "\n",
      "\n",
      "A value is trying to be set on a copy of a slice from a DataFrame.\n",
      "Try using .loc[row_indexer,col_indexer] = value instead\n",
      "\n",
      "See the caveats in the documentation: https://pandas.pydata.org/pandas-docs/stable/user_guide/indexing.html#returning-a-view-versus-a-copy\n",
      "\n",
      "C:\\Users\\Atharva\\AppData\\Local\\Temp\\ipykernel_4280\\3712534055.py:9: SettingWithCopyWarning:\n",
      "\n",
      "\n",
      "A value is trying to be set on a copy of a slice from a DataFrame.\n",
      "Try using .loc[row_indexer,col_indexer] = value instead\n",
      "\n",
      "See the caveats in the documentation: https://pandas.pydata.org/pandas-docs/stable/user_guide/indexing.html#returning-a-view-versus-a-copy\n",
      "\n"
     ]
    }
   ],
   "source": [
    "# Step 1: Filter apps updated within the year 2018\n",
    "start_date = datetime(2018, 1, 1)\n",
    "end_date = datetime(2018, 12, 31)\n",
    "apps_df['Last Updated'] = pd.to_datetime(apps_df['Last Updated'], errors='coerce')  # Convert to datetime\n",
    "filtered_df5 = apps_df[(apps_df['Last Updated'] >= start_date) & (apps_df['Last Updated'] <= end_date)]\n",
    "\n",
    "# Convert 'Installs' and 'Reviews' to numeric, errors='coerce' will set non-numeric values to NaN\n",
    "filtered_df5['Installs'] = pd.to_numeric(filtered_df5['Installs'], errors='coerce')\n",
    "filtered_df5['Reviews'] = pd.to_numeric(filtered_df5['Reviews'], errors='coerce')\n",
    "\n",
    "# Step 2: Filter apps with at least 100,000 installs and more than 1,000 reviews\n",
    "filtered_df5 = filtered_df5[(filtered_df5['Installs'] >= 100000) & (filtered_df5['Reviews'] >= 1000)]\n",
    "\n",
    "\n",
    "# Step 3: Filter out genres starting with specific characters\n",
    "filtered_df5 = filtered_df5[~filtered_df5['Genres'].str.startswith(('A', 'F', 'E', 'G', 'I', 'K'))]"
   ]
  },
  {
   "cell_type": "code",
   "execution_count": 103,
   "id": "4ab5c5ae",
   "metadata": {},
   "outputs": [],
   "source": [
    "def save_plot_as_html(fig, filename, title):\n",
    "    fig.write_html(filename, full_html=False, include_plotlyjs='cdn')\n",
    "    print(f\"Saved: {filename}\")\n"
   ]
  },
  {
   "cell_type": "code",
   "execution_count": 104,
   "id": "2c7e1a74",
   "metadata": {},
   "outputs": [
    {
     "data": {
      "application/vnd.plotly.v1+json": {
       "config": {
        "plotlyServerURL": "https://plot.ly"
       },
       "data": [
        {
         "coloraxis": "coloraxis",
         "hovertemplate": "x: %{x}<br>y: %{y}<br>color: %{z}<extra></extra>",
         "name": "0",
         "texttemplate": "%{z:.2f}",
         "type": "heatmap",
         "x": [
          "Installs",
          "Rating",
          "Reviews"
         ],
         "xaxis": "x",
         "y": [
          "Installs",
          "Rating",
          "Reviews"
         ],
         "yaxis": "y",
         "z": {
          "bdata": "AAAAAAAA8D+h5vPwBpWYP+QuiqTFX+M/oebz8AaVmD8AAAAAAADwPwS7YhS3U7M/5C6KpMVf4z8Eu2IUt1OzPwAAAAAAAPA/",
          "dtype": "f8",
          "shape": "3, 3"
         }
        }
       ],
       "layout": {
        "coloraxis": {
         "colorscale": [
          [
           0,
           "rgb(103,0,31)"
          ],
          [
           0.1,
           "rgb(178,24,43)"
          ],
          [
           0.2,
           "rgb(214,96,77)"
          ],
          [
           0.3,
           "rgb(244,165,130)"
          ],
          [
           0.4,
           "rgb(253,219,199)"
          ],
          [
           0.5,
           "rgb(247,247,247)"
          ],
          [
           0.6,
           "rgb(209,229,240)"
          ],
          [
           0.7,
           "rgb(146,197,222)"
          ],
          [
           0.8,
           "rgb(67,147,195)"
          ],
          [
           0.9,
           "rgb(33,102,172)"
          ],
          [
           1,
           "rgb(5,48,97)"
          ]
         ]
        },
        "height": 500,
        "template": {
         "data": {
          "bar": [
           {
            "error_x": {
             "color": "#2a3f5f"
            },
            "error_y": {
             "color": "#2a3f5f"
            },
            "marker": {
             "line": {
              "color": "#E5ECF6",
              "width": 0.5
             },
             "pattern": {
              "fillmode": "overlay",
              "size": 10,
              "solidity": 0.2
             }
            },
            "type": "bar"
           }
          ],
          "barpolar": [
           {
            "marker": {
             "line": {
              "color": "#E5ECF6",
              "width": 0.5
             },
             "pattern": {
              "fillmode": "overlay",
              "size": 10,
              "solidity": 0.2
             }
            },
            "type": "barpolar"
           }
          ],
          "carpet": [
           {
            "aaxis": {
             "endlinecolor": "#2a3f5f",
             "gridcolor": "white",
             "linecolor": "white",
             "minorgridcolor": "white",
             "startlinecolor": "#2a3f5f"
            },
            "baxis": {
             "endlinecolor": "#2a3f5f",
             "gridcolor": "white",
             "linecolor": "white",
             "minorgridcolor": "white",
             "startlinecolor": "#2a3f5f"
            },
            "type": "carpet"
           }
          ],
          "choropleth": [
           {
            "colorbar": {
             "outlinewidth": 0,
             "ticks": ""
            },
            "type": "choropleth"
           }
          ],
          "contour": [
           {
            "colorbar": {
             "outlinewidth": 0,
             "ticks": ""
            },
            "colorscale": [
             [
              0,
              "#0d0887"
             ],
             [
              0.1111111111111111,
              "#46039f"
             ],
             [
              0.2222222222222222,
              "#7201a8"
             ],
             [
              0.3333333333333333,
              "#9c179e"
             ],
             [
              0.4444444444444444,
              "#bd3786"
             ],
             [
              0.5555555555555556,
              "#d8576b"
             ],
             [
              0.6666666666666666,
              "#ed7953"
             ],
             [
              0.7777777777777778,
              "#fb9f3a"
             ],
             [
              0.8888888888888888,
              "#fdca26"
             ],
             [
              1,
              "#f0f921"
             ]
            ],
            "type": "contour"
           }
          ],
          "contourcarpet": [
           {
            "colorbar": {
             "outlinewidth": 0,
             "ticks": ""
            },
            "type": "contourcarpet"
           }
          ],
          "heatmap": [
           {
            "colorbar": {
             "outlinewidth": 0,
             "ticks": ""
            },
            "colorscale": [
             [
              0,
              "#0d0887"
             ],
             [
              0.1111111111111111,
              "#46039f"
             ],
             [
              0.2222222222222222,
              "#7201a8"
             ],
             [
              0.3333333333333333,
              "#9c179e"
             ],
             [
              0.4444444444444444,
              "#bd3786"
             ],
             [
              0.5555555555555556,
              "#d8576b"
             ],
             [
              0.6666666666666666,
              "#ed7953"
             ],
             [
              0.7777777777777778,
              "#fb9f3a"
             ],
             [
              0.8888888888888888,
              "#fdca26"
             ],
             [
              1,
              "#f0f921"
             ]
            ],
            "type": "heatmap"
           }
          ],
          "histogram": [
           {
            "marker": {
             "pattern": {
              "fillmode": "overlay",
              "size": 10,
              "solidity": 0.2
             }
            },
            "type": "histogram"
           }
          ],
          "histogram2d": [
           {
            "colorbar": {
             "outlinewidth": 0,
             "ticks": ""
            },
            "colorscale": [
             [
              0,
              "#0d0887"
             ],
             [
              0.1111111111111111,
              "#46039f"
             ],
             [
              0.2222222222222222,
              "#7201a8"
             ],
             [
              0.3333333333333333,
              "#9c179e"
             ],
             [
              0.4444444444444444,
              "#bd3786"
             ],
             [
              0.5555555555555556,
              "#d8576b"
             ],
             [
              0.6666666666666666,
              "#ed7953"
             ],
             [
              0.7777777777777778,
              "#fb9f3a"
             ],
             [
              0.8888888888888888,
              "#fdca26"
             ],
             [
              1,
              "#f0f921"
             ]
            ],
            "type": "histogram2d"
           }
          ],
          "histogram2dcontour": [
           {
            "colorbar": {
             "outlinewidth": 0,
             "ticks": ""
            },
            "colorscale": [
             [
              0,
              "#0d0887"
             ],
             [
              0.1111111111111111,
              "#46039f"
             ],
             [
              0.2222222222222222,
              "#7201a8"
             ],
             [
              0.3333333333333333,
              "#9c179e"
             ],
             [
              0.4444444444444444,
              "#bd3786"
             ],
             [
              0.5555555555555556,
              "#d8576b"
             ],
             [
              0.6666666666666666,
              "#ed7953"
             ],
             [
              0.7777777777777778,
              "#fb9f3a"
             ],
             [
              0.8888888888888888,
              "#fdca26"
             ],
             [
              1,
              "#f0f921"
             ]
            ],
            "type": "histogram2dcontour"
           }
          ],
          "mesh3d": [
           {
            "colorbar": {
             "outlinewidth": 0,
             "ticks": ""
            },
            "type": "mesh3d"
           }
          ],
          "parcoords": [
           {
            "line": {
             "colorbar": {
              "outlinewidth": 0,
              "ticks": ""
             }
            },
            "type": "parcoords"
           }
          ],
          "pie": [
           {
            "automargin": true,
            "type": "pie"
           }
          ],
          "scatter": [
           {
            "fillpattern": {
             "fillmode": "overlay",
             "size": 10,
             "solidity": 0.2
            },
            "type": "scatter"
           }
          ],
          "scatter3d": [
           {
            "line": {
             "colorbar": {
              "outlinewidth": 0,
              "ticks": ""
             }
            },
            "marker": {
             "colorbar": {
              "outlinewidth": 0,
              "ticks": ""
             }
            },
            "type": "scatter3d"
           }
          ],
          "scattercarpet": [
           {
            "marker": {
             "colorbar": {
              "outlinewidth": 0,
              "ticks": ""
             }
            },
            "type": "scattercarpet"
           }
          ],
          "scattergeo": [
           {
            "marker": {
             "colorbar": {
              "outlinewidth": 0,
              "ticks": ""
             }
            },
            "type": "scattergeo"
           }
          ],
          "scattergl": [
           {
            "marker": {
             "colorbar": {
              "outlinewidth": 0,
              "ticks": ""
             }
            },
            "type": "scattergl"
           }
          ],
          "scattermap": [
           {
            "marker": {
             "colorbar": {
              "outlinewidth": 0,
              "ticks": ""
             }
            },
            "type": "scattermap"
           }
          ],
          "scattermapbox": [
           {
            "marker": {
             "colorbar": {
              "outlinewidth": 0,
              "ticks": ""
             }
            },
            "type": "scattermapbox"
           }
          ],
          "scatterpolar": [
           {
            "marker": {
             "colorbar": {
              "outlinewidth": 0,
              "ticks": ""
             }
            },
            "type": "scatterpolar"
           }
          ],
          "scatterpolargl": [
           {
            "marker": {
             "colorbar": {
              "outlinewidth": 0,
              "ticks": ""
             }
            },
            "type": "scatterpolargl"
           }
          ],
          "scatterternary": [
           {
            "marker": {
             "colorbar": {
              "outlinewidth": 0,
              "ticks": ""
             }
            },
            "type": "scatterternary"
           }
          ],
          "surface": [
           {
            "colorbar": {
             "outlinewidth": 0,
             "ticks": ""
            },
            "colorscale": [
             [
              0,
              "#0d0887"
             ],
             [
              0.1111111111111111,
              "#46039f"
             ],
             [
              0.2222222222222222,
              "#7201a8"
             ],
             [
              0.3333333333333333,
              "#9c179e"
             ],
             [
              0.4444444444444444,
              "#bd3786"
             ],
             [
              0.5555555555555556,
              "#d8576b"
             ],
             [
              0.6666666666666666,
              "#ed7953"
             ],
             [
              0.7777777777777778,
              "#fb9f3a"
             ],
             [
              0.8888888888888888,
              "#fdca26"
             ],
             [
              1,
              "#f0f921"
             ]
            ],
            "type": "surface"
           }
          ],
          "table": [
           {
            "cells": {
             "fill": {
              "color": "#EBF0F8"
             },
             "line": {
              "color": "white"
             }
            },
            "header": {
             "fill": {
              "color": "#C8D4E3"
             },
             "line": {
              "color": "white"
             }
            },
            "type": "table"
           }
          ]
         },
         "layout": {
          "annotationdefaults": {
           "arrowcolor": "#2a3f5f",
           "arrowhead": 0,
           "arrowwidth": 1
          },
          "autotypenumbers": "strict",
          "coloraxis": {
           "colorbar": {
            "outlinewidth": 0,
            "ticks": ""
           }
          },
          "colorscale": {
           "diverging": [
            [
             0,
             "#8e0152"
            ],
            [
             0.1,
             "#c51b7d"
            ],
            [
             0.2,
             "#de77ae"
            ],
            [
             0.3,
             "#f1b6da"
            ],
            [
             0.4,
             "#fde0ef"
            ],
            [
             0.5,
             "#f7f7f7"
            ],
            [
             0.6,
             "#e6f5d0"
            ],
            [
             0.7,
             "#b8e186"
            ],
            [
             0.8,
             "#7fbc41"
            ],
            [
             0.9,
             "#4d9221"
            ],
            [
             1,
             "#276419"
            ]
           ],
           "sequential": [
            [
             0,
             "#0d0887"
            ],
            [
             0.1111111111111111,
             "#46039f"
            ],
            [
             0.2222222222222222,
             "#7201a8"
            ],
            [
             0.3333333333333333,
             "#9c179e"
            ],
            [
             0.4444444444444444,
             "#bd3786"
            ],
            [
             0.5555555555555556,
             "#d8576b"
            ],
            [
             0.6666666666666666,
             "#ed7953"
            ],
            [
             0.7777777777777778,
             "#fb9f3a"
            ],
            [
             0.8888888888888888,
             "#fdca26"
            ],
            [
             1,
             "#f0f921"
            ]
           ],
           "sequentialminus": [
            [
             0,
             "#0d0887"
            ],
            [
             0.1111111111111111,
             "#46039f"
            ],
            [
             0.2222222222222222,
             "#7201a8"
            ],
            [
             0.3333333333333333,
             "#9c179e"
            ],
            [
             0.4444444444444444,
             "#bd3786"
            ],
            [
             0.5555555555555556,
             "#d8576b"
            ],
            [
             0.6666666666666666,
             "#ed7953"
            ],
            [
             0.7777777777777778,
             "#fb9f3a"
            ],
            [
             0.8888888888888888,
             "#fdca26"
            ],
            [
             1,
             "#f0f921"
            ]
           ]
          },
          "colorway": [
           "#636efa",
           "#EF553B",
           "#00cc96",
           "#ab63fa",
           "#FFA15A",
           "#19d3f3",
           "#FF6692",
           "#B6E880",
           "#FF97FF",
           "#FECB52"
          ],
          "font": {
           "color": "#2a3f5f"
          },
          "geo": {
           "bgcolor": "white",
           "lakecolor": "white",
           "landcolor": "#E5ECF6",
           "showlakes": true,
           "showland": true,
           "subunitcolor": "white"
          },
          "hoverlabel": {
           "align": "left"
          },
          "hovermode": "closest",
          "mapbox": {
           "style": "light"
          },
          "paper_bgcolor": "white",
          "plot_bgcolor": "#E5ECF6",
          "polar": {
           "angularaxis": {
            "gridcolor": "white",
            "linecolor": "white",
            "ticks": ""
           },
           "bgcolor": "#E5ECF6",
           "radialaxis": {
            "gridcolor": "white",
            "linecolor": "white",
            "ticks": ""
           }
          },
          "scene": {
           "xaxis": {
            "backgroundcolor": "#E5ECF6",
            "gridcolor": "white",
            "gridwidth": 2,
            "linecolor": "white",
            "showbackground": true,
            "ticks": "",
            "zerolinecolor": "white"
           },
           "yaxis": {
            "backgroundcolor": "#E5ECF6",
            "gridcolor": "white",
            "gridwidth": 2,
            "linecolor": "white",
            "showbackground": true,
            "ticks": "",
            "zerolinecolor": "white"
           },
           "zaxis": {
            "backgroundcolor": "#E5ECF6",
            "gridcolor": "white",
            "gridwidth": 2,
            "linecolor": "white",
            "showbackground": true,
            "ticks": "",
            "zerolinecolor": "white"
           }
          },
          "shapedefaults": {
           "line": {
            "color": "#2a3f5f"
           }
          },
          "ternary": {
           "aaxis": {
            "gridcolor": "white",
            "linecolor": "white",
            "ticks": ""
           },
           "baxis": {
            "gridcolor": "white",
            "linecolor": "white",
            "ticks": ""
           },
           "bgcolor": "#E5ECF6",
           "caxis": {
            "gridcolor": "white",
            "linecolor": "white",
            "ticks": ""
           }
          },
          "title": {
           "x": 0.05
          },
          "xaxis": {
           "automargin": true,
           "gridcolor": "white",
           "linecolor": "white",
           "ticks": "",
           "title": {
            "standoff": 15
           },
           "zerolinecolor": "white",
           "zerolinewidth": 2
          },
          "yaxis": {
           "automargin": true,
           "gridcolor": "white",
           "linecolor": "white",
           "ticks": "",
           "title": {
            "standoff": 15
           },
           "zerolinecolor": "white",
           "zerolinewidth": 2
          }
         }
        },
        "title": {
         "text": "Correlation Matrix between Installs, Ratings, and Review Counts",
         "x": 0.5
        },
        "width": 600,
        "xaxis": {
         "anchor": "y",
         "constrain": "domain",
         "domain": [
          0,
          1
         ],
         "scaleanchor": "y"
        },
        "yaxis": {
         "anchor": "x",
         "autorange": "reversed",
         "constrain": "domain",
         "domain": [
          0,
          1
         ]
        }
       }
      }
     },
     "metadata": {},
     "output_type": "display_data"
    },
    {
     "name": "stdout",
     "output_type": "stream",
     "text": [
      "Saved: Task 5.html\n"
     ]
    }
   ],
   "source": [
    "# Check if it's between 2 PM and 4 PM\n",
    "current_hour = datetime.now().hour\n",
    "if 14 <= current_hour <= 16:\n",
    "    if not filtered_df5.empty:\n",
    "        # Select relevant columns for the correlation matrix\n",
    "        corr_data = filtered_df5[['Installs', 'Rating', 'Reviews']].corr()\n",
    "\n",
    "        # Generate the heatmap with Plotly\n",
    "        fig5 = px.imshow(\n",
    "            corr_data,\n",
    "            text_auto=\".2f\",\n",
    "            color_continuous_scale=\"RdBu\",\n",
    "            title=\"Correlation Matrix between Installs, Ratings, and Review Counts\"\n",
    "        )\n",
    "        fig5.update_layout(width=600, height=500, title_x=0.5)\n",
    "        fig5.show()\n",
    "    else:\n",
    "        # Create a blank figure with an annotation\n",
    "        fig5 = go.Figure()\n",
    "        fig5.add_annotation(\n",
    "            text=\"No data available after applying the filters.\",\n",
    "            x=0.5, y=0.5, \n",
    "            showarrow=False,\n",
    "            font=dict(size=20),\n",
    "            xref='paper', yref='paper',\n",
    "            align='center'\n",
    "        )\n",
    "\n",
    "        fig5.update_layout(\n",
    "            xaxis=dict(visible=False),\n",
    "            yaxis=dict(visible=False),\n",
    "            width=1000,\n",
    "            height=400,\n",
    "            title=\"Notice\"\n",
    "        )  \n",
    "        fig5.show()\n",
    "else:\n",
    "    # Create a blank figure with an annotation\n",
    "    fig5 = go.Figure()\n",
    "    fig5.add_annotation(\n",
    "        text=\"Graph 5 can only be displayed between 2 PM and 4 PM.\",\n",
    "        x=0.5, y=0.5, \n",
    "        showarrow=False,\n",
    "        font=dict(size=20),\n",
    "        xref='paper', yref='paper',\n",
    "        align='center'\n",
    "    )\n",
    "\n",
    "    fig5.update_layout(\n",
    "        xaxis=dict(visible=False),\n",
    "        yaxis=dict(visible=False),\n",
    "        width=1000,\n",
    "        height=400,\n",
    "        title=\"Notice\"\n",
    "    )  \n",
    "    fig5.show()\n",
    "\n",
    "save_plot_as_html(fig5,\"Task 5.html\",\"\")"
   ]
  }
 ],
 "metadata": {
  "kernelspec": {
   "display_name": "Python 3",
   "language": "python",
   "name": "python3"
  },
  "language_info": {
   "codemirror_mode": {
    "name": "ipython",
    "version": 3
   },
   "file_extension": ".py",
   "mimetype": "text/x-python",
   "name": "python",
   "nbconvert_exporter": "python",
   "pygments_lexer": "ipython3",
   "version": "3.11.9"
  }
 },
 "nbformat": 4,
 "nbformat_minor": 5
}
